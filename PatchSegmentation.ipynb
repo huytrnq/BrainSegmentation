{
 "cells": [
  {
   "cell_type": "code",
   "execution_count": 7,
   "metadata": {},
   "outputs": [],
   "source": [
    "import os\n",
    "\n",
    "import torch\n",
    "import torch.nn as nn\n",
    "from torch.utils.data import DataLoader\n",
    "import torchio as tio\n",
    "\n",
    "from models.Unet import UNet3D"
   ]
  },
  {
   "cell_type": "code",
   "execution_count": 2,
   "metadata": {},
   "outputs": [],
   "source": [
    "# Define the dataset\n",
    "def prepare_dataset(image_paths, label_paths):\n",
    "    \"\"\"\n",
    "    Prepare a TorchIO dataset of Subjects for 3D segmentation.\n",
    "\n",
    "    Args:\n",
    "        image_paths (list): List of paths to MRI images.\n",
    "        label_paths (list): List of paths to segmentation labels.\n",
    "\n",
    "    Returns:\n",
    "        torchio.SubjectsDataset: A TorchIO dataset.\n",
    "    \"\"\"\n",
    "    subjects = []\n",
    "    for img_path, label_path in zip(image_paths, label_paths):\n",
    "        subject = tio.Subject(\n",
    "            image=tio.ScalarImage(img_path),\n",
    "            label=tio.LabelMap(label_path)\n",
    "        )\n",
    "        subjects.append(subject)\n",
    "    return tio.SubjectsDataset(subjects)"
   ]
  },
  {
   "cell_type": "code",
   "execution_count": 23,
   "metadata": {},
   "outputs": [],
   "source": [
    "def create_patch_loader(dataset, patch_size, batch_size, patch_overlap=(16, 16, 16), num_workers=0):\n",
    "    \"\"\"\n",
    "    Create a DataLoader for patch-based segmentation.\n",
    "\n",
    "    Args:\n",
    "        dataset (torchio.SubjectsDataset): TorchIO dataset.\n",
    "        patch_size (tuple): Size of each patch, e.g., (64, 64, 64).\n",
    "        batch_size (int): Number of patches in a batch.\n",
    "        patch_overlap (tuple): Overlap between patches.\n",
    "        num_workers (int): Number of workers for DataLoader.\n",
    "\n",
    "    Returns:\n",
    "        DataLoader, list: Loader for patches and a list of aggregators for each subject.\n",
    "    \"\"\"\n",
    "    patch_loaders = []\n",
    "    aggregators = []\n",
    "\n",
    "    for subject in dataset:  # Iterate over each subject in the dataset\n",
    "        # Create a GridSampler for the subject\n",
    "        sampler = tio.GridSampler(\n",
    "            subject,\n",
    "            patch_size=patch_size,\n",
    "            patch_overlap=patch_overlap\n",
    "        )\n",
    "\n",
    "        # Create an aggregator for reassembling the volume\n",
    "        aggregator = tio.GridAggregator(sampler, overlap_mode='average')\n",
    "\n",
    "        # Add the sampler's patches to the DataLoader\n",
    "        loader = DataLoader(\n",
    "            sampler,\n",
    "            batch_size=batch_size,\n",
    "            num_workers=num_workers\n",
    "        )\n",
    "\n",
    "        patch_loaders.append(loader)\n",
    "        aggregators.append(aggregator)\n",
    "\n",
    "    return patch_loaders, aggregators"
   ]
  },
  {
   "cell_type": "markdown",
   "metadata": {},
   "source": [
    "## Transforms"
   ]
  },
  {
   "cell_type": "code",
   "execution_count": 4,
   "metadata": {},
   "outputs": [],
   "source": [
    "# Define data augmentations\n",
    "train_transform = tio.Compose([\n",
    "    tio.RandomFlip(axes=(0, 1, 2), flip_probability=0.5),\n",
    "    tio.RandomAffine(scales=(0.9, 1.1), degrees=15, isotropic=True),\n",
    "    tio.RandomElasticDeformation(num_control_points=5, max_displacement=7.5),\n",
    "    tio.ZNormalization()  # Normalize image intensities\n",
    "])\n",
    "\n",
    "val_transform = tio.Compose([\n",
    "    tio.ZNormalization()\n",
    "])"
   ]
  },
  {
   "cell_type": "code",
   "execution_count": 28,
   "metadata": {},
   "outputs": [],
   "source": [
    "def train_model(loader, model, optimizer, criterion, device):\n",
    "    model.train()\n",
    "    total_loss = 0\n",
    "\n",
    "    for patches in loader:\n",
    "        images = patches['image'][tio.DATA].to(device)  # Access image tensor\n",
    "        labels = patches['mask'][tio.DATA].to(device)   # Access mask tensor\n",
    "\n",
    "        labels = labels.squeeze(1).long()  # Convert to [B, D, H, W] for CrossEntropyLoss if needed\n",
    "\n",
    "        optimizer.zero_grad()\n",
    "        outputs = model(images)\n",
    "        loss = criterion(outputs, labels)\n",
    "        loss.backward()\n",
    "        optimizer.step()\n",
    "        total_loss += loss.item()\n",
    "\n",
    "    return total_loss / len(loader)\n",
    "\n",
    "\n",
    "def validate_model(loader, model, criterion, device, aggregator):\n",
    "    model.eval()\n",
    "    total_loss = 0\n",
    "    with torch.no_grad():\n",
    "        for patches in loader:\n",
    "            images = patches['image'][tio.DATA].to(device)\n",
    "            labels = patches['mask'][tio.DATA].to(device)\n",
    "            labels = labels.squeeze(1).long()\n",
    "\n",
    "            outputs = model(images)\n",
    "            loss = criterion(outputs, labels)\n",
    "            total_loss += loss.item()\n",
    "\n",
    "            # Add the model's predictions to the aggregator\n",
    "            aggregator.add_batch(outputs, patches)\n",
    "\n",
    "    val_loss = total_loss / len(loader)\n",
    "    val_prediction = aggregator.get_output_tensor()  # Reconstruct full volume from patches\n",
    "    return val_loss, val_prediction\n"
   ]
  },
  {
   "cell_type": "markdown",
   "metadata": {},
   "source": [
    "## Training"
   ]
  },
  {
   "cell_type": "code",
   "execution_count": 9,
   "metadata": {},
   "outputs": [],
   "source": [
    "DATA_DIR = '/root/huy/BrainSegmentation/Data'"
   ]
  },
  {
   "cell_type": "code",
   "execution_count": 24,
   "metadata": {},
   "outputs": [],
   "source": [
    "# File paths\n",
    "train_images, train_labels = get_data_paths(os.path.join(DATA_DIR, 'train'))\n",
    "val_images, val_labels = get_data_paths(os.path.join(DATA_DIR, 'val'))\n",
    "\n",
    "# Prepare datasets\n",
    "train_dataset = prepare_dataset(train_images, train_labels)\n",
    "val_dataset = prepare_dataset(val_images, val_labels)"
   ]
  },
  {
   "cell_type": "code",
   "execution_count": 20,
   "metadata": {},
   "outputs": [
    {
     "data": {
      "text/plain": [
       "ScalarImage(shape: (1, 256, 128, 256); spacing: (0.94, 1.50, 0.94); orientation: RAS+; dtype: torch.ShortTensor; memory: 16.0 MiB)"
      ]
     },
     "execution_count": 20,
     "metadata": {},
     "output_type": "execute_result"
    }
   ],
   "source": [
    "train_dataset[0]['image']"
   ]
  },
  {
   "cell_type": "code",
   "execution_count": 25,
   "metadata": {},
   "outputs": [],
   "source": [
    "# Patch-based loaders\n",
    "patch_size = (64, 64, 64)\n",
    "batch_size = 4\n",
    "train_loader, _ = create_patch_loader(train_dataset, patch_size, batch_size)\n",
    "val_loader, val_aggregator = create_patch_loader(val_dataset, patch_size, batch_size)"
   ]
  },
  {
   "cell_type": "code",
   "execution_count": 35,
   "metadata": {},
   "outputs": [
    {
     "name": "stderr",
     "output_type": "stream",
     "text": [
      "/root/miniconda3/envs/py11/lib/python3.11/site-packages/torchio/data/image.py:248: UserWarning: Using TorchIO images without a torchio.SubjectsLoader in PyTorch >= 2.3 might have unexpected consequences, e.g., the collated batches will be instances of torchio.Subject with 5D images. Replace your PyTorch DataLoader with a torchio.SubjectsLoader so that the collated batch becomes a dictionary, as expected. See https://github.com/fepegar/torchio/issues/1179 for more context about this issue.\n",
      "  warnings.warn(message, stacklevel=1)\n"
     ]
    },
    {
     "name": "stdout",
     "output_type": "stream",
     "text": [
      "<class 'torchio.data.subject.Subject'>\n",
      "dict_keys(['image', 'label', 'location'])\n"
     ]
    },
    {
     "ename": "ValueError",
     "evalue": "too many values to unpack (expected 4)",
     "output_type": "error",
     "traceback": [
      "\u001b[0;31m---------------------------------------------------------------------------\u001b[0m",
      "\u001b[0;31mValueError\u001b[0m                                Traceback (most recent call last)",
      "Cell \u001b[0;32mIn[35], line 10\u001b[0m\n\u001b[1;32m      8\u001b[0m \u001b[38;5;28;01mif\u001b[39;00m \u001b[38;5;28misinstance\u001b[39m(first_batch, \u001b[38;5;28mdict\u001b[39m):\n\u001b[1;32m      9\u001b[0m     \u001b[38;5;28mprint\u001b[39m(first_batch\u001b[38;5;241m.\u001b[39mkeys())\n\u001b[0;32m---> 10\u001b[0m     \u001b[38;5;28mprint\u001b[39m(first_batch[\u001b[38;5;124m'\u001b[39m\u001b[38;5;124mimage\u001b[39m\u001b[38;5;124m'\u001b[39m]\u001b[38;5;241m.\u001b[39mshape)  \u001b[38;5;66;03m# Access the image tensor\u001b[39;00m\n\u001b[1;32m     11\u001b[0m     \u001b[38;5;28mprint\u001b[39m(first_batch[\u001b[38;5;124m'\u001b[39m\u001b[38;5;124mmask\u001b[39m\u001b[38;5;124m'\u001b[39m]\u001b[38;5;241m.\u001b[39mshape)   \u001b[38;5;66;03m# Access the mask tensor\u001b[39;00m\n\u001b[1;32m     12\u001b[0m \u001b[38;5;28;01melif\u001b[39;00m \u001b[38;5;28misinstance\u001b[39m(first_batch, tio\u001b[38;5;241m.\u001b[39mSubject):\n\u001b[1;32m     13\u001b[0m     \u001b[38;5;66;03m# Iterate through the attributes in the Subject\u001b[39;00m\n",
      "File \u001b[0;32m~/miniconda3/envs/py11/lib/python3.11/site-packages/torchio/data/image.py:306\u001b[0m, in \u001b[0;36mImage.shape\u001b[0;34m(self)\u001b[0m\n\u001b[1;32m    304\u001b[0m shape: TypeQuartetInt\n\u001b[1;32m    305\u001b[0m \u001b[38;5;28;01mif\u001b[39;00m \u001b[38;5;28mself\u001b[39m\u001b[38;5;241m.\u001b[39m_loaded \u001b[38;5;129;01mor\u001b[39;00m custom_reader \u001b[38;5;129;01mor\u001b[39;00m multipath \u001b[38;5;129;01mor\u001b[39;00m is_dir:\n\u001b[0;32m--> 306\u001b[0m     channels, si, sj, sk \u001b[38;5;241m=\u001b[39m \u001b[38;5;28mself\u001b[39m\u001b[38;5;241m.\u001b[39mdata\u001b[38;5;241m.\u001b[39mshape\n\u001b[1;32m    307\u001b[0m     shape \u001b[38;5;241m=\u001b[39m channels, si, sj, sk\n\u001b[1;32m    308\u001b[0m \u001b[38;5;28;01melse\u001b[39;00m:\n",
      "\u001b[0;31mValueError\u001b[0m: too many values to unpack (expected 4)"
     ]
    }
   ],
   "source": [
    "# Get the first batch\n",
    "first_batch = next(iter(train_loader[0]))\n",
    "\n",
    "# Check the type of the batch\n",
    "print(type(first_batch))\n",
    "\n",
    "# If it's a TorchIO Subject or similar, inspect its attributes\n",
    "if isinstance(first_batch, dict):\n",
    "    print(first_batch.keys())\n",
    "    print(first_batch['image'].shape)  # Access the image tensor\n",
    "    print(first_batch['mask'].shape)   # Access the mask tensor\n",
    "elif isinstance(first_batch, tio.Subject):\n",
    "    # Iterate through the attributes in the Subject\n",
    "    for key, value in first_batch.items():\n",
    "        print(f\"{key}: {value.shape if isinstance(value, torch.Tensor) else type(value)}\")\n",
    "else:\n",
    "    print(\"Unknown batch structure:\", first_batch)"
   ]
  },
  {
   "cell_type": "code",
   "execution_count": 29,
   "metadata": {},
   "outputs": [
    {
     "ename": "TypeError",
     "evalue": "'DataLoader' object is not subscriptable",
     "output_type": "error",
     "traceback": [
      "\u001b[0;31m---------------------------------------------------------------------------\u001b[0m",
      "\u001b[0;31mTypeError\u001b[0m                                 Traceback (most recent call last)",
      "Cell \u001b[0;32mIn[29], line 10\u001b[0m\n\u001b[1;32m      8\u001b[0m epochs \u001b[38;5;241m=\u001b[39m \u001b[38;5;241m10\u001b[39m\n\u001b[1;32m      9\u001b[0m \u001b[38;5;28;01mfor\u001b[39;00m epoch \u001b[38;5;129;01min\u001b[39;00m \u001b[38;5;28mrange\u001b[39m(epochs):\n\u001b[0;32m---> 10\u001b[0m     train_loss \u001b[38;5;241m=\u001b[39m train_model(train_loader, model, optimizer, criterion, device)\n\u001b[1;32m     11\u001b[0m     val_loss, val_prediction \u001b[38;5;241m=\u001b[39m validate_model(val_loader, model, criterion, device, val_aggregator)\n\u001b[1;32m     13\u001b[0m     \u001b[38;5;28mprint\u001b[39m(\u001b[38;5;124mf\u001b[39m\u001b[38;5;124m\"\u001b[39m\u001b[38;5;124mEpoch \u001b[39m\u001b[38;5;132;01m{\u001b[39;00mepoch\u001b[38;5;250m \u001b[39m\u001b[38;5;241m+\u001b[39m\u001b[38;5;250m \u001b[39m\u001b[38;5;241m1\u001b[39m\u001b[38;5;132;01m}\u001b[39;00m\u001b[38;5;124m/\u001b[39m\u001b[38;5;132;01m{\u001b[39;00mepochs\u001b[38;5;132;01m}\u001b[39;00m\u001b[38;5;124m, Train Loss: \u001b[39m\u001b[38;5;132;01m{\u001b[39;00mtrain_loss\u001b[38;5;132;01m:\u001b[39;00m\u001b[38;5;124m.4f\u001b[39m\u001b[38;5;132;01m}\u001b[39;00m\u001b[38;5;124m, Val Loss: \u001b[39m\u001b[38;5;132;01m{\u001b[39;00mval_loss\u001b[38;5;132;01m:\u001b[39;00m\u001b[38;5;124m.4f\u001b[39m\u001b[38;5;132;01m}\u001b[39;00m\u001b[38;5;124m\"\u001b[39m)\n",
      "Cell \u001b[0;32mIn[28], line 6\u001b[0m, in \u001b[0;36mtrain_model\u001b[0;34m(loader, model, optimizer, criterion, device)\u001b[0m\n\u001b[1;32m      3\u001b[0m total_loss \u001b[38;5;241m=\u001b[39m \u001b[38;5;241m0\u001b[39m\n\u001b[1;32m      5\u001b[0m \u001b[38;5;28;01mfor\u001b[39;00m patches \u001b[38;5;129;01min\u001b[39;00m loader:\n\u001b[0;32m----> 6\u001b[0m     images \u001b[38;5;241m=\u001b[39m patches[\u001b[38;5;124m'\u001b[39m\u001b[38;5;124mimage\u001b[39m\u001b[38;5;124m'\u001b[39m][tio\u001b[38;5;241m.\u001b[39mDATA]\u001b[38;5;241m.\u001b[39mto(device)  \u001b[38;5;66;03m# Access image tensor\u001b[39;00m\n\u001b[1;32m      7\u001b[0m     labels \u001b[38;5;241m=\u001b[39m patches[\u001b[38;5;124m'\u001b[39m\u001b[38;5;124mmask\u001b[39m\u001b[38;5;124m'\u001b[39m][tio\u001b[38;5;241m.\u001b[39mDATA]\u001b[38;5;241m.\u001b[39mto(device)   \u001b[38;5;66;03m# Access mask tensor\u001b[39;00m\n\u001b[1;32m      9\u001b[0m     labels \u001b[38;5;241m=\u001b[39m labels\u001b[38;5;241m.\u001b[39msqueeze(\u001b[38;5;241m1\u001b[39m)\u001b[38;5;241m.\u001b[39mlong()  \u001b[38;5;66;03m# Convert to [B, D, H, W] for CrossEntropyLoss if needed\u001b[39;00m\n",
      "\u001b[0;31mTypeError\u001b[0m: 'DataLoader' object is not subscriptable"
     ]
    }
   ],
   "source": [
    "# Model, optimizer, and loss\n",
    "device = torch.device('cuda' if torch.cuda.is_available() else 'cpu')\n",
    "model = UNet3D(in_channels=1, out_channels=4).to(device)\n",
    "optimizer = torch.optim.Adam(model.parameters(), lr=1e-3)\n",
    "criterion = nn.CrossEntropyLoss()\n",
    "\n",
    "# Training\n",
    "epochs = 10\n",
    "for epoch in range(epochs):\n",
    "    train_loss = train_model(train_loader, model, optimizer, criterion, device)\n",
    "    val_loss, val_prediction = validate_model(val_loader, model, criterion, device, val_aggregator)\n",
    "\n",
    "    print(f\"Epoch {epoch + 1}/{epochs}, Train Loss: {train_loss:.4f}, Val Loss: {val_loss:.4f}\")\n",
    "\n",
    "# Save model\n",
    "torch.save(model.state_dict(), \"3d_unet_model.pth\")"
   ]
  }
 ],
 "metadata": {
  "kernelspec": {
   "display_name": "py11",
   "language": "python",
   "name": "python3"
  },
  "language_info": {
   "codemirror_mode": {
    "name": "ipython",
    "version": 3
   },
   "file_extension": ".py",
   "mimetype": "text/x-python",
   "name": "python",
   "nbconvert_exporter": "python",
   "pygments_lexer": "ipython3",
   "version": "3.11.10"
  }
 },
 "nbformat": 4,
 "nbformat_minor": 2
}
