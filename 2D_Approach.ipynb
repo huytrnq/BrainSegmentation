{
 "cells": [
  {
   "cell_type": "code",
   "execution_count": 1,
   "metadata": {},
   "outputs": [],
   "source": [
    "import os\n",
    "import torch\n",
    "from torch.utils.data import DataLoader\n",
    "import albumentations as A\n",
    "from albumentations.pytorch import ToTensorV2\n",
    "\n",
    "from utils.loss import DiceLoss\n",
    "from utils.dataset import BrainMRISliceDataset\n",
    "from utils.utils import train, validate\n",
    "from utils.metric import MetricsMonitor\n",
    "from utils.vis import plot_mri"
   ]
  },
  {
   "cell_type": "markdown",
   "metadata": {},
   "source": [
    "## Constants"
   ]
  },
  {
   "cell_type": "code",
   "execution_count": 2,
   "metadata": {},
   "outputs": [],
   "source": [
    "ROOT_DIR = './Data/'\n",
    "BATCH_SIZE = 64\n",
    "EPOCHS = 10\n",
    "DEVICE = 'mps' if torch.mps.is_available() else 'cuda' if torch.cuda.is_available() else 'cpu'\n",
    "NUM_WORKERS = os.cpu_count()"
   ]
  },
  {
   "cell_type": "markdown",
   "metadata": {},
   "source": [
    "## Transforms"
   ]
  },
  {
   "cell_type": "code",
   "execution_count": 4,
   "metadata": {},
   "outputs": [],
   "source": [
    "train_transform = A.Compose([\n",
    "    A.Resize(256, 256),  # Resize both image and mask\n",
    "    # A.HorizontalFlip(p=0.5),  # Random horizontal flip\n",
    "    # A.RandomBrightnessContrast(p=0.2),  # Adjust brightness/contrast for images\n",
    "    ToTensorV2()  # Convert to PyTorch tensors\n",
    "], additional_targets={'mask': 'mask'})  # Specify the target name for the label\n",
    "\n",
    "test_transform = A.Compose([\n",
    "    A.Resize(256, 256),\n",
    "    ToTensorV2()\n",
    "], additional_targets={'mask': 'mask'})"
   ]
  },
  {
   "cell_type": "code",
   "execution_count": 5,
   "metadata": {},
   "outputs": [],
   "source": [
    "train_dataset = BrainMRISliceDataset(os.path.join(ROOT_DIR, 'train'), slice_axis=2, transform=train_transform)\n",
    "train_loader = DataLoader(train_dataset, batch_size=BATCH_SIZE, shuffle=True, num_workers=NUM_WORKERS)\n",
    "\n",
    "val_dataset = BrainMRISliceDataset(os.path.join(ROOT_DIR, 'val'), slice_axis=2, transform=test_transform)\n",
    "val_loader = DataLoader(val_dataset, batch_size=BATCH_SIZE, shuffle=False, num_workers=NUM_WORKERS)"
   ]
  },
  {
   "cell_type": "markdown",
   "metadata": {},
   "source": [
    "## Models"
   ]
  },
  {
   "cell_type": "code",
   "execution_count": 6,
   "metadata": {},
   "outputs": [
    {
     "name": "stderr",
     "output_type": "stream",
     "text": [
      "Using cache found in /root/.cache/torch/hub/mateuszbuda_brain-segmentation-pytorch_master\n"
     ]
    }
   ],
   "source": [
    "model = torch.hub.load('mateuszbuda/brain-segmentation-pytorch', 'unet',\n",
    "    in_channels=3, out_channels=1, init_features=32, pretrained=True)\n",
    "\n",
    "## Freeze encoder and bottleneck layers\n",
    "# for name, parameter in model.named_parameters():\n",
    "#     if 'decoder' not in name:\n",
    "#         parameter.requires_grad = False\n",
    "\n",
    "model._modules['conv'] = torch.nn.Conv2d(32, 3, kernel_size=1, stride=1)\n",
    "model = model.to(DEVICE)"
   ]
  },
  {
   "cell_type": "markdown",
   "metadata": {},
   "source": [
    "## Loss & Optimizer"
   ]
  },
  {
   "cell_type": "code",
   "execution_count": 7,
   "metadata": {},
   "outputs": [],
   "source": [
    "# criteria = torch.nn.BCEWithLogitsLoss()\n",
    "criteria = DiceLoss()\n",
    "optimizer = torch.optim.Adam(model.parameters(), lr=1e-4)"
   ]
  },
  {
   "cell_type": "markdown",
   "metadata": {},
   "source": [
    "## Training"
   ]
  },
  {
   "cell_type": "code",
   "execution_count": 8,
   "metadata": {},
   "outputs": [],
   "source": [
    "# Monitors\n",
    "train_monitor = MetricsMonitor(metrics=[\"loss\", \"accuracy\", \"dice_score\"])\n",
    "val_monitor = MetricsMonitor(\n",
    "    metrics=[\"loss\", \"accuracy\", \"dice_score\"], patience=5, mode=\"max\"\n",
    ")\n",
    "test_monitor = MetricsMonitor(metrics=[\"loss\", \"accuracy\", \"dice_score\"])"
   ]
  },
  {
   "cell_type": "code",
   "execution_count": null,
   "metadata": {},
   "outputs": [
    {
     "name": "stdout",
     "output_type": "stream",
     "text": [
      "Epoch 1/10\n",
      "----------\n",
      "[Train] Iteration 40/40 - loss: 0.8824, accuracy: 0.4545, dice_score: 0.1176\n",
      "Train Metrics - loss: 0.8824, accuracy: 0.4545, dice_score: 0.1176\n",
      "[Validation] Iteration 20/20 - loss: 0.8844, accuracy: 0.5157, dice_score: 0.1156\n",
      "Validation Metrics - loss: 0.8844, accuracy: 0.5157, dice_score: 0.1156\n",
      "Epoch 2/10\n",
      "----------\n",
      "[Train] Iteration 40/40 - loss: 0.8609, accuracy: 0.5613, dice_score: 0.1391\n",
      "Train Metrics - loss: 0.8609, accuracy: 0.5613, dice_score: 0.1391\n",
      "[Validation] Iteration 20/20 - loss: 0.8745, accuracy: 0.5739, dice_score: 0.1255\n",
      "Validation Metrics - loss: 0.8745, accuracy: 0.5739, dice_score: 0.1255\n",
      "Epoch 3/10\n",
      "----------\n",
      "[Train] Iteration 40/40 - loss: 0.8520, accuracy: 0.7530, dice_score: 0.1480\n",
      "Train Metrics - loss: 0.8520, accuracy: 0.7530, dice_score: 0.1480\n",
      "[Validation] Iteration 20/20 - loss: 0.8702, accuracy: 0.8909, dice_score: 0.1298\n",
      "Validation Metrics - loss: 0.8702, accuracy: 0.8909, dice_score: 0.1298\n",
      "Epoch 4/10\n",
      "----------\n",
      "[Train] Iteration 16/40 - loss: 0.8454, accuracy: 0.9298, dice_score: 0.1546"
     ]
    }
   ],
   "source": [
    "for epoch in range(EPOCHS):\n",
    "    print(f\"Epoch {epoch + 1}/{EPOCHS}\")\n",
    "    print(\"-\" * 10)\n",
    "    train(model, train_loader, criteria, optimizer, DEVICE, train_monitor)\n",
    "    validate(model, val_loader, criteria, DEVICE, val_monitor)"
   ]
  },
  {
   "cell_type": "markdown",
   "metadata": {},
   "source": []
  }
 ],
 "metadata": {
  "kernelspec": {
   "display_name": "py11",
   "language": "python",
   "name": "python3"
  },
  "language_info": {
   "codemirror_mode": {
    "name": "ipython",
    "version": 3
   },
   "file_extension": ".py",
   "mimetype": "text/x-python",
   "name": "python",
   "nbconvert_exporter": "python",
   "pygments_lexer": "ipython3",
   "version": "3.11.10"
  }
 },
 "nbformat": 4,
 "nbformat_minor": 2
}
