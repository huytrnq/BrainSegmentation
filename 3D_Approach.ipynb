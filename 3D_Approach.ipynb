{
 "cells": [
  {
   "cell_type": "code",
   "execution_count": 2,
   "metadata": {},
   "outputs": [],
   "source": [
    "import os\n",
    "import numpy as np\n",
    "from tqdm import tqdm\n",
    "\n",
    "import torch\n",
    "from torch.utils.data import DataLoader\n",
    "from torchvision import transforms\n",
    "from torch.optim.lr_scheduler import CosineAnnealingLR\n",
    "\n",
    "import torchio as tio\n",
    "\n",
    "from utils.utils import train, validate\n",
    "from utils.vis import plot_mri\n",
    "from utils.metric import dice_score_3d\n",
    "from utils.dataset import BrainMRIDataset\n",
    "from utils.loss import DiceCrossEntropyLoss\n",
    "from models.Unet import UNet3D"
   ]
  },
  {
   "cell_type": "markdown",
   "metadata": {},
   "source": [
    "## Constants"
   ]
  },
  {
   "cell_type": "code",
   "execution_count": 6,
   "metadata": {},
   "outputs": [],
   "source": [
    "ROOT_DIR = './Data/'\n",
    "BATCH_SIZE = 2\n",
    "EPOCHS = 300\n",
    "NUM_CLASSES = 4\n",
    "DEVICE = 'mps' if torch.mps.is_available() else 'cuda' if torch.cuda.is_available() else 'cpu'"
   ]
  },
  {
   "cell_type": "markdown",
   "metadata": {},
   "source": [
    "## Transforms"
   ]
  },
  {
   "cell_type": "code",
   "execution_count": 4,
   "metadata": {},
   "outputs": [],
   "source": [
    "train_transform = transforms.Compose([\n",
    "    transforms.ToTensor()\n",
    "])\n",
    "\n",
    "test_transform = transforms.Compose([\n",
    "    transforms.ToTensor()\n",
    "])"
   ]
  },
  {
   "cell_type": "code",
   "execution_count": 7,
   "metadata": {},
   "outputs": [],
   "source": [
    "# TorchIO transformations for augmentation\n",
    "train_transform = tio.Compose([\n",
    "    tio.RandomAffine(scales=(0.9, 1.1), degrees=(10, 10, 10), translation=(5, 5, 5)),\n",
    "    tio.RandomElasticDeformation(num_control_points=(7, 7, 7), max_displacement=(4, 4, 4)),\n",
    "    tio.RandomFlip(axes=(0, 1, 2)),\n",
    "    tio.RandomBiasField(coefficients=(0.1, 0.3)),\n",
    "    tio.RescaleIntensity((0, 1))  # Normalize intensity to [0, 1]\n",
    "])\n",
    "\n",
    "val_transform = tio.Compose([\n",
    "    tio.RescaleIntensity((0, 1))  # Only normalize intensity for validation\n",
    "])"
   ]
  },
  {
   "cell_type": "code",
   "execution_count": 16,
   "metadata": {},
   "outputs": [],
   "source": [
    "train_dataset = BrainMRIDataset(os.path.join(ROOT_DIR, 'train'), transform=None)\n",
    "val_dataset = BrainMRIDataset(os.path.join(ROOT_DIR, 'val'), transform=None)"
   ]
  },
  {
   "cell_type": "code",
   "execution_count": 18,
   "metadata": {},
   "outputs": [
    {
     "ename": "SyntaxError",
     "evalue": "closing parenthesis ')' does not match opening parenthesis '[' (135366825.py, line 9)",
     "output_type": "error",
     "traceback": [
      "\u001b[0;36m  Cell \u001b[0;32mIn[18], line 9\u001b[0;36m\u001b[0m\n\u001b[0;31m    [tio.Subject(image=tio.ScalarImage(tensor=sample['image')),\u001b[0m\n\u001b[0m                                                            ^\u001b[0m\n\u001b[0;31mSyntaxError\u001b[0m\u001b[0;31m:\u001b[0m closing parenthesis ')' does not match opening parenthesis '['\n"
     ]
    }
   ],
   "source": [
    "# Apply transforms to datasets\n",
    "train_dataset = tio.SubjectsDataset(\n",
    "    [tio.Subject(image=tio.ScalarImage(sample['image']),\n",
    "                 mask=tio.LabelMap(sample['mask'])) for sample in train_dataset],\n",
    "    transform=train_transform\n",
    ")\n",
    "\n",
    "val_dataset = tio.SubjectsDataset(\n",
    "    [tio.Subject(image=tio.ScalarImage(tensor=sample['image']),\n",
    "                 mask=tio.LabelMap(tensor=sample['mask'])) for sample in val_dataset],\n",
    "    transform=val_transform\n",
    ")"
   ]
  },
  {
   "cell_type": "markdown",
   "metadata": {},
   "source": [
    "## Models"
   ]
  },
  {
   "cell_type": "code",
   "execution_count": 6,
   "metadata": {},
   "outputs": [],
   "source": [
    "model = UNet3D(in_channels=1, out_channels=NUM_CLASSES)\n",
    "model = model.to(DEVICE)"
   ]
  },
  {
   "cell_type": "markdown",
   "metadata": {},
   "source": [
    "## Loss & Optimizer"
   ]
  },
  {
   "cell_type": "code",
   "execution_count": 7,
   "metadata": {},
   "outputs": [],
   "source": [
    "criterion = DiceCrossEntropyLoss(is_3d=True)\n",
    "optimizer = torch.optim.Adam(model.parameters(), lr=0.1)\n",
    "scheduler = CosineAnnealingLR(optimizer, T_max=10, eta_min=1e-5)"
   ]
  },
  {
   "cell_type": "markdown",
   "metadata": {},
   "source": [
    "## Training"
   ]
  },
  {
   "cell_type": "code",
   "execution_count": 8,
   "metadata": {},
   "outputs": [
    {
     "name": "stderr",
     "output_type": "stream",
     "text": [
      "Epoch 1/300: 100%|██████████| 5/5 [00:13<00:00,  2.64s/it, Loss=0.184, Avg Dice=0.498, WM Dice=7.2e-11, GM Dice=0.432, CSF Dice=0.57]     \n"
     ]
    },
    {
     "name": "stdout",
     "output_type": "stream",
     "text": [
      "Epoch 1, Loss: 0.6666\n",
      "Epoch 1, Dice: 0.4980 WM Dice: 0.0000 GM Dice: 0.4318 CSF Dice: 0.5703\n"
     ]
    },
    {
     "name": "stderr",
     "output_type": "stream",
     "text": [
      "Epoch 2/300: 100%|██████████| 5/5 [00:11<00:00,  2.39s/it, Loss=0.181, Avg Dice=0.49, WM Dice=6.35e-11, GM Dice=0.479, CSF Dice=0.495]    \n"
     ]
    },
    {
     "name": "stdout",
     "output_type": "stream",
     "text": [
      "Epoch 2, Loss: 0.3398\n",
      "Epoch 2, Dice: 0.4902 WM Dice: 0.0000 GM Dice: 0.4792 CSF Dice: 0.4954\n"
     ]
    },
    {
     "name": "stderr",
     "output_type": "stream",
     "text": [
      "Epoch 3/300: 100%|██████████| 5/5 [00:11<00:00,  2.38s/it, Loss=0.15, Avg Dice=0.588, WM Dice=5.81e-11, GM Dice=0.744, CSF Dice=0.614]    \n"
     ]
    },
    {
     "name": "stdout",
     "output_type": "stream",
     "text": [
      "Epoch 3, Loss: 0.3172\n",
      "Epoch 3, Dice: 0.5881 WM Dice: 0.0000 GM Dice: 0.7440 CSF Dice: 0.6138\n"
     ]
    },
    {
     "name": "stderr",
     "output_type": "stream",
     "text": [
      "Epoch 4/300: 100%|██████████| 5/5 [00:12<00:00,  2.40s/it, Loss=0.141, Avg Dice=0.624, WM Dice=5.57e-11, GM Dice=0.815, CSF Dice=0.688]\n"
     ]
    },
    {
     "name": "stdout",
     "output_type": "stream",
     "text": [
      "Epoch 4, Loss: 0.2861\n",
      "Epoch 4, Dice: 0.6243 WM Dice: 0.0000 GM Dice: 0.8146 CSF Dice: 0.6878\n"
     ]
    },
    {
     "name": "stderr",
     "output_type": "stream",
     "text": [
      "Epoch 5/300: 100%|██████████| 5/5 [00:12<00:00,  2.45s/it, Loss=0.143, Avg Dice=0.534, WM Dice=9.67e-11, GM Dice=0.807, CSF Dice=0.333]  \n"
     ]
    },
    {
     "name": "stdout",
     "output_type": "stream",
     "text": [
      "Epoch 5, Loss: 0.3198\n",
      "Epoch 5, Dice: 0.5341 WM Dice: 0.0000 GM Dice: 0.8067 CSF Dice: 0.3335\n"
     ]
    },
    {
     "name": "stderr",
     "output_type": "stream",
     "text": [
      "Epoch 6/300: 100%|██████████| 5/5 [00:11<00:00,  2.39s/it, Loss=0.156, Avg Dice=0.525, WM Dice=6.54e-11, GM Dice=0.744, CSF Dice=0.362]\n"
     ]
    },
    {
     "name": "stdout",
     "output_type": "stream",
     "text": [
      "Epoch 6, Loss: 0.2954\n",
      "Epoch 6, Dice: 0.5246 WM Dice: 0.0000 GM Dice: 0.7439 CSF Dice: 0.3620\n"
     ]
    },
    {
     "name": "stderr",
     "output_type": "stream",
     "text": [
      "Epoch 7/300: 100%|██████████| 5/5 [00:12<00:00,  2.41s/it, Loss=0.135, Avg Dice=0.581, WM Dice=5.81e-11, GM Dice=0.599, CSF Dice=0.733]   \n"
     ]
    },
    {
     "name": "stdout",
     "output_type": "stream",
     "text": [
      "Epoch 7, Loss: 0.2997\n",
      "Epoch 7, Dice: 0.5811 WM Dice: 0.0000 GM Dice: 0.5992 CSF Dice: 0.7326\n"
     ]
    },
    {
     "name": "stderr",
     "output_type": "stream",
     "text": [
      "Epoch 8/300: 100%|██████████| 5/5 [00:12<00:00,  2.46s/it, Loss=0.13, Avg Dice=0.582, WM Dice=8.4e-11, GM Dice=0.79, CSF Dice=0.546]   \n"
     ]
    },
    {
     "name": "stdout",
     "output_type": "stream",
     "text": [
      "Epoch 8, Loss: 0.2892\n",
      "Epoch 8, Dice: 0.5824 WM Dice: 0.0000 GM Dice: 0.7900 CSF Dice: 0.5456\n"
     ]
    },
    {
     "name": "stderr",
     "output_type": "stream",
     "text": [
      "Epoch 9/300: 100%|██████████| 5/5 [00:11<00:00,  2.40s/it, Loss=0.127, Avg Dice=0.626, WM Dice=8.4e-11, GM Dice=0.747, CSF Dice=0.763] \n"
     ]
    },
    {
     "name": "stdout",
     "output_type": "stream",
     "text": [
      "Epoch 9, Loss: 0.2816\n",
      "Epoch 9, Dice: 0.6262 WM Dice: 0.0000 GM Dice: 0.7471 CSF Dice: 0.7635\n"
     ]
    },
    {
     "name": "stderr",
     "output_type": "stream",
     "text": [
      "Epoch 10/300: 100%|██████████| 5/5 [00:12<00:00,  2.42s/it, Loss=0.135, Avg Dice=0.605, WM Dice=7.84e-11, GM Dice=0.813, CSF Dice=0.611]\n"
     ]
    },
    {
     "name": "stdout",
     "output_type": "stream",
     "text": [
      "Epoch 10, Loss: 0.2646\n",
      "Epoch 10, Dice: 0.6046 WM Dice: 0.0000 GM Dice: 0.8130 CSF Dice: 0.6108\n"
     ]
    },
    {
     "name": "stderr",
     "output_type": "stream",
     "text": [
      "Epoch 11/300: 100%|██████████| 5/5 [00:12<00:00,  2.40s/it, Loss=0.124, Avg Dice=0.641, WM Dice=5.78e-11, GM Dice=0.828, CSF Dice=0.741]\n"
     ]
    },
    {
     "name": "stdout",
     "output_type": "stream",
     "text": [
      "Epoch 11, Loss: 0.2516\n",
      "Epoch 11, Dice: 0.6408 WM Dice: 0.0000 GM Dice: 0.8277 CSF Dice: 0.7415\n"
     ]
    },
    {
     "name": "stderr",
     "output_type": "stream",
     "text": [
      "Epoch 12/300: 100%|██████████| 5/5 [00:11<00:00,  2.39s/it, Loss=0.114, Avg Dice=0.645, WM Dice=9.67e-11, GM Dice=0.861, CSF Dice=0.722]\n"
     ]
    },
    {
     "name": "stdout",
     "output_type": "stream",
     "text": [
      "Epoch 12, Loss: 0.2550\n",
      "Epoch 12, Dice: 0.6448 WM Dice: 0.0000 GM Dice: 0.8610 CSF Dice: 0.7220\n"
     ]
    },
    {
     "name": "stderr",
     "output_type": "stream",
     "text": [
      "Epoch 13/300: 100%|██████████| 5/5 [00:12<00:00,  2.41s/it, Loss=0.137, Avg Dice=0.578, WM Dice=8.56e-11, GM Dice=0.647, CSF Dice=0.669]\n"
     ]
    },
    {
     "name": "stdout",
     "output_type": "stream",
     "text": [
      "Epoch 13, Loss: 0.2752\n",
      "Epoch 13, Dice: 0.5777 WM Dice: 0.0000 GM Dice: 0.6466 CSF Dice: 0.6685\n"
     ]
    },
    {
     "name": "stderr",
     "output_type": "stream",
     "text": [
      "Epoch 14/300: 100%|██████████| 5/5 [00:12<00:00,  2.41s/it, Loss=0.124, Avg Dice=0.558, WM Dice=6.38e-11, GM Dice=0.798, CSF Dice=0.437]\n"
     ]
    },
    {
     "name": "stdout",
     "output_type": "stream",
     "text": [
      "Epoch 14, Loss: 0.2801\n",
      "Epoch 14, Dice: 0.5575 WM Dice: 0.0000 GM Dice: 0.7983 CSF Dice: 0.4372\n"
     ]
    },
    {
     "name": "stderr",
     "output_type": "stream",
     "text": [
      "Epoch 15/300: 100%|██████████| 5/5 [00:12<00:00,  2.42s/it, Loss=0.15, Avg Dice=0.554, WM Dice=9.67e-11, GM Dice=0.548, CSF Dice=0.673] \n"
     ]
    },
    {
     "name": "stdout",
     "output_type": "stream",
     "text": [
      "Epoch 15, Loss: 0.2844\n",
      "Epoch 15, Dice: 0.5538 WM Dice: 0.0000 GM Dice: 0.5481 CSF Dice: 0.6725\n"
     ]
    },
    {
     "name": "stderr",
     "output_type": "stream",
     "text": [
      "Epoch 16/300: 100%|██████████| 5/5 [00:12<00:00,  2.51s/it, Loss=0.15, Avg Dice=0.583, WM Dice=4.31e-11, GM Dice=0.788, CSF Dice=0.554] \n"
     ]
    },
    {
     "name": "stdout",
     "output_type": "stream",
     "text": [
      "Epoch 16, Loss: 0.2562\n",
      "Epoch 16, Dice: 0.5834 WM Dice: 0.0000 GM Dice: 0.7876 CSF Dice: 0.5543\n"
     ]
    },
    {
     "name": "stderr",
     "output_type": "stream",
     "text": [
      "Epoch 17/300: 100%|██████████| 5/5 [00:12<00:00,  2.50s/it, Loss=0.118, Avg Dice=0.633, WM Dice=5.6e-11, GM Dice=0.762, CSF Dice=0.776] \n"
     ]
    },
    {
     "name": "stdout",
     "output_type": "stream",
     "text": [
      "Epoch 17, Loss: 0.2298\n",
      "Epoch 17, Dice: 0.6333 WM Dice: 0.0000 GM Dice: 0.7622 CSF Dice: 0.7762\n"
     ]
    },
    {
     "name": "stderr",
     "output_type": "stream",
     "text": [
      "Epoch 18/300: 100%|██████████| 5/5 [00:12<00:00,  2.47s/it, Loss=0.105, Avg Dice=0.652, WM Dice=8.56e-11, GM Dice=0.84, CSF Dice=0.774] \n"
     ]
    },
    {
     "name": "stdout",
     "output_type": "stream",
     "text": [
      "Epoch 18, Loss: 0.2356\n",
      "Epoch 18, Dice: 0.6523 WM Dice: 0.0000 GM Dice: 0.8401 CSF Dice: 0.7738\n"
     ]
    },
    {
     "name": "stderr",
     "output_type": "stream",
     "text": [
      "Epoch 19/300: 100%|██████████| 5/5 [00:12<00:00,  2.50s/it, Loss=0.13, Avg Dice=0.581, WM Dice=5.6e-11, GM Dice=0.713, CSF Dice=0.617]  \n"
     ]
    },
    {
     "name": "stdout",
     "output_type": "stream",
     "text": [
      "Epoch 19, Loss: 0.2301\n",
      "Epoch 19, Dice: 0.5808 WM Dice: 0.0000 GM Dice: 0.7129 CSF Dice: 0.6168\n"
     ]
    },
    {
     "name": "stderr",
     "output_type": "stream",
     "text": [
      "Epoch 20/300: 100%|██████████| 5/5 [00:12<00:00,  2.43s/it, Loss=0.121, Avg Dice=0.653, WM Dice=0.167, GM Dice=0.713, CSF Dice=0.739] \n"
     ]
    },
    {
     "name": "stdout",
     "output_type": "stream",
     "text": [
      "Epoch 20, Loss: 0.2143\n",
      "Epoch 20, Dice: 0.6533 WM Dice: 0.1674 GM Dice: 0.7135 CSF Dice: 0.7386\n"
     ]
    },
    {
     "name": "stderr",
     "output_type": "stream",
     "text": [
      "Epoch 21/300: 100%|██████████| 5/5 [00:12<00:00,  2.50s/it, Loss=0.13, Avg Dice=0.64, WM Dice=0.275, GM Dice=0.81, CSF Dice=0.482]    \n"
     ]
    },
    {
     "name": "stdout",
     "output_type": "stream",
     "text": [
      "Epoch 21, Loss: 0.2170\n",
      "Epoch 21, Dice: 0.6403 WM Dice: 0.2748 GM Dice: 0.8103 CSF Dice: 0.4820\n"
     ]
    },
    {
     "name": "stderr",
     "output_type": "stream",
     "text": [
      "Epoch 22/300: 100%|██████████| 5/5 [00:12<00:00,  2.46s/it, Loss=0.106, Avg Dice=0.701, WM Dice=0.245, GM Dice=0.772, CSF Dice=0.792] \n"
     ]
    },
    {
     "name": "stdout",
     "output_type": "stream",
     "text": [
      "Epoch 22, Loss: 0.1998\n",
      "Epoch 22, Dice: 0.7010 WM Dice: 0.2455 GM Dice: 0.7719 CSF Dice: 0.7920\n"
     ]
    },
    {
     "name": "stderr",
     "output_type": "stream",
     "text": [
      "Epoch 23/300: 100%|██████████| 5/5 [00:12<00:00,  2.43s/it, Loss=0.111, Avg Dice=0.678, WM Dice=0.226, GM Dice=0.76, CSF Dice=0.732]  \n"
     ]
    },
    {
     "name": "stdout",
     "output_type": "stream",
     "text": [
      "Epoch 23, Loss: 0.2011\n",
      "Epoch 23, Dice: 0.6780 WM Dice: 0.2257 GM Dice: 0.7601 CSF Dice: 0.7319\n"
     ]
    },
    {
     "name": "stderr",
     "output_type": "stream",
     "text": [
      "Epoch 24/300: 100%|██████████| 5/5 [00:12<00:00,  2.45s/it, Loss=0.0921, Avg Dice=0.715, WM Dice=0.172, GM Dice=0.868, CSF Dice=0.824]\n"
     ]
    },
    {
     "name": "stdout",
     "output_type": "stream",
     "text": [
      "Epoch 24, Loss: 0.1857\n",
      "Epoch 24, Dice: 0.7152 WM Dice: 0.1717 GM Dice: 0.8682 CSF Dice: 0.8241\n"
     ]
    },
    {
     "name": "stderr",
     "output_type": "stream",
     "text": [
      "Epoch 25/300: 100%|██████████| 5/5 [00:12<00:00,  2.44s/it, Loss=0.0897, Avg Dice=0.73, WM Dice=0.283, GM Dice=0.857, CSF Dice=0.784] \n"
     ]
    },
    {
     "name": "stdout",
     "output_type": "stream",
     "text": [
      "Epoch 25, Loss: 0.1948\n",
      "Epoch 25, Dice: 0.7302 WM Dice: 0.2830 GM Dice: 0.8573 CSF Dice: 0.7839\n"
     ]
    },
    {
     "name": "stderr",
     "output_type": "stream",
     "text": [
      "Epoch 26/300: 100%|██████████| 5/5 [00:12<00:00,  2.44s/it, Loss=0.0813, Avg Dice=0.775, WM Dice=0.476, GM Dice=0.812, CSF Dice=0.819]\n"
     ]
    },
    {
     "name": "stdout",
     "output_type": "stream",
     "text": [
      "Epoch 26, Loss: 0.1798\n",
      "Epoch 26, Dice: 0.7754 WM Dice: 0.4758 GM Dice: 0.8118 CSF Dice: 0.8187\n"
     ]
    },
    {
     "name": "stderr",
     "output_type": "stream",
     "text": [
      "Epoch 27/300: 100%|██████████| 5/5 [00:12<00:00,  2.43s/it, Loss=0.09, Avg Dice=0.729, WM Dice=0.281, GM Dice=0.852, CSF Dice=0.789] \n"
     ]
    },
    {
     "name": "stdout",
     "output_type": "stream",
     "text": [
      "Epoch 27, Loss: 0.2020\n",
      "Epoch 27, Dice: 0.7293 WM Dice: 0.2807 GM Dice: 0.8518 CSF Dice: 0.7886\n"
     ]
    },
    {
     "name": "stderr",
     "output_type": "stream",
     "text": [
      "Epoch 28/300: 100%|██████████| 5/5 [00:11<00:00,  2.40s/it, Loss=0.11, Avg Dice=0.677, WM Dice=0.22, GM Dice=0.751, CSF Dice=0.742]   \n"
     ]
    },
    {
     "name": "stdout",
     "output_type": "stream",
     "text": [
      "Epoch 28, Loss: 0.1913\n",
      "Epoch 28, Dice: 0.6771 WM Dice: 0.2204 GM Dice: 0.7507 CSF Dice: 0.7423\n"
     ]
    },
    {
     "name": "stderr",
     "output_type": "stream",
     "text": [
      "Epoch 29/300: 100%|██████████| 5/5 [00:12<00:00,  2.47s/it, Loss=0.0954, Avg Dice=0.719, WM Dice=0.278, GM Dice=0.836, CSF Dice=0.769]\n"
     ]
    },
    {
     "name": "stdout",
     "output_type": "stream",
     "text": [
      "Epoch 29, Loss: 0.1706\n",
      "Epoch 29, Dice: 0.7194 WM Dice: 0.2778 GM Dice: 0.8357 CSF Dice: 0.7690\n"
     ]
    },
    {
     "name": "stderr",
     "output_type": "stream",
     "text": [
      "Epoch 30/300: 100%|██████████| 5/5 [00:12<00:00,  2.42s/it, Loss=0.092, Avg Dice=0.742, WM Dice=0.365, GM Dice=0.851, CSF Dice=0.755] \n"
     ]
    },
    {
     "name": "stdout",
     "output_type": "stream",
     "text": [
      "Epoch 30, Loss: 0.1782\n",
      "Epoch 30, Dice: 0.7417 WM Dice: 0.3648 GM Dice: 0.8511 CSF Dice: 0.7548\n"
     ]
    },
    {
     "name": "stderr",
     "output_type": "stream",
     "text": [
      "Epoch 31/300: 100%|██████████| 5/5 [00:12<00:00,  2.41s/it, Loss=0.0978, Avg Dice=0.71, WM Dice=0.272, GM Dice=0.796, CSF Dice=0.776] \n"
     ]
    },
    {
     "name": "stdout",
     "output_type": "stream",
     "text": [
      "Epoch 31, Loss: 0.1808\n",
      "Epoch 31, Dice: 0.7100 WM Dice: 0.2725 GM Dice: 0.7961 CSF Dice: 0.7761\n"
     ]
    },
    {
     "name": "stderr",
     "output_type": "stream",
     "text": [
      "Epoch 32/300: 100%|██████████| 5/5 [00:12<00:00,  2.41s/it, Loss=0.0952, Avg Dice=0.726, WM Dice=0.317, GM Dice=0.845, CSF Dice=0.746]\n"
     ]
    },
    {
     "name": "stdout",
     "output_type": "stream",
     "text": [
      "Epoch 32, Loss: 0.1910\n",
      "Epoch 32, Dice: 0.7260 WM Dice: 0.3170 GM Dice: 0.8454 CSF Dice: 0.7461\n"
     ]
    },
    {
     "name": "stderr",
     "output_type": "stream",
     "text": [
      "Epoch 33/300: 100%|██████████| 5/5 [00:12<00:00,  2.41s/it, Loss=0.116, Avg Dice=0.672, WM Dice=0.335, GM Dice=0.713, CSF Dice=0.643] \n"
     ]
    },
    {
     "name": "stdout",
     "output_type": "stream",
     "text": [
      "Epoch 33, Loss: 0.1916\n",
      "Epoch 33, Dice: 0.6718 WM Dice: 0.3351 GM Dice: 0.7133 CSF Dice: 0.6433\n"
     ]
    },
    {
     "name": "stderr",
     "output_type": "stream",
     "text": [
      "Epoch 34/300: 100%|██████████| 5/5 [00:12<00:00,  2.46s/it, Loss=0.114, Avg Dice=0.674, WM Dice=0.236, GM Dice=0.813, CSF Dice=0.652] \n"
     ]
    },
    {
     "name": "stdout",
     "output_type": "stream",
     "text": [
      "Epoch 34, Loss: 0.1866\n",
      "Epoch 34, Dice: 0.6741 WM Dice: 0.2362 GM Dice: 0.8132 CSF Dice: 0.6524\n"
     ]
    },
    {
     "name": "stderr",
     "output_type": "stream",
     "text": [
      "Epoch 35/300: 100%|██████████| 5/5 [00:12<00:00,  2.40s/it, Loss=0.1, Avg Dice=0.711, WM Dice=0.288, GM Dice=0.797, CSF Dice=0.765]   \n"
     ]
    },
    {
     "name": "stdout",
     "output_type": "stream",
     "text": [
      "Epoch 35, Loss: 0.1847\n",
      "Epoch 35, Dice: 0.7112 WM Dice: 0.2884 GM Dice: 0.7971 CSF Dice: 0.7653\n"
     ]
    },
    {
     "name": "stderr",
     "output_type": "stream",
     "text": [
      "Epoch 36/300: 100%|██████████| 5/5 [00:12<00:00,  2.41s/it, Loss=0.0818, Avg Dice=0.798, WM Dice=0.547, GM Dice=0.858, CSF Dice=0.793]\n"
     ]
    },
    {
     "name": "stdout",
     "output_type": "stream",
     "text": [
      "Epoch 36, Loss: 0.1906\n",
      "Epoch 36, Dice: 0.7984 WM Dice: 0.5472 GM Dice: 0.8576 CSF Dice: 0.7935\n"
     ]
    },
    {
     "name": "stderr",
     "output_type": "stream",
     "text": [
      "Epoch 37/300: 100%|██████████| 5/5 [00:12<00:00,  2.40s/it, Loss=0.0897, Avg Dice=0.736, WM Dice=0.293, GM Dice=0.867, CSF Dice=0.79] \n"
     ]
    },
    {
     "name": "stdout",
     "output_type": "stream",
     "text": [
      "Epoch 37, Loss: 0.1852\n",
      "Epoch 37, Dice: 0.7361 WM Dice: 0.2929 GM Dice: 0.8665 CSF Dice: 0.7900\n"
     ]
    },
    {
     "name": "stderr",
     "output_type": "stream",
     "text": [
      "Epoch 38/300: 100%|██████████| 5/5 [00:12<00:00,  2.44s/it, Loss=0.0815, Avg Dice=0.761, WM Dice=0.309, GM Dice=0.884, CSF Dice=0.856]\n"
     ]
    },
    {
     "name": "stdout",
     "output_type": "stream",
     "text": [
      "Epoch 38, Loss: 0.1689\n",
      "Epoch 38, Dice: 0.7613 WM Dice: 0.3094 GM Dice: 0.8842 CSF Dice: 0.8563\n"
     ]
    },
    {
     "name": "stderr",
     "output_type": "stream",
     "text": [
      "Epoch 39/300: 100%|██████████| 5/5 [00:11<00:00,  2.36s/it, Loss=0.0832, Avg Dice=0.749, WM Dice=0.289, GM Dice=0.869, CSF Dice=0.839]\n"
     ]
    },
    {
     "name": "stdout",
     "output_type": "stream",
     "text": [
      "Epoch 39, Loss: 0.1879\n",
      "Epoch 39, Dice: 0.7485 WM Dice: 0.2893 GM Dice: 0.8692 CSF Dice: 0.8385\n"
     ]
    },
    {
     "name": "stderr",
     "output_type": "stream",
     "text": [
      "Epoch 40/300: 100%|██████████| 5/5 [00:12<00:00,  2.44s/it, Loss=0.0826, Avg Dice=0.771, WM Dice=0.425, GM Dice=0.83, CSF Dice=0.835] \n"
     ]
    },
    {
     "name": "stdout",
     "output_type": "stream",
     "text": [
      "Epoch 40, Loss: 0.1771\n",
      "Epoch 40, Dice: 0.7711 WM Dice: 0.4248 GM Dice: 0.8296 CSF Dice: 0.8352\n"
     ]
    },
    {
     "name": "stderr",
     "output_type": "stream",
     "text": [
      "Epoch 41/300: 100%|██████████| 5/5 [00:11<00:00,  2.39s/it, Loss=0.0875, Avg Dice=0.727, WM Dice=0.212, GM Dice=0.877, CSF Dice=0.825]\n"
     ]
    },
    {
     "name": "stdout",
     "output_type": "stream",
     "text": [
      "Epoch 41, Loss: 0.1849\n",
      "Epoch 41, Dice: 0.7273 WM Dice: 0.2116 GM Dice: 0.8766 CSF Dice: 0.8247\n"
     ]
    },
    {
     "name": "stderr",
     "output_type": "stream",
     "text": [
      "Epoch 42/300: 100%|██████████| 5/5 [00:11<00:00,  2.39s/it, Loss=0.0895, Avg Dice=0.722, WM Dice=0.2, GM Dice=0.888, CSF Dice=0.804]  \n"
     ]
    },
    {
     "name": "stdout",
     "output_type": "stream",
     "text": [
      "Epoch 42, Loss: 0.1917\n",
      "Epoch 42, Dice: 0.7221 WM Dice: 0.1998 GM Dice: 0.8879 CSF Dice: 0.8036\n"
     ]
    },
    {
     "name": "stderr",
     "output_type": "stream",
     "text": [
      "Epoch 43/300: 100%|██████████| 5/5 [00:11<00:00,  2.37s/it, Loss=0.0996, Avg Dice=0.713, WM Dice=0.325, GM Dice=0.822, CSF Dice=0.712]\n"
     ]
    },
    {
     "name": "stdout",
     "output_type": "stream",
     "text": [
      "Epoch 43, Loss: 0.1800\n",
      "Epoch 43, Dice: 0.7134 WM Dice: 0.3249 GM Dice: 0.8223 CSF Dice: 0.7119\n"
     ]
    },
    {
     "name": "stderr",
     "output_type": "stream",
     "text": [
      "Epoch 44/300: 100%|██████████| 5/5 [00:11<00:00,  2.37s/it, Loss=0.0847, Avg Dice=0.74, WM Dice=0.233, GM Dice=0.873, CSF Dice=0.86]  \n"
     ]
    },
    {
     "name": "stdout",
     "output_type": "stream",
     "text": [
      "Epoch 44, Loss: 0.1845\n",
      "Epoch 44, Dice: 0.7404 WM Dice: 0.2332 GM Dice: 0.8727 CSF Dice: 0.8604\n"
     ]
    },
    {
     "name": "stderr",
     "output_type": "stream",
     "text": [
      "Epoch 45/300: 100%|██████████| 5/5 [00:11<00:00,  2.37s/it, Loss=0.0724, Avg Dice=0.779, WM Dice=0.354, GM Dice=0.904, CSF Dice=0.861]\n"
     ]
    },
    {
     "name": "stdout",
     "output_type": "stream",
     "text": [
      "Epoch 45, Loss: 0.1601\n",
      "Epoch 45, Dice: 0.7791 WM Dice: 0.3540 GM Dice: 0.9035 CSF Dice: 0.8614\n"
     ]
    },
    {
     "name": "stderr",
     "output_type": "stream",
     "text": [
      "Epoch 46/300: 100%|██████████| 5/5 [00:12<00:00,  2.40s/it, Loss=0.106, Avg Dice=0.704, WM Dice=0.195, GM Dice=0.87, CSF Dice=0.756]  \n"
     ]
    },
    {
     "name": "stdout",
     "output_type": "stream",
     "text": [
      "Epoch 46, Loss: 0.1660\n",
      "Epoch 46, Dice: 0.7035 WM Dice: 0.1954 GM Dice: 0.8696 CSF Dice: 0.7556\n"
     ]
    },
    {
     "name": "stderr",
     "output_type": "stream",
     "text": [
      "Epoch 47/300: 100%|██████████| 5/5 [00:12<00:00,  2.40s/it, Loss=0.0835, Avg Dice=0.738, WM Dice=0.279, GM Dice=0.858, CSF Dice=0.819]\n"
     ]
    },
    {
     "name": "stdout",
     "output_type": "stream",
     "text": [
      "Epoch 47, Loss: 0.1670\n",
      "Epoch 47, Dice: 0.7382 WM Dice: 0.2792 GM Dice: 0.8579 CSF Dice: 0.8188\n"
     ]
    },
    {
     "name": "stderr",
     "output_type": "stream",
     "text": [
      "Epoch 48/300: 100%|██████████| 5/5 [00:12<00:00,  2.43s/it, Loss=0.088, Avg Dice=0.741, WM Dice=0.284, GM Dice=0.89, CSF Dice=0.794]  \n"
     ]
    },
    {
     "name": "stdout",
     "output_type": "stream",
     "text": [
      "Epoch 48, Loss: 0.1739\n",
      "Epoch 48, Dice: 0.7410 WM Dice: 0.2837 GM Dice: 0.8899 CSF Dice: 0.7942\n"
     ]
    },
    {
     "name": "stderr",
     "output_type": "stream",
     "text": [
      "Epoch 49/300: 100%|██████████| 5/5 [00:11<00:00,  2.37s/it, Loss=0.0858, Avg Dice=0.759, WM Dice=0.366, GM Dice=0.882, CSF Dice=0.791]\n"
     ]
    },
    {
     "name": "stdout",
     "output_type": "stream",
     "text": [
      "Epoch 49, Loss: 0.1694\n",
      "Epoch 49, Dice: 0.7586 WM Dice: 0.3659 GM Dice: 0.8818 CSF Dice: 0.7914\n"
     ]
    },
    {
     "name": "stderr",
     "output_type": "stream",
     "text": [
      "Epoch 50/300: 100%|██████████| 5/5 [00:11<00:00,  2.40s/it, Loss=0.0762, Avg Dice=0.771, WM Dice=0.313, GM Dice=0.896, CSF Dice=0.878]\n"
     ]
    },
    {
     "name": "stdout",
     "output_type": "stream",
     "text": [
      "Epoch 50, Loss: 0.1650\n",
      "Epoch 50, Dice: 0.7709 WM Dice: 0.3129 GM Dice: 0.8963 CSF Dice: 0.8775\n"
     ]
    },
    {
     "name": "stderr",
     "output_type": "stream",
     "text": [
      "Epoch 51/300: 100%|██████████| 5/5 [00:11<00:00,  2.39s/it, Loss=0.108, Avg Dice=0.702, WM Dice=0.357, GM Dice=0.792, CSF Dice=0.666] \n"
     ]
    },
    {
     "name": "stdout",
     "output_type": "stream",
     "text": [
      "Epoch 51, Loss: 0.1753\n",
      "Epoch 51, Dice: 0.7024 WM Dice: 0.3574 GM Dice: 0.7919 CSF Dice: 0.6659\n"
     ]
    },
    {
     "name": "stderr",
     "output_type": "stream",
     "text": [
      "Epoch 52/300: 100%|██████████| 5/5 [00:12<00:00,  2.42s/it, Loss=0.081, Avg Dice=0.764, WM Dice=0.349, GM Dice=0.856, CSF Dice=0.856] \n"
     ]
    },
    {
     "name": "stdout",
     "output_type": "stream",
     "text": [
      "Epoch 52, Loss: 0.1589\n",
      "Epoch 52, Dice: 0.7642 WM Dice: 0.3494 GM Dice: 0.8562 CSF Dice: 0.8558\n"
     ]
    },
    {
     "name": "stderr",
     "output_type": "stream",
     "text": [
      "Epoch 53/300: 100%|██████████| 5/5 [00:12<00:00,  2.41s/it, Loss=0.108, Avg Dice=0.701, WM Dice=0.331, GM Dice=0.756, CSF Dice=0.723] \n"
     ]
    },
    {
     "name": "stdout",
     "output_type": "stream",
     "text": [
      "Epoch 53, Loss: 0.1848\n",
      "Epoch 53, Dice: 0.7011 WM Dice: 0.3309 GM Dice: 0.7556 CSF Dice: 0.7231\n"
     ]
    },
    {
     "name": "stderr",
     "output_type": "stream",
     "text": [
      "Epoch 54/300: 100%|██████████| 5/5 [00:12<00:00,  2.41s/it, Loss=0.0823, Avg Dice=0.735, WM Dice=0.249, GM Dice=0.858, CSF Dice=0.836]\n"
     ]
    },
    {
     "name": "stdout",
     "output_type": "stream",
     "text": [
      "Epoch 54, Loss: 0.1640\n",
      "Epoch 54, Dice: 0.7353 WM Dice: 0.2492 GM Dice: 0.8583 CSF Dice: 0.8363\n"
     ]
    },
    {
     "name": "stderr",
     "output_type": "stream",
     "text": [
      "Epoch 55/300: 100%|██████████| 5/5 [00:12<00:00,  2.45s/it, Loss=0.13, Avg Dice=0.654, WM Dice=0.339, GM Dice=0.741, CSF Dice=0.543]  \n"
     ]
    },
    {
     "name": "stdout",
     "output_type": "stream",
     "text": [
      "Epoch 55, Loss: 0.1821\n",
      "Epoch 55, Dice: 0.6543 WM Dice: 0.3385 GM Dice: 0.7410 CSF Dice: 0.5433\n"
     ]
    },
    {
     "name": "stderr",
     "output_type": "stream",
     "text": [
      "Epoch 56/300: 100%|██████████| 5/5 [00:12<00:00,  2.41s/it, Loss=0.0833, Avg Dice=0.752, WM Dice=0.37, GM Dice=0.829, CSF Dice=0.813] \n"
     ]
    },
    {
     "name": "stdout",
     "output_type": "stream",
     "text": [
      "Epoch 56, Loss: 0.1697\n",
      "Epoch 56, Dice: 0.7521 WM Dice: 0.3698 GM Dice: 0.8288 CSF Dice: 0.8131\n"
     ]
    },
    {
     "name": "stderr",
     "output_type": "stream",
     "text": [
      "Epoch 57/300: 100%|██████████| 5/5 [00:12<00:00,  2.40s/it, Loss=0.085, Avg Dice=0.772, WM Dice=0.464, GM Dice=0.862, CSF Dice=0.767] \n"
     ]
    },
    {
     "name": "stdout",
     "output_type": "stream",
     "text": [
      "Epoch 57, Loss: 0.1684\n",
      "Epoch 57, Dice: 0.7718 WM Dice: 0.4636 GM Dice: 0.8615 CSF Dice: 0.7671\n"
     ]
    },
    {
     "name": "stderr",
     "output_type": "stream",
     "text": [
      "Epoch 58/300: 100%|██████████| 5/5 [00:11<00:00,  2.39s/it, Loss=0.0817, Avg Dice=0.757, WM Dice=0.316, GM Dice=0.896, CSF Dice=0.821]\n"
     ]
    },
    {
     "name": "stdout",
     "output_type": "stream",
     "text": [
      "Epoch 58, Loss: 0.1626\n",
      "Epoch 58, Dice: 0.7572 WM Dice: 0.3157 GM Dice: 0.8957 CSF Dice: 0.8211\n"
     ]
    },
    {
     "name": "stderr",
     "output_type": "stream",
     "text": [
      "Epoch 59/300: 100%|██████████| 5/5 [00:11<00:00,  2.39s/it, Loss=0.0747, Avg Dice=0.783, WM Dice=0.413, GM Dice=0.874, CSF Dice=0.851]\n"
     ]
    },
    {
     "name": "stdout",
     "output_type": "stream",
     "text": [
      "Epoch 59, Loss: 0.1669\n",
      "Epoch 59, Dice: 0.7835 WM Dice: 0.4128 GM Dice: 0.8739 CSF Dice: 0.8508\n"
     ]
    },
    {
     "name": "stderr",
     "output_type": "stream",
     "text": [
      "Epoch 60/300: 100%|██████████| 5/5 [00:11<00:00,  2.37s/it, Loss=0.0839, Avg Dice=0.744, WM Dice=0.314, GM Dice=0.853, CSF Dice=0.811]\n"
     ]
    },
    {
     "name": "stdout",
     "output_type": "stream",
     "text": [
      "Epoch 60, Loss: 0.1622\n",
      "Epoch 60, Dice: 0.7436 WM Dice: 0.3142 GM Dice: 0.8529 CSF Dice: 0.8106\n"
     ]
    },
    {
     "name": "stderr",
     "output_type": "stream",
     "text": [
      "Epoch 61/300: 100%|██████████| 5/5 [00:10<00:00,  2.19s/it, Loss=0.0909, Avg Dice=0.751, WM Dice=0.433, GM Dice=0.775, CSF Dice=0.8]  \n"
     ]
    },
    {
     "name": "stdout",
     "output_type": "stream",
     "text": [
      "Epoch 61, Loss: 0.1677\n",
      "Epoch 61, Dice: 0.7508 WM Dice: 0.4331 GM Dice: 0.7749 CSF Dice: 0.7998\n"
     ]
    },
    {
     "name": "stderr",
     "output_type": "stream",
     "text": [
      "Epoch 62/300: 100%|██████████| 5/5 [00:12<00:00,  2.43s/it, Loss=0.0882, Avg Dice=0.75, WM Dice=0.468, GM Dice=0.81, CSF Dice=0.727]  \n"
     ]
    },
    {
     "name": "stdout",
     "output_type": "stream",
     "text": [
      "Epoch 62, Loss: 0.1666\n",
      "Epoch 62, Dice: 0.7503 WM Dice: 0.4683 GM Dice: 0.8103 CSF Dice: 0.7269\n"
     ]
    },
    {
     "name": "stderr",
     "output_type": "stream",
     "text": [
      "Epoch 63/300: 100%|██████████| 5/5 [00:12<00:00,  2.44s/it, Loss=0.0769, Avg Dice=0.786, WM Dice=0.409, GM Dice=0.867, CSF Dice=0.871]\n"
     ]
    },
    {
     "name": "stdout",
     "output_type": "stream",
     "text": [
      "Epoch 63, Loss: 0.1651\n",
      "Epoch 63, Dice: 0.7857 WM Dice: 0.4093 GM Dice: 0.8666 CSF Dice: 0.8709\n"
     ]
    },
    {
     "name": "stderr",
     "output_type": "stream",
     "text": [
      "Epoch 64/300: 100%|██████████| 5/5 [00:12<00:00,  2.46s/it, Loss=0.0895, Avg Dice=0.754, WM Dice=0.387, GM Dice=0.869, CSF Dice=0.763]\n"
     ]
    },
    {
     "name": "stdout",
     "output_type": "stream",
     "text": [
      "Epoch 64, Loss: 0.1709\n",
      "Epoch 64, Dice: 0.7535 WM Dice: 0.3871 GM Dice: 0.8688 CSF Dice: 0.7629\n"
     ]
    },
    {
     "name": "stderr",
     "output_type": "stream",
     "text": [
      "Epoch 65/300: 100%|██████████| 5/5 [00:09<00:00,  1.99s/it, Loss=0.0806, Avg Dice=0.761, WM Dice=0.367, GM Dice=0.86, CSF Dice=0.819] \n"
     ]
    },
    {
     "name": "stdout",
     "output_type": "stream",
     "text": [
      "Epoch 65, Loss: 0.1700\n",
      "Epoch 65, Dice: 0.7607 WM Dice: 0.3672 GM Dice: 0.8602 CSF Dice: 0.8189\n"
     ]
    },
    {
     "name": "stderr",
     "output_type": "stream",
     "text": [
      "Epoch 66/300: 100%|██████████| 5/5 [00:11<00:00,  2.38s/it, Loss=0.077, Avg Dice=0.802, WM Dice=0.572, GM Dice=0.876, CSF Dice=0.766] \n"
     ]
    },
    {
     "name": "stdout",
     "output_type": "stream",
     "text": [
      "Epoch 66, Loss: 0.1660\n",
      "Epoch 66, Dice: 0.8023 WM Dice: 0.5719 GM Dice: 0.8759 CSF Dice: 0.7658\n"
     ]
    },
    {
     "name": "stderr",
     "output_type": "stream",
     "text": [
      "Epoch 67/300: 100%|██████████| 5/5 [00:12<00:00,  2.41s/it, Loss=0.0848, Avg Dice=0.758, WM Dice=0.319, GM Dice=0.845, CSF Dice=0.871]\n"
     ]
    },
    {
     "name": "stdout",
     "output_type": "stream",
     "text": [
      "Epoch 67, Loss: 0.1598\n",
      "Epoch 67, Dice: 0.7577 WM Dice: 0.3195 GM Dice: 0.8450 CSF Dice: 0.8708\n"
     ]
    },
    {
     "name": "stderr",
     "output_type": "stream",
     "text": [
      "Epoch 68/300: 100%|██████████| 5/5 [00:12<00:00,  2.44s/it, Loss=0.0612, Avg Dice=0.828, WM Dice=0.607, GM Dice=0.877, CSF Dice=0.831]\n"
     ]
    },
    {
     "name": "stdout",
     "output_type": "stream",
     "text": [
      "Epoch 68, Loss: 0.1405\n",
      "Epoch 68, Dice: 0.8277 WM Dice: 0.6069 GM Dice: 0.8767 CSF Dice: 0.8306\n"
     ]
    },
    {
     "name": "stderr",
     "output_type": "stream",
     "text": [
      "Epoch 69/300: 100%|██████████| 5/5 [00:11<00:00,  2.39s/it, Loss=0.0933, Avg Dice=0.741, WM Dice=0.396, GM Dice=0.771, CSF Dice=0.801]\n"
     ]
    },
    {
     "name": "stdout",
     "output_type": "stream",
     "text": [
      "Epoch 69, Loss: 0.1670\n",
      "Epoch 69, Dice: 0.7409 WM Dice: 0.3964 GM Dice: 0.7709 CSF Dice: 0.8015\n"
     ]
    },
    {
     "name": "stderr",
     "output_type": "stream",
     "text": [
      "Epoch 70/300: 100%|██████████| 5/5 [00:12<00:00,  2.40s/it, Loss=0.101, Avg Dice=0.711, WM Dice=0.223, GM Dice=0.868, CSF Dice=0.756] \n"
     ]
    },
    {
     "name": "stdout",
     "output_type": "stream",
     "text": [
      "Epoch 70, Loss: 0.1763\n",
      "Epoch 70, Dice: 0.7107 WM Dice: 0.2232 GM Dice: 0.8682 CSF Dice: 0.7557\n"
     ]
    },
    {
     "name": "stderr",
     "output_type": "stream",
     "text": [
      "Epoch 71/300: 100%|██████████| 5/5 [00:11<00:00,  2.40s/it, Loss=0.0767, Avg Dice=0.78, WM Dice=0.459, GM Dice=0.861, CSF Dice=0.805] \n"
     ]
    },
    {
     "name": "stdout",
     "output_type": "stream",
     "text": [
      "Epoch 71, Loss: 0.1718\n",
      "Epoch 71, Dice: 0.7804 WM Dice: 0.4589 GM Dice: 0.8607 CSF Dice: 0.8049\n"
     ]
    },
    {
     "name": "stderr",
     "output_type": "stream",
     "text": [
      "Epoch 72/300: 100%|██████████| 5/5 [00:12<00:00,  2.42s/it, Loss=0.08, Avg Dice=0.776, WM Dice=0.43, GM Dice=0.824, CSF Dice=0.857]   \n"
     ]
    },
    {
     "name": "stdout",
     "output_type": "stream",
     "text": [
      "Epoch 72, Loss: 0.1505\n",
      "Epoch 72, Dice: 0.7762 WM Dice: 0.4296 GM Dice: 0.8243 CSF Dice: 0.8568\n"
     ]
    },
    {
     "name": "stderr",
     "output_type": "stream",
     "text": [
      "Epoch 73/300: 100%|██████████| 5/5 [00:11<00:00,  2.40s/it, Loss=0.122, Avg Dice=0.667, WM Dice=0.396, GM Dice=0.69, CSF Dice=0.587]  \n"
     ]
    },
    {
     "name": "stdout",
     "output_type": "stream",
     "text": [
      "Epoch 73, Loss: 0.1741\n",
      "Epoch 73, Dice: 0.6672 WM Dice: 0.3960 GM Dice: 0.6901 CSF Dice: 0.5871\n"
     ]
    },
    {
     "name": "stderr",
     "output_type": "stream",
     "text": [
      "Epoch 74/300: 100%|██████████| 5/5 [00:12<00:00,  2.45s/it, Loss=0.0852, Avg Dice=0.761, WM Dice=0.471, GM Dice=0.799, CSF Dice=0.78] \n"
     ]
    },
    {
     "name": "stdout",
     "output_type": "stream",
     "text": [
      "Epoch 74, Loss: 0.1588\n",
      "Epoch 74, Dice: 0.7612 WM Dice: 0.4709 GM Dice: 0.7988 CSF Dice: 0.7799\n"
     ]
    },
    {
     "name": "stderr",
     "output_type": "stream",
     "text": [
      "Epoch 75/300: 100%|██████████| 5/5 [00:12<00:00,  2.43s/it, Loss=0.0884, Avg Dice=0.741, WM Dice=0.369, GM Dice=0.847, CSF Dice=0.75] \n"
     ]
    },
    {
     "name": "stdout",
     "output_type": "stream",
     "text": [
      "Epoch 75, Loss: 0.1655\n",
      "Epoch 75, Dice: 0.7406 WM Dice: 0.3690 GM Dice: 0.8471 CSF Dice: 0.7498\n"
     ]
    },
    {
     "name": "stderr",
     "output_type": "stream",
     "text": [
      "Epoch 76/300: 100%|██████████| 5/5 [00:12<00:00,  2.40s/it, Loss=0.0873, Avg Dice=0.741, WM Dice=0.324, GM Dice=0.815, CSF Dice=0.831]\n"
     ]
    },
    {
     "name": "stdout",
     "output_type": "stream",
     "text": [
      "Epoch 76, Loss: 0.1747\n",
      "Epoch 76, Dice: 0.7412 WM Dice: 0.3242 GM Dice: 0.8147 CSF Dice: 0.8310\n"
     ]
    },
    {
     "name": "stderr",
     "output_type": "stream",
     "text": [
      "Epoch 77/300: 100%|██████████| 5/5 [00:12<00:00,  2.41s/it, Loss=0.0787, Avg Dice=0.772, WM Dice=0.437, GM Dice=0.815, CSF Dice=0.84] \n"
     ]
    },
    {
     "name": "stdout",
     "output_type": "stream",
     "text": [
      "Epoch 77, Loss: 0.1499\n",
      "Epoch 77, Dice: 0.7720 WM Dice: 0.4374 GM Dice: 0.8154 CSF Dice: 0.8399\n"
     ]
    },
    {
     "name": "stderr",
     "output_type": "stream",
     "text": [
      "Epoch 78/300: 100%|██████████| 5/5 [00:11<00:00,  2.38s/it, Loss=0.0691, Avg Dice=0.824, WM Dice=0.636, GM Dice=0.875, CSF Dice=0.79] \n"
     ]
    },
    {
     "name": "stdout",
     "output_type": "stream",
     "text": [
      "Epoch 78, Loss: 0.1424\n",
      "Epoch 78, Dice: 0.8241 WM Dice: 0.6362 GM Dice: 0.8750 CSF Dice: 0.7896\n"
     ]
    },
    {
     "name": "stderr",
     "output_type": "stream",
     "text": [
      "Epoch 79/300: 100%|██████████| 5/5 [00:11<00:00,  2.38s/it, Loss=0.0575, Avg Dice=0.854, WM Dice=0.721, GM Dice=0.86, CSF Dice=0.836] \n"
     ]
    },
    {
     "name": "stdout",
     "output_type": "stream",
     "text": [
      "Epoch 79, Loss: 0.1434\n",
      "Epoch 79, Dice: 0.8536 WM Dice: 0.7207 GM Dice: 0.8605 CSF Dice: 0.8363\n"
     ]
    },
    {
     "name": "stderr",
     "output_type": "stream",
     "text": [
      "Epoch 80/300: 100%|██████████| 5/5 [00:11<00:00,  2.39s/it, Loss=0.0872, Avg Dice=0.744, WM Dice=0.409, GM Dice=0.815, CSF Dice=0.757]\n"
     ]
    },
    {
     "name": "stdout",
     "output_type": "stream",
     "text": [
      "Epoch 80, Loss: 0.1443\n",
      "Epoch 80, Dice: 0.7441 WM Dice: 0.4089 GM Dice: 0.8147 CSF Dice: 0.7573\n"
     ]
    },
    {
     "name": "stderr",
     "output_type": "stream",
     "text": [
      "Epoch 81/300: 100%|██████████| 5/5 [00:11<00:00,  2.39s/it, Loss=0.0731, Avg Dice=0.79, WM Dice=0.417, GM Dice=0.9, CSF Dice=0.848]   \n"
     ]
    },
    {
     "name": "stdout",
     "output_type": "stream",
     "text": [
      "Epoch 81, Loss: 0.1436\n",
      "Epoch 81, Dice: 0.7903 WM Dice: 0.4168 GM Dice: 0.8999 CSF Dice: 0.8478\n"
     ]
    },
    {
     "name": "stderr",
     "output_type": "stream",
     "text": [
      "Epoch 82/300: 100%|██████████| 5/5 [00:12<00:00,  2.44s/it, Loss=0.117, Avg Dice=0.656, WM Dice=0.4, GM Dice=0.711, CSF Dice=0.519]   \n"
     ]
    },
    {
     "name": "stdout",
     "output_type": "stream",
     "text": [
      "Epoch 82, Loss: 0.1696\n",
      "Epoch 82, Dice: 0.6565 WM Dice: 0.3996 GM Dice: 0.7109 CSF Dice: 0.5194\n"
     ]
    },
    {
     "name": "stderr",
     "output_type": "stream",
     "text": [
      "Epoch 83/300: 100%|██████████| 5/5 [00:11<00:00,  2.40s/it, Loss=0.071, Avg Dice=0.789, WM Dice=0.395, GM Dice=0.88, CSF Dice=0.885]  \n"
     ]
    },
    {
     "name": "stdout",
     "output_type": "stream",
     "text": [
      "Epoch 83, Loss: 0.1346\n",
      "Epoch 83, Dice: 0.7891 WM Dice: 0.3948 GM Dice: 0.8801 CSF Dice: 0.8849\n"
     ]
    },
    {
     "name": "stderr",
     "output_type": "stream",
     "text": [
      "Epoch 84/300: 100%|██████████| 5/5 [00:12<00:00,  2.45s/it, Loss=0.07, Avg Dice=0.792, WM Dice=0.405, GM Dice=0.913, CSF Dice=0.854]  \n"
     ]
    },
    {
     "name": "stdout",
     "output_type": "stream",
     "text": [
      "Epoch 84, Loss: 0.1444\n",
      "Epoch 84, Dice: 0.7922 WM Dice: 0.4049 GM Dice: 0.9130 CSF Dice: 0.8540\n"
     ]
    },
    {
     "name": "stderr",
     "output_type": "stream",
     "text": [
      "Epoch 85/300: 100%|██████████| 5/5 [00:12<00:00,  2.46s/it, Loss=0.0929, Avg Dice=0.761, WM Dice=0.577, GM Dice=0.766, CSF Dice=0.705]\n"
     ]
    },
    {
     "name": "stdout",
     "output_type": "stream",
     "text": [
      "Epoch 85, Loss: 0.1547\n",
      "Epoch 85, Dice: 0.7608 WM Dice: 0.5770 GM Dice: 0.7660 CSF Dice: 0.7053\n"
     ]
    },
    {
     "name": "stderr",
     "output_type": "stream",
     "text": [
      "Epoch 86/300: 100%|██████████| 5/5 [00:12<00:00,  2.43s/it, Loss=0.0658, Avg Dice=0.815, WM Dice=0.528, GM Dice=0.864, CSF Dice=0.871]\n"
     ]
    },
    {
     "name": "stdout",
     "output_type": "stream",
     "text": [
      "Epoch 86, Loss: 0.1510\n",
      "Epoch 86, Dice: 0.8149 WM Dice: 0.5278 GM Dice: 0.8638 CSF Dice: 0.8710\n"
     ]
    },
    {
     "name": "stderr",
     "output_type": "stream",
     "text": [
      "Epoch 87/300: 100%|██████████| 5/5 [00:12<00:00,  2.47s/it, Loss=0.0786, Avg Dice=0.769, WM Dice=0.378, GM Dice=0.887, CSF Dice=0.816]\n"
     ]
    },
    {
     "name": "stdout",
     "output_type": "stream",
     "text": [
      "Epoch 87, Loss: 0.1588\n",
      "Epoch 87, Dice: 0.7690 WM Dice: 0.3776 GM Dice: 0.8865 CSF Dice: 0.8156\n"
     ]
    },
    {
     "name": "stderr",
     "output_type": "stream",
     "text": [
      "Epoch 88/300: 100%|██████████| 5/5 [00:12<00:00,  2.43s/it, Loss=0.0836, Avg Dice=0.748, WM Dice=0.332, GM Dice=0.838, CSF Dice=0.827]\n"
     ]
    },
    {
     "name": "stdout",
     "output_type": "stream",
     "text": [
      "Epoch 88, Loss: 0.1503\n",
      "Epoch 88, Dice: 0.7481 WM Dice: 0.3316 GM Dice: 0.8375 CSF Dice: 0.8266\n"
     ]
    },
    {
     "name": "stderr",
     "output_type": "stream",
     "text": [
      "Epoch 89/300: 100%|██████████| 5/5 [00:12<00:00,  2.41s/it, Loss=0.0863, Avg Dice=0.759, WM Dice=0.474, GM Dice=0.801, CSF Dice=0.765]\n"
     ]
    },
    {
     "name": "stdout",
     "output_type": "stream",
     "text": [
      "Epoch 89, Loss: 0.1718\n",
      "Epoch 89, Dice: 0.7590 WM Dice: 0.4742 GM Dice: 0.8014 CSF Dice: 0.7650\n"
     ]
    },
    {
     "name": "stderr",
     "output_type": "stream",
     "text": [
      "Epoch 90/300: 100%|██████████| 5/5 [00:12<00:00,  2.42s/it, Loss=0.0948, Avg Dice=0.738, WM Dice=0.34, GM Dice=0.819, CSF Dice=0.797] \n"
     ]
    },
    {
     "name": "stdout",
     "output_type": "stream",
     "text": [
      "Epoch 90, Loss: 0.1524\n",
      "Epoch 90, Dice: 0.7376 WM Dice: 0.3404 GM Dice: 0.8190 CSF Dice: 0.7972\n"
     ]
    },
    {
     "name": "stderr",
     "output_type": "stream",
     "text": [
      "Epoch 91/300: 100%|██████████| 5/5 [00:12<00:00,  2.46s/it, Loss=0.0551, Avg Dice=0.861, WM Dice=0.743, GM Dice=0.871, CSF Dice=0.832]\n"
     ]
    },
    {
     "name": "stdout",
     "output_type": "stream",
     "text": [
      "Epoch 91, Loss: 0.1457\n",
      "Epoch 91, Dice: 0.8609 WM Dice: 0.7435 GM Dice: 0.8714 CSF Dice: 0.8318\n"
     ]
    },
    {
     "name": "stderr",
     "output_type": "stream",
     "text": [
      "Epoch 92/300: 100%|██████████| 5/5 [00:12<00:00,  2.41s/it, Loss=0.09, Avg Dice=0.752, WM Dice=0.493, GM Dice=0.76, CSF Dice=0.76]    \n"
     ]
    },
    {
     "name": "stdout",
     "output_type": "stream",
     "text": [
      "Epoch 92, Loss: 0.1598\n",
      "Epoch 92, Dice: 0.7520 WM Dice: 0.4927 GM Dice: 0.7597 CSF Dice: 0.7598\n"
     ]
    },
    {
     "name": "stderr",
     "output_type": "stream",
     "text": [
      "Epoch 93/300: 100%|██████████| 5/5 [00:12<00:00,  2.44s/it, Loss=0.0941, Avg Dice=0.747, WM Dice=0.418, GM Dice=0.871, CSF Dice=0.704]\n"
     ]
    },
    {
     "name": "stdout",
     "output_type": "stream",
     "text": [
      "Epoch 93, Loss: 0.1589\n",
      "Epoch 93, Dice: 0.7473 WM Dice: 0.4184 GM Dice: 0.8709 CSF Dice: 0.7044\n"
     ]
    },
    {
     "name": "stderr",
     "output_type": "stream",
     "text": [
      "Epoch 94/300: 100%|██████████| 5/5 [00:12<00:00,  2.43s/it, Loss=0.0708, Avg Dice=0.807, WM Dice=0.528, GM Dice=0.868, CSF Dice=0.836]\n"
     ]
    },
    {
     "name": "stdout",
     "output_type": "stream",
     "text": [
      "Epoch 94, Loss: 0.1554\n",
      "Epoch 94, Dice: 0.8070 WM Dice: 0.5280 GM Dice: 0.8681 CSF Dice: 0.8361\n"
     ]
    },
    {
     "name": "stderr",
     "output_type": "stream",
     "text": [
      "Epoch 95/300: 100%|██████████| 5/5 [00:12<00:00,  2.42s/it, Loss=0.0891, Avg Dice=0.757, WM Dice=0.49, GM Dice=0.816, CSF Dice=0.726] \n"
     ]
    },
    {
     "name": "stdout",
     "output_type": "stream",
     "text": [
      "Epoch 95, Loss: 0.1360\n",
      "Epoch 95, Dice: 0.7567 WM Dice: 0.4897 GM Dice: 0.8155 CSF Dice: 0.7260\n"
     ]
    },
    {
     "name": "stderr",
     "output_type": "stream",
     "text": [
      "Epoch 96/300: 100%|██████████| 5/5 [00:11<00:00,  2.38s/it, Loss=0.0704, Avg Dice=0.818, WM Dice=0.673, GM Dice=0.828, CSF Dice=0.777]\n"
     ]
    },
    {
     "name": "stdout",
     "output_type": "stream",
     "text": [
      "Epoch 96, Loss: 0.1327\n",
      "Epoch 96, Dice: 0.8182 WM Dice: 0.6726 GM Dice: 0.8280 CSF Dice: 0.7766\n"
     ]
    },
    {
     "name": "stderr",
     "output_type": "stream",
     "text": [
      "Epoch 97/300: 100%|██████████| 5/5 [00:11<00:00,  2.40s/it, Loss=0.0697, Avg Dice=0.811, WM Dice=0.548, GM Dice=0.873, CSF Dice=0.827]\n"
     ]
    },
    {
     "name": "stdout",
     "output_type": "stream",
     "text": [
      "Epoch 97, Loss: 0.1462\n",
      "Epoch 97, Dice: 0.8110 WM Dice: 0.5482 GM Dice: 0.8728 CSF Dice: 0.8273\n"
     ]
    },
    {
     "name": "stderr",
     "output_type": "stream",
     "text": [
      "Epoch 98/300: 100%|██████████| 5/5 [00:11<00:00,  2.38s/it, Loss=0.0732, Avg Dice=0.8, WM Dice=0.579, GM Dice=0.858, CSF Dice=0.767]  \n"
     ]
    },
    {
     "name": "stdout",
     "output_type": "stream",
     "text": [
      "Epoch 98, Loss: 0.1411\n",
      "Epoch 98, Dice: 0.8001 WM Dice: 0.5787 GM Dice: 0.8582 CSF Dice: 0.7673\n"
     ]
    },
    {
     "name": "stderr",
     "output_type": "stream",
     "text": [
      "Epoch 99/300: 100%|██████████| 5/5 [00:12<00:00,  2.41s/it, Loss=0.0836, Avg Dice=0.768, WM Dice=0.429, GM Dice=0.877, CSF Dice=0.771]\n"
     ]
    },
    {
     "name": "stdout",
     "output_type": "stream",
     "text": [
      "Epoch 99, Loss: 0.1432\n",
      "Epoch 99, Dice: 0.7682 WM Dice: 0.4293 GM Dice: 0.8771 CSF Dice: 0.7706\n"
     ]
    },
    {
     "name": "stderr",
     "output_type": "stream",
     "text": [
      "Epoch 100/300: 100%|██████████| 5/5 [00:12<00:00,  2.41s/it, Loss=0.0676, Avg Dice=0.81, WM Dice=0.557, GM Dice=0.87, CSF Dice=0.817]  \n"
     ]
    },
    {
     "name": "stdout",
     "output_type": "stream",
     "text": [
      "Epoch 100, Loss: 0.1307\n",
      "Epoch 100, Dice: 0.8102 WM Dice: 0.5572 GM Dice: 0.8700 CSF Dice: 0.8169\n"
     ]
    },
    {
     "name": "stderr",
     "output_type": "stream",
     "text": [
      "Epoch 101/300: 100%|██████████| 5/5 [00:12<00:00,  2.43s/it, Loss=0.0795, Avg Dice=0.768, WM Dice=0.366, GM Dice=0.858, CSF Dice=0.852]\n"
     ]
    },
    {
     "name": "stdout",
     "output_type": "stream",
     "text": [
      "Epoch 101, Loss: 0.1387\n",
      "Epoch 101, Dice: 0.7677 WM Dice: 0.3657 GM Dice: 0.8576 CSF Dice: 0.8518\n"
     ]
    },
    {
     "name": "stderr",
     "output_type": "stream",
     "text": [
      "Epoch 102/300: 100%|██████████| 5/5 [00:12<00:00,  2.44s/it, Loss=0.0719, Avg Dice=0.793, WM Dice=0.438, GM Dice=0.903, CSF Dice=0.833]\n"
     ]
    },
    {
     "name": "stdout",
     "output_type": "stream",
     "text": [
      "Epoch 102, Loss: 0.1600\n",
      "Epoch 102, Dice: 0.7926 WM Dice: 0.4376 GM Dice: 0.9027 CSF Dice: 0.8335\n"
     ]
    },
    {
     "name": "stderr",
     "output_type": "stream",
     "text": [
      "Epoch 103/300: 100%|██████████| 5/5 [00:11<00:00,  2.37s/it, Loss=0.0896, Avg Dice=0.746, WM Dice=0.391, GM Dice=0.799, CSF Dice=0.797]\n"
     ]
    },
    {
     "name": "stdout",
     "output_type": "stream",
     "text": [
      "Epoch 103, Loss: 0.1573\n",
      "Epoch 103, Dice: 0.7456 WM Dice: 0.3907 GM Dice: 0.7990 CSF Dice: 0.7970\n"
     ]
    },
    {
     "name": "stderr",
     "output_type": "stream",
     "text": [
      "Epoch 104/300: 100%|██████████| 5/5 [00:11<00:00,  2.37s/it, Loss=0.0932, Avg Dice=0.728, WM Dice=0.486, GM Dice=0.777, CSF Dice=0.654]\n"
     ]
    },
    {
     "name": "stdout",
     "output_type": "stream",
     "text": [
      "Epoch 104, Loss: 0.1465\n",
      "Epoch 104, Dice: 0.7283 WM Dice: 0.4860 GM Dice: 0.7772 CSF Dice: 0.6537\n"
     ]
    },
    {
     "name": "stderr",
     "output_type": "stream",
     "text": [
      "Epoch 105/300: 100%|██████████| 5/5 [00:12<00:00,  2.41s/it, Loss=0.0815, Avg Dice=0.767, WM Dice=0.404, GM Dice=0.885, CSF Dice=0.783]\n"
     ]
    },
    {
     "name": "stdout",
     "output_type": "stream",
     "text": [
      "Epoch 105, Loss: 0.1532\n",
      "Epoch 105, Dice: 0.7672 WM Dice: 0.4041 GM Dice: 0.8848 CSF Dice: 0.7831\n"
     ]
    },
    {
     "name": "stderr",
     "output_type": "stream",
     "text": [
      "Epoch 106/300: 100%|██████████| 5/5 [00:11<00:00,  2.40s/it, Loss=0.0803, Avg Dice=0.783, WM Dice=0.535, GM Dice=0.789, CSF Dice=0.812]\n"
     ]
    },
    {
     "name": "stdout",
     "output_type": "stream",
     "text": [
      "Epoch 106, Loss: 0.1525\n",
      "Epoch 106, Dice: 0.7828 WM Dice: 0.5355 GM Dice: 0.7886 CSF Dice: 0.8121\n"
     ]
    },
    {
     "name": "stderr",
     "output_type": "stream",
     "text": [
      "Epoch 107/300: 100%|██████████| 5/5 [00:12<00:00,  2.43s/it, Loss=0.0671, Avg Dice=0.805, WM Dice=0.471, GM Dice=0.883, CSF Dice=0.868]\n"
     ]
    },
    {
     "name": "stdout",
     "output_type": "stream",
     "text": [
      "Epoch 107, Loss: 0.1381\n",
      "Epoch 107, Dice: 0.8047 WM Dice: 0.4713 GM Dice: 0.8826 CSF Dice: 0.8685\n"
     ]
    },
    {
     "name": "stderr",
     "output_type": "stream",
     "text": [
      "Epoch 108/300: 100%|██████████| 5/5 [00:12<00:00,  2.42s/it, Loss=0.056, Avg Dice=0.865, WM Dice=0.749, GM Dice=0.862, CSF Dice=0.853] \n"
     ]
    },
    {
     "name": "stdout",
     "output_type": "stream",
     "text": [
      "Epoch 108, Loss: 0.1456\n",
      "Epoch 108, Dice: 0.8653 WM Dice: 0.7491 GM Dice: 0.8624 CSF Dice: 0.8532\n"
     ]
    },
    {
     "name": "stderr",
     "output_type": "stream",
     "text": [
      "Epoch 109/300: 100%|██████████| 5/5 [00:12<00:00,  2.42s/it, Loss=0.0834, Avg Dice=0.757, WM Dice=0.357, GM Dice=0.837, CSF Dice=0.84] \n"
     ]
    },
    {
     "name": "stdout",
     "output_type": "stream",
     "text": [
      "Epoch 109, Loss: 0.1368\n",
      "Epoch 109, Dice: 0.7574 WM Dice: 0.3567 GM Dice: 0.8369 CSF Dice: 0.8402\n"
     ]
    },
    {
     "name": "stderr",
     "output_type": "stream",
     "text": [
      "Epoch 110/300: 100%|██████████| 5/5 [00:12<00:00,  2.43s/it, Loss=0.0644, Avg Dice=0.819, WM Dice=0.53, GM Dice=0.896, CSF Dice=0.855] \n"
     ]
    },
    {
     "name": "stdout",
     "output_type": "stream",
     "text": [
      "Epoch 110, Loss: 0.1294\n",
      "Epoch 110, Dice: 0.8194 WM Dice: 0.5303 GM Dice: 0.8957 CSF Dice: 0.8553\n"
     ]
    },
    {
     "name": "stderr",
     "output_type": "stream",
     "text": [
      "Epoch 111/300: 100%|██████████| 5/5 [00:12<00:00,  2.41s/it, Loss=0.0765, Avg Dice=0.779, WM Dice=0.411, GM Dice=0.852, CSF Dice=0.857]\n"
     ]
    },
    {
     "name": "stdout",
     "output_type": "stream",
     "text": [
      "Epoch 111, Loss: 0.1471\n",
      "Epoch 111, Dice: 0.7788 WM Dice: 0.4106 GM Dice: 0.8520 CSF Dice: 0.8572\n"
     ]
    },
    {
     "name": "stderr",
     "output_type": "stream",
     "text": [
      "Epoch 112/300: 100%|██████████| 5/5 [00:11<00:00,  2.38s/it, Loss=0.0557, Avg Dice=0.85, WM Dice=0.674, GM Dice=0.885, CSF Dice=0.845] \n"
     ]
    },
    {
     "name": "stdout",
     "output_type": "stream",
     "text": [
      "Epoch 112, Loss: 0.1378\n",
      "Epoch 112, Dice: 0.8500 WM Dice: 0.6735 GM Dice: 0.8850 CSF Dice: 0.8453\n"
     ]
    },
    {
     "name": "stderr",
     "output_type": "stream",
     "text": [
      "Epoch 113/300: 100%|██████████| 5/5 [00:12<00:00,  2.41s/it, Loss=0.0866, Avg Dice=0.766, WM Dice=0.48, GM Dice=0.781, CSF Dice=0.808] \n"
     ]
    },
    {
     "name": "stdout",
     "output_type": "stream",
     "text": [
      "Epoch 113, Loss: 0.1446\n",
      "Epoch 113, Dice: 0.7660 WM Dice: 0.4798 GM Dice: 0.7811 CSF Dice: 0.8077\n"
     ]
    },
    {
     "name": "stderr",
     "output_type": "stream",
     "text": [
      "Epoch 114/300: 100%|██████████| 5/5 [00:12<00:00,  2.46s/it, Loss=0.0616, Avg Dice=0.835, WM Dice=0.63, GM Dice=0.886, CSF Dice=0.826] \n"
     ]
    },
    {
     "name": "stdout",
     "output_type": "stream",
     "text": [
      "Epoch 114, Loss: 0.1452\n",
      "Epoch 114, Dice: 0.8349 WM Dice: 0.6299 GM Dice: 0.8865 CSF Dice: 0.8264\n"
     ]
    },
    {
     "name": "stderr",
     "output_type": "stream",
     "text": [
      "Epoch 115/300: 100%|██████████| 5/5 [00:12<00:00,  2.44s/it, Loss=0.0582, Avg Dice=0.849, WM Dice=0.642, GM Dice=0.895, CSF Dice=0.863]\n"
     ]
    },
    {
     "name": "stdout",
     "output_type": "stream",
     "text": [
      "Epoch 115, Loss: 0.1341\n",
      "Epoch 115, Dice: 0.8490 WM Dice: 0.6420 GM Dice: 0.8950 CSF Dice: 0.8626\n"
     ]
    },
    {
     "name": "stderr",
     "output_type": "stream",
     "text": [
      "Epoch 116/300: 100%|██████████| 5/5 [00:12<00:00,  2.44s/it, Loss=0.0829, Avg Dice=0.767, WM Dice=0.653, GM Dice=0.785, CSF Dice=0.633]\n"
     ]
    },
    {
     "name": "stdout",
     "output_type": "stream",
     "text": [
      "Epoch 116, Loss: 0.1392\n",
      "Epoch 116, Dice: 0.7669 WM Dice: 0.6529 GM Dice: 0.7851 CSF Dice: 0.6329\n"
     ]
    },
    {
     "name": "stderr",
     "output_type": "stream",
     "text": [
      "Epoch 117/300: 100%|██████████| 5/5 [00:12<00:00,  2.44s/it, Loss=0.0708, Avg Dice=0.788, WM Dice=0.399, GM Dice=0.886, CSF Dice=0.868]\n"
     ]
    },
    {
     "name": "stdout",
     "output_type": "stream",
     "text": [
      "Epoch 117, Loss: 0.1210\n",
      "Epoch 117, Dice: 0.7876 WM Dice: 0.3988 GM Dice: 0.8864 CSF Dice: 0.8682\n"
     ]
    },
    {
     "name": "stderr",
     "output_type": "stream",
     "text": [
      "Epoch 118/300: 100%|██████████| 5/5 [00:11<00:00,  2.36s/it, Loss=0.066, Avg Dice=0.801, WM Dice=0.429, GM Dice=0.915, CSF Dice=0.864] \n"
     ]
    },
    {
     "name": "stdout",
     "output_type": "stream",
     "text": [
      "Epoch 118, Loss: 0.1228\n",
      "Epoch 118, Dice: 0.8013 WM Dice: 0.4286 GM Dice: 0.9155 CSF Dice: 0.8637\n"
     ]
    },
    {
     "name": "stderr",
     "output_type": "stream",
     "text": [
      "Epoch 119/300: 100%|██████████| 5/5 [00:12<00:00,  2.44s/it, Loss=0.0653, Avg Dice=0.841, WM Dice=0.736, GM Dice=0.808, CSF Dice=0.825]\n"
     ]
    },
    {
     "name": "stdout",
     "output_type": "stream",
     "text": [
      "Epoch 119, Loss: 0.1278\n",
      "Epoch 119, Dice: 0.8410 WM Dice: 0.7356 GM Dice: 0.8077 CSF Dice: 0.8254\n"
     ]
    },
    {
     "name": "stderr",
     "output_type": "stream",
     "text": [
      "Epoch 120/300: 100%|██████████| 5/5 [00:12<00:00,  2.42s/it, Loss=0.0764, Avg Dice=0.798, WM Dice=0.616, GM Dice=0.796, CSF Dice=0.786]\n"
     ]
    },
    {
     "name": "stdout",
     "output_type": "stream",
     "text": [
      "Epoch 120, Loss: 0.1280\n",
      "Epoch 120, Dice: 0.7982 WM Dice: 0.6156 GM Dice: 0.7958 CSF Dice: 0.7860\n"
     ]
    },
    {
     "name": "stderr",
     "output_type": "stream",
     "text": [
      "Epoch 121/300: 100%|██████████| 5/5 [00:11<00:00,  2.37s/it, Loss=0.0537, Avg Dice=0.851, WM Dice=0.635, GM Dice=0.888, CSF Dice=0.884]\n"
     ]
    },
    {
     "name": "stdout",
     "output_type": "stream",
     "text": [
      "Epoch 121, Loss: 0.1247\n",
      "Epoch 121, Dice: 0.8510 WM Dice: 0.6352 GM Dice: 0.8876 CSF Dice: 0.8837\n"
     ]
    },
    {
     "name": "stderr",
     "output_type": "stream",
     "text": [
      "Epoch 122/300: 100%|██████████| 5/5 [00:12<00:00,  2.43s/it, Loss=0.0631, Avg Dice=0.851, WM Dice=0.779, GM Dice=0.836, CSF Dice=0.795]\n"
     ]
    },
    {
     "name": "stdout",
     "output_type": "stream",
     "text": [
      "Epoch 122, Loss: 0.1268\n",
      "Epoch 122, Dice: 0.8514 WM Dice: 0.7788 GM Dice: 0.8363 CSF Dice: 0.7953\n"
     ]
    },
    {
     "name": "stderr",
     "output_type": "stream",
     "text": [
      "Epoch 123/300: 100%|██████████| 5/5 [00:12<00:00,  2.41s/it, Loss=0.0642, Avg Dice=0.839, WM Dice=0.651, GM Dice=0.894, CSF Dice=0.816]\n"
     ]
    },
    {
     "name": "stdout",
     "output_type": "stream",
     "text": [
      "Epoch 123, Loss: 0.1162\n",
      "Epoch 123, Dice: 0.8394 WM Dice: 0.6512 GM Dice: 0.8939 CSF Dice: 0.8164\n"
     ]
    },
    {
     "name": "stderr",
     "output_type": "stream",
     "text": [
      "Epoch 124/300: 100%|██████████| 5/5 [00:12<00:00,  2.42s/it, Loss=0.0557, Avg Dice=0.849, WM Dice=0.648, GM Dice=0.895, CSF Dice=0.856]\n"
     ]
    },
    {
     "name": "stdout",
     "output_type": "stream",
     "text": [
      "Epoch 124, Loss: 0.1340\n",
      "Epoch 124, Dice: 0.8488 WM Dice: 0.6477 GM Dice: 0.8949 CSF Dice: 0.8562\n"
     ]
    },
    {
     "name": "stderr",
     "output_type": "stream",
     "text": [
      "Epoch 125/300: 100%|██████████| 5/5 [00:12<00:00,  2.42s/it, Loss=0.077, Avg Dice=0.771, WM Dice=0.381, GM Dice=0.872, CSF Dice=0.833] \n"
     ]
    },
    {
     "name": "stdout",
     "output_type": "stream",
     "text": [
      "Epoch 125, Loss: 0.1163\n",
      "Epoch 125, Dice: 0.7707 WM Dice: 0.3814 GM Dice: 0.8724 CSF Dice: 0.8325\n"
     ]
    },
    {
     "name": "stderr",
     "output_type": "stream",
     "text": [
      "Epoch 126/300: 100%|██████████| 5/5 [00:12<00:00,  2.41s/it, Loss=0.0751, Avg Dice=0.772, WM Dice=0.351, GM Dice=0.906, CSF Dice=0.834]\n"
     ]
    },
    {
     "name": "stdout",
     "output_type": "stream",
     "text": [
      "Epoch 126, Loss: 0.1397\n",
      "Epoch 126, Dice: 0.7718 WM Dice: 0.3510 GM Dice: 0.9058 CSF Dice: 0.8335\n"
     ]
    },
    {
     "name": "stderr",
     "output_type": "stream",
     "text": [
      "Epoch 127/300: 100%|██████████| 5/5 [00:12<00:00,  2.42s/it, Loss=0.0674, Avg Dice=0.824, WM Dice=0.691, GM Dice=0.794, CSF Dice=0.817]\n"
     ]
    },
    {
     "name": "stdout",
     "output_type": "stream",
     "text": [
      "Epoch 127, Loss: 0.1297\n",
      "Epoch 127, Dice: 0.8245 WM Dice: 0.6912 GM Dice: 0.7943 CSF Dice: 0.8174\n"
     ]
    },
    {
     "name": "stderr",
     "output_type": "stream",
     "text": [
      "Epoch 128/300: 100%|██████████| 5/5 [00:11<00:00,  2.39s/it, Loss=0.0731, Avg Dice=0.812, WM Dice=0.592, GM Dice=0.868, CSF Dice=0.79] \n"
     ]
    },
    {
     "name": "stdout",
     "output_type": "stream",
     "text": [
      "Epoch 128, Loss: 0.1257\n",
      "Epoch 128, Dice: 0.8116 WM Dice: 0.5923 GM Dice: 0.8677 CSF Dice: 0.7902\n"
     ]
    },
    {
     "name": "stderr",
     "output_type": "stream",
     "text": [
      "Epoch 129/300: 100%|██████████| 5/5 [00:12<00:00,  2.40s/it, Loss=0.0525, Avg Dice=0.863, WM Dice=0.726, GM Dice=0.876, CSF Dice=0.853]\n"
     ]
    },
    {
     "name": "stdout",
     "output_type": "stream",
     "text": [
      "Epoch 129, Loss: 0.1107\n",
      "Epoch 129, Dice: 0.8630 WM Dice: 0.7264 GM Dice: 0.8765 CSF Dice: 0.8529\n"
     ]
    },
    {
     "name": "stderr",
     "output_type": "stream",
     "text": [
      "Epoch 130/300: 100%|██████████| 5/5 [00:12<00:00,  2.42s/it, Loss=0.0802, Avg Dice=0.776, WM Dice=0.672, GM Dice=0.802, CSF Dice=0.632]\n"
     ]
    },
    {
     "name": "stdout",
     "output_type": "stream",
     "text": [
      "Epoch 130, Loss: 0.1144\n",
      "Epoch 130, Dice: 0.7758 WM Dice: 0.6719 GM Dice: 0.8022 CSF Dice: 0.6318\n"
     ]
    },
    {
     "name": "stderr",
     "output_type": "stream",
     "text": [
      "Epoch 131/300: 100%|██████████| 5/5 [00:11<00:00,  2.38s/it, Loss=0.066, Avg Dice=0.813, WM Dice=0.537, GM Dice=0.879, CSF Dice=0.84]  \n"
     ]
    },
    {
     "name": "stdout",
     "output_type": "stream",
     "text": [
      "Epoch 131, Loss: 0.1271\n",
      "Epoch 131, Dice: 0.8131 WM Dice: 0.5371 GM Dice: 0.8785 CSF Dice: 0.8398\n"
     ]
    },
    {
     "name": "stderr",
     "output_type": "stream",
     "text": [
      "Epoch 132/300: 100%|██████████| 5/5 [00:11<00:00,  2.39s/it, Loss=0.0501, Avg Dice=0.864, WM Dice=0.716, GM Dice=0.891, CSF Dice=0.852]\n"
     ]
    },
    {
     "name": "stdout",
     "output_type": "stream",
     "text": [
      "Epoch 132, Loss: 0.1137\n",
      "Epoch 132, Dice: 0.8642 WM Dice: 0.7159 GM Dice: 0.8912 CSF Dice: 0.8520\n"
     ]
    },
    {
     "name": "stderr",
     "output_type": "stream",
     "text": [
      "Epoch 133/300: 100%|██████████| 5/5 [00:12<00:00,  2.42s/it, Loss=0.0595, Avg Dice=0.84, WM Dice=0.633, GM Dice=0.875, CSF Dice=0.856] \n"
     ]
    },
    {
     "name": "stdout",
     "output_type": "stream",
     "text": [
      "Epoch 133, Loss: 0.1171\n",
      "Epoch 133, Dice: 0.8401 WM Dice: 0.6334 GM Dice: 0.8755 CSF Dice: 0.8557\n"
     ]
    },
    {
     "name": "stderr",
     "output_type": "stream",
     "text": [
      "Epoch 134/300: 100%|██████████| 5/5 [00:11<00:00,  2.39s/it, Loss=0.0547, Avg Dice=0.854, WM Dice=0.649, GM Dice=0.9, CSF Dice=0.87]   \n"
     ]
    },
    {
     "name": "stdout",
     "output_type": "stream",
     "text": [
      "Epoch 134, Loss: 0.1266\n",
      "Epoch 134, Dice: 0.8539 WM Dice: 0.6494 GM Dice: 0.8996 CSF Dice: 0.8698\n"
     ]
    },
    {
     "name": "stderr",
     "output_type": "stream",
     "text": [
      "Epoch 135/300: 100%|██████████| 5/5 [00:12<00:00,  2.44s/it, Loss=0.0557, Avg Dice=0.858, WM Dice=0.677, GM Dice=0.88, CSF Dice=0.877] \n"
     ]
    },
    {
     "name": "stdout",
     "output_type": "stream",
     "text": [
      "Epoch 135, Loss: 0.1525\n",
      "Epoch 135, Dice: 0.8577 WM Dice: 0.6774 GM Dice: 0.8804 CSF Dice: 0.8772\n"
     ]
    },
    {
     "name": "stderr",
     "output_type": "stream",
     "text": [
      "Epoch 136/300: 100%|██████████| 5/5 [00:12<00:00,  2.40s/it, Loss=0.0972, Avg Dice=0.771, WM Dice=0.668, GM Dice=0.737, CSF Dice=0.688]\n"
     ]
    },
    {
     "name": "stdout",
     "output_type": "stream",
     "text": [
      "Epoch 136, Loss: 0.1411\n",
      "Epoch 136, Dice: 0.7715 WM Dice: 0.6679 GM Dice: 0.7375 CSF Dice: 0.6875\n"
     ]
    },
    {
     "name": "stderr",
     "output_type": "stream",
     "text": [
      "Epoch 137/300: 100%|██████████| 5/5 [00:11<00:00,  2.34s/it, Loss=0.0516, Avg Dice=0.856, WM Dice=0.662, GM Dice=0.881, CSF Dice=0.884]\n"
     ]
    },
    {
     "name": "stdout",
     "output_type": "stream",
     "text": [
      "Epoch 137, Loss: 0.1199\n",
      "Epoch 137, Dice: 0.8560 WM Dice: 0.6620 GM Dice: 0.8806 CSF Dice: 0.8842\n"
     ]
    },
    {
     "name": "stderr",
     "output_type": "stream",
     "text": [
      "Epoch 138/300: 100%|██████████| 5/5 [00:11<00:00,  2.39s/it, Loss=0.0547, Avg Dice=0.854, WM Dice=0.675, GM Dice=0.881, CSF Dice=0.862]\n"
     ]
    },
    {
     "name": "stdout",
     "output_type": "stream",
     "text": [
      "Epoch 138, Loss: 0.1465\n",
      "Epoch 138, Dice: 0.8538 WM Dice: 0.6751 GM Dice: 0.8814 CSF Dice: 0.8622\n"
     ]
    },
    {
     "name": "stderr",
     "output_type": "stream",
     "text": [
      "Epoch 139/300: 100%|██████████| 5/5 [00:12<00:00,  2.44s/it, Loss=0.0604, Avg Dice=0.849, WM Dice=0.697, GM Dice=0.858, CSF Dice=0.847]\n"
     ]
    },
    {
     "name": "stdout",
     "output_type": "stream",
     "text": [
      "Epoch 139, Loss: 0.1208\n",
      "Epoch 139, Dice: 0.8490 WM Dice: 0.6971 GM Dice: 0.8576 CSF Dice: 0.8468\n"
     ]
    },
    {
     "name": "stderr",
     "output_type": "stream",
     "text": [
      "Epoch 140/300: 100%|██████████| 5/5 [00:12<00:00,  2.40s/it, Loss=0.0567, Avg Dice=0.856, WM Dice=0.676, GM Dice=0.888, CSF Dice=0.862]\n"
     ]
    },
    {
     "name": "stdout",
     "output_type": "stream",
     "text": [
      "Epoch 140, Loss: 0.1130\n",
      "Epoch 140, Dice: 0.8556 WM Dice: 0.6759 GM Dice: 0.8883 CSF Dice: 0.8619\n"
     ]
    },
    {
     "name": "stderr",
     "output_type": "stream",
     "text": [
      "Epoch 141/300: 100%|██████████| 5/5 [00:11<00:00,  2.37s/it, Loss=0.0545, Avg Dice=0.853, WM Dice=0.742, GM Dice=0.851, CSF Dice=0.822]\n"
     ]
    },
    {
     "name": "stdout",
     "output_type": "stream",
     "text": [
      "Epoch 141, Loss: 0.1177\n",
      "Epoch 141, Dice: 0.8532 WM Dice: 0.7423 GM Dice: 0.8513 CSF Dice: 0.8220\n"
     ]
    },
    {
     "name": "stderr",
     "output_type": "stream",
     "text": [
      "Epoch 142/300: 100%|██████████| 5/5 [00:10<00:00,  2.01s/it, Loss=0.0468, Avg Dice=0.885, WM Dice=0.8, GM Dice=0.87, CSF Dice=0.874]   \n"
     ]
    },
    {
     "name": "stdout",
     "output_type": "stream",
     "text": [
      "Epoch 142, Loss: 0.0961\n",
      "Epoch 142, Dice: 0.8852 WM Dice: 0.8002 GM Dice: 0.8700 CSF Dice: 0.8744\n"
     ]
    },
    {
     "name": "stderr",
     "output_type": "stream",
     "text": [
      "Epoch 143/300: 100%|██████████| 5/5 [00:12<00:00,  2.40s/it, Loss=0.051, Avg Dice=0.857, WM Dice=0.641, GM Dice=0.919, CSF Dice=0.87]  \n"
     ]
    },
    {
     "name": "stdout",
     "output_type": "stream",
     "text": [
      "Epoch 143, Loss: 0.1088\n",
      "Epoch 143, Dice: 0.8567 WM Dice: 0.6410 GM Dice: 0.9189 CSF Dice: 0.8698\n"
     ]
    },
    {
     "name": "stderr",
     "output_type": "stream",
     "text": [
      "Epoch 144/300: 100%|██████████| 5/5 [00:12<00:00,  2.41s/it, Loss=0.0459, Avg Dice=0.891, WM Dice=0.86, GM Dice=0.846, CSF Dice=0.863] \n"
     ]
    },
    {
     "name": "stdout",
     "output_type": "stream",
     "text": [
      "Epoch 144, Loss: 0.1031\n",
      "Epoch 144, Dice: 0.8912 WM Dice: 0.8604 GM Dice: 0.8455 CSF Dice: 0.8629\n"
     ]
    },
    {
     "name": "stderr",
     "output_type": "stream",
     "text": [
      "Epoch 145/300: 100%|██████████| 5/5 [00:11<00:00,  2.37s/it, Loss=0.0483, Avg Dice=0.873, WM Dice=0.763, GM Dice=0.891, CSF Dice=0.841]\n"
     ]
    },
    {
     "name": "stdout",
     "output_type": "stream",
     "text": [
      "Epoch 145, Loss: 0.1016\n",
      "Epoch 145, Dice: 0.8730 WM Dice: 0.7635 GM Dice: 0.8908 CSF Dice: 0.8406\n"
     ]
    },
    {
     "name": "stderr",
     "output_type": "stream",
     "text": [
      "Epoch 146/300: 100%|██████████| 5/5 [00:12<00:00,  2.43s/it, Loss=0.0431, Avg Dice=0.885, WM Dice=0.761, GM Dice=0.902, CSF Dice=0.882]\n"
     ]
    },
    {
     "name": "stdout",
     "output_type": "stream",
     "text": [
      "Epoch 146, Loss: 0.0960\n",
      "Epoch 146, Dice: 0.8855 WM Dice: 0.7609 GM Dice: 0.9019 CSF Dice: 0.8820\n"
     ]
    },
    {
     "name": "stderr",
     "output_type": "stream",
     "text": [
      "Epoch 147/300: 100%|██████████| 5/5 [00:12<00:00,  2.40s/it, Loss=0.0479, Avg Dice=0.891, WM Dice=0.829, GM Dice=0.903, CSF Dice=0.836]\n"
     ]
    },
    {
     "name": "stdout",
     "output_type": "stream",
     "text": [
      "Epoch 147, Loss: 0.0952\n",
      "Epoch 147, Dice: 0.8910 WM Dice: 0.8292 GM Dice: 0.9027 CSF Dice: 0.8360\n"
     ]
    },
    {
     "name": "stderr",
     "output_type": "stream",
     "text": [
      "Epoch 148/300: 100%|██████████| 5/5 [00:11<00:00,  2.38s/it, Loss=0.0466, Avg Dice=0.885, WM Dice=0.83, GM Dice=0.866, CSF Dice=0.849] \n"
     ]
    },
    {
     "name": "stdout",
     "output_type": "stream",
     "text": [
      "Epoch 148, Loss: 0.0942\n",
      "Epoch 148, Dice: 0.8852 WM Dice: 0.8299 GM Dice: 0.8656 CSF Dice: 0.8493\n"
     ]
    },
    {
     "name": "stderr",
     "output_type": "stream",
     "text": [
      "Epoch 149/300: 100%|██████████| 5/5 [00:12<00:00,  2.44s/it, Loss=0.0634, Avg Dice=0.853, WM Dice=0.787, GM Dice=0.851, CSF Dice=0.779]\n"
     ]
    },
    {
     "name": "stdout",
     "output_type": "stream",
     "text": [
      "Epoch 149, Loss: 0.0962\n",
      "Epoch 149, Dice: 0.8531 WM Dice: 0.7871 GM Dice: 0.8506 CSF Dice: 0.7791\n"
     ]
    },
    {
     "name": "stderr",
     "output_type": "stream",
     "text": [
      "Epoch 150/300: 100%|██████████| 5/5 [00:12<00:00,  2.41s/it, Loss=0.0531, Avg Dice=0.862, WM Dice=0.755, GM Dice=0.854, CSF Dice=0.842]\n"
     ]
    },
    {
     "name": "stdout",
     "output_type": "stream",
     "text": [
      "Epoch 150, Loss: 0.1006\n",
      "Epoch 150, Dice: 0.8622 WM Dice: 0.7553 GM Dice: 0.8543 CSF Dice: 0.8425\n"
     ]
    },
    {
     "name": "stderr",
     "output_type": "stream",
     "text": [
      "Epoch 151/300: 100%|██████████| 5/5 [00:12<00:00,  2.41s/it, Loss=0.0599, Avg Dice=0.861, WM Dice=0.78, GM Dice=0.885, CSF Dice=0.783] \n"
     ]
    },
    {
     "name": "stdout",
     "output_type": "stream",
     "text": [
      "Epoch 151, Loss: 0.0996\n",
      "Epoch 151, Dice: 0.8611 WM Dice: 0.7804 GM Dice: 0.8850 CSF Dice: 0.7831\n"
     ]
    },
    {
     "name": "stderr",
     "output_type": "stream",
     "text": [
      "Epoch 152/300: 100%|██████████| 5/5 [00:11<00:00,  2.38s/it, Loss=0.0649, Avg Dice=0.856, WM Dice=0.829, GM Dice=0.818, CSF Dice=0.783]\n"
     ]
    },
    {
     "name": "stdout",
     "output_type": "stream",
     "text": [
      "Epoch 152, Loss: 0.0947\n",
      "Epoch 152, Dice: 0.8561 WM Dice: 0.8287 GM Dice: 0.8177 CSF Dice: 0.7828\n"
     ]
    },
    {
     "name": "stderr",
     "output_type": "stream",
     "text": [
      "Epoch 153/300: 100%|██████████| 5/5 [00:12<00:00,  2.43s/it, Loss=0.0626, Avg Dice=0.834, WM Dice=0.718, GM Dice=0.821, CSF Dice=0.799]\n"
     ]
    },
    {
     "name": "stdout",
     "output_type": "stream",
     "text": [
      "Epoch 153, Loss: 0.0959\n",
      "Epoch 153, Dice: 0.8338 WM Dice: 0.7183 GM Dice: 0.8213 CSF Dice: 0.7992\n"
     ]
    },
    {
     "name": "stderr",
     "output_type": "stream",
     "text": [
      "Epoch 154/300: 100%|██████████| 5/5 [00:12<00:00,  2.41s/it, Loss=0.0509, Avg Dice=0.87, WM Dice=0.806, GM Dice=0.853, CSF Dice=0.823] \n"
     ]
    },
    {
     "name": "stdout",
     "output_type": "stream",
     "text": [
      "Epoch 154, Loss: 0.0956\n",
      "Epoch 154, Dice: 0.8696 WM Dice: 0.8058 GM Dice: 0.8526 CSF Dice: 0.8234\n"
     ]
    },
    {
     "name": "stderr",
     "output_type": "stream",
     "text": [
      "Epoch 155/300: 100%|██████████| 5/5 [00:11<00:00,  2.36s/it, Loss=0.0476, Avg Dice=0.869, WM Dice=0.767, GM Dice=0.859, CSF Dice=0.853]\n"
     ]
    },
    {
     "name": "stdout",
     "output_type": "stream",
     "text": [
      "Epoch 155, Loss: 0.0944\n",
      "Epoch 155, Dice: 0.8689 WM Dice: 0.7669 GM Dice: 0.8591 CSF Dice: 0.8533\n"
     ]
    },
    {
     "name": "stderr",
     "output_type": "stream",
     "text": [
      "Epoch 156/300: 100%|██████████| 5/5 [00:12<00:00,  2.42s/it, Loss=0.0435, Avg Dice=0.887, WM Dice=0.797, GM Dice=0.893, CSF Dice=0.86] \n"
     ]
    },
    {
     "name": "stdout",
     "output_type": "stream",
     "text": [
      "Epoch 156, Loss: 0.0920\n",
      "Epoch 156, Dice: 0.8868 WM Dice: 0.7971 GM Dice: 0.8931 CSF Dice: 0.8596\n"
     ]
    },
    {
     "name": "stderr",
     "output_type": "stream",
     "text": [
      "Epoch 157/300: 100%|██████████| 5/5 [00:12<00:00,  2.43s/it, Loss=0.039, Avg Dice=0.894, WM Dice=0.791, GM Dice=0.903, CSF Dice=0.884] \n"
     ]
    },
    {
     "name": "stdout",
     "output_type": "stream",
     "text": [
      "Epoch 157, Loss: 0.0983\n",
      "Epoch 157, Dice: 0.8942 WM Dice: 0.7913 GM Dice: 0.9035 CSF Dice: 0.8845\n"
     ]
    },
    {
     "name": "stderr",
     "output_type": "stream",
     "text": [
      "Epoch 158/300: 100%|██████████| 5/5 [00:12<00:00,  2.41s/it, Loss=0.0557, Avg Dice=0.86, WM Dice=0.788, GM Dice=0.829, CSF Dice=0.829] \n"
     ]
    },
    {
     "name": "stdout",
     "output_type": "stream",
     "text": [
      "Epoch 158, Loss: 0.0890\n",
      "Epoch 158, Dice: 0.8604 WM Dice: 0.7878 GM Dice: 0.8288 CSF Dice: 0.8287\n"
     ]
    },
    {
     "name": "stderr",
     "output_type": "stream",
     "text": [
      "Epoch 159/300: 100%|██████████| 5/5 [00:12<00:00,  2.44s/it, Loss=0.0469, Avg Dice=0.884, WM Dice=0.812, GM Dice=0.864, CSF Dice=0.862]\n"
     ]
    },
    {
     "name": "stdout",
     "output_type": "stream",
     "text": [
      "Epoch 159, Loss: 0.0839\n",
      "Epoch 159, Dice: 0.8837 WM Dice: 0.8124 GM Dice: 0.8636 CSF Dice: 0.8625\n"
     ]
    },
    {
     "name": "stderr",
     "output_type": "stream",
     "text": [
      "Epoch 160/300: 100%|██████████| 5/5 [00:12<00:00,  2.41s/it, Loss=0.0434, Avg Dice=0.896, WM Dice=0.857, GM Dice=0.866, CSF Dice=0.866]\n"
     ]
    },
    {
     "name": "stdout",
     "output_type": "stream",
     "text": [
      "Epoch 160, Loss: 0.0851\n",
      "Epoch 160, Dice: 0.8964 WM Dice: 0.8571 GM Dice: 0.8665 CSF Dice: 0.8663\n"
     ]
    },
    {
     "name": "stderr",
     "output_type": "stream",
     "text": [
      "Epoch 161/300: 100%|██████████| 5/5 [00:11<00:00,  2.38s/it, Loss=0.0394, Avg Dice=0.903, WM Dice=0.849, GM Dice=0.875, CSF Dice=0.891]\n"
     ]
    },
    {
     "name": "stdout",
     "output_type": "stream",
     "text": [
      "Epoch 161, Loss: 0.0798\n",
      "Epoch 161, Dice: 0.9029 WM Dice: 0.8485 GM Dice: 0.8753 CSF Dice: 0.8912\n"
     ]
    },
    {
     "name": "stderr",
     "output_type": "stream",
     "text": [
      "Epoch 162/300: 100%|██████████| 5/5 [00:11<00:00,  2.39s/it, Loss=0.0621, Avg Dice=0.864, WM Dice=0.773, GM Dice=0.883, CSF Dice=0.806]\n"
     ]
    },
    {
     "name": "stdout",
     "output_type": "stream",
     "text": [
      "Epoch 162, Loss: 0.0899\n",
      "Epoch 162, Dice: 0.8639 WM Dice: 0.7728 GM Dice: 0.8829 CSF Dice: 0.8065\n"
     ]
    },
    {
     "name": "stderr",
     "output_type": "stream",
     "text": [
      "Epoch 163/300: 100%|██████████| 5/5 [00:12<00:00,  2.44s/it, Loss=0.0472, Avg Dice=0.885, WM Dice=0.817, GM Dice=0.857, CSF Dice=0.871]\n"
     ]
    },
    {
     "name": "stdout",
     "output_type": "stream",
     "text": [
      "Epoch 163, Loss: 0.0979\n",
      "Epoch 163, Dice: 0.8850 WM Dice: 0.8169 GM Dice: 0.8566 CSF Dice: 0.8710\n"
     ]
    },
    {
     "name": "stderr",
     "output_type": "stream",
     "text": [
      "Epoch 164/300: 100%|██████████| 5/5 [00:12<00:00,  2.42s/it, Loss=0.0459, Avg Dice=0.881, WM Dice=0.784, GM Dice=0.88, CSF Dice=0.864] \n"
     ]
    },
    {
     "name": "stdout",
     "output_type": "stream",
     "text": [
      "Epoch 164, Loss: 0.0885\n",
      "Epoch 164, Dice: 0.8813 WM Dice: 0.7841 GM Dice: 0.8800 CSF Dice: 0.8644\n"
     ]
    },
    {
     "name": "stderr",
     "output_type": "stream",
     "text": [
      "Epoch 165/300: 100%|██████████| 5/5 [00:12<00:00,  2.43s/it, Loss=0.0444, Avg Dice=0.878, WM Dice=0.706, GM Dice=0.924, CSF Dice=0.886]\n"
     ]
    },
    {
     "name": "stdout",
     "output_type": "stream",
     "text": [
      "Epoch 165, Loss: 0.0874\n",
      "Epoch 165, Dice: 0.8784 WM Dice: 0.7057 GM Dice: 0.9240 CSF Dice: 0.8865\n"
     ]
    },
    {
     "name": "stderr",
     "output_type": "stream",
     "text": [
      "Epoch 166/300: 100%|██████████| 5/5 [00:12<00:00,  2.47s/it, Loss=0.0383, Avg Dice=0.896, WM Dice=0.786, GM Dice=0.9, CSF Dice=0.901]  \n"
     ]
    },
    {
     "name": "stdout",
     "output_type": "stream",
     "text": [
      "Epoch 166, Loss: 0.0802\n",
      "Epoch 166, Dice: 0.8962 WM Dice: 0.7858 GM Dice: 0.9001 CSF Dice: 0.9014\n"
     ]
    },
    {
     "name": "stderr",
     "output_type": "stream",
     "text": [
      "Epoch 167/300: 100%|██████████| 5/5 [00:12<00:00,  2.43s/it, Loss=0.047, Avg Dice=0.873, WM Dice=0.784, GM Dice=0.88, CSF Dice=0.831] \n"
     ]
    },
    {
     "name": "stdout",
     "output_type": "stream",
     "text": [
      "Epoch 167, Loss: 0.0828\n",
      "Epoch 167, Dice: 0.8731 WM Dice: 0.7842 GM Dice: 0.8797 CSF Dice: 0.8308\n"
     ]
    },
    {
     "name": "stderr",
     "output_type": "stream",
     "text": [
      "Epoch 168/300: 100%|██████████| 5/5 [00:12<00:00,  2.43s/it, Loss=0.0392, Avg Dice=0.898, WM Dice=0.79, GM Dice=0.908, CSF Dice=0.896] \n"
     ]
    },
    {
     "name": "stdout",
     "output_type": "stream",
     "text": [
      "Epoch 168, Loss: 0.0776\n",
      "Epoch 168, Dice: 0.8977 WM Dice: 0.7904 GM Dice: 0.9076 CSF Dice: 0.8960\n"
     ]
    },
    {
     "name": "stderr",
     "output_type": "stream",
     "text": [
      "Epoch 169/300: 100%|██████████| 5/5 [00:12<00:00,  2.41s/it, Loss=0.0369, Avg Dice=0.901, WM Dice=0.812, GM Dice=0.907, CSF Dice=0.886]\n"
     ]
    },
    {
     "name": "stdout",
     "output_type": "stream",
     "text": [
      "Epoch 169, Loss: 0.0805\n",
      "Epoch 169, Dice: 0.9008 WM Dice: 0.8119 GM Dice: 0.9070 CSF Dice: 0.8864\n"
     ]
    },
    {
     "name": "stderr",
     "output_type": "stream",
     "text": [
      "Epoch 170/300: 100%|██████████| 5/5 [00:12<00:00,  2.41s/it, Loss=0.0524, Avg Dice=0.877, WM Dice=0.807, GM Dice=0.869, CSF Dice=0.837]\n"
     ]
    },
    {
     "name": "stdout",
     "output_type": "stream",
     "text": [
      "Epoch 170, Loss: 0.0800\n",
      "Epoch 170, Dice: 0.8771 WM Dice: 0.8074 GM Dice: 0.8692 CSF Dice: 0.8369\n"
     ]
    },
    {
     "name": "stderr",
     "output_type": "stream",
     "text": [
      "Epoch 171/300: 100%|██████████| 5/5 [00:11<00:00,  2.36s/it, Loss=0.0383, Avg Dice=0.907, WM Dice=0.871, GM Dice=0.875, CSF Dice=0.886]\n"
     ]
    },
    {
     "name": "stdout",
     "output_type": "stream",
     "text": [
      "Epoch 171, Loss: 0.0845\n",
      "Epoch 171, Dice: 0.9072 WM Dice: 0.8709 GM Dice: 0.8755 CSF Dice: 0.8863\n"
     ]
    },
    {
     "name": "stderr",
     "output_type": "stream",
     "text": [
      "Epoch 172/300: 100%|██████████| 5/5 [00:11<00:00,  2.39s/it, Loss=0.054, Avg Dice=0.872, WM Dice=0.827, GM Dice=0.835, CSF Dice=0.832] \n"
     ]
    },
    {
     "name": "stdout",
     "output_type": "stream",
     "text": [
      "Epoch 172, Loss: 0.0910\n",
      "Epoch 172, Dice: 0.8724 WM Dice: 0.8265 GM Dice: 0.8353 CSF Dice: 0.8323\n"
     ]
    },
    {
     "name": "stderr",
     "output_type": "stream",
     "text": [
      "Epoch 173/300: 100%|██████████| 5/5 [00:11<00:00,  2.38s/it, Loss=0.0416, Avg Dice=0.902, WM Dice=0.833, GM Dice=0.901, CSF Dice=0.879]\n"
     ]
    },
    {
     "name": "stdout",
     "output_type": "stream",
     "text": [
      "Epoch 173, Loss: 0.0794\n",
      "Epoch 173, Dice: 0.9023 WM Dice: 0.8327 GM Dice: 0.9012 CSF Dice: 0.8787\n"
     ]
    },
    {
     "name": "stderr",
     "output_type": "stream",
     "text": [
      "Epoch 174/300: 100%|██████████| 5/5 [00:11<00:00,  2.40s/it, Loss=0.0452, Avg Dice=0.879, WM Dice=0.763, GM Dice=0.891, CSF Dice=0.866]\n"
     ]
    },
    {
     "name": "stdout",
     "output_type": "stream",
     "text": [
      "Epoch 174, Loss: 0.0827\n",
      "Epoch 174, Dice: 0.8793 WM Dice: 0.7631 GM Dice: 0.8911 CSF Dice: 0.8663\n"
     ]
    },
    {
     "name": "stderr",
     "output_type": "stream",
     "text": [
      "Epoch 175/300: 100%|██████████| 5/5 [00:12<00:00,  2.42s/it, Loss=0.059, Avg Dice=0.865, WM Dice=0.757, GM Dice=0.885, CSF Dice=0.826] \n"
     ]
    },
    {
     "name": "stdout",
     "output_type": "stream",
     "text": [
      "Epoch 175, Loss: 0.0893\n",
      "Epoch 175, Dice: 0.8654 WM Dice: 0.7568 GM Dice: 0.8854 CSF Dice: 0.8263\n"
     ]
    },
    {
     "name": "stderr",
     "output_type": "stream",
     "text": [
      "Epoch 176/300: 100%|██████████| 5/5 [00:12<00:00,  2.42s/it, Loss=0.0477, Avg Dice=0.874, WM Dice=0.748, GM Dice=0.893, CSF Dice=0.859]\n"
     ]
    },
    {
     "name": "stdout",
     "output_type": "stream",
     "text": [
      "Epoch 176, Loss: 0.0948\n",
      "Epoch 176, Dice: 0.8744 WM Dice: 0.7480 GM Dice: 0.8930 CSF Dice: 0.8592\n"
     ]
    },
    {
     "name": "stderr",
     "output_type": "stream",
     "text": [
      "Epoch 177/300: 100%|██████████| 5/5 [00:12<00:00,  2.46s/it, Loss=0.0403, Avg Dice=0.899, WM Dice=0.812, GM Dice=0.91, CSF Dice=0.875] \n"
     ]
    },
    {
     "name": "stdout",
     "output_type": "stream",
     "text": [
      "Epoch 177, Loss: 0.0915\n",
      "Epoch 177, Dice: 0.8987 WM Dice: 0.8123 GM Dice: 0.9104 CSF Dice: 0.8754\n"
     ]
    },
    {
     "name": "stderr",
     "output_type": "stream",
     "text": [
      "Epoch 178/300: 100%|██████████| 5/5 [00:12<00:00,  2.41s/it, Loss=0.0583, Avg Dice=0.853, WM Dice=0.736, GM Dice=0.838, CSF Dice=0.841]\n"
     ]
    },
    {
     "name": "stdout",
     "output_type": "stream",
     "text": [
      "Epoch 178, Loss: 0.0936\n",
      "Epoch 178, Dice: 0.8526 WM Dice: 0.7358 GM Dice: 0.8384 CSF Dice: 0.8410\n"
     ]
    },
    {
     "name": "stderr",
     "output_type": "stream",
     "text": [
      "Epoch 179/300: 100%|██████████| 5/5 [00:12<00:00,  2.41s/it, Loss=0.0443, Avg Dice=0.888, WM Dice=0.795, GM Dice=0.911, CSF Dice=0.849]\n"
     ]
    },
    {
     "name": "stdout",
     "output_type": "stream",
     "text": [
      "Epoch 179, Loss: 0.0945\n",
      "Epoch 179, Dice: 0.8879 WM Dice: 0.7951 GM Dice: 0.9109 CSF Dice: 0.8489\n"
     ]
    },
    {
     "name": "stderr",
     "output_type": "stream",
     "text": [
      "Epoch 180/300: 100%|██████████| 5/5 [00:12<00:00,  2.43s/it, Loss=0.0429, Avg Dice=0.892, WM Dice=0.808, GM Dice=0.886, CSF Dice=0.878]\n"
     ]
    },
    {
     "name": "stdout",
     "output_type": "stream",
     "text": [
      "Epoch 180, Loss: 0.0805\n",
      "Epoch 180, Dice: 0.8922 WM Dice: 0.8078 GM Dice: 0.8864 CSF Dice: 0.8780\n"
     ]
    },
    {
     "name": "stderr",
     "output_type": "stream",
     "text": [
      "Epoch 181/300: 100%|██████████| 5/5 [00:12<00:00,  2.43s/it, Loss=0.0702, Avg Dice=0.841, WM Dice=0.709, GM Dice=0.868, CSF Dice=0.795]\n"
     ]
    },
    {
     "name": "stdout",
     "output_type": "stream",
     "text": [
      "Epoch 181, Loss: 0.0904\n",
      "Epoch 181, Dice: 0.8412 WM Dice: 0.7090 GM Dice: 0.8683 CSF Dice: 0.7953\n"
     ]
    },
    {
     "name": "stderr",
     "output_type": "stream",
     "text": [
      "Epoch 182/300: 100%|██████████| 5/5 [00:12<00:00,  2.40s/it, Loss=0.0342, Avg Dice=0.909, WM Dice=0.832, GM Dice=0.902, CSF Dice=0.903]\n"
     ]
    },
    {
     "name": "stdout",
     "output_type": "stream",
     "text": [
      "Epoch 182, Loss: 0.0880\n",
      "Epoch 182, Dice: 0.9088 WM Dice: 0.8320 GM Dice: 0.9021 CSF Dice: 0.9035\n"
     ]
    },
    {
     "name": "stderr",
     "output_type": "stream",
     "text": [
      "Epoch 183/300: 100%|██████████| 5/5 [00:11<00:00,  2.37s/it, Loss=0.0417, Avg Dice=0.893, WM Dice=0.761, GM Dice=0.916, CSF Dice=0.897]\n"
     ]
    },
    {
     "name": "stdout",
     "output_type": "stream",
     "text": [
      "Epoch 183, Loss: 0.0937\n",
      "Epoch 183, Dice: 0.8926 WM Dice: 0.7610 GM Dice: 0.9158 CSF Dice: 0.8970\n"
     ]
    },
    {
     "name": "stderr",
     "output_type": "stream",
     "text": [
      "Epoch 184/300: 100%|██████████| 5/5 [00:12<00:00,  2.44s/it, Loss=0.0441, Avg Dice=0.898, WM Dice=0.83, GM Dice=0.909, CSF Dice=0.857] \n"
     ]
    },
    {
     "name": "stdout",
     "output_type": "stream",
     "text": [
      "Epoch 184, Loss: 0.0845\n",
      "Epoch 184, Dice: 0.8980 WM Dice: 0.8300 GM Dice: 0.9089 CSF Dice: 0.8571\n"
     ]
    },
    {
     "name": "stderr",
     "output_type": "stream",
     "text": [
      "Epoch 185/300: 100%|██████████| 5/5 [00:12<00:00,  2.44s/it, Loss=0.0466, Avg Dice=0.876, WM Dice=0.737, GM Dice=0.887, CSF Dice=0.886]\n"
     ]
    },
    {
     "name": "stdout",
     "output_type": "stream",
     "text": [
      "Epoch 185, Loss: 0.0799\n",
      "Epoch 185, Dice: 0.8764 WM Dice: 0.7369 GM Dice: 0.8866 CSF Dice: 0.8858\n"
     ]
    },
    {
     "name": "stderr",
     "output_type": "stream",
     "text": [
      "Epoch 186/300: 100%|██████████| 5/5 [00:11<00:00,  2.38s/it, Loss=0.0404, Avg Dice=0.892, WM Dice=0.769, GM Dice=0.905, CSF Dice=0.896]\n"
     ]
    },
    {
     "name": "stdout",
     "output_type": "stream",
     "text": [
      "Epoch 186, Loss: 0.0824\n",
      "Epoch 186, Dice: 0.8918 WM Dice: 0.7694 GM Dice: 0.9049 CSF Dice: 0.8958\n"
     ]
    },
    {
     "name": "stderr",
     "output_type": "stream",
     "text": [
      "Epoch 187/300: 100%|██████████| 5/5 [00:11<00:00,  2.37s/it, Loss=0.0438, Avg Dice=0.892, WM Dice=0.815, GM Dice=0.874, CSF Dice=0.882]\n"
     ]
    },
    {
     "name": "stdout",
     "output_type": "stream",
     "text": [
      "Epoch 187, Loss: 0.0824\n",
      "Epoch 187, Dice: 0.8917 WM Dice: 0.8152 GM Dice: 0.8738 CSF Dice: 0.8818\n"
     ]
    },
    {
     "name": "stderr",
     "output_type": "stream",
     "text": [
      "Epoch 188/300: 100%|██████████| 5/5 [00:12<00:00,  2.41s/it, Loss=0.0432, Avg Dice=0.892, WM Dice=0.795, GM Dice=0.902, CSF Dice=0.874]\n"
     ]
    },
    {
     "name": "stdout",
     "output_type": "stream",
     "text": [
      "Epoch 188, Loss: 0.0803\n",
      "Epoch 188, Dice: 0.8919 WM Dice: 0.7948 GM Dice: 0.9020 CSF Dice: 0.8740\n"
     ]
    },
    {
     "name": "stderr",
     "output_type": "stream",
     "text": [
      "Epoch 189/300: 100%|██████████| 5/5 [00:12<00:00,  2.43s/it, Loss=0.0406, Avg Dice=0.897, WM Dice=0.822, GM Dice=0.899, CSF Dice=0.87] \n"
     ]
    },
    {
     "name": "stdout",
     "output_type": "stream",
     "text": [
      "Epoch 189, Loss: 0.0813\n",
      "Epoch 189, Dice: 0.8971 WM Dice: 0.8222 GM Dice: 0.8992 CSF Dice: 0.8696\n"
     ]
    },
    {
     "name": "stderr",
     "output_type": "stream",
     "text": [
      "Epoch 190/300: 100%|██████████| 5/5 [00:12<00:00,  2.44s/it, Loss=0.0364, Avg Dice=0.908, WM Dice=0.878, GM Dice=0.886, CSF Dice=0.869]\n"
     ]
    },
    {
     "name": "stdout",
     "output_type": "stream",
     "text": [
      "Epoch 190, Loss: 0.0897\n",
      "Epoch 190, Dice: 0.9077 WM Dice: 0.8784 GM Dice: 0.8857 CSF Dice: 0.8695\n"
     ]
    },
    {
     "name": "stderr",
     "output_type": "stream",
     "text": [
      "Epoch 191/300: 100%|██████████| 5/5 [00:12<00:00,  2.40s/it, Loss=0.0417, Avg Dice=0.9, WM Dice=0.86, GM Dice=0.873, CSF Dice=0.87]    \n"
     ]
    },
    {
     "name": "stdout",
     "output_type": "stream",
     "text": [
      "Epoch 191, Loss: 0.0882\n",
      "Epoch 191, Dice: 0.8996 WM Dice: 0.8596 GM Dice: 0.8732 CSF Dice: 0.8695\n"
     ]
    },
    {
     "name": "stderr",
     "output_type": "stream",
     "text": [
      "Epoch 192/300: 100%|██████████| 5/5 [00:12<00:00,  2.41s/it, Loss=0.0422, Avg Dice=0.894, WM Dice=0.872, GM Dice=0.846, CSF Dice=0.861]\n"
     ]
    },
    {
     "name": "stdout",
     "output_type": "stream",
     "text": [
      "Epoch 192, Loss: 0.0789\n",
      "Epoch 192, Dice: 0.8936 WM Dice: 0.8723 GM Dice: 0.8457 CSF Dice: 0.8606\n"
     ]
    },
    {
     "name": "stderr",
     "output_type": "stream",
     "text": [
      "Epoch 193/300: 100%|██████████| 5/5 [00:12<00:00,  2.46s/it, Loss=0.0442, Avg Dice=0.892, WM Dice=0.839, GM Dice=0.865, CSF Dice=0.868]\n"
     ]
    },
    {
     "name": "stdout",
     "output_type": "stream",
     "text": [
      "Epoch 193, Loss: 0.0785\n",
      "Epoch 193, Dice: 0.8920 WM Dice: 0.8391 GM Dice: 0.8651 CSF Dice: 0.8678\n"
     ]
    },
    {
     "name": "stderr",
     "output_type": "stream",
     "text": [
      "Epoch 194/300: 100%|██████████| 5/5 [00:12<00:00,  2.47s/it, Loss=0.04, Avg Dice=0.908, WM Dice=0.852, GM Dice=0.908, CSF Dice=0.874]  \n"
     ]
    },
    {
     "name": "stdout",
     "output_type": "stream",
     "text": [
      "Epoch 194, Loss: 0.0770\n",
      "Epoch 194, Dice: 0.9076 WM Dice: 0.8516 GM Dice: 0.9083 CSF Dice: 0.8742\n"
     ]
    },
    {
     "name": "stderr",
     "output_type": "stream",
     "text": [
      "Epoch 195/300: 100%|██████████| 5/5 [00:12<00:00,  2.44s/it, Loss=0.0402, Avg Dice=0.903, WM Dice=0.818, GM Dice=0.92, CSF Dice=0.879] \n"
     ]
    },
    {
     "name": "stdout",
     "output_type": "stream",
     "text": [
      "Epoch 195, Loss: 0.0824\n",
      "Epoch 195, Dice: 0.9034 WM Dice: 0.8183 GM Dice: 0.9200 CSF Dice: 0.8788\n"
     ]
    },
    {
     "name": "stderr",
     "output_type": "stream",
     "text": [
      "Epoch 196/300: 100%|██████████| 5/5 [00:11<00:00,  2.39s/it, Loss=0.0385, Avg Dice=0.903, WM Dice=0.832, GM Dice=0.895, CSF Dice=0.888]\n"
     ]
    },
    {
     "name": "stdout",
     "output_type": "stream",
     "text": [
      "Epoch 196, Loss: 0.0800\n",
      "Epoch 196, Dice: 0.9029 WM Dice: 0.8319 GM Dice: 0.8953 CSF Dice: 0.8881\n"
     ]
    },
    {
     "name": "stderr",
     "output_type": "stream",
     "text": [
      "Epoch 197/300: 100%|██████████| 5/5 [00:12<00:00,  2.41s/it, Loss=0.0402, Avg Dice=0.903, WM Dice=0.841, GM Dice=0.887, CSF Dice=0.886]\n"
     ]
    },
    {
     "name": "stdout",
     "output_type": "stream",
     "text": [
      "Epoch 197, Loss: 0.0773\n",
      "Epoch 197, Dice: 0.9026 WM Dice: 0.8414 GM Dice: 0.8867 CSF Dice: 0.8864\n"
     ]
    },
    {
     "name": "stderr",
     "output_type": "stream",
     "text": [
      "Epoch 198/300: 100%|██████████| 5/5 [00:12<00:00,  2.43s/it, Loss=0.036, Avg Dice=0.91, WM Dice=0.805, GM Dice=0.932, CSF Dice=0.905]  \n"
     ]
    },
    {
     "name": "stdout",
     "output_type": "stream",
     "text": [
      "Epoch 198, Loss: 0.0730\n",
      "Epoch 198, Dice: 0.9099 WM Dice: 0.8048 GM Dice: 0.9322 CSF Dice: 0.9054\n"
     ]
    },
    {
     "name": "stderr",
     "output_type": "stream",
     "text": [
      "Epoch 199/300: 100%|██████████| 5/5 [00:12<00:00,  2.43s/it, Loss=0.0411, Avg Dice=0.9, WM Dice=0.864, GM Dice=0.862, CSF Dice=0.876]  \n"
     ]
    },
    {
     "name": "stdout",
     "output_type": "stream",
     "text": [
      "Epoch 199, Loss: 0.0754\n",
      "Epoch 199, Dice: 0.8998 WM Dice: 0.8642 GM Dice: 0.8624 CSF Dice: 0.8764\n"
     ]
    },
    {
     "name": "stderr",
     "output_type": "stream",
     "text": [
      "Epoch 200/300: 100%|██████████| 5/5 [00:12<00:00,  2.42s/it, Loss=0.0355, Avg Dice=0.915, WM Dice=0.886, GM Dice=0.885, CSF Dice=0.894]\n"
     ]
    },
    {
     "name": "stdout",
     "output_type": "stream",
     "text": [
      "Epoch 200, Loss: 0.0764\n",
      "Epoch 200, Dice: 0.9151 WM Dice: 0.8858 GM Dice: 0.8845 CSF Dice: 0.8936\n"
     ]
    },
    {
     "name": "stderr",
     "output_type": "stream",
     "text": [
      "Epoch 201/300: 100%|██████████| 5/5 [00:12<00:00,  2.43s/it, Loss=0.0478, Avg Dice=0.881, WM Dice=0.852, GM Dice=0.857, CSF Dice=0.815]\n"
     ]
    },
    {
     "name": "stdout",
     "output_type": "stream",
     "text": [
      "Epoch 201, Loss: 0.0782\n",
      "Epoch 201, Dice: 0.8806 WM Dice: 0.8520 GM Dice: 0.8574 CSF Dice: 0.8154\n"
     ]
    },
    {
     "name": "stderr",
     "output_type": "stream",
     "text": [
      "Epoch 202/300: 100%|██████████| 5/5 [00:12<00:00,  2.41s/it, Loss=0.0566, Avg Dice=0.872, WM Dice=0.789, GM Dice=0.892, CSF Dice=0.814]\n"
     ]
    },
    {
     "name": "stdout",
     "output_type": "stream",
     "text": [
      "Epoch 202, Loss: 0.0849\n",
      "Epoch 202, Dice: 0.8723 WM Dice: 0.7887 GM Dice: 0.8924 CSF Dice: 0.8140\n"
     ]
    },
    {
     "name": "stderr",
     "output_type": "stream",
     "text": [
      "Epoch 203/300: 100%|██████████| 5/5 [00:12<00:00,  2.43s/it, Loss=0.0472, Avg Dice=0.892, WM Dice=0.886, GM Dice=0.829, CSF Dice=0.855]\n"
     ]
    },
    {
     "name": "stdout",
     "output_type": "stream",
     "text": [
      "Epoch 203, Loss: 0.0868\n",
      "Epoch 203, Dice: 0.8916 WM Dice: 0.8857 GM Dice: 0.8291 CSF Dice: 0.8554\n"
     ]
    },
    {
     "name": "stderr",
     "output_type": "stream",
     "text": [
      "Epoch 204/300: 100%|██████████| 5/5 [00:12<00:00,  2.42s/it, Loss=0.0392, Avg Dice=0.897, WM Dice=0.806, GM Dice=0.903, CSF Dice=0.882]\n"
     ]
    },
    {
     "name": "stdout",
     "output_type": "stream",
     "text": [
      "Epoch 204, Loss: 0.0787\n",
      "Epoch 204, Dice: 0.8969 WM Dice: 0.8057 GM Dice: 0.9030 CSF Dice: 0.8822\n"
     ]
    },
    {
     "name": "stderr",
     "output_type": "stream",
     "text": [
      "Epoch 205/300: 100%|██████████| 5/5 [00:12<00:00,  2.42s/it, Loss=0.042, Avg Dice=0.895, WM Dice=0.768, GM Dice=0.917, CSF Dice=0.898] \n"
     ]
    },
    {
     "name": "stdout",
     "output_type": "stream",
     "text": [
      "Epoch 205, Loss: 0.0776\n",
      "Epoch 205, Dice: 0.8951 WM Dice: 0.7683 GM Dice: 0.9167 CSF Dice: 0.8981\n"
     ]
    },
    {
     "name": "stderr",
     "output_type": "stream",
     "text": [
      "Epoch 206/300: 100%|██████████| 5/5 [00:12<00:00,  2.43s/it, Loss=0.0469, Avg Dice=0.894, WM Dice=0.859, GM Dice=0.874, CSF Dice=0.847]\n"
     ]
    },
    {
     "name": "stdout",
     "output_type": "stream",
     "text": [
      "Epoch 206, Loss: 0.0756\n",
      "Epoch 206, Dice: 0.8939 WM Dice: 0.8591 GM Dice: 0.8740 CSF Dice: 0.8473\n"
     ]
    },
    {
     "name": "stderr",
     "output_type": "stream",
     "text": [
      "Epoch 207/300: 100%|██████████| 5/5 [00:12<00:00,  2.43s/it, Loss=0.0355, Avg Dice=0.91, WM Dice=0.84, GM Dice=0.914, CSF Dice=0.889]  \n"
     ]
    },
    {
     "name": "stdout",
     "output_type": "stream",
     "text": [
      "Epoch 207, Loss: 0.0708\n",
      "Epoch 207, Dice: 0.9098 WM Dice: 0.8397 GM Dice: 0.9138 CSF Dice: 0.8885\n"
     ]
    },
    {
     "name": "stderr",
     "output_type": "stream",
     "text": [
      "Epoch 208/300: 100%|██████████| 5/5 [00:11<00:00,  2.38s/it, Loss=0.0382, Avg Dice=0.904, WM Dice=0.842, GM Dice=0.899, CSF Dice=0.879]\n"
     ]
    },
    {
     "name": "stdout",
     "output_type": "stream",
     "text": [
      "Epoch 208, Loss: 0.0728\n",
      "Epoch 208, Dice: 0.9041 WM Dice: 0.8416 GM Dice: 0.8987 CSF Dice: 0.8795\n"
     ]
    },
    {
     "name": "stderr",
     "output_type": "stream",
     "text": [
      "Epoch 209/300: 100%|██████████| 5/5 [00:12<00:00,  2.41s/it, Loss=0.0411, Avg Dice=0.896, WM Dice=0.831, GM Dice=0.884, CSF Dice=0.87] \n"
     ]
    },
    {
     "name": "stdout",
     "output_type": "stream",
     "text": [
      "Epoch 209, Loss: 0.0746\n",
      "Epoch 209, Dice: 0.8957 WM Dice: 0.8313 GM Dice: 0.8836 CSF Dice: 0.8704\n"
     ]
    },
    {
     "name": "stderr",
     "output_type": "stream",
     "text": [
      "Epoch 210/300: 100%|██████████| 5/5 [00:12<00:00,  2.48s/it, Loss=0.0341, Avg Dice=0.918, WM Dice=0.886, GM Dice=0.9, CSF Dice=0.889]  \n"
     ]
    },
    {
     "name": "stdout",
     "output_type": "stream",
     "text": [
      "Epoch 210, Loss: 0.0710\n",
      "Epoch 210, Dice: 0.9179 WM Dice: 0.8857 GM Dice: 0.9003 CSF Dice: 0.8891\n"
     ]
    },
    {
     "name": "stderr",
     "output_type": "stream",
     "text": [
      "Epoch 211/300: 100%|██████████| 5/5 [00:12<00:00,  2.42s/it, Loss=0.0334, Avg Dice=0.915, WM Dice=0.87, GM Dice=0.888, CSF Dice=0.907] \n"
     ]
    },
    {
     "name": "stdout",
     "output_type": "stream",
     "text": [
      "Epoch 211, Loss: 0.0839\n",
      "Epoch 211, Dice: 0.9155 WM Dice: 0.8702 GM Dice: 0.8880 CSF Dice: 0.9071\n"
     ]
    },
    {
     "name": "stderr",
     "output_type": "stream",
     "text": [
      "Epoch 212/300: 100%|██████████| 5/5 [00:12<00:00,  2.46s/it, Loss=0.0362, Avg Dice=0.905, WM Dice=0.802, GM Dice=0.93, CSF Dice=0.891] \n"
     ]
    },
    {
     "name": "stdout",
     "output_type": "stream",
     "text": [
      "Epoch 212, Loss: 0.0733\n",
      "Epoch 212, Dice: 0.9048 WM Dice: 0.8018 GM Dice: 0.9296 CSF Dice: 0.8906\n"
     ]
    },
    {
     "name": "stderr",
     "output_type": "stream",
     "text": [
      "Epoch 213/300: 100%|██████████| 5/5 [00:11<00:00,  2.39s/it, Loss=0.0398, Avg Dice=0.902, WM Dice=0.842, GM Dice=0.886, CSF Dice=0.884]\n"
     ]
    },
    {
     "name": "stdout",
     "output_type": "stream",
     "text": [
      "Epoch 213, Loss: 0.0711\n",
      "Epoch 213, Dice: 0.9022 WM Dice: 0.8424 GM Dice: 0.8864 CSF Dice: 0.8836\n"
     ]
    },
    {
     "name": "stderr",
     "output_type": "stream",
     "text": [
      "Epoch 214/300: 100%|██████████| 5/5 [00:12<00:00,  2.40s/it, Loss=0.0419, Avg Dice=0.901, WM Dice=0.83, GM Dice=0.914, CSF Dice=0.862] \n"
     ]
    },
    {
     "name": "stdout",
     "output_type": "stream",
     "text": [
      "Epoch 214, Loss: 0.0737\n",
      "Epoch 214, Dice: 0.9006 WM Dice: 0.8301 GM Dice: 0.9139 CSF Dice: 0.8618\n"
     ]
    },
    {
     "name": "stderr",
     "output_type": "stream",
     "text": [
      "Epoch 215/300: 100%|██████████| 5/5 [00:12<00:00,  2.40s/it, Loss=0.0356, Avg Dice=0.909, WM Dice=0.84, GM Dice=0.909, CSF Dice=0.888] \n"
     ]
    },
    {
     "name": "stdout",
     "output_type": "stream",
     "text": [
      "Epoch 215, Loss: 0.0722\n",
      "Epoch 215, Dice: 0.9085 WM Dice: 0.8399 GM Dice: 0.9087 CSF Dice: 0.8883\n"
     ]
    },
    {
     "name": "stderr",
     "output_type": "stream",
     "text": [
      "Epoch 216/300: 100%|██████████| 5/5 [00:11<00:00,  2.38s/it, Loss=0.0557, Avg Dice=0.875, WM Dice=0.795, GM Dice=0.89, CSF Dice=0.822] \n"
     ]
    },
    {
     "name": "stdout",
     "output_type": "stream",
     "text": [
      "Epoch 216, Loss: 0.0791\n",
      "Epoch 216, Dice: 0.8752 WM Dice: 0.7953 GM Dice: 0.8901 CSF Dice: 0.8217\n"
     ]
    },
    {
     "name": "stderr",
     "output_type": "stream",
     "text": [
      "Epoch 217/300: 100%|██████████| 5/5 [00:12<00:00,  2.42s/it, Loss=0.0322, Avg Dice=0.928, WM Dice=0.888, GM Dice=0.925, CSF Dice=0.902]\n"
     ]
    },
    {
     "name": "stdout",
     "output_type": "stream",
     "text": [
      "Epoch 217, Loss: 0.0678\n",
      "Epoch 217, Dice: 0.9278 WM Dice: 0.8883 GM Dice: 0.9246 CSF Dice: 0.9017\n"
     ]
    },
    {
     "name": "stderr",
     "output_type": "stream",
     "text": [
      "Epoch 218/300: 100%|██████████| 5/5 [00:09<00:00,  1.98s/it, Loss=0.0353, Avg Dice=0.919, WM Dice=0.879, GM Dice=0.915, CSF Dice=0.885]\n"
     ]
    },
    {
     "name": "stdout",
     "output_type": "stream",
     "text": [
      "Epoch 218, Loss: 0.0729\n",
      "Epoch 218, Dice: 0.9189 WM Dice: 0.8787 GM Dice: 0.9152 CSF Dice: 0.8848\n"
     ]
    },
    {
     "name": "stderr",
     "output_type": "stream",
     "text": [
      "Epoch 219/300: 100%|██████████| 5/5 [00:11<00:00,  2.39s/it, Loss=0.0431, Avg Dice=0.898, WM Dice=0.88, GM Dice=0.851, CSF Dice=0.864] \n"
     ]
    },
    {
     "name": "stdout",
     "output_type": "stream",
     "text": [
      "Epoch 219, Loss: 0.0715\n",
      "Epoch 219, Dice: 0.8977 WM Dice: 0.8804 GM Dice: 0.8511 CSF Dice: 0.8642\n"
     ]
    },
    {
     "name": "stderr",
     "output_type": "stream",
     "text": [
      "Epoch 220/300: 100%|██████████| 5/5 [00:11<00:00,  2.40s/it, Loss=0.0387, Avg Dice=0.912, WM Dice=0.875, GM Dice=0.908, CSF Dice=0.868]\n"
     ]
    },
    {
     "name": "stdout",
     "output_type": "stream",
     "text": [
      "Epoch 220, Loss: 0.0680\n",
      "Epoch 220, Dice: 0.9115 WM Dice: 0.8753 GM Dice: 0.9076 CSF Dice: 0.8676\n"
     ]
    },
    {
     "name": "stderr",
     "output_type": "stream",
     "text": [
      "Epoch 221/300: 100%|██████████| 5/5 [00:11<00:00,  2.39s/it, Loss=0.0335, Avg Dice=0.923, WM Dice=0.879, GM Dice=0.916, CSF Dice=0.901]\n"
     ]
    },
    {
     "name": "stdout",
     "output_type": "stream",
     "text": [
      "Epoch 221, Loss: 0.0672\n",
      "Epoch 221, Dice: 0.9231 WM Dice: 0.8788 GM Dice: 0.9163 CSF Dice: 0.9013\n"
     ]
    },
    {
     "name": "stderr",
     "output_type": "stream",
     "text": [
      "Epoch 222/300: 100%|██████████| 5/5 [00:11<00:00,  2.38s/it, Loss=0.0336, Avg Dice=0.92, WM Dice=0.901, GM Dice=0.883, CSF Dice=0.9]   \n"
     ]
    },
    {
     "name": "stdout",
     "output_type": "stream",
     "text": [
      "Epoch 222, Loss: 0.0667\n",
      "Epoch 222, Dice: 0.9202 WM Dice: 0.9010 GM Dice: 0.8834 CSF Dice: 0.9001\n"
     ]
    },
    {
     "name": "stderr",
     "output_type": "stream",
     "text": [
      "Epoch 223/300: 100%|██████████| 5/5 [00:12<00:00,  2.40s/it, Loss=0.0394, Avg Dice=0.913, WM Dice=0.9, GM Dice=0.894, CSF Dice=0.863]  \n"
     ]
    },
    {
     "name": "stdout",
     "output_type": "stream",
     "text": [
      "Epoch 223, Loss: 0.0712\n",
      "Epoch 223, Dice: 0.9134 WM Dice: 0.9001 GM Dice: 0.8944 CSF Dice: 0.8633\n"
     ]
    },
    {
     "name": "stderr",
     "output_type": "stream",
     "text": [
      "Epoch 224/300: 100%|██████████| 5/5 [00:12<00:00,  2.45s/it, Loss=0.0309, Avg Dice=0.92, WM Dice=0.873, GM Dice=0.91, CSF Dice=0.9]    \n"
     ]
    },
    {
     "name": "stdout",
     "output_type": "stream",
     "text": [
      "Epoch 224, Loss: 0.0729\n",
      "Epoch 224, Dice: 0.9203 WM Dice: 0.8731 GM Dice: 0.9100 CSF Dice: 0.9003\n"
     ]
    },
    {
     "name": "stderr",
     "output_type": "stream",
     "text": [
      "Epoch 225/300: 100%|██████████| 5/5 [00:12<00:00,  2.44s/it, Loss=0.0408, Avg Dice=0.907, WM Dice=0.837, GM Dice=0.918, CSF Dice=0.877]\n"
     ]
    },
    {
     "name": "stdout",
     "output_type": "stream",
     "text": [
      "Epoch 225, Loss: 0.0690\n",
      "Epoch 225, Dice: 0.9068 WM Dice: 0.8365 GM Dice: 0.9180 CSF Dice: 0.8772\n"
     ]
    },
    {
     "name": "stderr",
     "output_type": "stream",
     "text": [
      "Epoch 226/300: 100%|██████████| 5/5 [00:12<00:00,  2.43s/it, Loss=0.0374, Avg Dice=0.914, WM Dice=0.897, GM Dice=0.878, CSF Dice=0.886]\n"
     ]
    },
    {
     "name": "stdout",
     "output_type": "stream",
     "text": [
      "Epoch 226, Loss: 0.0658\n",
      "Epoch 226, Dice: 0.9142 WM Dice: 0.8972 GM Dice: 0.8783 CSF Dice: 0.8858\n"
     ]
    },
    {
     "name": "stderr",
     "output_type": "stream",
     "text": [
      "Epoch 227/300: 100%|██████████| 5/5 [00:12<00:00,  2.42s/it, Loss=0.0333, Avg Dice=0.922, WM Dice=0.882, GM Dice=0.919, CSF Dice=0.891]\n"
     ]
    },
    {
     "name": "stdout",
     "output_type": "stream",
     "text": [
      "Epoch 227, Loss: 0.0632\n",
      "Epoch 227, Dice: 0.9221 WM Dice: 0.8819 GM Dice: 0.9186 CSF Dice: 0.8912\n"
     ]
    },
    {
     "name": "stderr",
     "output_type": "stream",
     "text": [
      "Epoch 228/300: 100%|██████████| 5/5 [00:12<00:00,  2.43s/it, Loss=0.039, Avg Dice=0.896, WM Dice=0.837, GM Dice=0.887, CSF Dice=0.863] \n"
     ]
    },
    {
     "name": "stdout",
     "output_type": "stream",
     "text": [
      "Epoch 228, Loss: 0.0692\n",
      "Epoch 228, Dice: 0.8964 WM Dice: 0.8374 GM Dice: 0.8871 CSF Dice: 0.8634\n"
     ]
    },
    {
     "name": "stderr",
     "output_type": "stream",
     "text": [
      "Epoch 229/300: 100%|██████████| 5/5 [00:12<00:00,  2.47s/it, Loss=0.0312, Avg Dice=0.918, WM Dice=0.864, GM Dice=0.917, CSF Dice=0.892]\n"
     ]
    },
    {
     "name": "stdout",
     "output_type": "stream",
     "text": [
      "Epoch 229, Loss: 0.0654\n",
      "Epoch 229, Dice: 0.9177 WM Dice: 0.8636 GM Dice: 0.9170 CSF Dice: 0.8924\n"
     ]
    },
    {
     "name": "stderr",
     "output_type": "stream",
     "text": [
      "Epoch 230/300: 100%|██████████| 5/5 [00:11<00:00,  2.39s/it, Loss=0.0406, Avg Dice=0.909, WM Dice=0.846, GM Dice=0.915, CSF Dice=0.878]\n"
     ]
    },
    {
     "name": "stdout",
     "output_type": "stream",
     "text": [
      "Epoch 230, Loss: 0.0667\n",
      "Epoch 230, Dice: 0.9088 WM Dice: 0.8461 GM Dice: 0.9154 CSF Dice: 0.8785\n"
     ]
    },
    {
     "name": "stderr",
     "output_type": "stream",
     "text": [
      "Epoch 231/300: 100%|██████████| 5/5 [00:12<00:00,  2.41s/it, Loss=0.0435, Avg Dice=0.904, WM Dice=0.898, GM Dice=0.878, CSF Dice=0.843]\n"
     ]
    },
    {
     "name": "stdout",
     "output_type": "stream",
     "text": [
      "Epoch 231, Loss: 0.0724\n",
      "Epoch 231, Dice: 0.9037 WM Dice: 0.8978 GM Dice: 0.8779 CSF Dice: 0.8434\n"
     ]
    },
    {
     "name": "stderr",
     "output_type": "stream",
     "text": [
      "Epoch 232/300: 100%|██████████| 5/5 [00:12<00:00,  2.41s/it, Loss=0.0363, Avg Dice=0.922, WM Dice=0.896, GM Dice=0.902, CSF Dice=0.893]\n"
     ]
    },
    {
     "name": "stdout",
     "output_type": "stream",
     "text": [
      "Epoch 232, Loss: 0.0645\n",
      "Epoch 232, Dice: 0.9218 WM Dice: 0.8961 GM Dice: 0.9024 CSF Dice: 0.8930\n"
     ]
    },
    {
     "name": "stderr",
     "output_type": "stream",
     "text": [
      "Epoch 233/300: 100%|██████████| 5/5 [00:12<00:00,  2.41s/it, Loss=0.0362, Avg Dice=0.918, WM Dice=0.905, GM Dice=0.887, CSF Dice=0.886]\n"
     ]
    },
    {
     "name": "stdout",
     "output_type": "stream",
     "text": [
      "Epoch 233, Loss: 0.0660\n",
      "Epoch 233, Dice: 0.9183 WM Dice: 0.9047 GM Dice: 0.8867 CSF Dice: 0.8858\n"
     ]
    },
    {
     "name": "stderr",
     "output_type": "stream",
     "text": [
      "Epoch 234/300: 100%|██████████| 5/5 [00:12<00:00,  2.42s/it, Loss=0.0304, Avg Dice=0.92, WM Dice=0.884, GM Dice=0.895, CSF Dice=0.906] \n"
     ]
    },
    {
     "name": "stdout",
     "output_type": "stream",
     "text": [
      "Epoch 234, Loss: 0.0627\n",
      "Epoch 234, Dice: 0.9203 WM Dice: 0.8838 GM Dice: 0.8946 CSF Dice: 0.9058\n"
     ]
    },
    {
     "name": "stderr",
     "output_type": "stream",
     "text": [
      "Epoch 235/300: 100%|██████████| 5/5 [00:12<00:00,  2.45s/it, Loss=0.031, Avg Dice=0.928, WM Dice=0.916, GM Dice=0.893, CSF Dice=0.907] \n"
     ]
    },
    {
     "name": "stdout",
     "output_type": "stream",
     "text": [
      "Epoch 235, Loss: 0.0601\n",
      "Epoch 235, Dice: 0.9280 WM Dice: 0.9160 GM Dice: 0.8930 CSF Dice: 0.9066\n"
     ]
    },
    {
     "name": "stderr",
     "output_type": "stream",
     "text": [
      "Epoch 236/300: 100%|██████████| 5/5 [00:12<00:00,  2.41s/it, Loss=0.0362, Avg Dice=0.916, WM Dice=0.911, GM Dice=0.879, CSF Dice=0.88] \n"
     ]
    },
    {
     "name": "stdout",
     "output_type": "stream",
     "text": [
      "Epoch 236, Loss: 0.0666\n",
      "Epoch 236, Dice: 0.9164 WM Dice: 0.9108 GM Dice: 0.8788 CSF Dice: 0.8799\n"
     ]
    },
    {
     "name": "stderr",
     "output_type": "stream",
     "text": [
      "Epoch 237/300: 100%|██████████| 5/5 [00:12<00:00,  2.42s/it, Loss=0.0452, Avg Dice=0.899, WM Dice=0.89, GM Dice=0.867, CSF Dice=0.842] \n"
     ]
    },
    {
     "name": "stdout",
     "output_type": "stream",
     "text": [
      "Epoch 237, Loss: 0.0703\n",
      "Epoch 237, Dice: 0.8986 WM Dice: 0.8905 GM Dice: 0.8673 CSF Dice: 0.8418\n"
     ]
    },
    {
     "name": "stderr",
     "output_type": "stream",
     "text": [
      "Epoch 238/300: 100%|██████████| 5/5 [00:12<00:00,  2.41s/it, Loss=0.0342, Avg Dice=0.918, WM Dice=0.842, GM Dice=0.918, CSF Dice=0.917]\n"
     ]
    },
    {
     "name": "stdout",
     "output_type": "stream",
     "text": [
      "Epoch 238, Loss: 0.0669\n",
      "Epoch 238, Dice: 0.9181 WM Dice: 0.8421 GM Dice: 0.9176 CSF Dice: 0.9169\n"
     ]
    },
    {
     "name": "stderr",
     "output_type": "stream",
     "text": [
      "Epoch 239/300: 100%|██████████| 5/5 [00:12<00:00,  2.40s/it, Loss=0.033, Avg Dice=0.919, WM Dice=0.862, GM Dice=0.921, CSF Dice=0.896] \n"
     ]
    },
    {
     "name": "stdout",
     "output_type": "stream",
     "text": [
      "Epoch 239, Loss: 0.0672\n",
      "Epoch 239, Dice: 0.9191 WM Dice: 0.8619 GM Dice: 0.9214 CSF Dice: 0.8961\n"
     ]
    },
    {
     "name": "stderr",
     "output_type": "stream",
     "text": [
      "Epoch 240/300: 100%|██████████| 5/5 [00:12<00:00,  2.43s/it, Loss=0.042, Avg Dice=0.891, WM Dice=0.803, GM Dice=0.886, CSF Dice=0.877] \n"
     ]
    },
    {
     "name": "stdout",
     "output_type": "stream",
     "text": [
      "Epoch 240, Loss: 0.0711\n",
      "Epoch 240, Dice: 0.8906 WM Dice: 0.8027 GM Dice: 0.8861 CSF Dice: 0.8769\n"
     ]
    },
    {
     "name": "stderr",
     "output_type": "stream",
     "text": [
      "Epoch 241/300: 100%|██████████| 5/5 [00:11<00:00,  2.39s/it, Loss=0.031, Avg Dice=0.924, WM Dice=0.868, GM Dice=0.921, CSF Dice=0.91]  \n"
     ]
    },
    {
     "name": "stdout",
     "output_type": "stream",
     "text": [
      "Epoch 241, Loss: 0.0626\n",
      "Epoch 241, Dice: 0.9242 WM Dice: 0.8681 GM Dice: 0.9215 CSF Dice: 0.9102\n"
     ]
    },
    {
     "name": "stderr",
     "output_type": "stream",
     "text": [
      "Epoch 242/300: 100%|██████████| 5/5 [00:12<00:00,  2.40s/it, Loss=0.0409, Avg Dice=0.903, WM Dice=0.816, GM Dice=0.913, CSF Dice=0.887]\n"
     ]
    },
    {
     "name": "stdout",
     "output_type": "stream",
     "text": [
      "Epoch 242, Loss: 0.0684\n",
      "Epoch 242, Dice: 0.9028 WM Dice: 0.8157 GM Dice: 0.9131 CSF Dice: 0.8871\n"
     ]
    },
    {
     "name": "stderr",
     "output_type": "stream",
     "text": [
      "Epoch 243/300: 100%|██████████| 5/5 [00:12<00:00,  2.41s/it, Loss=0.0341, Avg Dice=0.912, WM Dice=0.862, GM Dice=0.904, CSF Dice=0.886]\n"
     ]
    },
    {
     "name": "stdout",
     "output_type": "stream",
     "text": [
      "Epoch 243, Loss: 0.0673\n",
      "Epoch 243, Dice: 0.9125 WM Dice: 0.8619 GM Dice: 0.9044 CSF Dice: 0.8863\n"
     ]
    },
    {
     "name": "stderr",
     "output_type": "stream",
     "text": [
      "Epoch 244/300: 100%|██████████| 5/5 [00:11<00:00,  2.38s/it, Loss=0.0342, Avg Dice=0.916, WM Dice=0.884, GM Dice=0.895, CSF Dice=0.887]\n"
     ]
    },
    {
     "name": "stdout",
     "output_type": "stream",
     "text": [
      "Epoch 244, Loss: 0.0623\n",
      "Epoch 244, Dice: 0.9159 WM Dice: 0.8844 GM Dice: 0.8951 CSF Dice: 0.8872\n"
     ]
    },
    {
     "name": "stderr",
     "output_type": "stream",
     "text": [
      "Epoch 245/300: 100%|██████████| 5/5 [00:11<00:00,  2.36s/it, Loss=0.0381, Avg Dice=0.911, WM Dice=0.87, GM Dice=0.882, CSF Dice=0.897] \n"
     ]
    },
    {
     "name": "stdout",
     "output_type": "stream",
     "text": [
      "Epoch 245, Loss: 0.0696\n",
      "Epoch 245, Dice: 0.9113 WM Dice: 0.8698 GM Dice: 0.8823 CSF Dice: 0.8975\n"
     ]
    },
    {
     "name": "stderr",
     "output_type": "stream",
     "text": [
      "Epoch 246/300: 100%|██████████| 5/5 [00:12<00:00,  2.40s/it, Loss=0.0355, Avg Dice=0.918, WM Dice=0.903, GM Dice=0.879, CSF Dice=0.896]\n"
     ]
    },
    {
     "name": "stdout",
     "output_type": "stream",
     "text": [
      "Epoch 246, Loss: 0.0633\n",
      "Epoch 246, Dice: 0.9185 WM Dice: 0.9033 GM Dice: 0.8792 CSF Dice: 0.8960\n"
     ]
    },
    {
     "name": "stderr",
     "output_type": "stream",
     "text": [
      "Epoch 247/300: 100%|██████████| 5/5 [00:12<00:00,  2.41s/it, Loss=0.0307, Avg Dice=0.925, WM Dice=0.886, GM Dice=0.917, CSF Dice=0.902]\n"
     ]
    },
    {
     "name": "stdout",
     "output_type": "stream",
     "text": [
      "Epoch 247, Loss: 0.0667\n",
      "Epoch 247, Dice: 0.9254 WM Dice: 0.8859 GM Dice: 0.9167 CSF Dice: 0.9020\n"
     ]
    },
    {
     "name": "stderr",
     "output_type": "stream",
     "text": [
      "Epoch 248/300: 100%|██████████| 5/5 [00:12<00:00,  2.41s/it, Loss=0.0317, Avg Dice=0.925, WM Dice=0.888, GM Dice=0.92, CSF Dice=0.896] \n"
     ]
    },
    {
     "name": "stdout",
     "output_type": "stream",
     "text": [
      "Epoch 248, Loss: 0.0662\n",
      "Epoch 248, Dice: 0.9253 WM Dice: 0.8882 GM Dice: 0.9199 CSF Dice: 0.8960\n"
     ]
    },
    {
     "name": "stderr",
     "output_type": "stream",
     "text": [
      "Epoch 249/300: 100%|██████████| 5/5 [00:12<00:00,  2.42s/it, Loss=0.0393, Avg Dice=0.908, WM Dice=0.885, GM Dice=0.869, CSF Dice=0.885]\n"
     ]
    },
    {
     "name": "stdout",
     "output_type": "stream",
     "text": [
      "Epoch 249, Loss: 0.0700\n",
      "Epoch 249, Dice: 0.9085 WM Dice: 0.8847 GM Dice: 0.8688 CSF Dice: 0.8850\n"
     ]
    },
    {
     "name": "stderr",
     "output_type": "stream",
     "text": [
      "Epoch 250/300: 100%|██████████| 5/5 [00:11<00:00,  2.38s/it, Loss=0.0334, Avg Dice=0.923, WM Dice=0.882, GM Dice=0.919, CSF Dice=0.892]\n"
     ]
    },
    {
     "name": "stdout",
     "output_type": "stream",
     "text": [
      "Epoch 250, Loss: 0.0654\n",
      "Epoch 250, Dice: 0.9226 WM Dice: 0.8824 GM Dice: 0.9192 CSF Dice: 0.8923\n"
     ]
    },
    {
     "name": "stderr",
     "output_type": "stream",
     "text": [
      "Epoch 251/300: 100%|██████████| 5/5 [00:11<00:00,  2.40s/it, Loss=0.0332, Avg Dice=0.917, WM Dice=0.875, GM Dice=0.91, CSF Dice=0.888] \n"
     ]
    },
    {
     "name": "stdout",
     "output_type": "stream",
     "text": [
      "Epoch 251, Loss: 0.0645\n",
      "Epoch 251, Dice: 0.9174 WM Dice: 0.8745 GM Dice: 0.9098 CSF Dice: 0.8882\n"
     ]
    },
    {
     "name": "stderr",
     "output_type": "stream",
     "text": [
      "Epoch 252/300: 100%|██████████| 5/5 [00:12<00:00,  2.43s/it, Loss=0.0321, Avg Dice=0.923, WM Dice=0.898, GM Dice=0.897, CSF Dice=0.901]\n"
     ]
    },
    {
     "name": "stdout",
     "output_type": "stream",
     "text": [
      "Epoch 252, Loss: 0.0677\n",
      "Epoch 252, Dice: 0.9232 WM Dice: 0.8984 GM Dice: 0.8968 CSF Dice: 0.9011\n"
     ]
    },
    {
     "name": "stderr",
     "output_type": "stream",
     "text": [
      "Epoch 253/300: 100%|██████████| 5/5 [00:12<00:00,  2.41s/it, Loss=0.0272, Avg Dice=0.93, WM Dice=0.89, GM Dice=0.91, CSF Dice=0.921]   \n"
     ]
    },
    {
     "name": "stdout",
     "output_type": "stream",
     "text": [
      "Epoch 253, Loss: 0.0664\n",
      "Epoch 253, Dice: 0.9297 WM Dice: 0.8897 GM Dice: 0.9103 CSF Dice: 0.9215\n"
     ]
    },
    {
     "name": "stderr",
     "output_type": "stream",
     "text": [
      "Epoch 254/300: 100%|██████████| 5/5 [00:12<00:00,  2.41s/it, Loss=0.0328, Avg Dice=0.918, WM Dice=0.891, GM Dice=0.9, CSF Dice=0.885]  \n"
     ]
    },
    {
     "name": "stdout",
     "output_type": "stream",
     "text": [
      "Epoch 254, Loss: 0.0678\n",
      "Epoch 254, Dice: 0.9185 WM Dice: 0.8911 GM Dice: 0.9005 CSF Dice: 0.8853\n"
     ]
    },
    {
     "name": "stderr",
     "output_type": "stream",
     "text": [
      "Epoch 255/300: 100%|██████████| 5/5 [00:12<00:00,  2.41s/it, Loss=0.0307, Avg Dice=0.924, WM Dice=0.872, GM Dice=0.925, CSF Dice=0.902]\n"
     ]
    },
    {
     "name": "stdout",
     "output_type": "stream",
     "text": [
      "Epoch 255, Loss: 0.0637\n",
      "Epoch 255, Dice: 0.9242 WM Dice: 0.8722 GM Dice: 0.9247 CSF Dice: 0.9024\n"
     ]
    },
    {
     "name": "stderr",
     "output_type": "stream",
     "text": [
      "Epoch 256/300: 100%|██████████| 5/5 [00:12<00:00,  2.45s/it, Loss=0.0303, Avg Dice=0.929, WM Dice=0.893, GM Dice=0.913, CSF Dice=0.912]\n"
     ]
    },
    {
     "name": "stdout",
     "output_type": "stream",
     "text": [
      "Epoch 256, Loss: 0.0608\n",
      "Epoch 256, Dice: 0.9286 WM Dice: 0.8931 GM Dice: 0.9130 CSF Dice: 0.9119\n"
     ]
    },
    {
     "name": "stderr",
     "output_type": "stream",
     "text": [
      "Epoch 257/300: 100%|██████████| 5/5 [00:11<00:00,  2.39s/it, Loss=0.0338, Avg Dice=0.922, WM Dice=0.91, GM Dice=0.884, CSF Dice=0.898] \n"
     ]
    },
    {
     "name": "stdout",
     "output_type": "stream",
     "text": [
      "Epoch 257, Loss: 0.0637\n",
      "Epoch 257, Dice: 0.9219 WM Dice: 0.9097 GM Dice: 0.8841 CSF Dice: 0.8982\n"
     ]
    },
    {
     "name": "stderr",
     "output_type": "stream",
     "text": [
      "Epoch 258/300: 100%|██████████| 5/5 [00:11<00:00,  2.36s/it, Loss=0.0305, Avg Dice=0.923, WM Dice=0.854, GM Dice=0.926, CSF Dice=0.916]\n"
     ]
    },
    {
     "name": "stdout",
     "output_type": "stream",
     "text": [
      "Epoch 258, Loss: 0.0602\n",
      "Epoch 258, Dice: 0.9234 WM Dice: 0.8543 GM Dice: 0.9260 CSF Dice: 0.9157\n"
     ]
    },
    {
     "name": "stderr",
     "output_type": "stream",
     "text": [
      "Epoch 259/300: 100%|██████████| 5/5 [00:11<00:00,  2.40s/it, Loss=0.036, Avg Dice=0.916, WM Dice=0.878, GM Dice=0.912, CSF Dice=0.879] \n"
     ]
    },
    {
     "name": "stdout",
     "output_type": "stream",
     "text": [
      "Epoch 259, Loss: 0.0683\n",
      "Epoch 259, Dice: 0.9163 WM Dice: 0.8777 GM Dice: 0.9119 CSF Dice: 0.8788\n"
     ]
    },
    {
     "name": "stderr",
     "output_type": "stream",
     "text": [
      "Epoch 260/300: 100%|██████████| 5/5 [00:11<00:00,  2.29s/it, Loss=0.0331, Avg Dice=0.921, WM Dice=0.885, GM Dice=0.902, CSF Dice=0.901]\n"
     ]
    },
    {
     "name": "stdout",
     "output_type": "stream",
     "text": [
      "Epoch 260, Loss: 0.0649\n",
      "Epoch 260, Dice: 0.9211 WM Dice: 0.8852 GM Dice: 0.9019 CSF Dice: 0.9006\n"
     ]
    },
    {
     "name": "stderr",
     "output_type": "stream",
     "text": [
      "Epoch 261/300: 100%|██████████| 5/5 [00:12<00:00,  2.41s/it, Loss=0.0344, Avg Dice=0.916, WM Dice=0.889, GM Dice=0.89, CSF Dice=0.888] \n"
     ]
    },
    {
     "name": "stdout",
     "output_type": "stream",
     "text": [
      "Epoch 261, Loss: 0.0665\n",
      "Epoch 261, Dice: 0.9158 WM Dice: 0.8894 GM Dice: 0.8898 CSF Dice: 0.8875\n"
     ]
    },
    {
     "name": "stderr",
     "output_type": "stream",
     "text": [
      "Epoch 262/300: 100%|██████████| 5/5 [00:12<00:00,  2.41s/it, Loss=0.0344, Avg Dice=0.919, WM Dice=0.868, GM Dice=0.918, CSF Dice=0.893]\n"
     ]
    },
    {
     "name": "stdout",
     "output_type": "stream",
     "text": [
      "Epoch 262, Loss: 0.0640\n",
      "Epoch 262, Dice: 0.9190 WM Dice: 0.8676 GM Dice: 0.9184 CSF Dice: 0.8932\n"
     ]
    },
    {
     "name": "stderr",
     "output_type": "stream",
     "text": [
      "Epoch 263/300: 100%|██████████| 5/5 [00:12<00:00,  2.41s/it, Loss=0.0296, Avg Dice=0.922, WM Dice=0.877, GM Dice=0.921, CSF Dice=0.892]\n"
     ]
    },
    {
     "name": "stdout",
     "output_type": "stream",
     "text": [
      "Epoch 263, Loss: 0.0652\n",
      "Epoch 263, Dice: 0.9221 WM Dice: 0.8767 GM Dice: 0.9212 CSF Dice: 0.8924\n"
     ]
    },
    {
     "name": "stderr",
     "output_type": "stream",
     "text": [
      "Epoch 264/300: 100%|██████████| 5/5 [00:12<00:00,  2.40s/it, Loss=0.0302, Avg Dice=0.93, WM Dice=0.92, GM Dice=0.908, CSF Dice=0.892]  \n"
     ]
    },
    {
     "name": "stdout",
     "output_type": "stream",
     "text": [
      "Epoch 264, Loss: 0.0623\n",
      "Epoch 264, Dice: 0.9297 WM Dice: 0.9204 GM Dice: 0.9084 CSF Dice: 0.8923\n"
     ]
    },
    {
     "name": "stderr",
     "output_type": "stream",
     "text": [
      "Epoch 265/300: 100%|██████████| 5/5 [00:12<00:00,  2.42s/it, Loss=0.034, Avg Dice=0.915, WM Dice=0.88, GM Dice=0.912, CSF Dice=0.872]  \n"
     ]
    },
    {
     "name": "stdout",
     "output_type": "stream",
     "text": [
      "Epoch 265, Loss: 0.0685\n",
      "Epoch 265, Dice: 0.9153 WM Dice: 0.8803 GM Dice: 0.9115 CSF Dice: 0.8717\n"
     ]
    },
    {
     "name": "stderr",
     "output_type": "stream",
     "text": [
      "Epoch 266/300: 100%|██████████| 5/5 [00:11<00:00,  2.39s/it, Loss=0.0297, Avg Dice=0.928, WM Dice=0.869, GM Dice=0.929, CSF Dice=0.917]\n"
     ]
    },
    {
     "name": "stdout",
     "output_type": "stream",
     "text": [
      "Epoch 266, Loss: 0.0655\n",
      "Epoch 266, Dice: 0.9278 WM Dice: 0.8685 GM Dice: 0.9292 CSF Dice: 0.9167\n"
     ]
    },
    {
     "name": "stderr",
     "output_type": "stream",
     "text": [
      "Epoch 267/300: 100%|██████████| 5/5 [00:11<00:00,  2.35s/it, Loss=0.0366, Avg Dice=0.914, WM Dice=0.88, GM Dice=0.894, CSF Dice=0.884] \n"
     ]
    },
    {
     "name": "stdout",
     "output_type": "stream",
     "text": [
      "Epoch 267, Loss: 0.0667\n",
      "Epoch 267, Dice: 0.9135 WM Dice: 0.8799 GM Dice: 0.8940 CSF Dice: 0.8838\n"
     ]
    },
    {
     "name": "stderr",
     "output_type": "stream",
     "text": [
      "Epoch 268/300: 100%|██████████| 5/5 [00:12<00:00,  2.42s/it, Loss=0.0354, Avg Dice=0.918, WM Dice=0.898, GM Dice=0.906, CSF Dice=0.87] \n"
     ]
    },
    {
     "name": "stdout",
     "output_type": "stream",
     "text": [
      "Epoch 268, Loss: 0.0684\n",
      "Epoch 268, Dice: 0.9177 WM Dice: 0.8976 GM Dice: 0.9060 CSF Dice: 0.8701\n"
     ]
    },
    {
     "name": "stderr",
     "output_type": "stream",
     "text": [
      "Epoch 269/300: 100%|██████████| 5/5 [00:11<00:00,  2.38s/it, Loss=0.0394, Avg Dice=0.903, WM Dice=0.841, GM Dice=0.9, CSF Dice=0.873]  \n"
     ]
    },
    {
     "name": "stdout",
     "output_type": "stream",
     "text": [
      "Epoch 269, Loss: 0.0700\n",
      "Epoch 269, Dice: 0.9028 WM Dice: 0.8413 GM Dice: 0.9000 CSF Dice: 0.8726\n"
     ]
    },
    {
     "name": "stderr",
     "output_type": "stream",
     "text": [
      "Epoch 270/300: 100%|██████████| 5/5 [00:12<00:00,  2.43s/it, Loss=0.0296, Avg Dice=0.924, WM Dice=0.854, GM Dice=0.934, CSF Dice=0.91] \n"
     ]
    },
    {
     "name": "stdout",
     "output_type": "stream",
     "text": [
      "Epoch 270, Loss: 0.0649\n",
      "Epoch 270, Dice: 0.9237 WM Dice: 0.8535 GM Dice: 0.9336 CSF Dice: 0.9096\n"
     ]
    },
    {
     "name": "stderr",
     "output_type": "stream",
     "text": [
      "Epoch 271/300: 100%|██████████| 5/5 [00:11<00:00,  2.37s/it, Loss=0.0305, Avg Dice=0.927, WM Dice=0.907, GM Dice=0.897, CSF Dice=0.908]\n"
     ]
    },
    {
     "name": "stdout",
     "output_type": "stream",
     "text": [
      "Epoch 271, Loss: 0.0635\n",
      "Epoch 271, Dice: 0.9271 WM Dice: 0.9067 GM Dice: 0.8971 CSF Dice: 0.9080\n"
     ]
    },
    {
     "name": "stderr",
     "output_type": "stream",
     "text": [
      "Epoch 272/300: 100%|██████████| 5/5 [00:12<00:00,  2.40s/it, Loss=0.0344, Avg Dice=0.921, WM Dice=0.896, GM Dice=0.891, CSF Dice=0.903]\n"
     ]
    },
    {
     "name": "stdout",
     "output_type": "stream",
     "text": [
      "Epoch 272, Loss: 0.0616\n",
      "Epoch 272, Dice: 0.9212 WM Dice: 0.8957 GM Dice: 0.8908 CSF Dice: 0.9025\n"
     ]
    },
    {
     "name": "stderr",
     "output_type": "stream",
     "text": [
      "Epoch 273/300: 100%|██████████| 5/5 [00:11<00:00,  2.37s/it, Loss=0.0339, Avg Dice=0.925, WM Dice=0.902, GM Dice=0.909, CSF Dice=0.892]\n"
     ]
    },
    {
     "name": "stdout",
     "output_type": "stream",
     "text": [
      "Epoch 273, Loss: 0.0640\n",
      "Epoch 273, Dice: 0.9247 WM Dice: 0.9019 GM Dice: 0.9091 CSF Dice: 0.8919\n"
     ]
    },
    {
     "name": "stderr",
     "output_type": "stream",
     "text": [
      "Epoch 274/300: 100%|██████████| 5/5 [00:11<00:00,  2.37s/it, Loss=0.0327, Avg Dice=0.925, WM Dice=0.888, GM Dice=0.919, CSF Dice=0.896]\n"
     ]
    },
    {
     "name": "stdout",
     "output_type": "stream",
     "text": [
      "Epoch 274, Loss: 0.0625\n",
      "Epoch 274, Dice: 0.9250 WM Dice: 0.8881 GM Dice: 0.9190 CSF Dice: 0.8962\n"
     ]
    },
    {
     "name": "stderr",
     "output_type": "stream",
     "text": [
      "Epoch 275/300: 100%|██████████| 5/5 [00:12<00:00,  2.40s/it, Loss=0.0385, Avg Dice=0.914, WM Dice=0.911, GM Dice=0.867, CSF Dice=0.884]\n"
     ]
    },
    {
     "name": "stdout",
     "output_type": "stream",
     "text": [
      "Epoch 275, Loss: 0.0661\n",
      "Epoch 275, Dice: 0.9142 WM Dice: 0.9110 GM Dice: 0.8669 CSF Dice: 0.8836\n"
     ]
    },
    {
     "name": "stderr",
     "output_type": "stream",
     "text": [
      "Epoch 276/300: 100%|██████████| 5/5 [00:12<00:00,  2.42s/it, Loss=0.0305, Avg Dice=0.926, WM Dice=0.865, GM Dice=0.932, CSF Dice=0.91]\n"
     ]
    },
    {
     "name": "stdout",
     "output_type": "stream",
     "text": [
      "Epoch 276, Loss: 0.0619\n",
      "Epoch 276, Dice: 0.9261 WM Dice: 0.8646 GM Dice: 0.9322 CSF Dice: 0.9104\n"
     ]
    },
    {
     "name": "stderr",
     "output_type": "stream",
     "text": [
      "Epoch 277/300: 100%|██████████| 5/5 [00:11<00:00,  2.37s/it, Loss=0.0324, Avg Dice=0.92, WM Dice=0.88, GM Dice=0.917, CSF Dice=0.887]  \n"
     ]
    },
    {
     "name": "stdout",
     "output_type": "stream",
     "text": [
      "Epoch 277, Loss: 0.0651\n",
      "Epoch 277, Dice: 0.9205 WM Dice: 0.8805 GM Dice: 0.9171 CSF Dice: 0.8872\n"
     ]
    },
    {
     "name": "stderr",
     "output_type": "stream",
     "text": [
      "Epoch 278/300: 100%|██████████| 5/5 [00:11<00:00,  2.39s/it, Loss=0.0345, Avg Dice=0.917, WM Dice=0.918, GM Dice=0.883, CSF Dice=0.87] \n"
     ]
    },
    {
     "name": "stdout",
     "output_type": "stream",
     "text": [
      "Epoch 278, Loss: 0.0676\n",
      "Epoch 278, Dice: 0.9171 WM Dice: 0.9177 GM Dice: 0.8831 CSF Dice: 0.8702\n"
     ]
    },
    {
     "name": "stderr",
     "output_type": "stream",
     "text": [
      "Epoch 279/300: 100%|██████████| 5/5 [00:11<00:00,  2.39s/it, Loss=0.032, Avg Dice=0.927, WM Dice=0.908, GM Dice=0.919, CSF Dice=0.886] \n"
     ]
    },
    {
     "name": "stdout",
     "output_type": "stream",
     "text": [
      "Epoch 279, Loss: 0.0620\n",
      "Epoch 279, Dice: 0.9275 WM Dice: 0.9077 GM Dice: 0.9194 CSF Dice: 0.8856\n"
     ]
    },
    {
     "name": "stderr",
     "output_type": "stream",
     "text": [
      "Epoch 280/300: 100%|██████████| 5/5 [00:11<00:00,  2.38s/it, Loss=0.0298, Avg Dice=0.934, WM Dice=0.907, GM Dice=0.919, CSF Dice=0.915]\n"
     ]
    },
    {
     "name": "stdout",
     "output_type": "stream",
     "text": [
      "Epoch 280, Loss: 0.0585\n",
      "Epoch 280, Dice: 0.9344 WM Dice: 0.9072 GM Dice: 0.9193 CSF Dice: 0.9150\n"
     ]
    },
    {
     "name": "stderr",
     "output_type": "stream",
     "text": [
      "Epoch 281/300: 100%|██████████| 5/5 [00:11<00:00,  2.39s/it, Loss=0.0375, Avg Dice=0.912, WM Dice=0.877, GM Dice=0.88, CSF Dice=0.895] \n"
     ]
    },
    {
     "name": "stdout",
     "output_type": "stream",
     "text": [
      "Epoch 281, Loss: 0.0617\n",
      "Epoch 281, Dice: 0.9121 WM Dice: 0.8772 GM Dice: 0.8804 CSF Dice: 0.8947\n"
     ]
    },
    {
     "name": "stderr",
     "output_type": "stream",
     "text": [
      "Epoch 282/300: 100%|██████████| 5/5 [00:11<00:00,  2.39s/it, Loss=0.0311, Avg Dice=0.917, WM Dice=0.869, GM Dice=0.909, CSF Dice=0.893]\n"
     ]
    },
    {
     "name": "stdout",
     "output_type": "stream",
     "text": [
      "Epoch 282, Loss: 0.0606\n",
      "Epoch 282, Dice: 0.9173 WM Dice: 0.8694 GM Dice: 0.9090 CSF Dice: 0.8930\n"
     ]
    },
    {
     "name": "stderr",
     "output_type": "stream",
     "text": [
      "Epoch 283/300: 100%|██████████| 5/5 [00:11<00:00,  2.37s/it, Loss=0.0309, Avg Dice=0.931, WM Dice=0.908, GM Dice=0.92, CSF Dice=0.899] \n"
     ]
    },
    {
     "name": "stdout",
     "output_type": "stream",
     "text": [
      "Epoch 283, Loss: 0.0569\n",
      "Epoch 283, Dice: 0.9307 WM Dice: 0.9080 GM Dice: 0.9197 CSF Dice: 0.8987\n"
     ]
    },
    {
     "name": "stderr",
     "output_type": "stream",
     "text": [
      "Epoch 284/300: 100%|██████████| 5/5 [00:11<00:00,  2.40s/it, Loss=0.0287, Avg Dice=0.928, WM Dice=0.86, GM Dice=0.938, CSF Dice=0.917] \n"
     ]
    },
    {
     "name": "stdout",
     "output_type": "stream",
     "text": [
      "Epoch 284, Loss: 0.0573\n",
      "Epoch 284, Dice: 0.9283 WM Dice: 0.8604 GM Dice: 0.9383 CSF Dice: 0.9170\n"
     ]
    },
    {
     "name": "stderr",
     "output_type": "stream",
     "text": [
      "Epoch 285/300: 100%|██████████| 5/5 [00:12<00:00,  2.45s/it, Loss=0.0276, Avg Dice=0.932, WM Dice=0.913, GM Dice=0.919, CSF Dice=0.898]\n"
     ]
    },
    {
     "name": "stdout",
     "output_type": "stream",
     "text": [
      "Epoch 285, Loss: 0.0564\n",
      "Epoch 285, Dice: 0.9319 WM Dice: 0.9133 GM Dice: 0.9190 CSF Dice: 0.8976\n"
     ]
    },
    {
     "name": "stderr",
     "output_type": "stream",
     "text": [
      "Epoch 286/300: 100%|██████████| 5/5 [00:12<00:00,  2.41s/it, Loss=0.0329, Avg Dice=0.919, WM Dice=0.883, GM Dice=0.902, CSF Dice=0.895]\n"
     ]
    },
    {
     "name": "stdout",
     "output_type": "stream",
     "text": [
      "Epoch 286, Loss: 0.0600\n",
      "Epoch 286, Dice: 0.9191 WM Dice: 0.8827 GM Dice: 0.9019 CSF Dice: 0.8951\n"
     ]
    },
    {
     "name": "stderr",
     "output_type": "stream",
     "text": [
      "Epoch 287/300: 100%|██████████| 5/5 [00:12<00:00,  2.41s/it, Loss=0.0262, Avg Dice=0.935, WM Dice=0.89, GM Dice=0.935, CSF Dice=0.915] \n"
     ]
    },
    {
     "name": "stdout",
     "output_type": "stream",
     "text": [
      "Epoch 287, Loss: 0.0574\n",
      "Epoch 287, Dice: 0.9346 WM Dice: 0.8903 GM Dice: 0.9350 CSF Dice: 0.9154\n"
     ]
    },
    {
     "name": "stderr",
     "output_type": "stream",
     "text": [
      "Epoch 288/300: 100%|██████████| 5/5 [00:12<00:00,  2.42s/it, Loss=0.033, Avg Dice=0.926, WM Dice=0.875, GM Dice=0.929, CSF Dice=0.903] \n"
     ]
    },
    {
     "name": "stdout",
     "output_type": "stream",
     "text": [
      "Epoch 288, Loss: 0.0559\n",
      "Epoch 288, Dice: 0.9259 WM Dice: 0.8754 GM Dice: 0.9290 CSF Dice: 0.9034\n"
     ]
    },
    {
     "name": "stderr",
     "output_type": "stream",
     "text": [
      "Epoch 289/300: 100%|██████████| 5/5 [00:12<00:00,  2.45s/it, Loss=0.0276, Avg Dice=0.932, WM Dice=0.872, GM Dice=0.941, CSF Dice=0.918]\n"
     ]
    },
    {
     "name": "stdout",
     "output_type": "stream",
     "text": [
      "Epoch 289, Loss: 0.0563\n",
      "Epoch 289, Dice: 0.9323 WM Dice: 0.8722 GM Dice: 0.9411 CSF Dice: 0.9184\n"
     ]
    },
    {
     "name": "stderr",
     "output_type": "stream",
     "text": [
      "Epoch 290/300: 100%|██████████| 5/5 [00:11<00:00,  2.30s/it, Loss=0.0257, Avg Dice=0.94, WM Dice=0.92, GM Dice=0.919, CSF Dice=0.926]  \n"
     ]
    },
    {
     "name": "stdout",
     "output_type": "stream",
     "text": [
      "Epoch 290, Loss: 0.0543\n",
      "Epoch 290, Dice: 0.9404 WM Dice: 0.9197 GM Dice: 0.9192 CSF Dice: 0.9256\n"
     ]
    },
    {
     "name": "stderr",
     "output_type": "stream",
     "text": [
      "Epoch 291/300: 100%|██████████| 5/5 [00:12<00:00,  2.46s/it, Loss=0.029, Avg Dice=0.937, WM Dice=0.913, GM Dice=0.925, CSF Dice=0.915] \n"
     ]
    },
    {
     "name": "stdout",
     "output_type": "stream",
     "text": [
      "Epoch 291, Loss: 0.0582\n",
      "Epoch 291, Dice: 0.9373 WM Dice: 0.9128 GM Dice: 0.9252 CSF Dice: 0.9151\n"
     ]
    },
    {
     "name": "stderr",
     "output_type": "stream",
     "text": [
      "Epoch 292/300: 100%|██████████| 5/5 [00:12<00:00,  2.40s/it, Loss=0.0348, Avg Dice=0.92, WM Dice=0.89, GM Dice=0.89, CSF Dice=0.905]   \n"
     ]
    },
    {
     "name": "stdout",
     "output_type": "stream",
     "text": [
      "Epoch 292, Loss: 0.0609\n",
      "Epoch 292, Dice: 0.9202 WM Dice: 0.8900 GM Dice: 0.8904 CSF Dice: 0.9047\n"
     ]
    },
    {
     "name": "stderr",
     "output_type": "stream",
     "text": [
      "Epoch 293/300: 100%|██████████| 5/5 [00:12<00:00,  2.44s/it, Loss=0.0261, Avg Dice=0.932, WM Dice=0.882, GM Dice=0.925, CSF Dice=0.924]\n"
     ]
    },
    {
     "name": "stdout",
     "output_type": "stream",
     "text": [
      "Epoch 293, Loss: 0.0560\n",
      "Epoch 293, Dice: 0.9323 WM Dice: 0.8823 GM Dice: 0.9246 CSF Dice: 0.9243\n"
     ]
    },
    {
     "name": "stderr",
     "output_type": "stream",
     "text": [
      "Epoch 294/300: 100%|██████████| 5/5 [00:11<00:00,  2.37s/it, Loss=0.0244, Avg Dice=0.937, WM Dice=0.904, GM Dice=0.922, CSF Dice=0.924]\n"
     ]
    },
    {
     "name": "stdout",
     "output_type": "stream",
     "text": [
      "Epoch 294, Loss: 0.0572\n",
      "Epoch 294, Dice: 0.9369 WM Dice: 0.9035 GM Dice: 0.9222 CSF Dice: 0.9240\n"
     ]
    },
    {
     "name": "stderr",
     "output_type": "stream",
     "text": [
      "Epoch 295/300: 100%|██████████| 5/5 [00:09<00:00,  1.89s/it, Loss=0.0262, Avg Dice=0.935, WM Dice=0.911, GM Dice=0.911, CSF Dice=0.921]\n"
     ]
    },
    {
     "name": "stdout",
     "output_type": "stream",
     "text": [
      "Epoch 295, Loss: 0.0585\n",
      "Epoch 295, Dice: 0.9352 WM Dice: 0.9114 GM Dice: 0.9109 CSF Dice: 0.9213\n"
     ]
    },
    {
     "name": "stderr",
     "output_type": "stream",
     "text": [
      "Epoch 296/300: 100%|██████████| 5/5 [00:12<00:00,  2.43s/it, Loss=0.0272, Avg Dice=0.936, WM Dice=0.909, GM Dice=0.914, CSF Dice=0.925]\n"
     ]
    },
    {
     "name": "stdout",
     "output_type": "stream",
     "text": [
      "Epoch 296, Loss: 0.0553\n",
      "Epoch 296, Dice: 0.9362 WM Dice: 0.9089 GM Dice: 0.9141 CSF Dice: 0.9254\n"
     ]
    },
    {
     "name": "stderr",
     "output_type": "stream",
     "text": [
      "Epoch 297/300: 100%|██████████| 5/5 [00:12<00:00,  2.45s/it, Loss=0.0267, Avg Dice=0.938, WM Dice=0.932, GM Dice=0.905, CSF Dice=0.92] \n"
     ]
    },
    {
     "name": "stdout",
     "output_type": "stream",
     "text": [
      "Epoch 297, Loss: 0.0525\n",
      "Epoch 297, Dice: 0.9381 WM Dice: 0.9316 GM Dice: 0.9045 CSF Dice: 0.9195\n"
     ]
    },
    {
     "name": "stderr",
     "output_type": "stream",
     "text": [
      "Epoch 298/300: 100%|██████████| 5/5 [00:12<00:00,  2.43s/it, Loss=0.0272, Avg Dice=0.935, WM Dice=0.879, GM Dice=0.938, CSF Dice=0.924]\n"
     ]
    },
    {
     "name": "stdout",
     "output_type": "stream",
     "text": [
      "Epoch 298, Loss: 0.0573\n",
      "Epoch 298, Dice: 0.9345 WM Dice: 0.8792 GM Dice: 0.9378 CSF Dice: 0.9243\n"
     ]
    },
    {
     "name": "stderr",
     "output_type": "stream",
     "text": [
      "Epoch 299/300: 100%|██████████| 5/5 [00:12<00:00,  2.42s/it, Loss=0.0276, Avg Dice=0.931, WM Dice=0.923, GM Dice=0.905, CSF Dice=0.9]  \n"
     ]
    },
    {
     "name": "stdout",
     "output_type": "stream",
     "text": [
      "Epoch 299, Loss: 0.0583\n",
      "Epoch 299, Dice: 0.9312 WM Dice: 0.9227 GM Dice: 0.9050 CSF Dice: 0.9000\n"
     ]
    },
    {
     "name": "stderr",
     "output_type": "stream",
     "text": [
      "Epoch 300/300: 100%|██████████| 5/5 [00:12<00:00,  2.44s/it, Loss=0.0245, Avg Dice=0.942, WM Dice=0.906, GM Dice=0.935, CSF Dice=0.929]"
     ]
    },
    {
     "name": "stdout",
     "output_type": "stream",
     "text": [
      "Epoch 300, Loss: 0.0554\n",
      "Epoch 300, Dice: 0.9419 WM Dice: 0.9060 GM Dice: 0.9354 CSF Dice: 0.9290\n"
     ]
    },
    {
     "name": "stderr",
     "output_type": "stream",
     "text": [
      "\n"
     ]
    }
   ],
   "source": [
    "# Example training loop\n",
    "for epoch in range(EPOCHS):\n",
    "    model.train()\n",
    "    epoch_loss = 0\n",
    "    epoch_dice = 0\n",
    "    progress_bar = tqdm(train_loader, total=len(train_loader), desc=f\"Epoch {epoch + 1}/{EPOCHS}\")\n",
    "    for batch in progress_bar:\n",
    "        images, masks = batch[\"image\"].to(DEVICE), batch[\"mask\"].to(DEVICE)  # Adjust keys if necessary\n",
    "\n",
    "        # Forward pass\n",
    "        outputs = model(images)\n",
    "\n",
    "        # Compute loss\n",
    "        loss = criterion(outputs, masks)\n",
    "        epoch_loss += loss.item()\n",
    "\n",
    "        # Backward pass and optimization\n",
    "        optimizer.zero_grad()\n",
    "        loss.backward()\n",
    "        optimizer.step()\n",
    "\n",
    "        # Dice score\n",
    "        dice = dice_score_3d(outputs, masks, NUM_CLASSES)\n",
    "        \n",
    "        #update the progress bar\n",
    "        progress_bar.set_postfix({\"Loss\": loss.item() / len(batch), \"Avg Dice\": np.mean(list(dice.values())), \"WM Dice\": dice[1], \"GM Dice\": dice[2], \"CSF Dice\": dice[3]})\n",
    "\n",
    "    print(f\"Epoch {epoch + 1}, Loss: {epoch_loss/len(train_loader):.4f}\")\n",
    "    print(f\"Epoch {epoch + 1}, Dice: {np.mean(list(dice.values())):.4f}\", f\"WM Dice: {dice[1]:.4f}\", f\"GM Dice: {dice[2]:.4f}\", f\"CSF Dice: {dice[3]:.4f}\")"
   ]
  },
  {
   "cell_type": "code",
   "execution_count": null,
   "metadata": {},
   "outputs": [],
   "source": []
  }
 ],
 "metadata": {
  "kernelspec": {
   "display_name": "py11",
   "language": "python",
   "name": "python3"
  },
  "language_info": {
   "codemirror_mode": {
    "name": "ipython",
    "version": 3
   },
   "file_extension": ".py",
   "mimetype": "text/x-python",
   "name": "python",
   "nbconvert_exporter": "python",
   "pygments_lexer": "ipython3",
   "version": "3.11.10"
  }
 },
 "nbformat": 4,
 "nbformat_minor": 2
}
