{
 "cells": [
  {
   "cell_type": "code",
   "execution_count": 1,
   "metadata": {},
   "outputs": [
    {
     "name": "stdout",
     "output_type": "stream",
     "text": [
      "/root/huy/BrainSegmentation\n"
     ]
    }
   ],
   "source": [
    "# Move to working directory\n",
    "%cd .."
   ]
  },
  {
   "cell_type": "code",
   "execution_count": 2,
   "metadata": {},
   "outputs": [
    {
     "data": {
      "text/html": [
       "<pre style=\"white-space:pre;overflow-x:auto;line-height:normal;font-family:Menlo,'DejaVu Sans Mono',consolas,'Courier New',monospace\">Accessing as huytrnq\n",
       "</pre>\n"
      ],
      "text/plain": [
       "Accessing as huytrnq\n"
      ]
     },
     "metadata": {},
     "output_type": "display_data"
    },
    {
     "data": {
      "text/html": [
       "<pre style=\"white-space:pre;overflow-x:auto;line-height:normal;font-family:Menlo,'DejaVu Sans Mono',consolas,'Courier New',monospace\">Initialized MLflow to track repo <span style=\"color: #008000; text-decoration-color: #008000\">\"huytrnq/BrainSegmentation\"</span>\n",
       "</pre>\n"
      ],
      "text/plain": [
       "Initialized MLflow to track repo \u001b[32m\"huytrnq/BrainSegmentation\"\u001b[0m\n"
      ]
     },
     "metadata": {},
     "output_type": "display_data"
    },
    {
     "data": {
      "text/html": [
       "<pre style=\"white-space:pre;overflow-x:auto;line-height:normal;font-family:Menlo,'DejaVu Sans Mono',consolas,'Courier New',monospace\">Repository huytrnq/BrainSegmentation initialized!\n",
       "</pre>\n"
      ],
      "text/plain": [
       "Repository huytrnq/BrainSegmentation initialized!\n"
      ]
     },
     "metadata": {},
     "output_type": "display_data"
    }
   ],
   "source": [
    "import os\n",
    "from tqdm import tqdm\n",
    "import numpy as np\n",
    "import dagshub\n",
    "dagshub.init(repo_owner='huytrnq', repo_name='BrainSegmentation', mlflow=True)\n",
    "\n",
    "import torch\n",
    "from torch.utils.data import DataLoader\n",
    "import torchio as tio\n",
    "import warnings\n",
    "warnings.filterwarnings(\"ignore\", category=UserWarning, module=\"torchio\")\n",
    "\n",
    "from utils.dataset import BrainMRIDataset, BrainMRISliceDataset\n",
    "from utils.predict import Predictor\n",
    "from utils.metric import dice_score_3d, hausdorff_distance, average_volumetric_difference\n",
    "from utils.utils import export_to_nii, evaluate_segmentation"
   ]
  },
  {
   "cell_type": "code",
   "execution_count": 8,
   "metadata": {},
   "outputs": [],
   "source": [
    "ROOT_DIR = './Data'\n",
    "BATCH_SIZE = 16\n",
    "NUM_CLASSES = 4\n",
    "NUM_WORKERS = 16\n",
    "DEVICE = 'mps' if torch.mps.is_available() else 'cuda' if torch.cuda.is_available() else 'cpu'"
   ]
  },
  {
   "cell_type": "code",
   "execution_count": 9,
   "metadata": {},
   "outputs": [],
   "source": [
    "## Transforms\n",
    "val_transform = tio.Compose([\n",
    "    tio.RescaleIntensity((0, 1)),\n",
    "    tio.ZNormalization(),\n",
    "])\n",
    "## Dataset\n",
    "val_dataset = BrainMRIDataset(os.path.join(ROOT_DIR, 'val'), transform=val_transform)"
   ]
  },
  {
   "cell_type": "markdown",
   "metadata": {},
   "source": [
    "## Patch-Based"
   ]
  },
  {
   "cell_type": "code",
   "execution_count": 5,
   "metadata": {},
   "outputs": [
    {
     "data": {
      "application/vnd.jupyter.widget-view+json": {
       "model_id": "aeebce2fc98846c79cf13a29a27fc88f",
       "version_major": 2,
       "version_minor": 0
      },
      "text/plain": [
       "Downloading artifacts:   0%|          | 0/6 [00:00<?, ?it/s]"
      ]
     },
     "metadata": {},
     "output_type": "display_data"
    },
    {
     "data": {
      "application/vnd.jupyter.widget-view+json": {
       "model_id": "fb0be946352145ff8aaac24fc6459463",
       "version_major": 2,
       "version_minor": 0
      },
      "text/plain": [
       "Downloading artifacts:   0%|          | 0/6 [00:00<?, ?it/s]"
      ]
     },
     "metadata": {},
     "output_type": "display_data"
    },
    {
     "data": {
      "application/vnd.jupyter.widget-view+json": {
       "model_id": "e0817dcb1b974579afb216ee7900a1fe",
       "version_major": 2,
       "version_minor": 0
      },
      "text/plain": [
       "Downloading artifacts:   0%|          | 0/6 [00:00<?, ?it/s]"
      ]
     },
     "metadata": {},
     "output_type": "display_data"
    },
    {
     "data": {
      "application/vnd.jupyter.widget-view+json": {
       "model_id": "fce0d1343ca244c2a92d14015c6a1634",
       "version_major": 2,
       "version_minor": 0
      },
      "text/plain": [
       "Downloading artifacts:   0%|          | 0/6 [00:00<?, ?it/s]"
      ]
     },
     "metadata": {},
     "output_type": "display_data"
    },
    {
     "data": {
      "application/vnd.jupyter.widget-view+json": {
       "model_id": "7f1c2b7e5bd6416f99402ad6815cfecf",
       "version_major": 2,
       "version_minor": 0
      },
      "text/plain": [
       "Downloading artifacts:   0%|          | 0/6 [00:00<?, ?it/s]"
      ]
     },
     "metadata": {},
     "output_type": "display_data"
    }
   ],
   "source": [
    "# Load model using MLflow\n",
    "predictor_patchs = []\n",
    "run_ids = ['94c24db36be94ebe947cdaf160c07409', '1bbaa5b686a1493bbe6a6fd83bfed272', 'dacc0d9816cc4ec5859f3e227a8bba9c', '5cabc56f7b374afd8b1c8ae12a190312', '518b7a88dad84ad788ba9d82ad81b4bd']\n",
    "patch_sizes = [64, 64, 64, 128, 128]\n",
    "for run_id, patch_size  in zip(run_ids, patch_sizes):\n",
    "    predictor_patch = Predictor(mlflow_model_uri=f\"runs:/{run_id}/model\", device=DEVICE, patch_size=patch_size)\n",
    "    predictor_patchs.append(predictor_patch)"
   ]
  },
  {
   "cell_type": "code",
   "execution_count": 10,
   "metadata": {},
   "outputs": [
    {
     "name": "stdout",
     "output_type": "stream",
     "text": [
      "\n",
      "Run ID:  94c24db36be94ebe947cdaf160c07409\n"
     ]
    },
    {
     "name": "stderr",
     "output_type": "stream",
     "text": [
      "100%|██████████| 5/5 [01:55<00:00, 23.01s/it]\n"
     ]
    },
    {
     "name": "stdout",
     "output_type": "stream",
     "text": [
      "Dice scores: {0: 0.9976367950439453, 1: 0.9245912432670593, 2: 0.9475903511047363, 3: 0.943122386932373}\n",
      "Mean Dice score: 0.9384346604347229\n",
      "Hausdorff Distances: {0: 16.673818588256836, 1: 10.618033409118652, 2: 8.398383140563965, 3: 10.22941780090332}\n",
      "Mean Hausdorff Distance: 9.748611450195312\n",
      "Average Volumetric Differences: {0: 0.0014792930540379686, 1: 0.02077716098307194, 2: 0.011930382056820154, 3: 0.007784525781830998}\n",
      "Mean Average Volumetric Difference: 0.013497356273907697\n",
      "\n",
      "Run ID:  1bbaa5b686a1493bbe6a6fd83bfed272\n"
     ]
    },
    {
     "name": "stderr",
     "output_type": "stream",
     "text": [
      "100%|██████████| 5/5 [02:01<00:00, 24.39s/it]\n"
     ]
    },
    {
     "name": "stdout",
     "output_type": "stream",
     "text": [
      "Dice scores: {0: 0.9976142644882202, 1: 0.923819363117218, 2: 0.9470298886299133, 3: 0.942984938621521}\n",
      "Mean Dice score: 0.9379447301228842\n",
      "Hausdorff Distances: {0: 16.114290237426758, 1: 8.879219055175781, 2: 7.602534294128418, 3: 7.2602949142456055}\n",
      "Mean Hausdorff Distance: 7.914016087849935\n",
      "Average Volumetric Differences: {0: 0.0017271902530647289, 1: 0.011670631773570308, 2: 0.0145210166330571, 3: 0.00736380206881939}\n",
      "Mean Average Volumetric Difference: 0.011185150158482265\n",
      "\n",
      "Run ID:  dacc0d9816cc4ec5859f3e227a8bba9c\n"
     ]
    },
    {
     "name": "stderr",
     "output_type": "stream",
     "text": [
      "100%|██████████| 5/5 [01:51<00:00, 22.26s/it]\n"
     ]
    },
    {
     "name": "stdout",
     "output_type": "stream",
     "text": [
      "Dice scores: {0: 0.997552752494812, 1: 0.9232271313667297, 2: 0.9455758333206177, 3: 0.941463828086853}\n",
      "Mean Dice score: 0.9367555975914001\n",
      "Hausdorff Distances: {0: 15.5580472946167, 1: 8.98314380645752, 2: 8.427544593811035, 3: 7.313634395599365}\n",
      "Mean Hausdorff Distance: 8.241440931955973\n",
      "Average Volumetric Differences: {0: 0.0014532187510752862, 1: 0.029738302933786175, 2: 0.01643509254680129, 3: 0.0013895253440545546}\n",
      "Mean Average Volumetric Difference: 0.01585430694154734\n",
      "\n",
      "Run ID:  5cabc56f7b374afd8b1c8ae12a190312\n"
     ]
    },
    {
     "name": "stderr",
     "output_type": "stream",
     "text": [
      "100%|██████████| 5/5 [00:11<00:00,  2.34s/it]\n"
     ]
    },
    {
     "name": "stdout",
     "output_type": "stream",
     "text": [
      "Dice scores: {0: 0.9977170825004578, 1: 0.9252330660820007, 2: 0.9494802355766296, 3: 0.9438269734382629}\n",
      "Mean Dice score: 0.9395134250322977\n",
      "Hausdorff Distances: {0: 14.598358154296875, 1: 12.326481819152832, 2: 8.476136207580566, 3: 8.453357696533203}\n",
      "Mean Hausdorff Distance: 9.751991907755533\n",
      "Average Volumetric Differences: {0: 0.000978059676645272, 1: 0.018781390430626734, 2: 0.007684422591830999, 3: 0.005771305960514641}\n",
      "Mean Average Volumetric Difference: 0.01074570632765746\n",
      "\n",
      "Run ID:  518b7a88dad84ad788ba9d82ad81b4bd\n"
     ]
    },
    {
     "name": "stderr",
     "output_type": "stream",
     "text": [
      "100%|██████████| 5/5 [00:11<00:00,  2.27s/it]\n"
     ]
    },
    {
     "name": "stdout",
     "output_type": "stream",
     "text": [
      "Dice scores: {0: 0.997692883014679, 1: 0.9277375340461731, 2: 0.9454866647720337, 3: 0.9381093978881836}\n",
      "Mean Dice score: 0.9371111989021301\n",
      "Hausdorff Distances: {0: 15.660593032836914, 1: 14.820938110351562, 2: 58.56317138671875, 3: 7.6742119789123535}\n",
      "Mean Hausdorff Distance: 27.01944049199422\n",
      "Average Volumetric Differences: {0: 0.0014271991112215403, 1: 0.019376156489302458, 2: 0.02003545258280387, 3: 0.009583403927734685}\n",
      "Mean Average Volumetric Difference: 0.016331670999947003\n"
     ]
    }
   ],
   "source": [
    "patch_predictions = []\n",
    "masks = torch.stack([subject['mask'][tio.DATA] for subject in val_dataset], dim=0).squeeze(1)\n",
    "\n",
    "overlaps = [32, 32, 32, 64, 64]\n",
    "for i, (predictor_patch, overlap) in enumerate(zip(predictor_patchs, overlaps)):\n",
    "    print('\\nRun ID: ', run_ids[i])\n",
    "    predictions = []\n",
    "    for subject in tqdm(val_dataset):\n",
    "        prediction = predictor_patch.predict_patches(subject, batch_size=BATCH_SIZE, overlap=overlap, proba=True)\n",
    "        predictions.append(prediction)\n",
    "\n",
    "    # Stack all predictions\n",
    "    predictions = torch.stack(predictions, dim=0)\n",
    "    patch_predictions.append(predictions)\n",
    "    r_dict = evaluate_segmentation(torch.argmax(predictions, dim=1), masks, num_classes=NUM_CLASSES)"
   ]
  },
  {
   "cell_type": "code",
   "execution_count": 11,
   "metadata": {},
   "outputs": [],
   "source": [
    "patch_predictions = torch.stack(patch_predictions, dim=0)"
   ]
  },
  {
   "cell_type": "code",
   "execution_count": 15,
   "metadata": {},
   "outputs": [
    {
     "name": "stdout",
     "output_type": "stream",
     "text": [
      "Dice scores: {0: 0.9978324174880981, 1: 0.9304620623588562, 2: 0.9516526460647583, 3: 0.9470009803771973}\n",
      "Mean Dice score: 0.9430385629336039\n",
      "Hausdorff Distances: {0: 15.296363830566406, 1: 8.556015968322754, 2: 7.9177985191345215, 3: 7.009108543395996}\n",
      "Mean Hausdorff Distance: 7.827641010284424\n",
      "Average Volumetric Differences: {0: 0.0014182343613559638, 1: 0.02130584192411703, 2: 0.012823655353856137, 3: 0.004749061047008058}\n",
      "Mean Average Volumetric Difference: 0.012959519441660407\n"
     ]
    }
   ],
   "source": [
    "### Ensemble\n",
    "ensemble_predictions = patch_predictions.mean(dim=0)\n",
    "ensemble_predictions = torch.argmax(ensemble_predictions, dim=1)\n",
    "patch_r_dict = evaluate_segmentation(ensemble_predictions, masks, num_classes=NUM_CLASSES)"
   ]
  },
  {
   "cell_type": "markdown",
   "metadata": {},
   "source": [
    "## Full Volume Based"
   ]
  },
  {
   "cell_type": "code",
   "execution_count": 6,
   "metadata": {},
   "outputs": [],
   "source": [
    "## Transforms\n",
    "val_transform = tio.Compose([\n",
    "    tio.RescaleIntensity((0, 1)),\n",
    "    tio.ZNormalization(),\n",
    "])\n",
    "## Dataset\n",
    "val_dataset = BrainMRIDataset(os.path.join(ROOT_DIR, 'val'), transform=val_transform)\n",
    "val_loader = tio.SubjectsLoader(val_dataset, batch_size=1, shuffle=False, num_workers=NUM_WORKERS)\n",
    "\n",
    "masks = torch.stack([subject['mask'][tio.DATA] for subject in val_dataset], dim=0).squeeze(1)"
   ]
  },
  {
   "cell_type": "code",
   "execution_count": 13,
   "metadata": {},
   "outputs": [
    {
     "data": {
      "application/vnd.jupyter.widget-view+json": {
       "model_id": "80767cab74664eb6addee8c544c487db",
       "version_major": 2,
       "version_minor": 0
      },
      "text/plain": [
       "Downloading artifacts:   0%|          | 0/6 [00:00<?, ?it/s]"
      ]
     },
     "metadata": {},
     "output_type": "display_data"
    }
   ],
   "source": [
    "# Load model using MLflow\n",
    "predictor_full = Predictor(mlflow_model_uri=\"runs:/44a7b8c0aacc44f3ab0491abdc1c7826/model\", device=DEVICE)"
   ]
  },
  {
   "cell_type": "code",
   "execution_count": 14,
   "metadata": {},
   "outputs": [
    {
     "name": "stdout",
     "output_type": "stream",
     "text": [
      "Dice scores: {0: 0.9969556927680969, 1: 0.8819906115531921, 2: 0.9205700755119324, 3: 0.9057410955429077}\n",
      "Mean Dice score: 0.9027672608693441\n",
      "Hausdorff Distances: {0: 17.789249420166016, 1: 29.957195281982422, 2: 13.71537971496582, 3: 10.623468399047852}\n",
      "Mean Hausdorff Distance: 18.0986811319987\n",
      "Average Volumetric Differences: {0: 0.0011520250208354958, 1: 0.0008855405762505216, 2: 0.0009730856329555721, 3: 0.025873939804655778}\n",
      "Mean Average Volumetric Difference: 0.00924418867128729\n"
     ]
    }
   ],
   "source": [
    "## Predict\n",
    "predictions_full = predictor_full.predict_full_volume(val_loader, proba=True).squeeze(1)\n",
    "full_r_dict = evaluate_segmentation(torch.argmax(predictions_full, dim=1), masks, num_classes=NUM_CLASSES)"
   ]
  },
  {
   "cell_type": "markdown",
   "metadata": {},
   "source": [
    "## Cross Validation"
   ]
  },
  {
   "cell_type": "code",
   "execution_count": 34,
   "metadata": {},
   "outputs": [
    {
     "data": {
      "application/vnd.jupyter.widget-view+json": {
       "model_id": "29c89474a2514ad2a4aae77098295caf",
       "version_major": 2,
       "version_minor": 0
      },
      "text/plain": [
       "Downloading artifacts:   0%|          | 0/6 [00:00<?, ?it/s]"
      ]
     },
     "metadata": {},
     "output_type": "display_data"
    },
    {
     "data": {
      "application/vnd.jupyter.widget-view+json": {
       "model_id": "1990bf06e22546fb85709961f0f242f7",
       "version_major": 2,
       "version_minor": 0
      },
      "text/plain": [
       "Downloading artifacts:   0%|          | 0/6 [00:00<?, ?it/s]"
      ]
     },
     "metadata": {},
     "output_type": "display_data"
    },
    {
     "data": {
      "application/vnd.jupyter.widget-view+json": {
       "model_id": "b615fbd9ca1f46048758e1a2c5706d79",
       "version_major": 2,
       "version_minor": 0
      },
      "text/plain": [
       "Downloading artifacts:   0%|          | 0/6 [00:00<?, ?it/s]"
      ]
     },
     "metadata": {},
     "output_type": "display_data"
    },
    {
     "data": {
      "application/vnd.jupyter.widget-view+json": {
       "model_id": "d95d980cc573490196f992f69d573cff",
       "version_major": 2,
       "version_minor": 0
      },
      "text/plain": [
       "Downloading artifacts:   0%|          | 0/6 [00:00<?, ?it/s]"
      ]
     },
     "metadata": {},
     "output_type": "display_data"
    },
    {
     "data": {
      "application/vnd.jupyter.widget-view+json": {
       "model_id": "5fe5408dcb544684b62dadb0c67a6460",
       "version_major": 2,
       "version_minor": 0
      },
      "text/plain": [
       "Downloading artifacts:   0%|          | 0/6 [00:00<?, ?it/s]"
      ]
     },
     "metadata": {},
     "output_type": "display_data"
    }
   ],
   "source": [
    "KFOLD = 5\n",
    "patch_size = 128\n",
    "predictor_cvs = []\n",
    "cv_run_id = '47240a9f9b9248e089e3ccefc97616d6'\n",
    "for k in range(KFOLD):\n",
    "    predictor_cv = Predictor(mlflow_model_uri=f\"runs:/{cv_run_id}/models/fold_{k+1}\", device=DEVICE, patch_size=patch_size)\n",
    "    predictor_cvs.append(predictor_cv)"
   ]
  },
  {
   "cell_type": "code",
   "execution_count": 36,
   "metadata": {},
   "outputs": [
    {
     "name": "stderr",
     "output_type": "stream",
     "text": [
      "100%|██████████| 5/5 [00:13<00:00,  2.70s/it]\n"
     ]
    },
    {
     "name": "stdout",
     "output_type": "stream",
     "text": [
      "Dice scores: {0: 0.9975025057792664, 1: 0.9196634292602539, 2: 0.9450166821479797, 3: 0.9386361837387085}\n",
      "Mean Dice score: 0.9344387650489807\n",
      "Hausdorff Distances: {0: 14.652447700500488, 1: 13.96502685546875, 2: 8.125859260559082, 3: 8.808526039123535}\n",
      "Mean Hausdorff Distance: 10.299804051717123\n",
      "Average Volumetric Differences: {0: 0.0018275517210720347, 1: 0.040060798307691506, 2: 0.015015512280160325, 3: 0.009682899400406349}\n",
      "Mean Average Volumetric Difference: 0.021586403329419395\n",
      "=====================================\n",
      "\n"
     ]
    },
    {
     "name": "stderr",
     "output_type": "stream",
     "text": [
      "100%|██████████| 5/5 [00:12<00:00,  2.40s/it]\n"
     ]
    },
    {
     "name": "stdout",
     "output_type": "stream",
     "text": [
      "Dice scores: {0: 0.9975084066390991, 1: 0.920093834400177, 2: 0.9472190737724304, 3: 0.9449449777603149}\n",
      "Mean Dice score: 0.9374192953109741\n",
      "Hausdorff Distances: {0: 16.00098991394043, 1: 17.73281478881836, 2: 7.530290126800537, 3: 8.366315841674805}\n",
      "Mean Hausdorff Distance: 11.2098069190979\n",
      "Average Volumetric Differences: {0: 0.0021549290804923804, 1: 0.03413957176798653, 2: 0.018204313331296407, 3: 0.009855168704517858}\n",
      "Mean Average Volumetric Difference: 0.020733017934600265\n",
      "=====================================\n",
      "\n"
     ]
    },
    {
     "name": "stderr",
     "output_type": "stream",
     "text": [
      "100%|██████████| 5/5 [00:12<00:00,  2.52s/it]\n"
     ]
    },
    {
     "name": "stdout",
     "output_type": "stream",
     "text": [
      "Dice scores: {0: 0.9974645376205444, 1: 0.9166332483291626, 2: 0.9462777972221375, 3: 0.9426630139350891}\n",
      "Mean Dice score: 0.9351913531621298\n",
      "Hausdorff Distances: {0: 14.819279670715332, 1: 13.953651428222656, 2: 8.467630386352539, 3: 8.676583290100098}\n",
      "Mean Hausdorff Distance: 10.365955034891764\n",
      "Average Volumetric Differences: {0: 0.0022740399948648856, 1: 0.03707375099078676, 2: 0.0075469522338769725, 3: 0.033792073792645864}\n",
      "Mean Average Volumetric Difference: 0.026137592339103195\n",
      "=====================================\n",
      "\n"
     ]
    },
    {
     "name": "stderr",
     "output_type": "stream",
     "text": [
      "100%|██████████| 5/5 [00:12<00:00,  2.54s/it]\n"
     ]
    },
    {
     "name": "stdout",
     "output_type": "stream",
     "text": [
      "Dice scores: {0: 0.9975630044937134, 1: 0.9168203473091125, 2: 0.9461957216262817, 3: 0.9386836290359497}\n",
      "Mean Dice score: 0.9338998993237814\n",
      "Hausdorff Distances: {0: 15.70568561553955, 1: 11.619071960449219, 2: 8.108404159545898, 3: 8.50373649597168}\n",
      "Mean Hausdorff Distance: 9.410404205322266\n",
      "Average Volumetric Differences: {0: 0.0017708934086594135, 1: 0.04344435633038007, 2: 0.004285155558785965, 3: 0.030128934761654257}\n",
      "Mean Average Volumetric Difference: 0.025952815550273428\n",
      "=====================================\n",
      "\n"
     ]
    },
    {
     "name": "stderr",
     "output_type": "stream",
     "text": [
      "100%|██████████| 5/5 [00:13<00:00,  2.71s/it]\n"
     ]
    },
    {
     "name": "stdout",
     "output_type": "stream",
     "text": [
      "Dice scores: {0: 0.9974303245544434, 1: 0.9126714468002319, 2: 0.9439105987548828, 3: 0.9401819109916687}\n",
      "Mean Dice score: 0.9322546521822611\n",
      "Hausdorff Distances: {0: 17.27603530883789, 1: 17.70833969116211, 2: 7.98715353012085, 3: 9.23741340637207}\n",
      "Mean Hausdorff Distance: 11.644302209218344\n",
      "Average Volumetric Differences: {0: 0.0018804109474135733, 1: 0.0495374041759247, 2: 0.014048391270173833, 3: 0.01312601130040405}\n",
      "Mean Average Volumetric Difference: 0.025570602248834198\n",
      "=====================================\n",
      "\n"
     ]
    }
   ],
   "source": [
    "cv_predictions = []\n",
    "masks = torch.stack([subject['mask'][tio.DATA] for subject in val_dataset], dim=0).squeeze(1)\n",
    "\n",
    "overlap = 64\n",
    "for i, predictor_cv in enumerate(predictor_cvs):\n",
    "    cv_predictions = []\n",
    "    for subject in tqdm(val_dataset):\n",
    "        prediction = predictor_cv.predict_patches(subject, batch_size=BATCH_SIZE, overlap=overlap, proba=True)\n",
    "        cv_predictions.append(prediction)\n",
    "\n",
    "    # Stack all cv_predictions\n",
    "    predictions = torch.stack(predictions, dim=0)\n",
    "    cv_predictions.append(predictions)\n",
    "    r_dict = evaluate_segmentation(torch.argmax(predictions, dim=1), masks, num_classes=NUM_CLASSES)\n",
    "    print(\"=====================================\\n\")"
   ]
  },
  {
   "cell_type": "code",
   "execution_count": 37,
   "metadata": {},
   "outputs": [],
   "source": [
    "cv_predictions = torch.stack(cv_predictions, dim=0)"
   ]
  },
  {
   "cell_type": "code",
   "execution_count": 40,
   "metadata": {},
   "outputs": [
    {
     "name": "stdout",
     "output_type": "stream",
     "text": [
      "Dice scores: {0: 0.9976717829704285, 1: 0.924658477306366, 2: 0.9498182535171509, 3: 0.9454354047775269}\n",
      "Mean Dice score: 0.9399707118670145\n",
      "Hausdorff Distances: {0: 14.265218734741211, 1: 13.700634956359863, 2: 7.729846000671387, 3: 7.69365930557251}\n",
      "Mean Hausdorff Distance: 9.708046754201254\n",
      "Average Volumetric Differences: {0: 0.0019875233093745296, 1: 0.03683584456731647, 2: 0.010816985769258613, 3: 0.021276111876108648}\n",
      "Mean Average Volumetric Difference: 0.022976314070894576\n"
     ]
    }
   ],
   "source": [
    "### Ensemble\n",
    "cv_ensemble_predictions = cv_predictions.mean(dim=0)\n",
    "cv_r_dict = evaluate_segmentation(torch.argmax(cv_ensemble_predictions, dim=1), masks, num_classes=NUM_CLASSES)"
   ]
  },
  {
   "cell_type": "markdown",
   "metadata": {},
   "source": [
    "## Slice-Based"
   ]
  },
  {
   "cell_type": "code",
   "execution_count": 8,
   "metadata": {},
   "outputs": [],
   "source": [
    "BATCH_SIZE = 16\n",
    "NUM_CLASSES = 4\n",
    "N_TEST = 5"
   ]
  },
  {
   "cell_type": "code",
   "execution_count": 10,
   "metadata": {},
   "outputs": [
    {
     "name": "stderr",
     "output_type": "stream",
     "text": [
      "/root/miniconda3/envs/py11/lib/python3.11/site-packages/albumentations/__init__.py:24: UserWarning: A new version of Albumentations is available: 2.0.0 (you have 1.4.24). Upgrade using: pip install -U albumentations. To disable automatic update checks, set the environment variable NO_ALBUMENTATIONS_UPDATE to 1.\n",
      "  check_for_updates()\n"
     ]
    }
   ],
   "source": [
    "import albumentations as A\n",
    "from utils.transforms import RobustZNormalization\n",
    "from albumentations.pytorch import ToTensorV2\n",
    "\n",
    "test_transform = A.Compose([\n",
    "        A.Normalize(mean=(0,), std=(1,), max_pixel_value=1.0, p=1.0),\n",
    "        RobustZNormalization(),\n",
    "        ToTensorV2()\n",
    "], additional_targets={'mask': 'mask'})"
   ]
  },
  {
   "cell_type": "markdown",
   "metadata": {},
   "source": [
    "### Axial"
   ]
  },
  {
   "cell_type": "code",
   "execution_count": 11,
   "metadata": {},
   "outputs": [],
   "source": [
    "axial_dataset = BrainMRISliceDataset(os.path.join(ROOT_DIR, 'val'), slice_axis=0, transform=test_transform, cache=True, ignore_background=False)\n",
    "axial_loader = DataLoader(axial_dataset, batch_size=BATCH_SIZE, shuffle=False, num_workers=NUM_WORKERS)\n",
    "axial_labels = torch.cat([mask for _, mask, _, _ in axial_loader], dim=0).squeeze(1).reshape(N_TEST, -1, 128, 256)"
   ]
  },
  {
   "cell_type": "code",
   "execution_count": 12,
   "metadata": {},
   "outputs": [
    {
     "data": {
      "application/vnd.jupyter.widget-view+json": {
       "model_id": "d57d60fd3138444c924efa1400b7ddbb",
       "version_major": 2,
       "version_minor": 0
      },
      "text/plain": [
       "Downloading artifacts:   0%|          | 0/6 [00:00<?, ?it/s]"
      ]
     },
     "metadata": {},
     "output_type": "display_data"
    }
   ],
   "source": [
    "axial_predictor = Predictor(mlflow_model_uri=\"runs:/bb8ff770bd7f495e9151a575eda3624a/model\", device=DEVICE)\n",
    "axial_probs = axial_predictor.predice_slices(axial_loader, proba=True, plane='axial')"
   ]
  },
  {
   "cell_type": "markdown",
   "metadata": {},
   "source": [
    "### Coronal"
   ]
  },
  {
   "cell_type": "code",
   "execution_count": 13,
   "metadata": {},
   "outputs": [],
   "source": [
    "coronal_dataset = BrainMRISliceDataset(os.path.join(ROOT_DIR, 'val'), slice_axis=1, transform=test_transform, cache=True, ignore_background=False)\n",
    "coronal_loader = DataLoader(coronal_dataset, batch_size=BATCH_SIZE, shuffle=False, num_workers=NUM_WORKERS)\n",
    "coronal_labels = torch.cat([mask for _, mask, _, _ in coronal_loader], dim=0).squeeze(1).reshape(N_TEST, -1, 256, 256).permute(0, 2, 1, 3)"
   ]
  },
  {
   "cell_type": "code",
   "execution_count": 14,
   "metadata": {},
   "outputs": [
    {
     "data": {
      "application/vnd.jupyter.widget-view+json": {
       "model_id": "e54a0e052f854770b9c2a2aa2ac403ae",
       "version_major": 2,
       "version_minor": 0
      },
      "text/plain": [
       "Downloading artifacts:   0%|          | 0/6 [00:00<?, ?it/s]"
      ]
     },
     "metadata": {},
     "output_type": "display_data"
    }
   ],
   "source": [
    "coronal_predictor = Predictor(mlflow_model_uri=\"runs:/e05a0eacc46146c9a56e70a185e35eed/model\", device=DEVICE)\n",
    "coronal_probs = coronal_predictor.predice_slices(coronal_loader, proba=True, plane='coronal')"
   ]
  },
  {
   "cell_type": "markdown",
   "metadata": {},
   "source": [
    "### Sagittal"
   ]
  },
  {
   "cell_type": "code",
   "execution_count": 15,
   "metadata": {},
   "outputs": [],
   "source": [
    "sagittal_dataset = BrainMRISliceDataset(os.path.join(ROOT_DIR, 'val'), slice_axis=2, transform=test_transform, cache=True, ignore_background=False)\n",
    "sagittal_loader = DataLoader(sagittal_dataset, batch_size=BATCH_SIZE, shuffle=False, num_workers=NUM_WORKERS)\n",
    "sagittal_labels = torch.cat([mask for _, mask, _, _ in sagittal_loader], dim=0).squeeze(1).reshape(N_TEST, -1, 256, 128).permute(0, 2, 3, 1)"
   ]
  },
  {
   "cell_type": "code",
   "execution_count": 16,
   "metadata": {},
   "outputs": [
    {
     "data": {
      "application/vnd.jupyter.widget-view+json": {
       "model_id": "3998d20fbdcf4446bdb605afe98f2890",
       "version_major": 2,
       "version_minor": 0
      },
      "text/plain": [
       "Downloading artifacts:   0%|          | 0/6 [00:00<?, ?it/s]"
      ]
     },
     "metadata": {},
     "output_type": "display_data"
    }
   ],
   "source": [
    "sagittal_predictor = Predictor(mlflow_model_uri=\"runs:/bdc118531a4a4e0fb4ffa9dc8fb0d83d/model\", device=DEVICE)\n",
    "sagittal_probs = sagittal_predictor.predice_slices(sagittal_loader, proba=True, plane='sagittal')"
   ]
  },
  {
   "cell_type": "markdown",
   "metadata": {},
   "source": [
    "### Ensemble"
   ]
  },
  {
   "cell_type": "code",
   "execution_count": 26,
   "metadata": {},
   "outputs": [],
   "source": [
    "slice_probs = (axial_probs + coronal_probs + sagittal_probs) / 3\n",
    "slice_predictions = torch.argmax(slice_probs, dim=1)"
   ]
  },
  {
   "cell_type": "code",
   "execution_count": 18,
   "metadata": {},
   "outputs": [
    {
     "name": "stdout",
     "output_type": "stream",
     "text": [
      "Dice scores: {0: 0.9975493550300598, 1: 0.9201601147651672, 2: 0.9435482025146484, 3: 0.9394735097885132}\n",
      "Mean Dice score: 0.9343939423561096\n",
      "Hausdorff Distances: {0: 17.761503219604492, 1: 11.132668495178223, 2: 9.03249740600586, 3: 7.8488569259643555}\n",
      "Mean Hausdorff Distance: 9.338007609049479\n",
      "Average Volumetric Differences: {0: 0.0003300011886492948, 1: 0.000978059740933412, 2: 0.004361559538723224, 3: 0.015637277030636852}\n",
      "Mean Average Volumetric Difference: 0.006992298770097829\n"
     ]
    }
   ],
   "source": [
    "slice_r_dict = evaluate_segmentation(slice_predictions, axial_labels, NUM_CLASSES, include_background=True)"
   ]
  },
  {
   "cell_type": "markdown",
   "metadata": {},
   "source": [
    "## Ensemble Validation"
   ]
  },
  {
   "cell_type": "markdown",
   "metadata": {},
   "source": [
    "### Patch-Based + Slice-Based"
   ]
  },
  {
   "cell_type": "code",
   "execution_count": 30,
   "metadata": {},
   "outputs": [
    {
     "name": "stdout",
     "output_type": "stream",
     "text": [
      "Dice scores: {0: 0.9978084564208984, 1: 0.9305034875869751, 2: 0.9511961936950684, 3: 0.9458341598510742}\n",
      "Mean Dice score: 0.9425112803777059\n",
      "Hausdorff Distances: {0: 15.172632217407227, 1: 8.432571411132812, 2: 7.747807502746582, 3: 7.054324150085449}\n",
      "Mean Hausdorff Distance: 7.744901021321614\n",
      "Average Volumetric Differences: {0: 0.0014154465428002055, 1: 0.016217287866558062, 2: 0.010215410938377148, 3: 0.009693133220452578}\n",
      "Mean Average Volumetric Difference: 0.012041944008462596\n"
     ]
    }
   ],
   "source": [
    "# Concat patch_predictions and slice_predictions\n",
    "final_predictions = torch.cat([patch_predictions, slice_probs.unsqueeze(0)], dim=0)\n",
    "final_predictions = final_predictions.mean(dim=0)\n",
    "final_predictions = torch.argmax(final_predictions, dim=1)\n",
    "slice_r_dict = evaluate_segmentation(final_predictions, masks, NUM_CLASSES, include_background=True)"
   ]
  },
  {
   "cell_type": "markdown",
   "metadata": {},
   "source": [
    "### Patch-Based + Cross Validation"
   ]
  },
  {
   "cell_type": "code",
   "execution_count": 41,
   "metadata": {},
   "outputs": [
    {
     "name": "stdout",
     "output_type": "stream",
     "text": [
      "Dice scores: {0: 0.9978310465812683, 1: 0.9303766489028931, 2: 0.9519494771957397, 3: 0.9474298357963562}\n",
      "Mean Dice score: 0.9432519872983297\n",
      "Hausdorff Distances: {0: 15.282182693481445, 1: 8.485294342041016, 2: 7.990594387054443, 3: 7.049042701721191}\n",
      "Mean Hausdorff Distance: 7.841643810272217\n",
      "Average Volumetric Differences: {0: 0.0015141954490938863, 1: 0.02392281258229021, 2: 0.01226780929907095, 3: 0.00797044017933748}\n",
      "Mean Average Volumetric Difference: 0.014720354020232878\n"
     ]
    }
   ],
   "source": [
    "# Concat patch_predictions and slice_predictions\n",
    "final_predictions = torch.cat([patch_predictions, cv_ensemble_predictions.unsqueeze(0)], dim=0)\n",
    "final_predictions = final_predictions.mean(dim=0)\n",
    "final_predictions = torch.argmax(final_predictions, dim=1)\n",
    "slice_r_dict = evaluate_segmentation(final_predictions, masks, NUM_CLASSES, include_background=True)"
   ]
  },
  {
   "cell_type": "markdown",
   "metadata": {},
   "source": [
    "## Prediction"
   ]
  },
  {
   "cell_type": "code",
   "execution_count": 8,
   "metadata": {},
   "outputs": [],
   "source": [
    "## Transforms\n",
    "test_transform = tio.Compose([\n",
    "    tio.RescaleIntensity((0, 1)),\n",
    "    tio.ZNormalization(),\n",
    "])\n",
    "## Dataset\n",
    "test_dataset = BrainMRIDataset(os.path.join(ROOT_DIR, 'test'), transform=test_transform)"
   ]
  },
  {
   "cell_type": "code",
   "execution_count": 9,
   "metadata": {},
   "outputs": [
    {
     "name": "stderr",
     "output_type": "stream",
     "text": [
      "  0%|          | 0/3 [00:00<?, ?it/s]"
     ]
    },
    {
     "name": "stderr",
     "output_type": "stream",
     "text": [
      "100%|██████████| 3/3 [00:34<00:00, 11.58s/it]\n",
      "100%|██████████| 3/3 [00:37<00:00, 12.39s/it]\n",
      "100%|██████████| 3/3 [00:36<00:00, 12.21s/it]\n",
      "100%|██████████| 3/3 [00:04<00:00,  1.56s/it]\n",
      "100%|██████████| 3/3 [00:04<00:00,  1.58s/it]\n"
     ]
    }
   ],
   "source": [
    "predictions = []\n",
    "\n",
    "overlaps = [32, 32, 32, 64, 64]\n",
    "for predictor_patch, overlap in zip(predictor_patchs, overlaps):\n",
    "    patch_predictions = []\n",
    "    for subject in tqdm(test_dataset):\n",
    "        prediction = predictor_patch.predict_patches(subject, batch_size=BATCH_SIZE, overlap=overlap, proba=True)\n",
    "        patch_predictions.append(prediction)\n",
    "\n",
    "    # Stack all patch_predictions\n",
    "    patch_predictions = torch.stack(patch_predictions, dim=0)\n",
    "    predictions.append(patch_predictions)\n",
    "\n",
    "### Ensemble\n",
    "ensemble_predictions = torch.stack(predictions, dim=0)\n",
    "ensemble_predictions = ensemble_predictions.mean(dim=0)\n",
    "ensemble_predictions = torch.argmax(ensemble_predictions, dim=1)"
   ]
  },
  {
   "cell_type": "code",
   "execution_count": 10,
   "metadata": {},
   "outputs": [
    {
     "name": "stdout",
     "output_type": "stream",
     "text": [
      "Saved NIfTI file to ./results/IBSR_02.nii.gz\n",
      "Saved NIfTI file to ./results/IBSR_10.nii.gz\n",
      "Saved NIfTI file to ./results/IBSR_15.nii.gz\n"
     ]
    }
   ],
   "source": [
    "for i, subject in enumerate(test_dataset):\n",
    "    affine = subject['image'].affine\n",
    "    spacing = subject['image'].spacing\n",
    "    name = subject['image'].path.name\n",
    "    export_to_nii(ensemble_predictions[i].numpy().astype(np.int16), f'./results/{name}', spacing, affine)"
   ]
  },
  {
   "cell_type": "markdown",
   "metadata": {},
   "source": []
  }
 ],
 "metadata": {
  "kernelspec": {
   "display_name": "py11",
   "language": "python",
   "name": "python3"
  },
  "language_info": {
   "codemirror_mode": {
    "name": "ipython",
    "version": 3
   },
   "file_extension": ".py",
   "mimetype": "text/x-python",
   "name": "python",
   "nbconvert_exporter": "python",
   "pygments_lexer": "ipython3",
   "version": "3.11.10"
  }
 },
 "nbformat": 4,
 "nbformat_minor": 2
}
