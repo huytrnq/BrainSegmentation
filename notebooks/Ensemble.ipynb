{
 "cells": [
  {
   "cell_type": "code",
   "execution_count": 1,
   "metadata": {},
   "outputs": [
    {
     "name": "stdout",
     "output_type": "stream",
     "text": [
      "/root/huy/BrainSegmentation\n"
     ]
    }
   ],
   "source": [
    "# Move to working directory\n",
    "%cd .."
   ]
  },
  {
   "cell_type": "code",
   "execution_count": null,
   "metadata": {},
   "outputs": [
    {
     "data": {
      "text/html": [
       "<pre style=\"white-space:pre;overflow-x:auto;line-height:normal;font-family:Menlo,'DejaVu Sans Mono',consolas,'Courier New',monospace\">Accessing as huytrnq\n",
       "</pre>\n"
      ],
      "text/plain": [
       "Accessing as huytrnq\n"
      ]
     },
     "metadata": {},
     "output_type": "display_data"
    },
    {
     "data": {
      "text/html": [
       "<pre style=\"white-space:pre;overflow-x:auto;line-height:normal;font-family:Menlo,'DejaVu Sans Mono',consolas,'Courier New',monospace\">Initialized MLflow to track repo <span style=\"color: #008000; text-decoration-color: #008000\">\"huytrnq/BrainSegmentation\"</span>\n",
       "</pre>\n"
      ],
      "text/plain": [
       "Initialized MLflow to track repo \u001b[32m\"huytrnq/BrainSegmentation\"\u001b[0m\n"
      ]
     },
     "metadata": {},
     "output_type": "display_data"
    },
    {
     "data": {
      "text/html": [
       "<pre style=\"white-space:pre;overflow-x:auto;line-height:normal;font-family:Menlo,'DejaVu Sans Mono',consolas,'Courier New',monospace\">Repository huytrnq/BrainSegmentation initialized!\n",
       "</pre>\n"
      ],
      "text/plain": [
       "Repository huytrnq/BrainSegmentation initialized!\n"
      ]
     },
     "metadata": {},
     "output_type": "display_data"
    }
   ],
   "source": [
    "import os\n",
    "from tqdm import tqdm\n",
    "import numpy as np\n",
    "import dagshub\n",
    "dagshub.init(repo_owner='huytrnq', repo_name='BrainSegmentation', mlflow=True)\n",
    "\n",
    "import torch\n",
    "import torchio as tio\n",
    "import warnings\n",
    "warnings.filterwarnings(\"ignore\", category=UserWarning, module=\"torchio\")\n",
    "\n",
    "from utils.dataset import BrainMRIDataset, BrainMRISliceDataset\n",
    "from utils.predict import Predictor\n",
    "from utils.metric import dice_score_3d, hausdorff_distance, average_volumetric_difference\n",
    "from utils.utils import export_to_nii"
   ]
  },
  {
   "cell_type": "code",
   "execution_count": 3,
   "metadata": {},
   "outputs": [],
   "source": [
    "ROOT_DIR = './Data'\n",
    "BATCH_SIZE = 16\n",
    "NUM_CLASSES = 4\n",
    "NUM_WORKERS = 16\n",
    "DEVICE = 'mps' if torch.mps.is_available() else 'cuda' if torch.cuda.is_available() else 'cpu'"
   ]
  },
  {
   "cell_type": "markdown",
   "metadata": {},
   "source": [
    "## Patch-Based"
   ]
  },
  {
   "cell_type": "code",
   "execution_count": 4,
   "metadata": {},
   "outputs": [],
   "source": [
    "## Transforms\n",
    "val_transform = tio.Compose([\n",
    "    tio.RescaleIntensity((0, 1)),\n",
    "    tio.ZNormalization(),\n",
    "])\n",
    "## Dataset\n",
    "val_dataset = BrainMRIDataset(os.path.join(ROOT_DIR, 'val'), transform=val_transform)"
   ]
  },
  {
   "cell_type": "code",
   "execution_count": 15,
   "metadata": {},
   "outputs": [
    {
     "data": {
      "application/vnd.jupyter.widget-view+json": {
       "model_id": "c826ca7b3a15479c95f751d482f572e4",
       "version_major": 2,
       "version_minor": 0
      },
      "text/plain": [
       "Downloading artifacts:   0%|          | 0/6 [00:00<?, ?it/s]"
      ]
     },
     "metadata": {},
     "output_type": "display_data"
    },
    {
     "data": {
      "application/vnd.jupyter.widget-view+json": {
       "model_id": "879fa27f45ba461388ee7514a68a15d7",
       "version_major": 2,
       "version_minor": 0
      },
      "text/plain": [
       "Downloading artifacts:   0%|          | 0/6 [00:00<?, ?it/s]"
      ]
     },
     "metadata": {},
     "output_type": "display_data"
    },
    {
     "data": {
      "application/vnd.jupyter.widget-view+json": {
       "model_id": "5d0bc973233f4810976b9d2b6351cbb8",
       "version_major": 2,
       "version_minor": 0
      },
      "text/plain": [
       "Downloading artifacts:   0%|          | 0/6 [00:00<?, ?it/s]"
      ]
     },
     "metadata": {},
     "output_type": "display_data"
    },
    {
     "data": {
      "application/vnd.jupyter.widget-view+json": {
       "model_id": "13cbd5953fc14308bd81f7fe9580d950",
       "version_major": 2,
       "version_minor": 0
      },
      "text/plain": [
       "Downloading artifacts:   0%|          | 0/6 [00:00<?, ?it/s]"
      ]
     },
     "metadata": {},
     "output_type": "display_data"
    },
    {
     "data": {
      "application/vnd.jupyter.widget-view+json": {
       "model_id": "8159d42010c34b6dbb2a79ba5a1d2644",
       "version_major": 2,
       "version_minor": 0
      },
      "text/plain": [
       "Downloading artifacts:   0%|          | 0/6 [00:00<?, ?it/s]"
      ]
     },
     "metadata": {},
     "output_type": "display_data"
    }
   ],
   "source": [
    "# Load model using MLflow\n",
    "predictor_patchs = []\n",
    "run_ids = ['94c24db36be94ebe947cdaf160c07409', '1bbaa5b686a1493bbe6a6fd83bfed272', 'dacc0d9816cc4ec5859f3e227a8bba9c', '5cabc56f7b374afd8b1c8ae12a190312', '518b7a88dad84ad788ba9d82ad81b4bd']\n",
    "# run_ids = ['94c24db36be94ebe947cdaf160c07409']\n",
    "patch_sizes = [64, 64, 64, 128, 128]\n",
    "for run_id, patch_size  in zip(run_ids, patch_sizes):\n",
    "    predictor_patch = Predictor(mlflow_model_uri=f\"runs:/{run_id}/model\", device=DEVICE, patch_size=patch_size)\n",
    "    predictor_patchs.append(predictor_patch)"
   ]
  },
  {
   "cell_type": "code",
   "execution_count": 36,
   "metadata": {},
   "outputs": [
    {
     "name": "stdout",
     "output_type": "stream",
     "text": [
      "Run ID:  94c24db36be94ebe947cdaf160c07409\n"
     ]
    },
    {
     "name": "stderr",
     "output_type": "stream",
     "text": [
      "  0%|          | 0/5 [00:00<?, ?it/s]/root/miniconda3/envs/py11/lib/python3.11/site-packages/torchio/data/image.py:248: UserWarning: Using TorchIO images without a torchio.SubjectsLoader in PyTorch >= 2.3 might have unexpected consequences, e.g., the collated batches will be instances of torchio.Subject with 5D images. Replace your PyTorch DataLoader with a torchio.SubjectsLoader so that the collated batch becomes a dictionary, as expected. See https://github.com/fepegar/torchio/issues/1179 for more context about this issue.\n",
      "  warnings.warn(message, stacklevel=1)\n",
      "100%|██████████| 5/5 [03:08<00:00, 37.71s/it]\n"
     ]
    },
    {
     "name": "stdout",
     "output_type": "stream",
     "text": [
      "Dice score: {0: 0.9976367950439453, 1: 0.9245912432670593, 2: 0.9475903511047363, 3: 0.943122386932373}\n",
      "Mean Dice score:  0.9384346604347229\n",
      "Hausdorff distance: {0: 16.673818588256836, 1: 10.618033409118652, 2: 8.398383140563965, 3: 10.22941780090332}\n",
      "Mean Hausdorff distance:  9.748611450195312\n",
      "Average volumetric difference: {0: 0.0014792930540379686, 1: 0.02077716098307194, 2: 0.011930382056820154, 3: 0.007784525781830998}\n",
      "Mean Average volumetric difference:  0.013497356273907697\n",
      "==================================================\n",
      "Run ID:  1bbaa5b686a1493bbe6a6fd83bfed272\n"
     ]
    },
    {
     "name": "stderr",
     "output_type": "stream",
     "text": [
      "100%|██████████| 5/5 [03:10<00:00, 38.18s/it]\n"
     ]
    },
    {
     "name": "stdout",
     "output_type": "stream",
     "text": [
      "Dice score: {0: 0.9976142644882202, 1: 0.923819363117218, 2: 0.9470298886299133, 3: 0.942984938621521}\n",
      "Mean Dice score:  0.9379447301228842\n",
      "Hausdorff distance: {0: 16.114290237426758, 1: 8.879219055175781, 2: 7.602534294128418, 3: 7.2602949142456055}\n",
      "Mean Hausdorff distance:  7.914016087849935\n",
      "Average volumetric difference: {0: 0.0017271902530647289, 1: 0.011670631773570308, 2: 0.0145210166330571, 3: 0.00736380206881939}\n",
      "Mean Average volumetric difference:  0.011185150158482265\n",
      "==================================================\n",
      "Run ID:  dacc0d9816cc4ec5859f3e227a8bba9c\n"
     ]
    },
    {
     "name": "stderr",
     "output_type": "stream",
     "text": [
      "100%|██████████| 5/5 [03:08<00:00, 37.66s/it]\n"
     ]
    },
    {
     "name": "stdout",
     "output_type": "stream",
     "text": [
      "Dice score: {0: 0.997552752494812, 1: 0.9232271313667297, 2: 0.9455758333206177, 3: 0.941463828086853}\n",
      "Mean Dice score:  0.9367555975914001\n",
      "Hausdorff distance: {0: 15.5580472946167, 1: 8.98314380645752, 2: 8.427544593811035, 3: 7.313634395599365}\n",
      "Mean Hausdorff distance:  8.241440931955973\n",
      "Average volumetric difference: {0: 0.0014532187510752862, 1: 0.029738302933786175, 2: 0.01643509254680129, 3: 0.0013895253440545546}\n",
      "Mean Average volumetric difference:  0.01585430694154734\n",
      "==================================================\n",
      "Run ID:  5cabc56f7b374afd8b1c8ae12a190312\n"
     ]
    },
    {
     "name": "stderr",
     "output_type": "stream",
     "text": [
      "100%|██████████| 5/5 [00:18<00:00,  3.75s/it]\n"
     ]
    },
    {
     "name": "stdout",
     "output_type": "stream",
     "text": [
      "Dice score: {0: 0.9977170825004578, 1: 0.9252330660820007, 2: 0.9494802355766296, 3: 0.9438269734382629}\n",
      "Mean Dice score:  0.9395134250322977\n",
      "Hausdorff distance: {0: 14.598358154296875, 1: 12.326481819152832, 2: 8.476136207580566, 3: 8.453357696533203}\n",
      "Mean Hausdorff distance:  9.751991907755533\n",
      "Average volumetric difference: {0: 0.000978059676645272, 1: 0.018781390430626734, 2: 0.007684422591830999, 3: 0.005771305960514641}\n",
      "Mean Average volumetric difference:  0.01074570632765746\n",
      "==================================================\n",
      "Run ID:  518b7a88dad84ad788ba9d82ad81b4bd\n"
     ]
    },
    {
     "name": "stderr",
     "output_type": "stream",
     "text": [
      "100%|██████████| 5/5 [00:19<00:00,  3.99s/it]\n"
     ]
    },
    {
     "name": "stdout",
     "output_type": "stream",
     "text": [
      "Dice score: {0: 0.997692883014679, 1: 0.9277375340461731, 2: 0.9454866647720337, 3: 0.9381093978881836}\n",
      "Mean Dice score:  0.9371111989021301\n",
      "Hausdorff distance: {0: 15.660593032836914, 1: 14.820938110351562, 2: 58.56317138671875, 3: 7.6742119789123535}\n",
      "Mean Hausdorff distance:  27.01944049199422\n",
      "Average volumetric difference: {0: 0.0014271991112215403, 1: 0.019376156489302458, 2: 0.02003545258280387, 3: 0.009583403927734685}\n",
      "Mean Average volumetric difference:  0.016331670999947003\n",
      "==================================================\n"
     ]
    }
   ],
   "source": [
    "predictions = []\n",
    "masks = torch.stack([subject['mask'][tio.DATA] for subject in val_dataset], dim=0)\n",
    "\n",
    "overlaps = [32, 32, 32, 64, 64]\n",
    "for i, (predictor_patch, overlap) in enumerate(zip(predictor_patchs, overlaps)):\n",
    "    print('Run ID: ', run_ids[i])\n",
    "    patch_predictions = []\n",
    "    for subject in tqdm(val_dataset):\n",
    "        prediction = predictor_patch.predict_patches(subject, batch_size=BATCH_SIZE, overlap=overlap, proba=True)\n",
    "        patch_predictions.append(prediction)\n",
    "\n",
    "    # Stack all patch_predictions\n",
    "    patch_predictions = torch.stack(patch_predictions, dim=0)\n",
    "    predictions.append(patch_predictions)\n",
    "    dice = dice_score_3d(torch.argmax(patch_predictions, dim=1), masks.squeeze(1), num_classes=NUM_CLASSES)\n",
    "    hd = hausdorff_distance(torch.argmax(patch_predictions, dim=1),masks.squeeze(1),num_classes=NUM_CLASSES, include_background=True)\n",
    "    avd = average_volumetric_difference(torch.argmax(patch_predictions, dim=1), masks.squeeze(1), num_classes=NUM_CLASSES)\n",
    "    print(f\"Dice score: {dice}\")\n",
    "    print(\"Mean Dice score: \", np.mean(list(dice.values())[1:]))\n",
    "    print(f\"Hausdorff distance: {hd}\")\n",
    "    print(\"Mean Hausdorff distance: \", np.mean(list(hd.values())[1:]))\n",
    "    print(f\"Average volumetric difference: {avd}\")\n",
    "    print(\"Mean Average volumetric difference: \", np.mean(list(avd.values())[1:]))\n",
    "    print(\"=====================================\\n\")"
   ]
  },
  {
   "cell_type": "code",
   "execution_count": 37,
   "metadata": {},
   "outputs": [
    {
     "name": "stdout",
     "output_type": "stream",
     "text": [
      "Ensemble Dice score: {0: 0.9978324174880981, 1: 0.9304620623588562, 2: 0.9516526460647583, 3: 0.9470009803771973}\n",
      "Ensemble Mean Dice score:  0.9430385629336039\n"
     ]
    }
   ],
   "source": [
    "### Ensemble\n",
    "ensemble_predictions = torch.stack(predictions, dim=0)\n",
    "ensemble_predictions = ensemble_predictions.mean(dim=0)\n",
    "dice = dice_score_3d(torch.argmax(ensemble_predictions, dim=1), masks.squeeze(1), num_classes=NUM_CLASSES)\n",
    "print(f\"Ensemble Dice score: {dice}\")\n",
    "print(\"Ensemble Mean Dice score: \", np.mean(list(dice.values())[1:]))"
   ]
  },
  {
   "cell_type": "code",
   "execution_count": 38,
   "metadata": {},
   "outputs": [
    {
     "name": "stdout",
     "output_type": "stream",
     "text": [
      "Hausdorff Distances: {0: 15.296363830566406, 1: 8.556015968322754, 2: 7.9177985191345215, 3: 7.009108543395996}\n",
      "Average Hausdorff Distance: 7.827641010284424\n"
     ]
    }
   ],
   "source": [
    "hd = hausdorff_distance(torch.argmax(ensemble_predictions, dim=1), masks.squeeze(1), num_classes=NUM_CLASSES, include_background=True)\n",
    "print(\"Hausdorff Distances:\", hd)\n",
    "print(\"Average Hausdorff Distance:\", np.mean(list(hd.values())[1:]))"
   ]
  },
  {
   "cell_type": "code",
   "execution_count": 39,
   "metadata": {},
   "outputs": [
    {
     "name": "stdout",
     "output_type": "stream",
     "text": [
      "Ensemble Average volumetric difference: {0: 0.0014182343613559638, 1: 0.02130584192411703, 2: 0.012823655353856137, 3: 0.004749061047008058}\n",
      "Mean Ensemble Average volumetric difference:  0.012959519441660407\n"
     ]
    }
   ],
   "source": [
    "avd = average_volumetric_difference(torch.argmax(ensemble_predictions, dim=1), masks.squeeze(1), num_classes=NUM_CLASSES)\n",
    "print(f\"Ensemble Average volumetric difference: {avd}\")\n",
    "print(\"Mean Ensemble Average volumetric difference: \", np.mean(list(avd.values())[1:]))"
   ]
  },
  {
   "cell_type": "code",
   "execution_count": null,
   "metadata": {},
   "outputs": [],
   "source": []
  },
  {
   "cell_type": "markdown",
   "metadata": {},
   "source": [
    "## Full Volume Based"
   ]
  },
  {
   "cell_type": "code",
   "execution_count": 40,
   "metadata": {},
   "outputs": [],
   "source": [
    "## Transforms\n",
    "val_transform = tio.Compose([\n",
    "    tio.RescaleIntensity((0, 1)),\n",
    "    tio.ZNormalization(),\n",
    "])\n",
    "## Dataset\n",
    "val_dataset = BrainMRIDataset(os.path.join(ROOT_DIR, 'val'), transform=val_transform)\n",
    "val_loader = tio.SubjectsLoader(val_dataset, batch_size=1, shuffle=False, num_workers=NUM_WORKERS)"
   ]
  },
  {
   "cell_type": "code",
   "execution_count": 5,
   "metadata": {},
   "outputs": [
    {
     "data": {
      "application/vnd.jupyter.widget-view+json": {
       "model_id": "9277a3cb7c324f5d9fe90165b35235a6",
       "version_major": 2,
       "version_minor": 0
      },
      "text/plain": [
       "Downloading artifacts:   0%|          | 0/6 [00:00<?, ?it/s]"
      ]
     },
     "metadata": {},
     "output_type": "display_data"
    }
   ],
   "source": [
    "# Load model using MLflow\n",
    "predictor_full = Predictor(mlflow_model_uri=\"runs:/1c98c526ea884b768e491a03985c8f22/model\", device=DEVICE)"
   ]
  },
  {
   "cell_type": "code",
   "execution_count": 25,
   "metadata": {},
   "outputs": [],
   "source": [
    "## Predict\n",
    "predictions_full = predictor_full.predict_full_volume(val_loader, proba=False)"
   ]
  },
  {
   "cell_type": "code",
   "execution_count": 23,
   "metadata": {},
   "outputs": [
    {
     "data": {
      "text/plain": [
       "{0: 0.9966910481452942,\n",
       " 1: 0.8851995468139648,\n",
       " 2: 0.923554539680481,\n",
       " 3: 0.9096390008926392}"
      ]
     },
     "execution_count": 23,
     "metadata": {},
     "output_type": "execute_result"
    }
   ],
   "source": [
    "dice_score_3d(torch.argmax(predictions_full.squeeze(1), dim=1), masks.squeeze(1), num_classes=NUM_CLASSES)"
   ]
  },
  {
   "cell_type": "code",
   "execution_count": null,
   "metadata": {},
   "outputs": [],
   "source": []
  },
  {
   "cell_type": "markdown",
   "metadata": {},
   "source": [
    "## Cross Validation"
   ]
  },
  {
   "cell_type": "markdown",
   "metadata": {},
   "source": [
    "## Prediction"
   ]
  },
  {
   "cell_type": "code",
   "execution_count": 19,
   "metadata": {},
   "outputs": [],
   "source": [
    "## Transforms\n",
    "test_transform = tio.Compose([\n",
    "    tio.RescaleIntensity((0, 1)),\n",
    "    tio.ZNormalization(),\n",
    "])\n",
    "## Dataset\n",
    "test_dataset = BrainMRIDataset(os.path.join(ROOT_DIR, 'test'), transform=test_transform)"
   ]
  },
  {
   "cell_type": "code",
   "execution_count": 20,
   "metadata": {},
   "outputs": [
    {
     "name": "stderr",
     "output_type": "stream",
     "text": [
      "  0%|          | 0/3 [00:00<?, ?it/s]"
     ]
    },
    {
     "name": "stderr",
     "output_type": "stream",
     "text": [
      "100%|██████████| 3/3 [00:59<00:00, 19.93s/it]\n",
      "100%|██████████| 3/3 [00:57<00:00, 19.08s/it]\n",
      "100%|██████████| 3/3 [01:02<00:00, 20.69s/it]\n",
      "100%|██████████| 3/3 [00:06<00:00,  2.29s/it]\n"
     ]
    }
   ],
   "source": [
    "predictions = []\n",
    "\n",
    "overlaps = [32, 32, 32, 64]\n",
    "for predictor_patch, overlap in zip(predictor_patchs, overlaps):\n",
    "    patch_predictions = []\n",
    "    for subject in tqdm(test_dataset):\n",
    "        prediction = predictor_patch.predict_patches(subject, batch_size=BATCH_SIZE, overlap=overlap, proba=True)\n",
    "        patch_predictions.append(prediction)\n",
    "\n",
    "    # Stack all patch_predictions\n",
    "    patch_predictions = torch.stack(patch_predictions, dim=0)\n",
    "    predictions.append(patch_predictions)\n",
    "\n",
    "### Ensemble\n",
    "ensemble_predictions = torch.stack(predictions, dim=0)\n",
    "ensemble_predictions = ensemble_predictions.mean(dim=0)\n",
    "ensemble_predictions = torch.argmax(ensemble_predictions, dim=1)"
   ]
  },
  {
   "cell_type": "code",
   "execution_count": 21,
   "metadata": {},
   "outputs": [
    {
     "name": "stdout",
     "output_type": "stream",
     "text": [
      "Saved NIfTI file to ./results/IBSR_02.nii.gz\n",
      "Saved NIfTI file to ./results/IBSR_10.nii.gz\n",
      "Saved NIfTI file to ./results/IBSR_15.nii.gz\n"
     ]
    }
   ],
   "source": [
    "for i, subject in enumerate(test_dataset):\n",
    "    affine = subject['image'].affine\n",
    "    spacing = subject['image'].spacing\n",
    "    name = subject['image'].path.name\n",
    "    export_to_nii(ensemble_predictions[i].numpy().astype(np.int16), f'./results/{name}', spacing, affine)"
   ]
  },
  {
   "cell_type": "code",
   "execution_count": null,
   "metadata": {},
   "outputs": [],
   "source": []
  },
  {
   "cell_type": "markdown",
   "metadata": {},
   "source": []
  }
 ],
 "metadata": {
  "kernelspec": {
   "display_name": "py11",
   "language": "python",
   "name": "python3"
  },
  "language_info": {
   "codemirror_mode": {
    "name": "ipython",
    "version": 3
   },
   "file_extension": ".py",
   "mimetype": "text/x-python",
   "name": "python",
   "nbconvert_exporter": "python",
   "pygments_lexer": "ipython3",
   "version": "3.11.10"
  }
 },
 "nbformat": 4,
 "nbformat_minor": 2
}
