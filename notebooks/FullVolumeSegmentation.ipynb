{
 "cells": [
  {
   "cell_type": "code",
   "execution_count": 1,
   "metadata": {},
   "outputs": [],
   "source": [
    "import os\n",
    "import numpy as np\n",
    "from tqdm import tqdm\n",
    "import matplotlib.pyplot as plt\n",
    "\n",
    "import torch\n",
    "from torch.optim.lr_scheduler import CosineAnnealingLR\n",
    "\n",
    "import torchio as tio\n",
    "import warnings\n",
    "warnings.filterwarnings(\"ignore\", category=UserWarning, module=\"torchio\")\n",
    "\n",
    "from utils.utils import train_3d, validate_3d\n",
    "from utils.vis import plot_mri\n",
    "from utils.dataset import BrainMRIDataset\n",
    "from utils.loss import DiceCrossEntropyLoss, DiceFocalLoss\n",
    "from models import UNet3D, AttentionUNet\n",
    "from monai.networks.nets import UNet, SegResNet, UNETR"
   ]
  },
  {
   "cell_type": "markdown",
   "metadata": {},
   "source": [
    "## Constants"
   ]
  },
  {
   "cell_type": "code",
   "execution_count": 2,
   "metadata": {},
   "outputs": [],
   "source": [
    "ROOT_DIR = './Data'\n",
    "BATCH_SIZE = 1\n",
    "EPOCHS = 300\n",
    "NUM_CLASSES = 4\n",
    "NUM_WORKERS=16\n",
    "DEVICE = 'mps' if torch.mps.is_available() else 'cuda' if torch.cuda.is_available() else 'cpu'"
   ]
  },
  {
   "cell_type": "markdown",
   "metadata": {},
   "source": [
    "## Transforms"
   ]
  },
  {
   "cell_type": "code",
   "execution_count": 3,
   "metadata": {},
   "outputs": [],
   "source": [
    "# TorchIO transformations for augmentation\n",
    "train_transform = tio.Compose([\n",
    "    tio.RandomAffine(scales=(0.9, 1.1)),\n",
    "    # tio.RandomElasticDeformation(num_control_points=(7, 7, 7), max_displacement=(4, 4, 4)),\n",
    "    # tio.RandomFlip(axes=(0, 1, 2)),\n",
    "    # tio.RandomBiasField(coefficients=(0.1, 0.3)),\n",
    "    tio.RescaleIntensity((0, 1))  # Normalize intensity to [0, 1]\n",
    "])\n",
    "\n",
    "val_transform = tio.Compose([\n",
    "    tio.RescaleIntensity((0, 1))  # Only normalize intensity for validation\n",
    "])"
   ]
  },
  {
   "cell_type": "code",
   "execution_count": 4,
   "metadata": {},
   "outputs": [],
   "source": [
    "# Create datasets\n",
    "train_dataset = BrainMRIDataset(os.path.join(ROOT_DIR, 'train'), transform=train_transform)\n",
    "val_dataset = BrainMRIDataset(os.path.join(ROOT_DIR, 'val'), transform=val_transform)\n",
    "\n",
    "# Create DataLoaders\n",
    "train_loader = tio.SubjectsLoader(train_dataset, batch_size=BATCH_SIZE, shuffle=True, num_workers=NUM_WORKERS)\n",
    "val_loader = tio.SubjectsLoader(val_dataset, batch_size=BATCH_SIZE, shuffle=False, num_workers=NUM_WORKERS)"
   ]
  },
  {
   "cell_type": "markdown",
   "metadata": {},
   "source": [
    "## Visualization"
   ]
  },
  {
   "cell_type": "code",
   "execution_count": null,
   "metadata": {},
   "outputs": [],
   "source": [
    "slice_idx = 100\n",
    "for batch in val_loader:\n",
    "    images, masks = batch[\"image\"][\"data\"], batch[\"mask\"][\"data\"]\n",
    "    print(images.shape, masks.shape)\n",
    "    \n",
    "    fig, axs = plt.subplots(1, 2, figsize=(10, 5))\n",
    "    axs[0].imshow(images[0, 0, :, :, slice_idx].numpy(), cmap='gray')\n",
    "    axs[0].set_title('image')\n",
    "    axs[1].imshow(masks[0, 0, :, :, slice_idx].numpy(), cmap='gray')\n",
    "    axs[1].set_title('mask')\n",
    "    plt.show()\n",
    "    break"
   ]
  },
  {
   "cell_type": "markdown",
   "metadata": {},
   "source": [
    "## Models"
   ]
  },
  {
   "cell_type": "code",
   "execution_count": 5,
   "metadata": {},
   "outputs": [],
   "source": [
    "model = UNet(\n",
    "    spatial_dims=3,\n",
    "    in_channels=1,\n",
    "    out_channels=4,  \n",
    "    channels=(32, 64, 128, 256, 512),\n",
    "    strides=(2, 2, 2, 2),\n",
    "    num_res_units=4,\n",
    "    norm=\"instance\",  # Use Instance Normalization\n",
    "    dropout=0.2       # Add dropout\n",
    ")\n",
    "# model = UNETR(in_channels=1, out_channels=4, img_size=(256,128,258), feature_size=32, norm_name='batch')\n",
    "model = model.to(DEVICE)"
   ]
  },
  {
   "cell_type": "markdown",
   "metadata": {},
   "source": [
    "## Loss & Optimizer"
   ]
  },
  {
   "cell_type": "code",
   "execution_count": 6,
   "metadata": {},
   "outputs": [],
   "source": [
    "# class_weights = train_dataset.calculate_class_weights_log(num_classes=4).to(DEVICE)\n",
    "# criterion = DiceCrossEntropyLoss(dice_weight=1.0, ce_weight=0.0, is_3d=True, class_weights=class_weights)\n",
    "criterion = DiceFocalLoss(alpha=[0.05, 0.5, 0.3, 0.3], gamma=2, is_3d=True, ignore_background=False)\n",
    "optimizer = torch.optim.Adam(model.parameters(), lr=0.01)\n",
    "scheduler = CosineAnnealingLR(optimizer, T_max=EPOCHS, eta_min=1e-7)"
   ]
  },
  {
   "cell_type": "markdown",
   "metadata": {},
   "source": [
    "## Training"
   ]
  },
  {
   "cell_type": "code",
   "execution_count": 7,
   "metadata": {},
   "outputs": [
    {
     "name": "stdout",
     "output_type": "stream",
     "text": [
      "Epoch 195, Loss: 0.0459\n",
      "Epoch 195, Dice: 0.9229 CSF Dice: 0.8781 GM Dice: 0.9133 WM Dice: 0.9032\n"
     ]
    },
    {
     "name": "stderr",
     "output_type": "stream",
     "text": [
      "Validation Epoch 195/300:   0%|          | 0/5 [00:00<?, ?it/s]"
     ]
    },
    {
     "name": "stderr",
     "output_type": "stream",
     "text": [
      "Validation Epoch 195/300: 100%|██████████| 5/5 [00:01<00:00,  3.01it/s, Loss=0.0205, Avg Dice=0.936, CSF Dice=0.919, GM Dice=0.928, WM Dice=0.9]  \n"
     ]
    },
    {
     "name": "stdout",
     "output_type": "stream",
     "text": [
      "Epoch 195, Loss: 0.0409\n",
      "Epoch 195, Dice: 0.9323 CSF Dice: 0.8918 GM Dice: 0.9256 WM Dice: 0.9149\n",
      "\n"
     ]
    },
    {
     "name": "stderr",
     "output_type": "stream",
     "text": [
      "Training Epoch 196/300: 100%|██████████| 10/10 [00:04<00:00,  2.38it/s, Loss=0.0265, Avg Dice=0.909, CSF Dice=0.813, GM Dice=0.926, WM Dice=0.898]\n"
     ]
    },
    {
     "name": "stdout",
     "output_type": "stream",
     "text": [
      "Epoch 196, Loss: 0.0452\n",
      "Epoch 196, Dice: 0.9236 CSF Dice: 0.8771 GM Dice: 0.9142 WM Dice: 0.9061\n"
     ]
    },
    {
     "name": "stderr",
     "output_type": "stream",
     "text": [
      "Validation Epoch 196/300: 100%|██████████| 5/5 [00:01<00:00,  2.77it/s, Loss=0.0207, Avg Dice=0.935, CSF Dice=0.912, GM Dice=0.93, WM Dice=0.9]   \n"
     ]
    },
    {
     "name": "stdout",
     "output_type": "stream",
     "text": [
      "Epoch 196, Loss: 0.0405\n",
      "Epoch 196, Dice: 0.9333 CSF Dice: 0.8910 GM Dice: 0.9281 WM Dice: 0.9169\n",
      "\n"
     ]
    },
    {
     "name": "stderr",
     "output_type": "stream",
     "text": [
      "Training Epoch 197/300: 100%|██████████| 10/10 [00:04<00:00,  2.38it/s, Loss=0.0261, Avg Dice=0.911, CSF Dice=0.828, GM Dice=0.925, WM Dice=0.893]\n"
     ]
    },
    {
     "name": "stdout",
     "output_type": "stream",
     "text": [
      "Epoch 197, Loss: 0.0461\n",
      "Epoch 197, Dice: 0.9218 CSF Dice: 0.8735 GM Dice: 0.9125 WM Dice: 0.9043\n"
     ]
    },
    {
     "name": "stderr",
     "output_type": "stream",
     "text": [
      "Validation Epoch 197/300: 100%|██████████| 5/5 [00:01<00:00,  2.70it/s, Loss=0.0216, Avg Dice=0.932, CSF Dice=0.916, GM Dice=0.925, WM Dice=0.891]\n"
     ]
    },
    {
     "name": "stdout",
     "output_type": "stream",
     "text": [
      "Epoch 197, Loss: 0.0413\n",
      "Epoch 197, Dice: 0.9318 CSF Dice: 0.8911 GM Dice: 0.9257 WM Dice: 0.9136\n",
      "\n"
     ]
    },
    {
     "name": "stderr",
     "output_type": "stream",
     "text": [
      "Training Epoch 198/300: 100%|██████████| 10/10 [00:04<00:00,  2.22it/s, Loss=0.0235, Avg Dice=0.92, CSF Dice=0.872, GM Dice=0.908, WM Dice=0.904]\n"
     ]
    },
    {
     "name": "stdout",
     "output_type": "stream",
     "text": [
      "Epoch 198, Loss: 0.0454\n",
      "Epoch 198, Dice: 0.9234 CSF Dice: 0.8748 GM Dice: 0.9156 WM Dice: 0.9061\n"
     ]
    },
    {
     "name": "stderr",
     "output_type": "stream",
     "text": [
      "Validation Epoch 198/300: 100%|██████████| 5/5 [00:01<00:00,  2.97it/s, Loss=0.0203, Avg Dice=0.936, CSF Dice=0.915, GM Dice=0.933, WM Dice=0.9]  \n"
     ]
    },
    {
     "name": "stdout",
     "output_type": "stream",
     "text": [
      "Epoch 198, Loss: 0.0418\n",
      "Epoch 198, Dice: 0.9309 CSF Dice: 0.8857 GM Dice: 0.9266 WM Dice: 0.9143\n",
      "\n"
     ]
    },
    {
     "name": "stderr",
     "output_type": "stream",
     "text": [
      "Training Epoch 199/300: 100%|██████████| 10/10 [00:04<00:00,  2.46it/s, Loss=0.0215, Avg Dice=0.93, CSF Dice=0.896, GM Dice=0.923, WM Dice=0.905]\n"
     ]
    },
    {
     "name": "stdout",
     "output_type": "stream",
     "text": [
      "Epoch 199, Loss: 0.0458\n",
      "Epoch 199, Dice: 0.9226 CSF Dice: 0.8752 GM Dice: 0.9136 WM Dice: 0.9049\n"
     ]
    },
    {
     "name": "stderr",
     "output_type": "stream",
     "text": [
      "Validation Epoch 199/300: 100%|██████████| 5/5 [00:01<00:00,  2.93it/s, Loss=0.0194, Avg Dice=0.939, CSF Dice=0.926, GM Dice=0.93, WM Dice=0.905] \n"
     ]
    },
    {
     "name": "stdout",
     "output_type": "stream",
     "text": [
      "Epoch 199, Loss: 0.0401\n",
      "Epoch 199, Dice: 0.9338 CSF Dice: 0.8957 GM Dice: 0.9257 WM Dice: 0.9172\n",
      "\n"
     ]
    },
    {
     "name": "stderr",
     "output_type": "stream",
     "text": [
      "Training Epoch 200/300: 100%|██████████| 10/10 [00:04<00:00,  2.39it/s, Loss=0.0226, Avg Dice=0.925, CSF Dice=0.91, GM Dice=0.893, WM Dice=0.9]  \n"
     ]
    },
    {
     "name": "stdout",
     "output_type": "stream",
     "text": [
      "Epoch 200, Loss: 0.0462\n",
      "Epoch 200, Dice: 0.9221 CSF Dice: 0.8741 GM Dice: 0.9144 WM Dice: 0.9031\n"
     ]
    },
    {
     "name": "stderr",
     "output_type": "stream",
     "text": [
      "Validation Epoch 200/300: 100%|██████████| 5/5 [00:01<00:00,  2.90it/s, Loss=0.0202, Avg Dice=0.936, CSF Dice=0.918, GM Dice=0.929, WM Dice=0.902]\n"
     ]
    },
    {
     "name": "stdout",
     "output_type": "stream",
     "text": [
      "Epoch 200, Loss: 0.0407\n",
      "Epoch 200, Dice: 0.9327 CSF Dice: 0.8911 GM Dice: 0.9257 WM Dice: 0.9172\n",
      "\n"
     ]
    },
    {
     "name": "stderr",
     "output_type": "stream",
     "text": [
      "Training Epoch 201/300: 100%|██████████| 10/10 [00:04<00:00,  2.35it/s, Loss=0.023, Avg Dice=0.923, CSF Dice=0.908, GM Dice=0.892, WM Dice=0.896]\n"
     ]
    },
    {
     "name": "stdout",
     "output_type": "stream",
     "text": [
      "Epoch 201, Loss: 0.0459\n",
      "Epoch 201, Dice: 0.9225 CSF Dice: 0.8734 GM Dice: 0.9144 WM Dice: 0.9054\n"
     ]
    },
    {
     "name": "stderr",
     "output_type": "stream",
     "text": [
      "Validation Epoch 201/300: 100%|██████████| 5/5 [00:01<00:00,  2.74it/s, Loss=0.0195, Avg Dice=0.939, CSF Dice=0.925, GM Dice=0.933, WM Dice=0.902]\n"
     ]
    },
    {
     "name": "stdout",
     "output_type": "stream",
     "text": [
      "Epoch 201, Loss: 0.0399\n",
      "Epoch 201, Dice: 0.9344 CSF Dice: 0.8962 GM Dice: 0.9284 WM Dice: 0.9161\n",
      "\n"
     ]
    },
    {
     "name": "stderr",
     "output_type": "stream",
     "text": [
      "Training Epoch 202/300: 100%|██████████| 10/10 [00:04<00:00,  2.31it/s, Loss=0.0239, Avg Dice=0.92, CSF Dice=0.844, GM Dice=0.934, WM Dice=0.906]\n"
     ]
    },
    {
     "name": "stdout",
     "output_type": "stream",
     "text": [
      "Epoch 202, Loss: 0.0456\n",
      "Epoch 202, Dice: 0.9230 CSF Dice: 0.8763 GM Dice: 0.9136 WM Dice: 0.9054\n"
     ]
    },
    {
     "name": "stderr",
     "output_type": "stream",
     "text": [
      "Validation Epoch 202/300: 100%|██████████| 5/5 [00:01<00:00,  2.71it/s, Loss=0.0198, Avg Dice=0.937, CSF Dice=0.914, GM Dice=0.933, WM Dice=0.905]\n"
     ]
    },
    {
     "name": "stdout",
     "output_type": "stream",
     "text": [
      "Epoch 202, Loss: 0.0406\n",
      "Epoch 202, Dice: 0.9328 CSF Dice: 0.8889 GM Dice: 0.9285 WM Dice: 0.9169\n",
      "\n"
     ]
    },
    {
     "name": "stderr",
     "output_type": "stream",
     "text": [
      "Training Epoch 203/300: 100%|██████████| 10/10 [00:04<00:00,  2.23it/s, Loss=0.021, Avg Dice=0.932, CSF Dice=0.898, GM Dice=0.925, WM Dice=0.908]\n"
     ]
    },
    {
     "name": "stdout",
     "output_type": "stream",
     "text": [
      "Epoch 203, Loss: 0.0458\n",
      "Epoch 203, Dice: 0.9234 CSF Dice: 0.8766 GM Dice: 0.9155 WM Dice: 0.9046\n"
     ]
    },
    {
     "name": "stderr",
     "output_type": "stream",
     "text": [
      "Validation Epoch 203/300: 100%|██████████| 5/5 [00:01<00:00,  2.83it/s, Loss=0.0212, Avg Dice=0.933, CSF Dice=0.921, GM Dice=0.924, WM Dice=0.892]\n"
     ]
    },
    {
     "name": "stdout",
     "output_type": "stream",
     "text": [
      "Epoch 203, Loss: 0.0407\n",
      "Epoch 203, Dice: 0.9328 CSF Dice: 0.8955 GM Dice: 0.9250 WM Dice: 0.9139\n",
      "\n"
     ]
    },
    {
     "name": "stderr",
     "output_type": "stream",
     "text": [
      "Training Epoch 204/300: 100%|██████████| 10/10 [00:04<00:00,  2.33it/s, Loss=0.0231, Avg Dice=0.922, CSF Dice=0.884, GM Dice=0.906, WM Dice=0.903]\n"
     ]
    },
    {
     "name": "stdout",
     "output_type": "stream",
     "text": [
      "Epoch 204, Loss: 0.0468\n",
      "Epoch 204, Dice: 0.9217 CSF Dice: 0.8753 GM Dice: 0.9134 WM Dice: 0.9016\n"
     ]
    },
    {
     "name": "stderr",
     "output_type": "stream",
     "text": [
      "Validation Epoch 204/300: 100%|██████████| 5/5 [00:01<00:00,  2.62it/s, Loss=0.0186, Avg Dice=0.942, CSF Dice=0.923, GM Dice=0.935, WM Dice=0.914]\n"
     ]
    },
    {
     "name": "stdout",
     "output_type": "stream",
     "text": [
      "Epoch 204, Loss: 0.0392\n",
      "Epoch 204, Dice: 0.9355 CSF Dice: 0.8952 GM Dice: 0.9292 WM Dice: 0.9205\n",
      "\n",
      "Best model saved with dice score: 0.9354578137397767\n",
      "\n"
     ]
    },
    {
     "name": "stderr",
     "output_type": "stream",
     "text": [
      "Training Epoch 205/300: 100%|██████████| 10/10 [00:04<00:00,  2.31it/s, Loss=0.0219, Avg Dice=0.93, CSF Dice=0.896, GM Dice=0.922, WM Dice=0.906]\n"
     ]
    },
    {
     "name": "stdout",
     "output_type": "stream",
     "text": [
      "Epoch 205, Loss: 0.0459\n",
      "Epoch 205, Dice: 0.9231 CSF Dice: 0.8757 GM Dice: 0.9145 WM Dice: 0.9055\n"
     ]
    },
    {
     "name": "stderr",
     "output_type": "stream",
     "text": [
      "Validation Epoch 205/300: 100%|██████████| 5/5 [00:01<00:00,  2.85it/s, Loss=0.0194, Avg Dice=0.939, CSF Dice=0.918, GM Dice=0.933, WM Dice=0.908]\n"
     ]
    },
    {
     "name": "stdout",
     "output_type": "stream",
     "text": [
      "Epoch 205, Loss: 0.0403\n",
      "Epoch 205, Dice: 0.9334 CSF Dice: 0.8901 GM Dice: 0.9281 WM Dice: 0.9187\n",
      "\n"
     ]
    },
    {
     "name": "stderr",
     "output_type": "stream",
     "text": [
      "Training Epoch 206/300: 100%|██████████| 10/10 [00:04<00:00,  2.40it/s, Loss=0.0233, Avg Dice=0.921, CSF Dice=0.875, GM Dice=0.905, WM Dice=0.908]\n"
     ]
    },
    {
     "name": "stdout",
     "output_type": "stream",
     "text": [
      "Epoch 206, Loss: 0.0451\n",
      "Epoch 206, Dice: 0.9239 CSF Dice: 0.8769 GM Dice: 0.9157 WM Dice: 0.9063\n"
     ]
    },
    {
     "name": "stderr",
     "output_type": "stream",
     "text": [
      "Validation Epoch 206/300: 100%|██████████| 5/5 [00:01<00:00,  2.76it/s, Loss=0.0193, Avg Dice=0.94, CSF Dice=0.926, GM Dice=0.931, WM Dice=0.905] \n"
     ]
    },
    {
     "name": "stdout",
     "output_type": "stream",
     "text": [
      "Epoch 206, Loss: 0.0398\n",
      "Epoch 206, Dice: 0.9344 CSF Dice: 0.8977 GM Dice: 0.9269 WM Dice: 0.9163\n",
      "\n"
     ]
    },
    {
     "name": "stderr",
     "output_type": "stream",
     "text": [
      "Training Epoch 207/300: 100%|██████████| 10/10 [00:04<00:00,  2.41it/s, Loss=0.0242, Avg Dice=0.918, CSF Dice=0.835, GM Dice=0.933, WM Dice=0.906]\n"
     ]
    },
    {
     "name": "stdout",
     "output_type": "stream",
     "text": [
      "Epoch 207, Loss: 0.0452\n",
      "Epoch 207, Dice: 0.9234 CSF Dice: 0.8749 GM Dice: 0.9153 WM Dice: 0.9065\n"
     ]
    },
    {
     "name": "stderr",
     "output_type": "stream",
     "text": [
      "Validation Epoch 207/300: 100%|██████████| 5/5 [00:01<00:00,  3.03it/s, Loss=0.0198, Avg Dice=0.937, CSF Dice=0.919, GM Dice=0.931, WM Dice=0.903]\n"
     ]
    },
    {
     "name": "stdout",
     "output_type": "stream",
     "text": [
      "Epoch 207, Loss: 0.0403\n",
      "Epoch 207, Dice: 0.9332 CSF Dice: 0.8906 GM Dice: 0.9277 WM Dice: 0.9177\n",
      "\n"
     ]
    },
    {
     "name": "stderr",
     "output_type": "stream",
     "text": [
      "Training Epoch 208/300: 100%|██████████| 10/10 [00:04<00:00,  2.38it/s, Loss=0.0215, Avg Dice=0.928, CSF Dice=0.908, GM Dice=0.903, WM Dice=0.903]\n"
     ]
    },
    {
     "name": "stdout",
     "output_type": "stream",
     "text": [
      "Epoch 208, Loss: 0.0453\n",
      "Epoch 208, Dice: 0.9227 CSF Dice: 0.8755 GM Dice: 0.9134 WM Dice: 0.9048\n"
     ]
    },
    {
     "name": "stderr",
     "output_type": "stream",
     "text": [
      "Validation Epoch 208/300: 100%|██████████| 5/5 [00:01<00:00,  2.88it/s, Loss=0.0211, Avg Dice=0.934, CSF Dice=0.919, GM Dice=0.928, WM Dice=0.892]\n"
     ]
    },
    {
     "name": "stdout",
     "output_type": "stream",
     "text": [
      "Epoch 208, Loss: 0.0415\n",
      "Epoch 208, Dice: 0.9314 CSF Dice: 0.8902 GM Dice: 0.9259 WM Dice: 0.9127\n",
      "\n"
     ]
    },
    {
     "name": "stderr",
     "output_type": "stream",
     "text": [
      "Training Epoch 209/300: 100%|██████████| 10/10 [00:04<00:00,  2.32it/s, Loss=0.0215, Avg Dice=0.927, CSF Dice=0.88, GM Dice=0.912, WM Dice=0.919]\n"
     ]
    },
    {
     "name": "stdout",
     "output_type": "stream",
     "text": [
      "Epoch 209, Loss: 0.0449\n",
      "Epoch 209, Dice: 0.9244 CSF Dice: 0.8776 GM Dice: 0.9163 WM Dice: 0.9067\n"
     ]
    },
    {
     "name": "stderr",
     "output_type": "stream",
     "text": [
      "Validation Epoch 209/300: 100%|██████████| 5/5 [00:01<00:00,  2.91it/s, Loss=0.02, Avg Dice=0.937, CSF Dice=0.924, GM Dice=0.928, WM Dice=0.9]    \n"
     ]
    },
    {
     "name": "stdout",
     "output_type": "stream",
     "text": [
      "Epoch 209, Loss: 0.0401\n",
      "Epoch 209, Dice: 0.9339 CSF Dice: 0.8955 GM Dice: 0.9261 WM Dice: 0.9170\n",
      "\n"
     ]
    },
    {
     "name": "stderr",
     "output_type": "stream",
     "text": [
      "Training Epoch 210/300: 100%|██████████| 10/10 [00:04<00:00,  2.43it/s, Loss=0.0246, Avg Dice=0.916, CSF Dice=0.839, GM Dice=0.928, WM Dice=0.898]\n"
     ]
    },
    {
     "name": "stdout",
     "output_type": "stream",
     "text": [
      "Epoch 210, Loss: 0.0449\n",
      "Epoch 210, Dice: 0.9243 CSF Dice: 0.8773 GM Dice: 0.9158 WM Dice: 0.9075\n"
     ]
    },
    {
     "name": "stderr",
     "output_type": "stream",
     "text": [
      "Validation Epoch 210/300: 100%|██████████| 5/5 [00:01<00:00,  3.03it/s, Loss=0.0193, Avg Dice=0.94, CSF Dice=0.924, GM Dice=0.933, WM Dice=0.905] \n"
     ]
    },
    {
     "name": "stdout",
     "output_type": "stream",
     "text": [
      "Epoch 210, Loss: 0.0394\n",
      "Epoch 210, Dice: 0.9352 CSF Dice: 0.8953 GM Dice: 0.9291 WM Dice: 0.9194\n",
      "\n"
     ]
    },
    {
     "name": "stderr",
     "output_type": "stream",
     "text": [
      "Training Epoch 211/300: 100%|██████████| 10/10 [00:04<00:00,  2.38it/s, Loss=0.0256, Avg Dice=0.91, CSF Dice=0.82, GM Dice=0.924, WM Dice=0.897] \n"
     ]
    },
    {
     "name": "stdout",
     "output_type": "stream",
     "text": [
      "Epoch 211, Loss: 0.0452\n",
      "Epoch 211, Dice: 0.9239 CSF Dice: 0.8781 GM Dice: 0.9151 WM Dice: 0.9056\n"
     ]
    },
    {
     "name": "stderr",
     "output_type": "stream",
     "text": [
      "Validation Epoch 211/300: 100%|██████████| 5/5 [00:01<00:00,  2.74it/s, Loss=0.0204, Avg Dice=0.935, CSF Dice=0.922, GM Dice=0.926, WM Dice=0.898]\n"
     ]
    },
    {
     "name": "stdout",
     "output_type": "stream",
     "text": [
      "Epoch 211, Loss: 0.0408\n",
      "Epoch 211, Dice: 0.9323 CSF Dice: 0.8941 GM Dice: 0.9241 WM Dice: 0.9144\n",
      "\n"
     ]
    },
    {
     "name": "stderr",
     "output_type": "stream",
     "text": [
      "Training Epoch 212/300: 100%|██████████| 10/10 [00:04<00:00,  2.27it/s, Loss=0.0223, Avg Dice=0.927, CSF Dice=0.915, GM Dice=0.893, WM Dice=0.903]\n"
     ]
    },
    {
     "name": "stdout",
     "output_type": "stream",
     "text": [
      "Epoch 212, Loss: 0.0453\n",
      "Epoch 212, Dice: 0.9238 CSF Dice: 0.8770 GM Dice: 0.9146 WM Dice: 0.9071\n"
     ]
    },
    {
     "name": "stderr",
     "output_type": "stream",
     "text": [
      "Validation Epoch 212/300: 100%|██████████| 5/5 [00:01<00:00,  2.73it/s, Loss=0.0195, Avg Dice=0.938, CSF Dice=0.914, GM Dice=0.936, WM Dice=0.908]\n"
     ]
    },
    {
     "name": "stdout",
     "output_type": "stream",
     "text": [
      "Epoch 212, Loss: 0.0400\n",
      "Epoch 212, Dice: 0.9337 CSF Dice: 0.8914 GM Dice: 0.9287 WM Dice: 0.9178\n",
      "\n"
     ]
    },
    {
     "name": "stderr",
     "output_type": "stream",
     "text": [
      "Training Epoch 213/300: 100%|██████████| 10/10 [00:04<00:00,  2.28it/s, Loss=0.0198, Avg Dice=0.932, CSF Dice=0.922, GM Dice=0.899, WM Dice=0.91]\n"
     ]
    },
    {
     "name": "stdout",
     "output_type": "stream",
     "text": [
      "Epoch 213, Loss: 0.0455\n",
      "Epoch 213, Dice: 0.9231 CSF Dice: 0.8755 GM Dice: 0.9149 WM Dice: 0.9052\n"
     ]
    },
    {
     "name": "stderr",
     "output_type": "stream",
     "text": [
      "Validation Epoch 213/300: 100%|██████████| 5/5 [00:01<00:00,  3.03it/s, Loss=0.0194, Avg Dice=0.939, CSF Dice=0.92, GM Dice=0.932, WM Dice=0.906] \n"
     ]
    },
    {
     "name": "stdout",
     "output_type": "stream",
     "text": [
      "Epoch 213, Loss: 0.0398\n",
      "Epoch 213, Dice: 0.9341 CSF Dice: 0.8942 GM Dice: 0.9277 WM Dice: 0.9178\n",
      "\n"
     ]
    },
    {
     "name": "stderr",
     "output_type": "stream",
     "text": [
      "Training Epoch 214/300: 100%|██████████| 10/10 [00:04<00:00,  2.44it/s, Loss=0.0213, Avg Dice=0.926, CSF Dice=0.876, GM Dice=0.914, WM Dice=0.917]\n"
     ]
    },
    {
     "name": "stdout",
     "output_type": "stream",
     "text": [
      "Epoch 214, Loss: 0.0446\n",
      "Epoch 214, Dice: 0.9245 CSF Dice: 0.8777 GM Dice: 0.9163 WM Dice: 0.9069\n"
     ]
    },
    {
     "name": "stderr",
     "output_type": "stream",
     "text": [
      "Validation Epoch 214/300: 100%|██████████| 5/5 [00:01<00:00,  2.83it/s, Loss=0.0202, Avg Dice=0.936, CSF Dice=0.926, GM Dice=0.927, WM Dice=0.897]\n"
     ]
    },
    {
     "name": "stdout",
     "output_type": "stream",
     "text": [
      "Epoch 214, Loss: 0.0397\n",
      "Epoch 214, Dice: 0.9346 CSF Dice: 0.8987 GM Dice: 0.9260 WM Dice: 0.9169\n",
      "\n"
     ]
    },
    {
     "name": "stderr",
     "output_type": "stream",
     "text": [
      "Training Epoch 215/300: 100%|██████████| 10/10 [00:04<00:00,  2.41it/s, Loss=0.0256, Avg Dice=0.913, CSF Dice=0.832, GM Dice=0.926, WM Dice=0.897]\n"
     ]
    },
    {
     "name": "stdout",
     "output_type": "stream",
     "text": [
      "Epoch 215, Loss: 0.0454\n",
      "Epoch 215, Dice: 0.9236 CSF Dice: 0.8759 GM Dice: 0.9151 WM Dice: 0.9067\n"
     ]
    },
    {
     "name": "stderr",
     "output_type": "stream",
     "text": [
      "Validation Epoch 215/300: 100%|██████████| 5/5 [00:01<00:00,  2.86it/s, Loss=0.019, Avg Dice=0.94, CSF Dice=0.925, GM Dice=0.933, WM Dice=0.908]  \n"
     ]
    },
    {
     "name": "stdout",
     "output_type": "stream",
     "text": [
      "Epoch 215, Loss: 0.0391\n",
      "Epoch 215, Dice: 0.9355 CSF Dice: 0.8964 GM Dice: 0.9291 WM Dice: 0.9196\n",
      "\n",
      "Best model saved with dice score: 0.9355446547269821\n",
      "\n"
     ]
    },
    {
     "name": "stderr",
     "output_type": "stream",
     "text": [
      "Training Epoch 216/300: 100%|██████████| 10/10 [00:04<00:00,  2.41it/s, Loss=0.021, Avg Dice=0.932, CSF Dice=0.89, GM Dice=0.931, WM Dice=0.911] \n"
     ]
    },
    {
     "name": "stdout",
     "output_type": "stream",
     "text": [
      "Epoch 216, Loss: 0.0454\n",
      "Epoch 216, Dice: 0.9238 CSF Dice: 0.8755 GM Dice: 0.9161 WM Dice: 0.9068\n"
     ]
    },
    {
     "name": "stderr",
     "output_type": "stream",
     "text": [
      "Validation Epoch 216/300: 100%|██████████| 5/5 [00:01<00:00,  2.80it/s, Loss=0.0204, Avg Dice=0.935, CSF Dice=0.908, GM Dice=0.932, WM Dice=0.903]\n"
     ]
    },
    {
     "name": "stdout",
     "output_type": "stream",
     "text": [
      "Epoch 216, Loss: 0.0415\n",
      "Epoch 216, Dice: 0.9311 CSF Dice: 0.8835 GM Dice: 0.9280 WM Dice: 0.9159\n",
      "\n"
     ]
    },
    {
     "name": "stderr",
     "output_type": "stream",
     "text": [
      "Training Epoch 217/300: 100%|██████████| 10/10 [00:04<00:00,  2.50it/s, Loss=0.0244, Avg Dice=0.918, CSF Dice=0.837, GM Dice=0.931, WM Dice=0.906]\n"
     ]
    },
    {
     "name": "stdout",
     "output_type": "stream",
     "text": [
      "Epoch 217, Loss: 0.0452\n",
      "Epoch 217, Dice: 0.9243 CSF Dice: 0.8772 GM Dice: 0.9160 WM Dice: 0.9075\n"
     ]
    },
    {
     "name": "stderr",
     "output_type": "stream",
     "text": [
      "Validation Epoch 217/300: 100%|██████████| 5/5 [00:01<00:00,  2.87it/s, Loss=0.0188, Avg Dice=0.941, CSF Dice=0.931, GM Dice=0.932, WM Dice=0.906]\n"
     ]
    },
    {
     "name": "stdout",
     "output_type": "stream",
     "text": [
      "Epoch 217, Loss: 0.0396\n",
      "Epoch 217, Dice: 0.9348 CSF Dice: 0.8970 GM Dice: 0.9268 WM Dice: 0.9185\n",
      "\n"
     ]
    },
    {
     "name": "stderr",
     "output_type": "stream",
     "text": [
      "Training Epoch 218/300: 100%|██████████| 10/10 [00:04<00:00,  2.29it/s, Loss=0.026, Avg Dice=0.909, CSF Dice=0.81, GM Dice=0.927, WM Dice=0.899] \n"
     ]
    },
    {
     "name": "stdout",
     "output_type": "stream",
     "text": [
      "Epoch 218, Loss: 0.0454\n",
      "Epoch 218, Dice: 0.9232 CSF Dice: 0.8745 GM Dice: 0.9156 WM Dice: 0.9059\n"
     ]
    },
    {
     "name": "stderr",
     "output_type": "stream",
     "text": [
      "Validation Epoch 218/300: 100%|██████████| 5/5 [00:01<00:00,  2.98it/s, Loss=0.0199, Avg Dice=0.936, CSF Dice=0.908, GM Dice=0.933, WM Dice=0.909]\n"
     ]
    },
    {
     "name": "stdout",
     "output_type": "stream",
     "text": [
      "Epoch 218, Loss: 0.0406\n",
      "Epoch 218, Dice: 0.9323 CSF Dice: 0.8861 GM Dice: 0.9276 WM Dice: 0.9185\n",
      "\n"
     ]
    },
    {
     "name": "stderr",
     "output_type": "stream",
     "text": [
      "Training Epoch 219/300: 100%|██████████| 10/10 [00:04<00:00,  2.35it/s, Loss=0.0257, Avg Dice=0.91, CSF Dice=0.818, GM Dice=0.926, WM Dice=0.899]\n"
     ]
    },
    {
     "name": "stdout",
     "output_type": "stream",
     "text": [
      "Epoch 219, Loss: 0.0453\n",
      "Epoch 219, Dice: 0.9235 CSF Dice: 0.8750 GM Dice: 0.9154 WM Dice: 0.9067\n"
     ]
    },
    {
     "name": "stderr",
     "output_type": "stream",
     "text": [
      "Validation Epoch 219/300: 100%|██████████| 5/5 [00:01<00:00,  2.88it/s, Loss=0.0201, Avg Dice=0.937, CSF Dice=0.926, GM Dice=0.929, WM Dice=0.897]\n"
     ]
    },
    {
     "name": "stdout",
     "output_type": "stream",
     "text": [
      "Epoch 219, Loss: 0.0403\n",
      "Epoch 219, Dice: 0.9336 CSF Dice: 0.8975 GM Dice: 0.9261 WM Dice: 0.9138\n",
      "\n"
     ]
    },
    {
     "name": "stderr",
     "output_type": "stream",
     "text": [
      "Training Epoch 220/300: 100%|██████████| 10/10 [00:04<00:00,  2.41it/s, Loss=0.0202, Avg Dice=0.931, CSF Dice=0.918, GM Dice=0.898, WM Dice=0.909]\n"
     ]
    },
    {
     "name": "stdout",
     "output_type": "stream",
     "text": [
      "Epoch 220, Loss: 0.0451\n",
      "Epoch 220, Dice: 0.9243 CSF Dice: 0.8788 GM Dice: 0.9152 WM Dice: 0.9066\n"
     ]
    },
    {
     "name": "stderr",
     "output_type": "stream",
     "text": [
      "Validation Epoch 220/300: 100%|██████████| 5/5 [00:01<00:00,  2.94it/s, Loss=0.0193, Avg Dice=0.939, CSF Dice=0.921, GM Dice=0.933, WM Dice=0.906]\n"
     ]
    },
    {
     "name": "stdout",
     "output_type": "stream",
     "text": [
      "Epoch 220, Loss: 0.0395\n",
      "Epoch 220, Dice: 0.9347 CSF Dice: 0.8948 GM Dice: 0.9286 WM Dice: 0.9186\n",
      "\n"
     ]
    },
    {
     "name": "stderr",
     "output_type": "stream",
     "text": [
      "Training Epoch 221/300: 100%|██████████| 10/10 [00:04<00:00,  2.41it/s, Loss=0.0222, Avg Dice=0.924, CSF Dice=0.888, GM Dice=0.906, WM Dice=0.907]\n"
     ]
    },
    {
     "name": "stdout",
     "output_type": "stream",
     "text": [
      "Epoch 221, Loss: 0.0445\n",
      "Epoch 221, Dice: 0.9251 CSF Dice: 0.8795 GM Dice: 0.9167 WM Dice: 0.9073\n"
     ]
    },
    {
     "name": "stderr",
     "output_type": "stream",
     "text": [
      "Validation Epoch 221/300: 100%|██████████| 5/5 [00:01<00:00,  2.97it/s, Loss=0.0192, Avg Dice=0.94, CSF Dice=0.925, GM Dice=0.932, WM Dice=0.906] \n"
     ]
    },
    {
     "name": "stdout",
     "output_type": "stream",
     "text": [
      "Epoch 221, Loss: 0.0397\n",
      "Epoch 221, Dice: 0.9341 CSF Dice: 0.8973 GM Dice: 0.9258 WM Dice: 0.9167\n",
      "\n"
     ]
    },
    {
     "name": "stderr",
     "output_type": "stream",
     "text": [
      "Training Epoch 222/300: 100%|██████████| 10/10 [00:04<00:00,  2.40it/s, Loss=0.026, Avg Dice=0.91, CSF Dice=0.813, GM Dice=0.928, WM Dice=0.903] \n"
     ]
    },
    {
     "name": "stdout",
     "output_type": "stream",
     "text": [
      "Epoch 222, Loss: 0.0448\n",
      "Epoch 222, Dice: 0.9246 CSF Dice: 0.8772 GM Dice: 0.9155 WM Dice: 0.9090\n"
     ]
    },
    {
     "name": "stderr",
     "output_type": "stream",
     "text": [
      "Validation Epoch 222/300: 100%|██████████| 5/5 [00:01<00:00,  2.93it/s, Loss=0.0188, Avg Dice=0.941, CSF Dice=0.924, GM Dice=0.935, WM Dice=0.908]\n"
     ]
    },
    {
     "name": "stdout",
     "output_type": "stream",
     "text": [
      "Epoch 222, Loss: 0.0389\n",
      "Epoch 222, Dice: 0.9359 CSF Dice: 0.8964 GM Dice: 0.9301 WM Dice: 0.9202\n",
      "\n",
      "Best model saved with dice score: 0.9359351724386216\n",
      "\n"
     ]
    },
    {
     "name": "stderr",
     "output_type": "stream",
     "text": [
      "Training Epoch 223/300: 100%|██████████| 10/10 [00:04<00:00,  2.20it/s, Loss=0.0235, Avg Dice=0.92, CSF Dice=0.844, GM Dice=0.934, WM Dice=0.907]\n"
     ]
    },
    {
     "name": "stdout",
     "output_type": "stream",
     "text": [
      "Epoch 223, Loss: 0.0444\n",
      "Epoch 223, Dice: 0.9253 CSF Dice: 0.8798 GM Dice: 0.9167 WM Dice: 0.9080\n"
     ]
    },
    {
     "name": "stderr",
     "output_type": "stream",
     "text": [
      "Validation Epoch 223/300: 100%|██████████| 5/5 [00:01<00:00,  2.88it/s, Loss=0.0206, Avg Dice=0.934, CSF Dice=0.914, GM Dice=0.929, WM Dice=0.899]\n"
     ]
    },
    {
     "name": "stdout",
     "output_type": "stream",
     "text": [
      "Epoch 223, Loss: 0.0414\n",
      "Epoch 223, Dice: 0.9312 CSF Dice: 0.8889 GM Dice: 0.9248 WM Dice: 0.9142\n",
      "\n"
     ]
    },
    {
     "name": "stderr",
     "output_type": "stream",
     "text": [
      "Training Epoch 224/300: 100%|██████████| 10/10 [00:04<00:00,  2.35it/s, Loss=0.0212, Avg Dice=0.926, CSF Dice=0.878, GM Dice=0.912, WM Dice=0.916]\n"
     ]
    },
    {
     "name": "stdout",
     "output_type": "stream",
     "text": [
      "Epoch 224, Loss: 0.0450\n",
      "Epoch 224, Dice: 0.9239 CSF Dice: 0.8777 GM Dice: 0.9149 WM Dice: 0.9065\n"
     ]
    },
    {
     "name": "stderr",
     "output_type": "stream",
     "text": [
      "Validation Epoch 224/300: 100%|██████████| 5/5 [00:01<00:00,  2.90it/s, Loss=0.0191, Avg Dice=0.94, CSF Dice=0.929, GM Dice=0.932, WM Dice=0.903] \n"
     ]
    },
    {
     "name": "stdout",
     "output_type": "stream",
     "text": [
      "Epoch 224, Loss: 0.0391\n",
      "Epoch 224, Dice: 0.9354 CSF Dice: 0.8956 GM Dice: 0.9293 WM Dice: 0.9197\n",
      "\n"
     ]
    },
    {
     "name": "stderr",
     "output_type": "stream",
     "text": [
      "Training Epoch 225/300: 100%|██████████| 10/10 [00:04<00:00,  2.35it/s, Loss=0.0206, Avg Dice=0.933, CSF Dice=0.892, GM Dice=0.931, WM Dice=0.912]\n"
     ]
    },
    {
     "name": "stdout",
     "output_type": "stream",
     "text": [
      "Epoch 225, Loss: 0.0451\n",
      "Epoch 225, Dice: 0.9241 CSF Dice: 0.8762 GM Dice: 0.9167 WM Dice: 0.9065\n"
     ]
    },
    {
     "name": "stderr",
     "output_type": "stream",
     "text": [
      "Validation Epoch 225/300: 100%|██████████| 5/5 [00:01<00:00,  2.87it/s, Loss=0.0191, Avg Dice=0.94, CSF Dice=0.926, GM Dice=0.931, WM Dice=0.906] \n"
     ]
    },
    {
     "name": "stdout",
     "output_type": "stream",
     "text": [
      "Epoch 225, Loss: 0.0392\n",
      "Epoch 225, Dice: 0.9351 CSF Dice: 0.8959 GM Dice: 0.9278 WM Dice: 0.9200\n",
      "\n"
     ]
    },
    {
     "name": "stderr",
     "output_type": "stream",
     "text": [
      "Training Epoch 226/300: 100%|██████████| 10/10 [00:04<00:00,  2.29it/s, Loss=0.0251, Avg Dice=0.915, CSF Dice=0.837, GM Dice=0.927, WM Dice=0.898]\n"
     ]
    },
    {
     "name": "stdout",
     "output_type": "stream",
     "text": [
      "Epoch 226, Loss: 0.0446\n",
      "Epoch 226, Dice: 0.9243 CSF Dice: 0.8768 GM Dice: 0.9154 WM Dice: 0.9082\n"
     ]
    },
    {
     "name": "stderr",
     "output_type": "stream",
     "text": [
      "Validation Epoch 226/300: 100%|██████████| 5/5 [00:01<00:00,  2.64it/s, Loss=0.0199, Avg Dice=0.937, CSF Dice=0.925, GM Dice=0.931, WM Dice=0.898]\n"
     ]
    },
    {
     "name": "stdout",
     "output_type": "stream",
     "text": [
      "Epoch 226, Loss: 0.0397\n",
      "Epoch 226, Dice: 0.9347 CSF Dice: 0.8976 GM Dice: 0.9282 WM Dice: 0.9159\n",
      "\n"
     ]
    },
    {
     "name": "stderr",
     "output_type": "stream",
     "text": [
      "Training Epoch 227/300: 100%|██████████| 10/10 [00:04<00:00,  2.25it/s, Loss=0.0211, Avg Dice=0.931, CSF Dice=0.895, GM Dice=0.924, WM Dice=0.909]\n"
     ]
    },
    {
     "name": "stdout",
     "output_type": "stream",
     "text": [
      "Epoch 227, Loss: 0.0446\n",
      "Epoch 227, Dice: 0.9253 CSF Dice: 0.8792 GM Dice: 0.9170 WM Dice: 0.9081\n"
     ]
    },
    {
     "name": "stderr",
     "output_type": "stream",
     "text": [
      "Validation Epoch 227/300: 100%|██████████| 5/5 [00:01<00:00,  2.91it/s, Loss=0.0191, Avg Dice=0.94, CSF Dice=0.921, GM Dice=0.934, WM Dice=0.908] \n"
     ]
    },
    {
     "name": "stdout",
     "output_type": "stream",
     "text": [
      "Epoch 227, Loss: 0.0393\n",
      "Epoch 227, Dice: 0.9350 CSF Dice: 0.8945 GM Dice: 0.9287 WM Dice: 0.9197\n",
      "\n"
     ]
    },
    {
     "name": "stderr",
     "output_type": "stream",
     "text": [
      "Training Epoch 228/300: 100%|██████████| 10/10 [00:04<00:00,  2.29it/s, Loss=0.0209, Avg Dice=0.934, CSF Dice=0.895, GM Dice=0.933, WM Dice=0.911]\n"
     ]
    },
    {
     "name": "stdout",
     "output_type": "stream",
     "text": [
      "Epoch 228, Loss: 0.0446\n",
      "Epoch 228, Dice: 0.9249 CSF Dice: 0.8775 GM Dice: 0.9169 WM Dice: 0.9084\n"
     ]
    },
    {
     "name": "stderr",
     "output_type": "stream",
     "text": [
      "Validation Epoch 228/300: 100%|██████████| 5/5 [00:02<00:00,  2.42it/s, Loss=0.019, Avg Dice=0.94, CSF Dice=0.919, GM Dice=0.935, WM Dice=0.909]  \n"
     ]
    },
    {
     "name": "stdout",
     "output_type": "stream",
     "text": [
      "Epoch 228, Loss: 0.0387\n",
      "Epoch 228, Dice: 0.9360 CSF Dice: 0.8968 GM Dice: 0.9298 WM Dice: 0.9206\n",
      "\n",
      "Best model saved with dice score: 0.9360197514295578\n",
      "\n"
     ]
    },
    {
     "name": "stderr",
     "output_type": "stream",
     "text": [
      "Training Epoch 229/300: 100%|██████████| 10/10 [00:04<00:00,  2.26it/s, Loss=0.0203, Avg Dice=0.934, CSF Dice=0.901, GM Dice=0.927, WM Dice=0.913]\n"
     ]
    },
    {
     "name": "stdout",
     "output_type": "stream",
     "text": [
      "Epoch 229, Loss: 0.0445\n",
      "Epoch 229, Dice: 0.9247 CSF Dice: 0.8776 GM Dice: 0.9161 WM Dice: 0.9083\n"
     ]
    },
    {
     "name": "stderr",
     "output_type": "stream",
     "text": [
      "Validation Epoch 229/300: 100%|██████████| 5/5 [00:01<00:00,  2.94it/s, Loss=0.0195, Avg Dice=0.938, CSF Dice=0.924, GM Dice=0.931, WM Dice=0.902]\n"
     ]
    },
    {
     "name": "stdout",
     "output_type": "stream",
     "text": [
      "Epoch 229, Loss: 0.0394\n",
      "Epoch 229, Dice: 0.9348 CSF Dice: 0.8960 GM Dice: 0.9280 WM Dice: 0.9182\n",
      "\n"
     ]
    },
    {
     "name": "stderr",
     "output_type": "stream",
     "text": [
      "Training Epoch 230/300: 100%|██████████| 10/10 [00:04<00:00,  2.31it/s, Loss=0.0221, Avg Dice=0.926, CSF Dice=0.912, GM Dice=0.893, WM Dice=0.901]\n"
     ]
    },
    {
     "name": "stdout",
     "output_type": "stream",
     "text": [
      "Epoch 230, Loss: 0.0440\n",
      "Epoch 230, Dice: 0.9257 CSF Dice: 0.8802 GM Dice: 0.9178 WM Dice: 0.9081\n"
     ]
    },
    {
     "name": "stderr",
     "output_type": "stream",
     "text": [
      "Validation Epoch 230/300: 100%|██████████| 5/5 [00:01<00:00,  3.04it/s, Loss=0.0186, Avg Dice=0.942, CSF Dice=0.93, GM Dice=0.933, WM Dice=0.908] \n"
     ]
    },
    {
     "name": "stdout",
     "output_type": "stream",
     "text": [
      "Epoch 230, Loss: 0.0384\n",
      "Epoch 230, Dice: 0.9368 CSF Dice: 0.9001 GM Dice: 0.9295 WM Dice: 0.9207\n",
      "\n",
      "Best model saved with dice score: 0.9368013828992844\n",
      "\n"
     ]
    },
    {
     "name": "stderr",
     "output_type": "stream",
     "text": [
      "Training Epoch 231/300: 100%|██████████| 10/10 [00:04<00:00,  2.44it/s, Loss=0.0202, Avg Dice=0.935, CSF Dice=0.898, GM Dice=0.934, WM Dice=0.914]\n"
     ]
    },
    {
     "name": "stdout",
     "output_type": "stream",
     "text": [
      "Epoch 231, Loss: 0.0440\n",
      "Epoch 231, Dice: 0.9258 CSF Dice: 0.8804 GM Dice: 0.9167 WM Dice: 0.9093\n"
     ]
    },
    {
     "name": "stderr",
     "output_type": "stream",
     "text": [
      "Validation Epoch 231/300: 100%|██████████| 5/5 [00:01<00:00,  2.80it/s, Loss=0.0194, Avg Dice=0.939, CSF Dice=0.92, GM Dice=0.933, WM Dice=0.905] \n"
     ]
    },
    {
     "name": "stdout",
     "output_type": "stream",
     "text": [
      "Epoch 231, Loss: 0.0394\n",
      "Epoch 231, Dice: 0.9348 CSF Dice: 0.8941 GM Dice: 0.9290 WM Dice: 0.9189\n",
      "\n"
     ]
    },
    {
     "name": "stderr",
     "output_type": "stream",
     "text": [
      "Training Epoch 232/300: 100%|██████████| 10/10 [00:04<00:00,  2.21it/s, Loss=0.0241, Avg Dice=0.917, CSF Dice=0.841, GM Dice=0.929, WM Dice=0.9] \n"
     ]
    },
    {
     "name": "stdout",
     "output_type": "stream",
     "text": [
      "Epoch 232, Loss: 0.0442\n",
      "Epoch 232, Dice: 0.9248 CSF Dice: 0.8774 GM Dice: 0.9159 WM Dice: 0.9091\n"
     ]
    },
    {
     "name": "stderr",
     "output_type": "stream",
     "text": [
      "Validation Epoch 232/300: 100%|██████████| 5/5 [00:01<00:00,  2.98it/s, Loss=0.0195, Avg Dice=0.938, CSF Dice=0.923, GM Dice=0.932, WM Dice=0.902]\n"
     ]
    },
    {
     "name": "stdout",
     "output_type": "stream",
     "text": [
      "Epoch 232, Loss: 0.0392\n",
      "Epoch 232, Dice: 0.9352 CSF Dice: 0.8964 GM Dice: 0.9291 WM Dice: 0.9184\n",
      "\n"
     ]
    },
    {
     "name": "stderr",
     "output_type": "stream",
     "text": [
      "Training Epoch 233/300: 100%|██████████| 10/10 [00:04<00:00,  2.29it/s, Loss=0.0226, Avg Dice=0.924, CSF Dice=0.88, GM Dice=0.908, WM Dice=0.91] \n"
     ]
    },
    {
     "name": "stdout",
     "output_type": "stream",
     "text": [
      "Epoch 233, Loss: 0.0439\n",
      "Epoch 233, Dice: 0.9260 CSF Dice: 0.8803 GM Dice: 0.9178 WM Dice: 0.9091\n"
     ]
    },
    {
     "name": "stderr",
     "output_type": "stream",
     "text": [
      "Validation Epoch 233/300: 100%|██████████| 5/5 [00:01<00:00,  3.07it/s, Loss=0.0193, Avg Dice=0.939, CSF Dice=0.923, GM Dice=0.932, WM Dice=0.905]\n"
     ]
    },
    {
     "name": "stdout",
     "output_type": "stream",
     "text": [
      "Epoch 233, Loss: 0.0390\n",
      "Epoch 233, Dice: 0.9354 CSF Dice: 0.8952 GM Dice: 0.9293 WM Dice: 0.9201\n",
      "\n"
     ]
    },
    {
     "name": "stderr",
     "output_type": "stream",
     "text": [
      "Training Epoch 234/300: 100%|██████████| 10/10 [00:04<00:00,  2.21it/s, Loss=0.0248, Avg Dice=0.915, CSF Dice=0.826, GM Dice=0.929, WM Dice=0.905]\n"
     ]
    },
    {
     "name": "stdout",
     "output_type": "stream",
     "text": [
      "Epoch 234, Loss: 0.0438\n",
      "Epoch 234, Dice: 0.9263 CSF Dice: 0.8806 GM Dice: 0.9186 WM Dice: 0.9092\n"
     ]
    },
    {
     "name": "stderr",
     "output_type": "stream",
     "text": [
      "Validation Epoch 234/300: 100%|██████████| 5/5 [00:01<00:00,  2.83it/s, Loss=0.0187, Avg Dice=0.941, CSF Dice=0.928, GM Dice=0.933, WM Dice=0.908]\n"
     ]
    },
    {
     "name": "stdout",
     "output_type": "stream",
     "text": [
      "Epoch 234, Loss: 0.0385\n",
      "Epoch 234, Dice: 0.9366 CSF Dice: 0.8990 GM Dice: 0.9295 WM Dice: 0.9207\n",
      "\n"
     ]
    },
    {
     "name": "stderr",
     "output_type": "stream",
     "text": [
      "Training Epoch 235/300: 100%|██████████| 10/10 [00:04<00:00,  2.28it/s, Loss=0.0224, Avg Dice=0.923, CSF Dice=0.885, GM Dice=0.907, WM Dice=0.905]\n"
     ]
    },
    {
     "name": "stdout",
     "output_type": "stream",
     "text": [
      "Epoch 235, Loss: 0.0445\n",
      "Epoch 235, Dice: 0.9253 CSF Dice: 0.8794 GM Dice: 0.9170 WM Dice: 0.9082\n"
     ]
    },
    {
     "name": "stderr",
     "output_type": "stream",
     "text": [
      "Validation Epoch 235/300: 100%|██████████| 5/5 [00:01<00:00,  2.75it/s, Loss=0.0189, Avg Dice=0.94, CSF Dice=0.924, GM Dice=0.934, WM Dice=0.907] \n"
     ]
    },
    {
     "name": "stdout",
     "output_type": "stream",
     "text": [
      "Epoch 235, Loss: 0.0389\n",
      "Epoch 235, Dice: 0.9357 CSF Dice: 0.8975 GM Dice: 0.9290 WM Dice: 0.9192\n",
      "\n"
     ]
    },
    {
     "name": "stderr",
     "output_type": "stream",
     "text": [
      "Training Epoch 236/300: 100%|██████████| 10/10 [00:04<00:00,  2.28it/s, Loss=0.02, Avg Dice=0.935, CSF Dice=0.905, GM Dice=0.927, WM Dice=0.912] \n"
     ]
    },
    {
     "name": "stdout",
     "output_type": "stream",
     "text": [
      "Epoch 236, Loss: 0.0435\n",
      "Epoch 236, Dice: 0.9268 CSF Dice: 0.8811 GM Dice: 0.9183 WM Dice: 0.9110\n"
     ]
    },
    {
     "name": "stderr",
     "output_type": "stream",
     "text": [
      "Validation Epoch 236/300: 100%|██████████| 5/5 [00:01<00:00,  2.88it/s, Loss=0.0187, Avg Dice=0.941, CSF Dice=0.929, GM Dice=0.933, WM Dice=0.908]\n"
     ]
    },
    {
     "name": "stdout",
     "output_type": "stream",
     "text": [
      "Epoch 236, Loss: 0.0381\n",
      "Epoch 236, Dice: 0.9373 CSF Dice: 0.9016 GM Dice: 0.9297 WM Dice: 0.9209\n",
      "\n",
      "Best model saved with dice score: 0.9372956126928329\n",
      "\n"
     ]
    },
    {
     "name": "stderr",
     "output_type": "stream",
     "text": [
      "Training Epoch 237/300: 100%|██████████| 10/10 [00:04<00:00,  2.26it/s, Loss=0.0237, Avg Dice=0.923, CSF Dice=0.851, GM Dice=0.937, WM Dice=0.907]\n"
     ]
    },
    {
     "name": "stdout",
     "output_type": "stream",
     "text": [
      "Epoch 237, Loss: 0.0439\n",
      "Epoch 237, Dice: 0.9267 CSF Dice: 0.8813 GM Dice: 0.9191 WM Dice: 0.9097\n"
     ]
    },
    {
     "name": "stderr",
     "output_type": "stream",
     "text": [
      "Validation Epoch 237/300: 100%|██████████| 5/5 [00:01<00:00,  2.84it/s, Loss=0.019, Avg Dice=0.94, CSF Dice=0.925, GM Dice=0.933, WM Dice=0.905]  \n"
     ]
    },
    {
     "name": "stdout",
     "output_type": "stream",
     "text": [
      "Epoch 237, Loss: 0.0385\n",
      "Epoch 237, Dice: 0.9365 CSF Dice: 0.8992 GM Dice: 0.9298 WM Dice: 0.9201\n",
      "\n"
     ]
    },
    {
     "name": "stderr",
     "output_type": "stream",
     "text": [
      "Training Epoch 238/300: 100%|██████████| 10/10 [00:04<00:00,  2.39it/s, Loss=0.0238, Avg Dice=0.918, CSF Dice=0.841, GM Dice=0.93, WM Dice=0.901]\n"
     ]
    },
    {
     "name": "stdout",
     "output_type": "stream",
     "text": [
      "Epoch 238, Loss: 0.0436\n",
      "Epoch 238, Dice: 0.9260 CSF Dice: 0.8816 GM Dice: 0.9166 WM Dice: 0.9086\n"
     ]
    },
    {
     "name": "stderr",
     "output_type": "stream",
     "text": [
      "Validation Epoch 238/300: 100%|██████████| 5/5 [00:01<00:00,  2.99it/s, Loss=0.0194, Avg Dice=0.938, CSF Dice=0.916, GM Dice=0.933, WM Dice=0.906]\n"
     ]
    },
    {
     "name": "stdout",
     "output_type": "stream",
     "text": [
      "Epoch 238, Loss: 0.0392\n",
      "Epoch 238, Dice: 0.9349 CSF Dice: 0.8931 GM Dice: 0.9293 WM Dice: 0.9201\n",
      "\n"
     ]
    },
    {
     "name": "stderr",
     "output_type": "stream",
     "text": [
      "Training Epoch 239/300: 100%|██████████| 10/10 [00:04<00:00,  2.31it/s, Loss=0.0194, Avg Dice=0.933, CSF Dice=0.921, GM Dice=0.9, WM Dice=0.913] \n"
     ]
    },
    {
     "name": "stdout",
     "output_type": "stream",
     "text": [
      "Epoch 239, Loss: 0.0436\n",
      "Epoch 239, Dice: 0.9265 CSF Dice: 0.8811 GM Dice: 0.9180 WM Dice: 0.9102\n"
     ]
    },
    {
     "name": "stderr",
     "output_type": "stream",
     "text": [
      "Validation Epoch 239/300: 100%|██████████| 5/5 [00:01<00:00,  2.91it/s, Loss=0.0189, Avg Dice=0.941, CSF Dice=0.926, GM Dice=0.934, WM Dice=0.907]\n"
     ]
    },
    {
     "name": "stdout",
     "output_type": "stream",
     "text": [
      "Epoch 239, Loss: 0.0384\n",
      "Epoch 239, Dice: 0.9368 CSF Dice: 0.8992 GM Dice: 0.9301 WM Dice: 0.9208\n",
      "\n"
     ]
    },
    {
     "name": "stderr",
     "output_type": "stream",
     "text": [
      "Training Epoch 240/300: 100%|██████████| 10/10 [00:04<00:00,  2.44it/s, Loss=0.0229, Avg Dice=0.922, CSF Dice=0.882, GM Dice=0.906, WM Dice=0.904]\n"
     ]
    },
    {
     "name": "stdout",
     "output_type": "stream",
     "text": [
      "Epoch 240, Loss: 0.0438\n",
      "Epoch 240, Dice: 0.9266 CSF Dice: 0.8817 GM Dice: 0.9188 WM Dice: 0.9090\n"
     ]
    },
    {
     "name": "stderr",
     "output_type": "stream",
     "text": [
      "Validation Epoch 240/300: 100%|██████████| 5/5 [00:01<00:00,  2.75it/s, Loss=0.0185, Avg Dice=0.942, CSF Dice=0.924, GM Dice=0.935, WM Dice=0.912]\n"
     ]
    },
    {
     "name": "stdout",
     "output_type": "stream",
     "text": [
      "Epoch 240, Loss: 0.0383\n",
      "Epoch 240, Dice: 0.9367 CSF Dice: 0.8983 GM Dice: 0.9300 WM Dice: 0.9217\n",
      "\n"
     ]
    },
    {
     "name": "stderr",
     "output_type": "stream",
     "text": [
      "Training Epoch 241/300: 100%|██████████| 10/10 [00:04<00:00,  2.30it/s, Loss=0.0225, Avg Dice=0.924, CSF Dice=0.911, GM Dice=0.888, WM Dice=0.901]\n"
     ]
    },
    {
     "name": "stdout",
     "output_type": "stream",
     "text": [
      "Epoch 241, Loss: 0.0443\n",
      "Epoch 241, Dice: 0.9259 CSF Dice: 0.8818 GM Dice: 0.9165 WM Dice: 0.9087\n"
     ]
    },
    {
     "name": "stderr",
     "output_type": "stream",
     "text": [
      "Validation Epoch 241/300: 100%|██████████| 5/5 [00:01<00:00,  2.85it/s, Loss=0.0187, Avg Dice=0.941, CSF Dice=0.927, GM Dice=0.933, WM Dice=0.909]\n"
     ]
    },
    {
     "name": "stdout",
     "output_type": "stream",
     "text": [
      "Epoch 241, Loss: 0.0386\n",
      "Epoch 241, Dice: 0.9362 CSF Dice: 0.8996 GM Dice: 0.9286 WM Dice: 0.9198\n",
      "\n"
     ]
    },
    {
     "name": "stderr",
     "output_type": "stream",
     "text": [
      "Training Epoch 242/300: 100%|██████████| 10/10 [00:04<00:00,  2.37it/s, Loss=0.0219, Avg Dice=0.932, CSF Dice=0.893, GM Dice=0.932, WM Dice=0.91]\n"
     ]
    },
    {
     "name": "stdout",
     "output_type": "stream",
     "text": [
      "Epoch 242, Loss: 0.0443\n",
      "Epoch 242, Dice: 0.9253 CSF Dice: 0.8789 GM Dice: 0.9177 WM Dice: 0.9079\n"
     ]
    },
    {
     "name": "stderr",
     "output_type": "stream",
     "text": [
      "Validation Epoch 242/300: 100%|██████████| 5/5 [00:01<00:00,  2.82it/s, Loss=0.0194, Avg Dice=0.938, CSF Dice=0.921, GM Dice=0.932, WM Dice=0.904]\n"
     ]
    },
    {
     "name": "stdout",
     "output_type": "stream",
     "text": [
      "Epoch 242, Loss: 0.0387\n",
      "Epoch 242, Dice: 0.9361 CSF Dice: 0.8968 GM Dice: 0.9300 WM Dice: 0.9206\n",
      "\n"
     ]
    },
    {
     "name": "stderr",
     "output_type": "stream",
     "text": [
      "Training Epoch 243/300: 100%|██████████| 10/10 [00:04<00:00,  2.35it/s, Loss=0.0232, Avg Dice=0.921, CSF Dice=0.851, GM Dice=0.931, WM Dice=0.906]\n"
     ]
    },
    {
     "name": "stdout",
     "output_type": "stream",
     "text": [
      "Epoch 243, Loss: 0.0442\n",
      "Epoch 243, Dice: 0.9259 CSF Dice: 0.8817 GM Dice: 0.9157 WM Dice: 0.9098\n"
     ]
    },
    {
     "name": "stderr",
     "output_type": "stream",
     "text": [
      "Validation Epoch 243/300: 100%|██████████| 5/5 [00:01<00:00,  2.93it/s, Loss=0.0185, Avg Dice=0.942, CSF Dice=0.929, GM Dice=0.933, WM Dice=0.91] \n"
     ]
    },
    {
     "name": "stdout",
     "output_type": "stream",
     "text": [
      "Epoch 243, Loss: 0.0387\n",
      "Epoch 243, Dice: 0.9360 CSF Dice: 0.9003 GM Dice: 0.9277 WM Dice: 0.9192\n",
      "\n"
     ]
    },
    {
     "name": "stderr",
     "output_type": "stream",
     "text": [
      "Training Epoch 244/300: 100%|██████████| 10/10 [00:04<00:00,  2.45it/s, Loss=0.0194, Avg Dice=0.935, CSF Dice=0.922, GM Dice=0.907, WM Dice=0.917]\n"
     ]
    },
    {
     "name": "stdout",
     "output_type": "stream",
     "text": [
      "Epoch 244, Loss: 0.0431\n",
      "Epoch 244, Dice: 0.9275 CSF Dice: 0.8834 GM Dice: 0.9194 WM Dice: 0.9104\n"
     ]
    },
    {
     "name": "stderr",
     "output_type": "stream",
     "text": [
      "Validation Epoch 244/300: 100%|██████████| 5/5 [00:01<00:00,  2.96it/s, Loss=0.0189, Avg Dice=0.94, CSF Dice=0.924, GM Dice=0.934, WM Dice=0.906] \n"
     ]
    },
    {
     "name": "stdout",
     "output_type": "stream",
     "text": [
      "Epoch 244, Loss: 0.0383\n",
      "Epoch 244, Dice: 0.9369 CSF Dice: 0.8983 GM Dice: 0.9309 WM Dice: 0.9213\n",
      "\n"
     ]
    },
    {
     "name": "stderr",
     "output_type": "stream",
     "text": [
      "Training Epoch 245/300: 100%|██████████| 10/10 [00:04<00:00,  2.42it/s, Loss=0.0212, Avg Dice=0.927, CSF Dice=0.877, GM Dice=0.915, WM Dice=0.92]\n"
     ]
    },
    {
     "name": "stdout",
     "output_type": "stream",
     "text": [
      "Epoch 245, Loss: 0.0436\n",
      "Epoch 245, Dice: 0.9266 CSF Dice: 0.8813 GM Dice: 0.9186 WM Dice: 0.9098\n"
     ]
    },
    {
     "name": "stderr",
     "output_type": "stream",
     "text": [
      "Validation Epoch 245/300: 100%|██████████| 5/5 [00:01<00:00,  2.81it/s, Loss=0.0191, Avg Dice=0.94, CSF Dice=0.926, GM Dice=0.932, WM Dice=0.905] \n"
     ]
    },
    {
     "name": "stdout",
     "output_type": "stream",
     "text": [
      "Epoch 245, Loss: 0.0385\n",
      "Epoch 245, Dice: 0.9364 CSF Dice: 0.8985 GM Dice: 0.9298 WM Dice: 0.9206\n",
      "\n"
     ]
    },
    {
     "name": "stderr",
     "output_type": "stream",
     "text": [
      "Training Epoch 246/300: 100%|██████████| 10/10 [00:04<00:00,  2.50it/s, Loss=0.0203, Avg Dice=0.929, CSF Dice=0.922, GM Dice=0.889, WM Dice=0.908]\n"
     ]
    },
    {
     "name": "stdout",
     "output_type": "stream",
     "text": [
      "Epoch 246, Loss: 0.0438\n",
      "Epoch 246, Dice: 0.9257 CSF Dice: 0.8812 GM Dice: 0.9154 WM Dice: 0.9093\n"
     ]
    },
    {
     "name": "stderr",
     "output_type": "stream",
     "text": [
      "Validation Epoch 246/300: 100%|██████████| 5/5 [00:01<00:00,  3.04it/s, Loss=0.0191, Avg Dice=0.939, CSF Dice=0.926, GM Dice=0.931, WM Dice=0.905]\n"
     ]
    },
    {
     "name": "stdout",
     "output_type": "stream",
     "text": [
      "Epoch 246, Loss: 0.0388\n",
      "Epoch 246, Dice: 0.9357 CSF Dice: 0.8987 GM Dice: 0.9271 WM Dice: 0.9202\n",
      "\n"
     ]
    },
    {
     "name": "stderr",
     "output_type": "stream",
     "text": [
      "Training Epoch 247/300: 100%|██████████| 10/10 [00:04<00:00,  2.34it/s, Loss=0.0212, Avg Dice=0.927, CSF Dice=0.88, GM Dice=0.913, WM Dice=0.918]\n"
     ]
    },
    {
     "name": "stdout",
     "output_type": "stream",
     "text": [
      "Epoch 247, Loss: 0.0439\n",
      "Epoch 247, Dice: 0.9265 CSF Dice: 0.8822 GM Dice: 0.9179 WM Dice: 0.9091\n"
     ]
    },
    {
     "name": "stderr",
     "output_type": "stream",
     "text": [
      "Validation Epoch 247/300: 100%|██████████| 5/5 [00:01<00:00,  2.89it/s, Loss=0.0189, Avg Dice=0.941, CSF Dice=0.928, GM Dice=0.933, WM Dice=0.906]\n"
     ]
    },
    {
     "name": "stdout",
     "output_type": "stream",
     "text": [
      "Epoch 247, Loss: 0.0381\n",
      "Epoch 247, Dice: 0.9373 CSF Dice: 0.9000 GM Dice: 0.9306 WM Dice: 0.9216\n",
      "\n"
     ]
    },
    {
     "name": "stderr",
     "output_type": "stream",
     "text": [
      "Training Epoch 248/300: 100%|██████████| 10/10 [00:04<00:00,  2.29it/s, Loss=0.0205, Avg Dice=0.929, CSF Dice=0.879, GM Dice=0.916, WM Dice=0.921]\n"
     ]
    },
    {
     "name": "stdout",
     "output_type": "stream",
     "text": [
      "Epoch 248, Loss: 0.0428\n",
      "Epoch 248, Dice: 0.9278 CSF Dice: 0.8831 GM Dice: 0.9192 WM Dice: 0.9119\n"
     ]
    },
    {
     "name": "stderr",
     "output_type": "stream",
     "text": [
      "Validation Epoch 248/300: 100%|██████████| 5/5 [00:01<00:00,  2.89it/s, Loss=0.0194, Avg Dice=0.939, CSF Dice=0.928, GM Dice=0.93, WM Dice=0.902] \n"
     ]
    },
    {
     "name": "stdout",
     "output_type": "stream",
     "text": [
      "Epoch 248, Loss: 0.0384\n",
      "Epoch 248, Dice: 0.9367 CSF Dice: 0.9009 GM Dice: 0.9288 WM Dice: 0.9200\n",
      "\n"
     ]
    },
    {
     "name": "stderr",
     "output_type": "stream",
     "text": [
      "Training Epoch 249/300: 100%|██████████| 10/10 [00:04<00:00,  2.49it/s, Loss=0.0203, Avg Dice=0.936, CSF Dice=0.898, GM Dice=0.934, WM Dice=0.916]\n"
     ]
    },
    {
     "name": "stdout",
     "output_type": "stream",
     "text": [
      "Epoch 249, Loss: 0.0437\n",
      "Epoch 249, Dice: 0.9265 CSF Dice: 0.8820 GM Dice: 0.9170 WM Dice: 0.9101\n"
     ]
    },
    {
     "name": "stderr",
     "output_type": "stream",
     "text": [
      "Validation Epoch 249/300: 100%|██████████| 5/5 [00:01<00:00,  2.91it/s, Loss=0.0185, Avg Dice=0.941, CSF Dice=0.925, GM Dice=0.934, WM Dice=0.911]\n"
     ]
    },
    {
     "name": "stdout",
     "output_type": "stream",
     "text": [
      "Epoch 249, Loss: 0.0382\n",
      "Epoch 249, Dice: 0.9369 CSF Dice: 0.8989 GM Dice: 0.9296 WM Dice: 0.9223\n",
      "\n"
     ]
    },
    {
     "name": "stderr",
     "output_type": "stream",
     "text": [
      "Training Epoch 250/300: 100%|██████████| 10/10 [00:04<00:00,  2.41it/s, Loss=0.0226, Avg Dice=0.924, CSF Dice=0.849, GM Dice=0.938, WM Dice=0.912]\n"
     ]
    },
    {
     "name": "stdout",
     "output_type": "stream",
     "text": [
      "Epoch 250, Loss: 0.0433\n",
      "Epoch 250, Dice: 0.9274 CSF Dice: 0.8840 GM Dice: 0.9188 WM Dice: 0.9101\n"
     ]
    },
    {
     "name": "stderr",
     "output_type": "stream",
     "text": [
      "Validation Epoch 250/300: 100%|██████████| 5/5 [00:01<00:00,  2.88it/s, Loss=0.0185, Avg Dice=0.942, CSF Dice=0.925, GM Dice=0.936, WM Dice=0.909]\n"
     ]
    },
    {
     "name": "stdout",
     "output_type": "stream",
     "text": [
      "Epoch 250, Loss: 0.0378\n",
      "Epoch 250, Dice: 0.9378 CSF Dice: 0.9003 GM Dice: 0.9313 WM Dice: 0.9224\n",
      "\n",
      "Best model saved with dice score: 0.9377644121646881\n",
      "\n"
     ]
    },
    {
     "name": "stderr",
     "output_type": "stream",
     "text": [
      "Training Epoch 251/300: 100%|██████████| 10/10 [00:04<00:00,  2.24it/s, Loss=0.0236, Avg Dice=0.919, CSF Dice=0.851, GM Dice=0.929, WM Dice=0.901]\n"
     ]
    },
    {
     "name": "stdout",
     "output_type": "stream",
     "text": [
      "Epoch 251, Loss: 0.0433\n",
      "Epoch 251, Dice: 0.9266 CSF Dice: 0.8813 GM Dice: 0.9181 WM Dice: 0.9100\n"
     ]
    },
    {
     "name": "stderr",
     "output_type": "stream",
     "text": [
      "Validation Epoch 251/300: 100%|██████████| 5/5 [00:01<00:00,  2.59it/s, Loss=0.0194, Avg Dice=0.939, CSF Dice=0.924, GM Dice=0.932, WM Dice=0.903]\n"
     ]
    },
    {
     "name": "stdout",
     "output_type": "stream",
     "text": [
      "Epoch 251, Loss: 0.0385\n",
      "Epoch 251, Dice: 0.9364 CSF Dice: 0.8996 GM Dice: 0.9293 WM Dice: 0.9199\n",
      "\n"
     ]
    },
    {
     "name": "stderr",
     "output_type": "stream",
     "text": [
      "Training Epoch 252/300: 100%|██████████| 10/10 [00:04<00:00,  2.29it/s, Loss=0.0191, Avg Dice=0.935, CSF Dice=0.924, GM Dice=0.904, WM Dice=0.914]\n"
     ]
    },
    {
     "name": "stdout",
     "output_type": "stream",
     "text": [
      "Epoch 252, Loss: 0.0435\n",
      "Epoch 252, Dice: 0.9269 CSF Dice: 0.8823 GM Dice: 0.9182 WM Dice: 0.9104\n"
     ]
    },
    {
     "name": "stderr",
     "output_type": "stream",
     "text": [
      "Validation Epoch 252/300: 100%|██████████| 5/5 [00:01<00:00,  2.95it/s, Loss=0.0185, Avg Dice=0.942, CSF Dice=0.927, GM Dice=0.935, WM Dice=0.91] \n"
     ]
    },
    {
     "name": "stdout",
     "output_type": "stream",
     "text": [
      "Epoch 252, Loss: 0.0379\n",
      "Epoch 252, Dice: 0.9374 CSF Dice: 0.9002 GM Dice: 0.9302 WM Dice: 0.9220\n",
      "\n"
     ]
    },
    {
     "name": "stderr",
     "output_type": "stream",
     "text": [
      "Training Epoch 253/300: 100%|██████████| 10/10 [00:04<00:00,  2.28it/s, Loss=0.0259, Avg Dice=0.911, CSF Dice=0.816, GM Dice=0.927, WM Dice=0.901]\n"
     ]
    },
    {
     "name": "stdout",
     "output_type": "stream",
     "text": [
      "Epoch 253, Loss: 0.0429\n",
      "Epoch 253, Dice: 0.9276 CSF Dice: 0.8828 GM Dice: 0.9193 WM Dice: 0.9112\n"
     ]
    },
    {
     "name": "stderr",
     "output_type": "stream",
     "text": [
      "Validation Epoch 253/300: 100%|██████████| 5/5 [00:01<00:00,  2.92it/s, Loss=0.0189, Avg Dice=0.94, CSF Dice=0.923, GM Dice=0.935, WM Dice=0.908] \n"
     ]
    },
    {
     "name": "stdout",
     "output_type": "stream",
     "text": [
      "Epoch 253, Loss: 0.0384\n",
      "Epoch 253, Dice: 0.9366 CSF Dice: 0.8984 GM Dice: 0.9300 WM Dice: 0.9210\n",
      "\n"
     ]
    },
    {
     "name": "stderr",
     "output_type": "stream",
     "text": [
      "Training Epoch 254/300: 100%|██████████| 10/10 [00:04<00:00,  2.16it/s, Loss=0.0217, Avg Dice=0.928, CSF Dice=0.915, GM Dice=0.895, WM Dice=0.907]\n"
     ]
    },
    {
     "name": "stdout",
     "output_type": "stream",
     "text": [
      "Epoch 254, Loss: 0.0431\n",
      "Epoch 254, Dice: 0.9274 CSF Dice: 0.8822 GM Dice: 0.9191 WM Dice: 0.9116\n"
     ]
    },
    {
     "name": "stderr",
     "output_type": "stream",
     "text": [
      "Validation Epoch 254/300: 100%|██████████| 5/5 [00:01<00:00,  2.93it/s, Loss=0.0186, Avg Dice=0.941, CSF Dice=0.926, GM Dice=0.934, WM Dice=0.909]\n"
     ]
    },
    {
     "name": "stdout",
     "output_type": "stream",
     "text": [
      "Epoch 254, Loss: 0.0380\n",
      "Epoch 254, Dice: 0.9372 CSF Dice: 0.8996 GM Dice: 0.9302 WM Dice: 0.9221\n",
      "\n"
     ]
    },
    {
     "name": "stderr",
     "output_type": "stream",
     "text": [
      "Training Epoch 255/300: 100%|██████████| 10/10 [00:04<00:00,  2.41it/s, Loss=0.0228, Avg Dice=0.923, CSF Dice=0.852, GM Dice=0.935, WM Dice=0.91]\n"
     ]
    },
    {
     "name": "stdout",
     "output_type": "stream",
     "text": [
      "Epoch 255, Loss: 0.0433\n",
      "Epoch 255, Dice: 0.9270 CSF Dice: 0.8826 GM Dice: 0.9180 WM Dice: 0.9105\n"
     ]
    },
    {
     "name": "stderr",
     "output_type": "stream",
     "text": [
      "Validation Epoch 255/300: 100%|██████████| 5/5 [00:01<00:00,  2.80it/s, Loss=0.0187, Avg Dice=0.941, CSF Dice=0.926, GM Dice=0.934, WM Dice=0.908]\n"
     ]
    },
    {
     "name": "stdout",
     "output_type": "stream",
     "text": [
      "Epoch 255, Loss: 0.0381\n",
      "Epoch 255, Dice: 0.9370 CSF Dice: 0.8991 GM Dice: 0.9302 WM Dice: 0.9218\n",
      "\n"
     ]
    },
    {
     "name": "stderr",
     "output_type": "stream",
     "text": [
      "Training Epoch 256/300: 100%|██████████| 10/10 [00:04<00:00,  2.24it/s, Loss=0.0213, Avg Dice=0.927, CSF Dice=0.878, GM Dice=0.913, WM Dice=0.92]\n"
     ]
    },
    {
     "name": "stdout",
     "output_type": "stream",
     "text": [
      "Epoch 256, Loss: 0.0432\n",
      "Epoch 256, Dice: 0.9274 CSF Dice: 0.8828 GM Dice: 0.9189 WM Dice: 0.9111\n"
     ]
    },
    {
     "name": "stderr",
     "output_type": "stream",
     "text": [
      "Validation Epoch 256/300: 100%|██████████| 5/5 [00:01<00:00,  2.99it/s, Loss=0.0191, Avg Dice=0.94, CSF Dice=0.924, GM Dice=0.934, WM Dice=0.906] \n"
     ]
    },
    {
     "name": "stdout",
     "output_type": "stream",
     "text": [
      "Epoch 256, Loss: 0.0382\n",
      "Epoch 256, Dice: 0.9370 CSF Dice: 0.8985 GM Dice: 0.9309 WM Dice: 0.9214\n",
      "\n"
     ]
    },
    {
     "name": "stderr",
     "output_type": "stream",
     "text": [
      "Training Epoch 257/300: 100%|██████████| 10/10 [00:04<00:00,  2.32it/s, Loss=0.0211, Avg Dice=0.928, CSF Dice=0.879, GM Dice=0.916, WM Dice=0.92]\n"
     ]
    },
    {
     "name": "stdout",
     "output_type": "stream",
     "text": [
      "Epoch 257, Loss: 0.0433\n",
      "Epoch 257, Dice: 0.9278 CSF Dice: 0.8844 GM Dice: 0.9192 WM Dice: 0.9108\n"
     ]
    },
    {
     "name": "stderr",
     "output_type": "stream",
     "text": [
      "Validation Epoch 257/300: 100%|██████████| 5/5 [00:01<00:00,  2.82it/s, Loss=0.0187, Avg Dice=0.941, CSF Dice=0.926, GM Dice=0.934, WM Dice=0.908]\n"
     ]
    },
    {
     "name": "stdout",
     "output_type": "stream",
     "text": [
      "Epoch 257, Loss: 0.0380\n",
      "Epoch 257, Dice: 0.9371 CSF Dice: 0.8999 GM Dice: 0.9299 WM Dice: 0.9218\n",
      "\n"
     ]
    },
    {
     "name": "stderr",
     "output_type": "stream",
     "text": [
      "Training Epoch 258/300: 100%|██████████| 10/10 [00:04<00:00,  2.32it/s, Loss=0.0195, Avg Dice=0.937, CSF Dice=0.899, GM Dice=0.935, WM Dice=0.92]\n"
     ]
    },
    {
     "name": "stdout",
     "output_type": "stream",
     "text": [
      "Epoch 258, Loss: 0.0434\n",
      "Epoch 258, Dice: 0.9267 CSF Dice: 0.8806 GM Dice: 0.9182 WM Dice: 0.9111\n"
     ]
    },
    {
     "name": "stderr",
     "output_type": "stream",
     "text": [
      "Validation Epoch 258/300: 100%|██████████| 5/5 [00:01<00:00,  2.91it/s, Loss=0.0186, Avg Dice=0.941, CSF Dice=0.924, GM Dice=0.935, WM Dice=0.909]\n"
     ]
    },
    {
     "name": "stdout",
     "output_type": "stream",
     "text": [
      "Epoch 258, Loss: 0.0381\n",
      "Epoch 258, Dice: 0.9369 CSF Dice: 0.8998 GM Dice: 0.9295 WM Dice: 0.9214\n",
      "\n"
     ]
    },
    {
     "name": "stderr",
     "output_type": "stream",
     "text": [
      "Training Epoch 259/300: 100%|██████████| 10/10 [00:04<00:00,  2.20it/s, Loss=0.0209, Avg Dice=0.927, CSF Dice=0.874, GM Dice=0.916, WM Dice=0.921]\n"
     ]
    },
    {
     "name": "stdout",
     "output_type": "stream",
     "text": [
      "Epoch 259, Loss: 0.0428\n",
      "Epoch 259, Dice: 0.9277 CSF Dice: 0.8834 GM Dice: 0.9194 WM Dice: 0.9111\n"
     ]
    },
    {
     "name": "stderr",
     "output_type": "stream",
     "text": [
      "Validation Epoch 259/300: 100%|██████████| 5/5 [00:01<00:00,  2.98it/s, Loss=0.0188, Avg Dice=0.941, CSF Dice=0.926, GM Dice=0.934, WM Dice=0.907]\n"
     ]
    },
    {
     "name": "stdout",
     "output_type": "stream",
     "text": [
      "Epoch 259, Loss: 0.0383\n",
      "Epoch 259, Dice: 0.9368 CSF Dice: 0.8996 GM Dice: 0.9298 WM Dice: 0.9209\n",
      "\n"
     ]
    },
    {
     "name": "stderr",
     "output_type": "stream",
     "text": [
      "Training Epoch 260/300: 100%|██████████| 10/10 [00:04<00:00,  2.31it/s, Loss=0.0234, Avg Dice=0.919, CSF Dice=0.847, GM Dice=0.929, WM Dice=0.903]\n"
     ]
    },
    {
     "name": "stdout",
     "output_type": "stream",
     "text": [
      "Epoch 260, Loss: 0.0429\n",
      "Epoch 260, Dice: 0.9277 CSF Dice: 0.8836 GM Dice: 0.9187 WM Dice: 0.9116\n"
     ]
    },
    {
     "name": "stderr",
     "output_type": "stream",
     "text": [
      "Validation Epoch 260/300: 100%|██████████| 5/5 [00:01<00:00,  3.20it/s, Loss=0.0185, Avg Dice=0.942, CSF Dice=0.929, GM Dice=0.934, WM Dice=0.908]\n"
     ]
    },
    {
     "name": "stdout",
     "output_type": "stream",
     "text": [
      "Epoch 260, Loss: 0.0379\n",
      "Epoch 260, Dice: 0.9374 CSF Dice: 0.9010 GM Dice: 0.9300 WM Dice: 0.9218\n",
      "\n"
     ]
    },
    {
     "name": "stderr",
     "output_type": "stream",
     "text": [
      "Training Epoch 261/300: 100%|██████████| 10/10 [00:04<00:00,  2.40it/s, Loss=0.0235, Avg Dice=0.919, CSF Dice=0.849, GM Dice=0.929, WM Dice=0.902]\n"
     ]
    },
    {
     "name": "stdout",
     "output_type": "stream",
     "text": [
      "Epoch 261, Loss: 0.0429\n",
      "Epoch 261, Dice: 0.9277 CSF Dice: 0.8826 GM Dice: 0.9196 WM Dice: 0.9119\n"
     ]
    },
    {
     "name": "stderr",
     "output_type": "stream",
     "text": [
      "Validation Epoch 261/300: 100%|██████████| 5/5 [00:01<00:00,  2.88it/s, Loss=0.0187, Avg Dice=0.941, CSF Dice=0.927, GM Dice=0.933, WM Dice=0.907]\n"
     ]
    },
    {
     "name": "stdout",
     "output_type": "stream",
     "text": [
      "Epoch 261, Loss: 0.0382\n",
      "Epoch 261, Dice: 0.9370 CSF Dice: 0.9000 GM Dice: 0.9296 WM Dice: 0.9213\n",
      "\n"
     ]
    },
    {
     "name": "stderr",
     "output_type": "stream",
     "text": [
      "Training Epoch 262/300: 100%|██████████| 10/10 [00:04<00:00,  2.34it/s, Loss=0.0206, Avg Dice=0.93, CSF Dice=0.905, GM Dice=0.907, WM Dice=0.912]\n"
     ]
    },
    {
     "name": "stdout",
     "output_type": "stream",
     "text": [
      "Epoch 262, Loss: 0.0432\n",
      "Epoch 262, Dice: 0.9272 CSF Dice: 0.8834 GM Dice: 0.9185 WM Dice: 0.9103\n"
     ]
    },
    {
     "name": "stderr",
     "output_type": "stream",
     "text": [
      "Validation Epoch 262/300: 100%|██████████| 5/5 [00:01<00:00,  2.95it/s, Loss=0.0187, Avg Dice=0.941, CSF Dice=0.927, GM Dice=0.934, WM Dice=0.907]\n"
     ]
    },
    {
     "name": "stdout",
     "output_type": "stream",
     "text": [
      "Epoch 262, Loss: 0.0379\n",
      "Epoch 262, Dice: 0.9374 CSF Dice: 0.9005 GM Dice: 0.9305 WM Dice: 0.9217\n",
      "\n"
     ]
    },
    {
     "name": "stderr",
     "output_type": "stream",
     "text": [
      "Training Epoch 263/300: 100%|██████████| 10/10 [00:04<00:00,  2.35it/s, Loss=0.0218, Avg Dice=0.927, CSF Dice=0.913, GM Dice=0.892, WM Dice=0.905]\n"
     ]
    },
    {
     "name": "stdout",
     "output_type": "stream",
     "text": [
      "Epoch 263, Loss: 0.0426\n",
      "Epoch 263, Dice: 0.9277 CSF Dice: 0.8838 GM Dice: 0.9186 WM Dice: 0.9115\n"
     ]
    },
    {
     "name": "stderr",
     "output_type": "stream",
     "text": [
      "Validation Epoch 263/300: 100%|██████████| 5/5 [00:01<00:00,  3.09it/s, Loss=0.0188, Avg Dice=0.941, CSF Dice=0.927, GM Dice=0.933, WM Dice=0.907]\n"
     ]
    },
    {
     "name": "stdout",
     "output_type": "stream",
     "text": [
      "Epoch 263, Loss: 0.0380\n",
      "Epoch 263, Dice: 0.9373 CSF Dice: 0.9008 GM Dice: 0.9300 WM Dice: 0.9215\n",
      "\n"
     ]
    },
    {
     "name": "stderr",
     "output_type": "stream",
     "text": [
      "Training Epoch 264/300: 100%|██████████| 10/10 [00:04<00:00,  2.46it/s, Loss=0.0215, Avg Dice=0.927, CSF Dice=0.889, GM Dice=0.912, WM Dice=0.912]\n"
     ]
    },
    {
     "name": "stdout",
     "output_type": "stream",
     "text": [
      "Epoch 264, Loss: 0.0427\n",
      "Epoch 264, Dice: 0.9277 CSF Dice: 0.8832 GM Dice: 0.9191 WM Dice: 0.9115\n"
     ]
    },
    {
     "name": "stderr",
     "output_type": "stream",
     "text": [
      "Validation Epoch 264/300: 100%|██████████| 5/5 [00:01<00:00,  2.79it/s, Loss=0.019, Avg Dice=0.94, CSF Dice=0.925, GM Dice=0.933, WM Dice=0.906]  \n"
     ]
    },
    {
     "name": "stdout",
     "output_type": "stream",
     "text": [
      "Epoch 264, Loss: 0.0382\n",
      "Epoch 264, Dice: 0.9369 CSF Dice: 0.8993 GM Dice: 0.9301 WM Dice: 0.9213\n",
      "\n"
     ]
    },
    {
     "name": "stderr",
     "output_type": "stream",
     "text": [
      "Training Epoch 265/300: 100%|██████████| 10/10 [00:04<00:00,  2.37it/s, Loss=0.0246, Avg Dice=0.914, CSF Dice=0.826, GM Dice=0.929, WM Dice=0.904]\n"
     ]
    },
    {
     "name": "stdout",
     "output_type": "stream",
     "text": [
      "Epoch 265, Loss: 0.0426\n",
      "Epoch 265, Dice: 0.9277 CSF Dice: 0.8833 GM Dice: 0.9188 WM Dice: 0.9117\n"
     ]
    },
    {
     "name": "stderr",
     "output_type": "stream",
     "text": [
      "Validation Epoch 265/300: 100%|██████████| 5/5 [00:01<00:00,  2.75it/s, Loss=0.0192, Avg Dice=0.939, CSF Dice=0.926, GM Dice=0.932, WM Dice=0.904]\n"
     ]
    },
    {
     "name": "stdout",
     "output_type": "stream",
     "text": [
      "Epoch 265, Loss: 0.0384\n",
      "Epoch 265, Dice: 0.9364 CSF Dice: 0.8986 GM Dice: 0.9295 WM Dice: 0.9206\n",
      "\n"
     ]
    },
    {
     "name": "stderr",
     "output_type": "stream",
     "text": [
      "Training Epoch 266/300: 100%|██████████| 10/10 [00:04<00:00,  2.41it/s, Loss=0.0238, Avg Dice=0.918, CSF Dice=0.848, GM Dice=0.928, WM Dice=0.9] \n"
     ]
    },
    {
     "name": "stdout",
     "output_type": "stream",
     "text": [
      "Epoch 266, Loss: 0.0429\n",
      "Epoch 266, Dice: 0.9280 CSF Dice: 0.8850 GM Dice: 0.9190 WM Dice: 0.9112\n"
     ]
    },
    {
     "name": "stderr",
     "output_type": "stream",
     "text": [
      "Validation Epoch 266/300: 100%|██████████| 5/5 [00:01<00:00,  3.02it/s, Loss=0.0191, Avg Dice=0.94, CSF Dice=0.925, GM Dice=0.933, WM Dice=0.905] \n"
     ]
    },
    {
     "name": "stdout",
     "output_type": "stream",
     "text": [
      "Epoch 266, Loss: 0.0383\n",
      "Epoch 266, Dice: 0.9366 CSF Dice: 0.8987 GM Dice: 0.9299 WM Dice: 0.9211\n",
      "\n"
     ]
    },
    {
     "name": "stderr",
     "output_type": "stream",
     "text": [
      "Training Epoch 267/300: 100%|██████████| 10/10 [00:04<00:00,  2.34it/s, Loss=0.0206, Avg Dice=0.929, CSF Dice=0.882, GM Dice=0.917, WM Dice=0.921]\n"
     ]
    },
    {
     "name": "stdout",
     "output_type": "stream",
     "text": [
      "Epoch 267, Loss: 0.0432\n",
      "Epoch 267, Dice: 0.9276 CSF Dice: 0.8834 GM Dice: 0.9196 WM Dice: 0.9107\n"
     ]
    },
    {
     "name": "stderr",
     "output_type": "stream",
     "text": [
      "Validation Epoch 267/300: 100%|██████████| 5/5 [00:01<00:00,  2.66it/s, Loss=0.0185, Avg Dice=0.942, CSF Dice=0.927, GM Dice=0.935, WM Dice=0.909]\n"
     ]
    },
    {
     "name": "stdout",
     "output_type": "stream",
     "text": [
      "Epoch 267, Loss: 0.0378\n",
      "Epoch 267, Dice: 0.9378 CSF Dice: 0.9005 GM Dice: 0.9309 WM Dice: 0.9226\n",
      "\n"
     ]
    },
    {
     "name": "stderr",
     "output_type": "stream",
     "text": [
      "Training Epoch 268/300: 100%|██████████| 10/10 [00:04<00:00,  2.40it/s, Loss=0.0196, Avg Dice=0.936, CSF Dice=0.898, GM Dice=0.933, WM Dice=0.916]\n"
     ]
    },
    {
     "name": "stdout",
     "output_type": "stream",
     "text": [
      "Epoch 268, Loss: 0.0425\n",
      "Epoch 268, Dice: 0.9281 CSF Dice: 0.8839 GM Dice: 0.9197 WM Dice: 0.9115\n"
     ]
    },
    {
     "name": "stderr",
     "output_type": "stream",
     "text": [
      "Validation Epoch 268/300: 100%|██████████| 5/5 [00:01<00:00,  2.95it/s, Loss=0.0188, Avg Dice=0.94, CSF Dice=0.923, GM Dice=0.934, WM Dice=0.908] \n"
     ]
    },
    {
     "name": "stdout",
     "output_type": "stream",
     "text": [
      "Epoch 268, Loss: 0.0383\n",
      "Epoch 268, Dice: 0.9366 CSF Dice: 0.8978 GM Dice: 0.9301 WM Dice: 0.9217\n",
      "\n"
     ]
    },
    {
     "name": "stderr",
     "output_type": "stream",
     "text": [
      "Training Epoch 269/300: 100%|██████████| 10/10 [00:03<00:00,  2.52it/s, Loss=0.0202, Avg Dice=0.932, CSF Dice=0.909, GM Dice=0.907, WM Dice=0.914]\n"
     ]
    },
    {
     "name": "stdout",
     "output_type": "stream",
     "text": [
      "Epoch 269, Loss: 0.0424\n",
      "Epoch 269, Dice: 0.9280 CSF Dice: 0.8830 GM Dice: 0.9199 WM Dice: 0.9122\n"
     ]
    },
    {
     "name": "stderr",
     "output_type": "stream",
     "text": [
      "Validation Epoch 269/300: 100%|██████████| 5/5 [00:01<00:00,  3.03it/s, Loss=0.0191, Avg Dice=0.94, CSF Dice=0.925, GM Dice=0.933, WM Dice=0.905] \n"
     ]
    },
    {
     "name": "stdout",
     "output_type": "stream",
     "text": [
      "Epoch 269, Loss: 0.0384\n",
      "Epoch 269, Dice: 0.9365 CSF Dice: 0.8990 GM Dice: 0.9292 WM Dice: 0.9209\n",
      "\n"
     ]
    },
    {
     "name": "stderr",
     "output_type": "stream",
     "text": [
      "Training Epoch 270/300: 100%|██████████| 10/10 [00:04<00:00,  2.46it/s, Loss=0.0214, Avg Dice=0.928, CSF Dice=0.889, GM Dice=0.914, WM Dice=0.913]\n"
     ]
    },
    {
     "name": "stdout",
     "output_type": "stream",
     "text": [
      "Epoch 270, Loss: 0.0426\n",
      "Epoch 270, Dice: 0.9286 CSF Dice: 0.8861 GM Dice: 0.9195 WM Dice: 0.9119\n"
     ]
    },
    {
     "name": "stderr",
     "output_type": "stream",
     "text": [
      "Validation Epoch 270/300: 100%|██████████| 5/5 [00:01<00:00,  3.01it/s, Loss=0.0192, Avg Dice=0.939, CSF Dice=0.924, GM Dice=0.933, WM Dice=0.904]\n"
     ]
    },
    {
     "name": "stdout",
     "output_type": "stream",
     "text": [
      "Epoch 270, Loss: 0.0383\n",
      "Epoch 270, Dice: 0.9367 CSF Dice: 0.8985 GM Dice: 0.9300 WM Dice: 0.9212\n",
      "\n"
     ]
    },
    {
     "name": "stderr",
     "output_type": "stream",
     "text": [
      "Training Epoch 271/300: 100%|██████████| 10/10 [00:04<00:00,  2.32it/s, Loss=0.0196, Avg Dice=0.936, CSF Dice=0.895, GM Dice=0.935, WM Dice=0.918]\n"
     ]
    },
    {
     "name": "stdout",
     "output_type": "stream",
     "text": [
      "Epoch 271, Loss: 0.0426\n",
      "Epoch 271, Dice: 0.9283 CSF Dice: 0.8841 GM Dice: 0.9202 WM Dice: 0.9122\n"
     ]
    },
    {
     "name": "stderr",
     "output_type": "stream",
     "text": [
      "Validation Epoch 271/300: 100%|██████████| 5/5 [00:02<00:00,  2.48it/s, Loss=0.019, Avg Dice=0.94, CSF Dice=0.924, GM Dice=0.933, WM Dice=0.905]  \n"
     ]
    },
    {
     "name": "stdout",
     "output_type": "stream",
     "text": [
      "Epoch 271, Loss: 0.0382\n",
      "Epoch 271, Dice: 0.9367 CSF Dice: 0.8983 GM Dice: 0.9302 WM Dice: 0.9214\n",
      "\n"
     ]
    },
    {
     "name": "stderr",
     "output_type": "stream",
     "text": [
      "Training Epoch 272/300: 100%|██████████| 10/10 [00:04<00:00,  2.24it/s, Loss=0.0206, Avg Dice=0.935, CSF Dice=0.895, GM Dice=0.935, WM Dice=0.916]\n"
     ]
    },
    {
     "name": "stdout",
     "output_type": "stream",
     "text": [
      "Epoch 272, Loss: 0.0428\n",
      "Epoch 272, Dice: 0.9284 CSF Dice: 0.8858 GM Dice: 0.9194 WM Dice: 0.9120\n"
     ]
    },
    {
     "name": "stderr",
     "output_type": "stream",
     "text": [
      "Validation Epoch 272/300: 100%|██████████| 5/5 [00:01<00:00,  2.90it/s, Loss=0.0189, Avg Dice=0.94, CSF Dice=0.925, GM Dice=0.933, WM Dice=0.906] \n"
     ]
    },
    {
     "name": "stdout",
     "output_type": "stream",
     "text": [
      "Epoch 272, Loss: 0.0382\n",
      "Epoch 272, Dice: 0.9369 CSF Dice: 0.8993 GM Dice: 0.9300 WM Dice: 0.9213\n",
      "\n"
     ]
    },
    {
     "name": "stderr",
     "output_type": "stream",
     "text": [
      "Training Epoch 273/300: 100%|██████████| 10/10 [00:04<00:00,  2.24it/s, Loss=0.0193, Avg Dice=0.938, CSF Dice=0.9, GM Dice=0.935, WM Dice=0.919] \n"
     ]
    },
    {
     "name": "stdout",
     "output_type": "stream",
     "text": [
      "Epoch 273, Loss: 0.0426\n",
      "Epoch 273, Dice: 0.9284 CSF Dice: 0.8856 GM Dice: 0.9191 WM Dice: 0.9121\n"
     ]
    },
    {
     "name": "stderr",
     "output_type": "stream",
     "text": [
      "Validation Epoch 273/300: 100%|██████████| 5/5 [00:01<00:00,  2.84it/s, Loss=0.0188, Avg Dice=0.941, CSF Dice=0.925, GM Dice=0.934, WM Dice=0.908]\n"
     ]
    },
    {
     "name": "stdout",
     "output_type": "stream",
     "text": [
      "Epoch 273, Loss: 0.0381\n",
      "Epoch 273, Dice: 0.9371 CSF Dice: 0.8996 GM Dice: 0.9300 WM Dice: 0.9217\n",
      "\n"
     ]
    },
    {
     "name": "stderr",
     "output_type": "stream",
     "text": [
      "Training Epoch 274/300: 100%|██████████| 10/10 [00:04<00:00,  2.23it/s, Loss=0.0238, Avg Dice=0.919, CSF Dice=0.847, GM Dice=0.929, WM Dice=0.901]\n"
     ]
    },
    {
     "name": "stdout",
     "output_type": "stream",
     "text": [
      "Epoch 274, Loss: 0.0430\n",
      "Epoch 274, Dice: 0.9275 CSF Dice: 0.8832 GM Dice: 0.9189 WM Dice: 0.9110\n"
     ]
    },
    {
     "name": "stderr",
     "output_type": "stream",
     "text": [
      "Validation Epoch 274/300: 100%|██████████| 5/5 [00:01<00:00,  2.83it/s, Loss=0.0189, Avg Dice=0.94, CSF Dice=0.924, GM Dice=0.934, WM Dice=0.907] \n"
     ]
    },
    {
     "name": "stdout",
     "output_type": "stream",
     "text": [
      "Epoch 274, Loss: 0.0381\n",
      "Epoch 274, Dice: 0.9370 CSF Dice: 0.8985 GM Dice: 0.9307 WM Dice: 0.9217\n",
      "\n"
     ]
    },
    {
     "name": "stderr",
     "output_type": "stream",
     "text": [
      "Training Epoch 275/300: 100%|██████████| 10/10 [00:04<00:00,  2.40it/s, Loss=0.0188, Avg Dice=0.936, CSF Dice=0.925, GM Dice=0.904, WM Dice=0.915]\n"
     ]
    },
    {
     "name": "stdout",
     "output_type": "stream",
     "text": [
      "Epoch 275, Loss: 0.0422\n",
      "Epoch 275, Dice: 0.9289 CSF Dice: 0.8863 GM Dice: 0.9202 WM Dice: 0.9123\n"
     ]
    },
    {
     "name": "stderr",
     "output_type": "stream",
     "text": [
      "Validation Epoch 275/300: 100%|██████████| 5/5 [00:01<00:00,  2.97it/s, Loss=0.0189, Avg Dice=0.94, CSF Dice=0.924, GM Dice=0.934, WM Dice=0.907] \n"
     ]
    },
    {
     "name": "stdout",
     "output_type": "stream",
     "text": [
      "Epoch 275, Loss: 0.0383\n",
      "Epoch 275, Dice: 0.9367 CSF Dice: 0.8983 GM Dice: 0.9302 WM Dice: 0.9214\n",
      "\n"
     ]
    },
    {
     "name": "stderr",
     "output_type": "stream",
     "text": [
      "Training Epoch 276/300: 100%|██████████| 10/10 [00:04<00:00,  2.47it/s, Loss=0.0217, Avg Dice=0.926, CSF Dice=0.888, GM Dice=0.909, WM Dice=0.911]\n"
     ]
    },
    {
     "name": "stdout",
     "output_type": "stream",
     "text": [
      "Epoch 276, Loss: 0.0423\n",
      "Epoch 276, Dice: 0.9284 CSF Dice: 0.8854 GM Dice: 0.9195 WM Dice: 0.9116\n"
     ]
    },
    {
     "name": "stderr",
     "output_type": "stream",
     "text": [
      "Validation Epoch 276/300: 100%|██████████| 5/5 [00:01<00:00,  3.10it/s, Loss=0.0189, Avg Dice=0.94, CSF Dice=0.924, GM Dice=0.934, WM Dice=0.907] \n"
     ]
    },
    {
     "name": "stdout",
     "output_type": "stream",
     "text": [
      "Epoch 276, Loss: 0.0383\n",
      "Epoch 276, Dice: 0.9366 CSF Dice: 0.8983 GM Dice: 0.9298 WM Dice: 0.9213\n",
      "\n"
     ]
    },
    {
     "name": "stderr",
     "output_type": "stream",
     "text": [
      "Training Epoch 277/300: 100%|██████████| 10/10 [00:04<00:00,  2.31it/s, Loss=0.0224, Avg Dice=0.927, CSF Dice=0.914, GM Dice=0.892, WM Dice=0.907]\n"
     ]
    },
    {
     "name": "stdout",
     "output_type": "stream",
     "text": [
      "Epoch 277, Loss: 0.0431\n",
      "Epoch 277, Dice: 0.9274 CSF Dice: 0.8827 GM Dice: 0.9186 WM Dice: 0.9117\n"
     ]
    },
    {
     "name": "stderr",
     "output_type": "stream",
     "text": [
      "Validation Epoch 277/300: 100%|██████████| 5/5 [00:01<00:00,  2.87it/s, Loss=0.0188, Avg Dice=0.941, CSF Dice=0.927, GM Dice=0.934, WM Dice=0.907]\n"
     ]
    },
    {
     "name": "stdout",
     "output_type": "stream",
     "text": [
      "Epoch 277, Loss: 0.0381\n",
      "Epoch 277, Dice: 0.9370 CSF Dice: 0.9000 GM Dice: 0.9299 WM Dice: 0.9213\n",
      "\n"
     ]
    },
    {
     "name": "stderr",
     "output_type": "stream",
     "text": [
      "Training Epoch 278/300: 100%|██████████| 10/10 [00:04<00:00,  2.36it/s, Loss=0.0217, Avg Dice=0.927, CSF Dice=0.887, GM Dice=0.914, WM Dice=0.912]\n"
     ]
    },
    {
     "name": "stdout",
     "output_type": "stream",
     "text": [
      "Epoch 278, Loss: 0.0427\n",
      "Epoch 278, Dice: 0.9280 CSF Dice: 0.8840 GM Dice: 0.9195 WM Dice: 0.9115\n"
     ]
    },
    {
     "name": "stderr",
     "output_type": "stream",
     "text": [
      "Validation Epoch 278/300: 100%|██████████| 5/5 [00:01<00:00,  2.88it/s, Loss=0.0187, Avg Dice=0.941, CSF Dice=0.928, GM Dice=0.934, WM Dice=0.907]\n"
     ]
    },
    {
     "name": "stdout",
     "output_type": "stream",
     "text": [
      "Epoch 278, Loss: 0.0379\n",
      "Epoch 278, Dice: 0.9375 CSF Dice: 0.9005 GM Dice: 0.9306 WM Dice: 0.9218\n",
      "\n"
     ]
    },
    {
     "name": "stderr",
     "output_type": "stream",
     "text": [
      "Training Epoch 279/300: 100%|██████████| 10/10 [00:04<00:00,  2.40it/s, Loss=0.0237, Avg Dice=0.918, CSF Dice=0.844, GM Dice=0.928, WM Dice=0.901]\n"
     ]
    },
    {
     "name": "stdout",
     "output_type": "stream",
     "text": [
      "Epoch 279, Loss: 0.0430\n",
      "Epoch 279, Dice: 0.9274 CSF Dice: 0.8823 GM Dice: 0.9192 WM Dice: 0.9113\n"
     ]
    },
    {
     "name": "stderr",
     "output_type": "stream",
     "text": [
      "Validation Epoch 279/300: 100%|██████████| 5/5 [00:01<00:00,  2.90it/s, Loss=0.0187, Avg Dice=0.941, CSF Dice=0.927, GM Dice=0.934, WM Dice=0.907]\n"
     ]
    },
    {
     "name": "stdout",
     "output_type": "stream",
     "text": [
      "Epoch 279, Loss: 0.0380\n",
      "Epoch 279, Dice: 0.9373 CSF Dice: 0.8999 GM Dice: 0.9306 WM Dice: 0.9217\n",
      "\n"
     ]
    },
    {
     "name": "stderr",
     "output_type": "stream",
     "text": [
      "Training Epoch 280/300: 100%|██████████| 10/10 [00:04<00:00,  2.33it/s, Loss=0.0215, Avg Dice=0.927, CSF Dice=0.912, GM Dice=0.896, WM Dice=0.906]\n"
     ]
    },
    {
     "name": "stdout",
     "output_type": "stream",
     "text": [
      "Epoch 280, Loss: 0.0425\n",
      "Epoch 280, Dice: 0.9282 CSF Dice: 0.8833 GM Dice: 0.9201 WM Dice: 0.9122\n"
     ]
    },
    {
     "name": "stderr",
     "output_type": "stream",
     "text": [
      "Validation Epoch 280/300: 100%|██████████| 5/5 [00:01<00:00,  3.06it/s, Loss=0.0188, Avg Dice=0.94, CSF Dice=0.925, GM Dice=0.934, WM Dice=0.907] \n"
     ]
    },
    {
     "name": "stdout",
     "output_type": "stream",
     "text": [
      "Epoch 280, Loss: 0.0382\n",
      "Epoch 280, Dice: 0.9369 CSF Dice: 0.8988 GM Dice: 0.9303 WM Dice: 0.9214\n",
      "\n"
     ]
    },
    {
     "name": "stderr",
     "output_type": "stream",
     "text": [
      "Training Epoch 281/300: 100%|██████████| 10/10 [00:04<00:00,  2.39it/s, Loss=0.0218, Avg Dice=0.927, CSF Dice=0.912, GM Dice=0.894, WM Dice=0.904]\n"
     ]
    },
    {
     "name": "stdout",
     "output_type": "stream",
     "text": [
      "Epoch 281, Loss: 0.0427\n",
      "Epoch 281, Dice: 0.9278 CSF Dice: 0.8833 GM Dice: 0.9195 WM Dice: 0.9114\n"
     ]
    },
    {
     "name": "stderr",
     "output_type": "stream",
     "text": [
      "Validation Epoch 281/300: 100%|██████████| 5/5 [00:01<00:00,  2.73it/s, Loss=0.019, Avg Dice=0.94, CSF Dice=0.924, GM Dice=0.933, WM Dice=0.906]  \n"
     ]
    },
    {
     "name": "stdout",
     "output_type": "stream",
     "text": [
      "Epoch 281, Loss: 0.0384\n",
      "Epoch 281, Dice: 0.9365 CSF Dice: 0.8983 GM Dice: 0.9296 WM Dice: 0.9210\n",
      "\n"
     ]
    },
    {
     "name": "stderr",
     "output_type": "stream",
     "text": [
      "Training Epoch 282/300: 100%|██████████| 10/10 [00:04<00:00,  2.37it/s, Loss=0.0217, Avg Dice=0.927, CSF Dice=0.913, GM Dice=0.893, WM Dice=0.905]\n"
     ]
    },
    {
     "name": "stdout",
     "output_type": "stream",
     "text": [
      "Epoch 282, Loss: 0.0423\n",
      "Epoch 282, Dice: 0.9285 CSF Dice: 0.8851 GM Dice: 0.9198 WM Dice: 0.9122\n"
     ]
    },
    {
     "name": "stderr",
     "output_type": "stream",
     "text": [
      "Validation Epoch 282/300: 100%|██████████| 5/5 [00:01<00:00,  2.96it/s, Loss=0.019, Avg Dice=0.94, CSF Dice=0.925, GM Dice=0.933, WM Dice=0.906]  \n"
     ]
    },
    {
     "name": "stdout",
     "output_type": "stream",
     "text": [
      "Epoch 282, Loss: 0.0384\n",
      "Epoch 282, Dice: 0.9365 CSF Dice: 0.8988 GM Dice: 0.9295 WM Dice: 0.9210\n",
      "\n"
     ]
    },
    {
     "name": "stderr",
     "output_type": "stream",
     "text": [
      "Training Epoch 283/300: 100%|██████████| 10/10 [00:04<00:00,  2.35it/s, Loss=0.0216, Avg Dice=0.929, CSF Dice=0.867, GM Dice=0.939, WM Dice=0.913]\n"
     ]
    },
    {
     "name": "stdout",
     "output_type": "stream",
     "text": [
      "Epoch 283, Loss: 0.0424\n",
      "Epoch 283, Dice: 0.9285 CSF Dice: 0.8856 GM Dice: 0.9196 WM Dice: 0.9120\n"
     ]
    },
    {
     "name": "stderr",
     "output_type": "stream",
     "text": [
      "Validation Epoch 283/300: 100%|██████████| 5/5 [00:01<00:00,  2.66it/s, Loss=0.0189, Avg Dice=0.94, CSF Dice=0.926, GM Dice=0.933, WM Dice=0.906] \n"
     ]
    },
    {
     "name": "stdout",
     "output_type": "stream",
     "text": [
      "Epoch 283, Loss: 0.0382\n",
      "Epoch 283, Dice: 0.9368 CSF Dice: 0.8993 GM Dice: 0.9298 WM Dice: 0.9213\n",
      "\n"
     ]
    },
    {
     "name": "stderr",
     "output_type": "stream",
     "text": [
      "Training Epoch 284/300: 100%|██████████| 10/10 [00:04<00:00,  2.32it/s, Loss=0.0213, Avg Dice=0.927, CSF Dice=0.888, GM Dice=0.912, WM Dice=0.912]\n"
     ]
    },
    {
     "name": "stdout",
     "output_type": "stream",
     "text": [
      "Epoch 284, Loss: 0.0426\n",
      "Epoch 284, Dice: 0.9281 CSF Dice: 0.8838 GM Dice: 0.9199 WM Dice: 0.9118\n"
     ]
    },
    {
     "name": "stderr",
     "output_type": "stream",
     "text": [
      "Validation Epoch 284/300: 100%|██████████| 5/5 [00:01<00:00,  2.96it/s, Loss=0.0188, Avg Dice=0.941, CSF Dice=0.927, GM Dice=0.933, WM Dice=0.907]\n"
     ]
    },
    {
     "name": "stdout",
     "output_type": "stream",
     "text": [
      "Epoch 284, Loss: 0.0381\n",
      "Epoch 284, Dice: 0.9370 CSF Dice: 0.8999 GM Dice: 0.9298 WM Dice: 0.9214\n",
      "\n"
     ]
    },
    {
     "name": "stderr",
     "output_type": "stream",
     "text": [
      "Training Epoch 285/300: 100%|██████████| 10/10 [00:04<00:00,  2.43it/s, Loss=0.0191, Avg Dice=0.935, CSF Dice=0.923, GM Dice=0.905, WM Dice=0.917]\n"
     ]
    },
    {
     "name": "stdout",
     "output_type": "stream",
     "text": [
      "Epoch 285, Loss: 0.0422\n",
      "Epoch 285, Dice: 0.9289 CSF Dice: 0.8859 GM Dice: 0.9200 WM Dice: 0.9128\n"
     ]
    },
    {
     "name": "stderr",
     "output_type": "stream",
     "text": [
      "Validation Epoch 285/300: 100%|██████████| 5/5 [00:01<00:00,  3.06it/s, Loss=0.0189, Avg Dice=0.941, CSF Dice=0.927, GM Dice=0.933, WM Dice=0.906]\n"
     ]
    },
    {
     "name": "stdout",
     "output_type": "stream",
     "text": [
      "Epoch 285, Loss: 0.0382\n",
      "Epoch 285, Dice: 0.9369 CSF Dice: 0.8995 GM Dice: 0.9298 WM Dice: 0.9213\n",
      "\n"
     ]
    },
    {
     "name": "stderr",
     "output_type": "stream",
     "text": [
      "Training Epoch 286/300: 100%|██████████| 10/10 [00:04<00:00,  2.28it/s, Loss=0.0218, Avg Dice=0.927, CSF Dice=0.86, GM Dice=0.938, WM Dice=0.913]\n"
     ]
    },
    {
     "name": "stdout",
     "output_type": "stream",
     "text": [
      "Epoch 286, Loss: 0.0426\n",
      "Epoch 286, Dice: 0.9286 CSF Dice: 0.8860 GM Dice: 0.9197 WM Dice: 0.9117\n"
     ]
    },
    {
     "name": "stderr",
     "output_type": "stream",
     "text": [
      "Validation Epoch 286/300: 100%|██████████| 5/5 [00:01<00:00,  2.91it/s, Loss=0.0188, Avg Dice=0.941, CSF Dice=0.927, GM Dice=0.934, WM Dice=0.907]\n"
     ]
    },
    {
     "name": "stdout",
     "output_type": "stream",
     "text": [
      "Epoch 286, Loss: 0.0381\n",
      "Epoch 286, Dice: 0.9370 CSF Dice: 0.8995 GM Dice: 0.9300 WM Dice: 0.9215\n",
      "\n"
     ]
    },
    {
     "name": "stderr",
     "output_type": "stream",
     "text": [
      "Training Epoch 287/300: 100%|██████████| 10/10 [00:04<00:00,  2.40it/s, Loss=0.0188, Avg Dice=0.936, CSF Dice=0.926, GM Dice=0.905, WM Dice=0.916]\n"
     ]
    },
    {
     "name": "stdout",
     "output_type": "stream",
     "text": [
      "Epoch 287, Loss: 0.0429\n",
      "Epoch 287, Dice: 0.9278 CSF Dice: 0.8831 GM Dice: 0.9192 WM Dice: 0.9119\n"
     ]
    },
    {
     "name": "stderr",
     "output_type": "stream",
     "text": [
      "Validation Epoch 287/300: 100%|██████████| 5/5 [00:01<00:00,  2.76it/s, Loss=0.0188, Avg Dice=0.941, CSF Dice=0.926, GM Dice=0.934, WM Dice=0.907]\n"
     ]
    },
    {
     "name": "stdout",
     "output_type": "stream",
     "text": [
      "Epoch 287, Loss: 0.0381\n",
      "Epoch 287, Dice: 0.9370 CSF Dice: 0.8994 GM Dice: 0.9302 WM Dice: 0.9217\n",
      "\n"
     ]
    },
    {
     "name": "stderr",
     "output_type": "stream",
     "text": [
      "Training Epoch 288/300: 100%|██████████| 10/10 [00:04<00:00,  2.19it/s, Loss=0.0225, Avg Dice=0.924, CSF Dice=0.852, GM Dice=0.936, WM Dice=0.912]\n"
     ]
    },
    {
     "name": "stdout",
     "output_type": "stream",
     "text": [
      "Epoch 288, Loss: 0.0426\n",
      "Epoch 288, Dice: 0.9280 CSF Dice: 0.8840 GM Dice: 0.9194 WM Dice: 0.9115\n"
     ]
    },
    {
     "name": "stderr",
     "output_type": "stream",
     "text": [
      "Validation Epoch 288/300: 100%|██████████| 5/5 [00:01<00:00,  2.70it/s, Loss=0.0187, Avg Dice=0.941, CSF Dice=0.926, GM Dice=0.934, WM Dice=0.907]\n"
     ]
    },
    {
     "name": "stdout",
     "output_type": "stream",
     "text": [
      "Epoch 288, Loss: 0.0380\n",
      "Epoch 288, Dice: 0.9372 CSF Dice: 0.8995 GM Dice: 0.9304 WM Dice: 0.9218\n",
      "\n"
     ]
    },
    {
     "name": "stderr",
     "output_type": "stream",
     "text": [
      "Training Epoch 289/300: 100%|██████████| 10/10 [00:04<00:00,  2.45it/s, Loss=0.0215, Avg Dice=0.927, CSF Dice=0.877, GM Dice=0.915, WM Dice=0.921]\n"
     ]
    },
    {
     "name": "stdout",
     "output_type": "stream",
     "text": [
      "Epoch 289, Loss: 0.0427\n",
      "Epoch 289, Dice: 0.9284 CSF Dice: 0.8853 GM Dice: 0.9194 WM Dice: 0.9121\n"
     ]
    },
    {
     "name": "stderr",
     "output_type": "stream",
     "text": [
      "Validation Epoch 289/300: 100%|██████████| 5/5 [00:01<00:00,  2.88it/s, Loss=0.0187, Avg Dice=0.941, CSF Dice=0.927, GM Dice=0.934, WM Dice=0.907]\n"
     ]
    },
    {
     "name": "stdout",
     "output_type": "stream",
     "text": [
      "Epoch 289, Loss: 0.0380\n",
      "Epoch 289, Dice: 0.9373 CSF Dice: 0.8997 GM Dice: 0.9305 WM Dice: 0.9220\n",
      "\n"
     ]
    },
    {
     "name": "stderr",
     "output_type": "stream",
     "text": [
      "Training Epoch 290/300: 100%|██████████| 10/10 [00:04<00:00,  2.34it/s, Loss=0.0189, Avg Dice=0.936, CSF Dice=0.924, GM Dice=0.906, WM Dice=0.917]\n"
     ]
    },
    {
     "name": "stdout",
     "output_type": "stream",
     "text": [
      "Epoch 290, Loss: 0.0426\n",
      "Epoch 290, Dice: 0.9283 CSF Dice: 0.8842 GM Dice: 0.9200 WM Dice: 0.9121\n"
     ]
    },
    {
     "name": "stderr",
     "output_type": "stream",
     "text": [
      "Validation Epoch 290/300: 100%|██████████| 5/5 [00:01<00:00,  3.08it/s, Loss=0.0187, Avg Dice=0.941, CSF Dice=0.927, GM Dice=0.934, WM Dice=0.907]\n"
     ]
    },
    {
     "name": "stdout",
     "output_type": "stream",
     "text": [
      "Epoch 290, Loss: 0.0380\n",
      "Epoch 290, Dice: 0.9373 CSF Dice: 0.9000 GM Dice: 0.9304 WM Dice: 0.9219\n",
      "\n"
     ]
    },
    {
     "name": "stderr",
     "output_type": "stream",
     "text": [
      "Training Epoch 291/300: 100%|██████████| 10/10 [00:04<00:00,  2.50it/s, Loss=0.0238, Avg Dice=0.918, CSF Dice=0.846, GM Dice=0.929, WM Dice=0.902]\n"
     ]
    },
    {
     "name": "stdout",
     "output_type": "stream",
     "text": [
      "Epoch 291, Loss: 0.0425\n",
      "Epoch 291, Dice: 0.9284 CSF Dice: 0.8853 GM Dice: 0.9196 WM Dice: 0.9118\n"
     ]
    },
    {
     "name": "stderr",
     "output_type": "stream",
     "text": [
      "Validation Epoch 291/300: 100%|██████████| 5/5 [00:01<00:00,  2.77it/s, Loss=0.0187, Avg Dice=0.941, CSF Dice=0.927, GM Dice=0.934, WM Dice=0.907]\n"
     ]
    },
    {
     "name": "stdout",
     "output_type": "stream",
     "text": [
      "Epoch 291, Loss: 0.0380\n",
      "Epoch 291, Dice: 0.9373 CSF Dice: 0.8998 GM Dice: 0.9304 WM Dice: 0.9220\n",
      "\n"
     ]
    },
    {
     "name": "stderr",
     "output_type": "stream",
     "text": [
      "Training Epoch 292/300: 100%|██████████| 10/10 [00:04<00:00,  2.43it/s, Loss=0.025, Avg Dice=0.913, CSF Dice=0.824, GM Dice=0.928, WM Dice=0.903]\n"
     ]
    },
    {
     "name": "stdout",
     "output_type": "stream",
     "text": [
      "Epoch 292, Loss: 0.0421\n",
      "Epoch 292, Dice: 0.9290 CSF Dice: 0.8868 GM Dice: 0.9200 WM Dice: 0.9123\n"
     ]
    },
    {
     "name": "stderr",
     "output_type": "stream",
     "text": [
      "Validation Epoch 292/300: 100%|██████████| 5/5 [00:01<00:00,  2.86it/s, Loss=0.0187, Avg Dice=0.941, CSF Dice=0.927, GM Dice=0.934, WM Dice=0.907]\n"
     ]
    },
    {
     "name": "stdout",
     "output_type": "stream",
     "text": [
      "Epoch 292, Loss: 0.0380\n",
      "Epoch 292, Dice: 0.9373 CSF Dice: 0.8998 GM Dice: 0.9304 WM Dice: 0.9219\n",
      "\n"
     ]
    },
    {
     "name": "stderr",
     "output_type": "stream",
     "text": [
      "Training Epoch 293/300: 100%|██████████| 10/10 [00:04<00:00,  2.30it/s, Loss=0.0202, Avg Dice=0.935, CSF Dice=0.901, GM Dice=0.927, WM Dice=0.913]\n"
     ]
    },
    {
     "name": "stdout",
     "output_type": "stream",
     "text": [
      "Epoch 293, Loss: 0.0427\n",
      "Epoch 293, Dice: 0.9277 CSF Dice: 0.8832 GM Dice: 0.9190 WM Dice: 0.9118\n"
     ]
    },
    {
     "name": "stderr",
     "output_type": "stream",
     "text": [
      "Validation Epoch 293/300: 100%|██████████| 5/5 [00:01<00:00,  2.90it/s, Loss=0.0187, Avg Dice=0.941, CSF Dice=0.927, GM Dice=0.934, WM Dice=0.907]\n"
     ]
    },
    {
     "name": "stdout",
     "output_type": "stream",
     "text": [
      "Epoch 293, Loss: 0.0380\n",
      "Epoch 293, Dice: 0.9373 CSF Dice: 0.8998 GM Dice: 0.9304 WM Dice: 0.9219\n",
      "\n"
     ]
    },
    {
     "name": "stderr",
     "output_type": "stream",
     "text": [
      "Training Epoch 294/300: 100%|██████████| 10/10 [00:04<00:00,  2.33it/s, Loss=0.0195, Avg Dice=0.933, CSF Dice=0.92, GM Dice=0.902, WM Dice=0.913]\n"
     ]
    },
    {
     "name": "stdout",
     "output_type": "stream",
     "text": [
      "Epoch 294, Loss: 0.0425\n",
      "Epoch 294, Dice: 0.9284 CSF Dice: 0.8848 GM Dice: 0.9199 WM Dice: 0.9120\n"
     ]
    },
    {
     "name": "stderr",
     "output_type": "stream",
     "text": [
      "Validation Epoch 294/300: 100%|██████████| 5/5 [00:01<00:00,  2.72it/s, Loss=0.0187, Avg Dice=0.941, CSF Dice=0.927, GM Dice=0.934, WM Dice=0.907]\n"
     ]
    },
    {
     "name": "stdout",
     "output_type": "stream",
     "text": [
      "Epoch 294, Loss: 0.0380\n",
      "Epoch 294, Dice: 0.9373 CSF Dice: 0.8998 GM Dice: 0.9304 WM Dice: 0.9218\n",
      "\n"
     ]
    },
    {
     "name": "stderr",
     "output_type": "stream",
     "text": [
      "Training Epoch 295/300: 100%|██████████| 10/10 [00:04<00:00,  2.30it/s, Loss=0.0215, Avg Dice=0.929, CSF Dice=0.915, GM Dice=0.896, WM Dice=0.908]\n"
     ]
    },
    {
     "name": "stdout",
     "output_type": "stream",
     "text": [
      "Epoch 295, Loss: 0.0425\n",
      "Epoch 295, Dice: 0.9283 CSF Dice: 0.8845 GM Dice: 0.9200 WM Dice: 0.9119\n"
     ]
    },
    {
     "name": "stderr",
     "output_type": "stream",
     "text": [
      "Validation Epoch 295/300: 100%|██████████| 5/5 [00:01<00:00,  2.76it/s, Loss=0.0188, Avg Dice=0.941, CSF Dice=0.927, GM Dice=0.934, WM Dice=0.907]\n"
     ]
    },
    {
     "name": "stdout",
     "output_type": "stream",
     "text": [
      "Epoch 295, Loss: 0.0380\n",
      "Epoch 295, Dice: 0.9372 CSF Dice: 0.8997 GM Dice: 0.9304 WM Dice: 0.9218\n",
      "\n"
     ]
    },
    {
     "name": "stderr",
     "output_type": "stream",
     "text": [
      "Training Epoch 296/300: 100%|██████████| 10/10 [00:04<00:00,  2.30it/s, Loss=0.0247, Avg Dice=0.913, CSF Dice=0.82, GM Dice=0.93, WM Dice=0.906] \n"
     ]
    },
    {
     "name": "stdout",
     "output_type": "stream",
     "text": [
      "Epoch 296, Loss: 0.0427\n",
      "Epoch 296, Dice: 0.9281 CSF Dice: 0.8834 GM Dice: 0.9203 WM Dice: 0.9118\n"
     ]
    },
    {
     "name": "stderr",
     "output_type": "stream",
     "text": [
      "Validation Epoch 296/300: 100%|██████████| 5/5 [00:01<00:00,  2.96it/s, Loss=0.0188, Avg Dice=0.941, CSF Dice=0.927, GM Dice=0.934, WM Dice=0.907]\n"
     ]
    },
    {
     "name": "stdout",
     "output_type": "stream",
     "text": [
      "Epoch 296, Loss: 0.0380\n",
      "Epoch 296, Dice: 0.9372 CSF Dice: 0.8998 GM Dice: 0.9304 WM Dice: 0.9218\n",
      "\n"
     ]
    },
    {
     "name": "stderr",
     "output_type": "stream",
     "text": [
      "Training Epoch 297/300: 100%|██████████| 10/10 [00:04<00:00,  2.33it/s, Loss=0.0202, Avg Dice=0.931, CSF Dice=0.908, GM Dice=0.907, WM Dice=0.914]\n"
     ]
    },
    {
     "name": "stdout",
     "output_type": "stream",
     "text": [
      "Epoch 297, Loss: 0.0424\n",
      "Epoch 297, Dice: 0.9284 CSF Dice: 0.8847 GM Dice: 0.9197 WM Dice: 0.9123\n"
     ]
    },
    {
     "name": "stderr",
     "output_type": "stream",
     "text": [
      "Validation Epoch 297/300: 100%|██████████| 5/5 [00:01<00:00,  2.80it/s, Loss=0.0188, Avg Dice=0.941, CSF Dice=0.927, GM Dice=0.934, WM Dice=0.907]\n"
     ]
    },
    {
     "name": "stdout",
     "output_type": "stream",
     "text": [
      "Epoch 297, Loss: 0.0380\n",
      "Epoch 297, Dice: 0.9372 CSF Dice: 0.8997 GM Dice: 0.9304 WM Dice: 0.9218\n",
      "\n"
     ]
    },
    {
     "name": "stderr",
     "output_type": "stream",
     "text": [
      "Training Epoch 298/300: 100%|██████████| 10/10 [00:04<00:00,  2.34it/s, Loss=0.0199, Avg Dice=0.937, CSF Dice=0.897, GM Dice=0.937, WM Dice=0.917]\n"
     ]
    },
    {
     "name": "stdout",
     "output_type": "stream",
     "text": [
      "Epoch 298, Loss: 0.0426\n",
      "Epoch 298, Dice: 0.9282 CSF Dice: 0.8843 GM Dice: 0.9195 WM Dice: 0.9118\n"
     ]
    },
    {
     "name": "stderr",
     "output_type": "stream",
     "text": [
      "Validation Epoch 298/300: 100%|██████████| 5/5 [00:01<00:00,  2.94it/s, Loss=0.0188, Avg Dice=0.941, CSF Dice=0.927, GM Dice=0.934, WM Dice=0.907]\n"
     ]
    },
    {
     "name": "stdout",
     "output_type": "stream",
     "text": [
      "Epoch 298, Loss: 0.0380\n",
      "Epoch 298, Dice: 0.9372 CSF Dice: 0.8997 GM Dice: 0.9304 WM Dice: 0.9218\n",
      "\n"
     ]
    },
    {
     "name": "stderr",
     "output_type": "stream",
     "text": [
      "Training Epoch 299/300: 100%|██████████| 10/10 [00:04<00:00,  2.40it/s, Loss=0.0231, Avg Dice=0.92, CSF Dice=0.851, GM Dice=0.93, WM Dice=0.902] \n"
     ]
    },
    {
     "name": "stdout",
     "output_type": "stream",
     "text": [
      "Epoch 299, Loss: 0.0429\n",
      "Epoch 299, Dice: 0.9282 CSF Dice: 0.8848 GM Dice: 0.9195 WM Dice: 0.9116\n"
     ]
    },
    {
     "name": "stderr",
     "output_type": "stream",
     "text": [
      "Validation Epoch 299/300: 100%|██████████| 5/5 [00:01<00:00,  2.98it/s, Loss=0.0188, Avg Dice=0.941, CSF Dice=0.927, GM Dice=0.934, WM Dice=0.907]\n"
     ]
    },
    {
     "name": "stdout",
     "output_type": "stream",
     "text": [
      "Epoch 299, Loss: 0.0380\n",
      "Epoch 299, Dice: 0.9372 CSF Dice: 0.8997 GM Dice: 0.9304 WM Dice: 0.9218\n",
      "\n"
     ]
    },
    {
     "name": "stderr",
     "output_type": "stream",
     "text": [
      "Training Epoch 300/300: 100%|██████████| 10/10 [00:04<00:00,  2.33it/s, Loss=0.0207, Avg Dice=0.929, CSF Dice=0.883, GM Dice=0.917, WM Dice=0.921]\n"
     ]
    },
    {
     "name": "stdout",
     "output_type": "stream",
     "text": [
      "Epoch 300, Loss: 0.0424\n",
      "Epoch 300, Dice: 0.9285 CSF Dice: 0.8851 GM Dice: 0.9199 WM Dice: 0.9123\n"
     ]
    },
    {
     "name": "stderr",
     "output_type": "stream",
     "text": [
      "Validation Epoch 300/300: 100%|██████████| 5/5 [00:01<00:00,  2.72it/s, Loss=0.0188, Avg Dice=0.941, CSF Dice=0.927, GM Dice=0.934, WM Dice=0.907]"
     ]
    },
    {
     "name": "stdout",
     "output_type": "stream",
     "text": [
      "Epoch 300, Loss: 0.0380\n",
      "Epoch 300, Dice: 0.9372 CSF Dice: 0.8998 GM Dice: 0.9304 WM Dice: 0.9218\n",
      "\n"
     ]
    },
    {
     "name": "stderr",
     "output_type": "stream",
     "text": [
      "\n"
     ]
    }
   ],
   "source": [
    "best_avg_dice = 0\n",
    "for epoch in range(EPOCHS):\n",
    "    train_avg_loss, train_avg_dice, train_csf_dice, train_gm_dice, train_wm_dice = train_3d(model, train_loader, criterion, optimizer, DEVICE, epoch, EPOCHS, NUM_CLASSES)\n",
    "    val_avg_loss, val_avg_dice, val_csf_dice, val_gm_dice, val_wm_dice = validate_3d(model, val_loader, criterion, DEVICE, epoch, EPOCHS, NUM_CLASSES)\n",
    "    scheduler.step()\n",
    "    if val_avg_dice > best_avg_dice:\n",
    "        best_avg_dice = val_avg_dice\n",
    "        torch.save(model.state_dict(), 'best_model_3d.pth')\n",
    "        print(f'Best model saved with dice score: {best_avg_dice}\\n')"
   ]
  },
  {
   "cell_type": "code",
   "execution_count": null,
   "metadata": {},
   "outputs": [],
   "source": []
  }
 ],
 "metadata": {
  "kernelspec": {
   "display_name": "py11",
   "language": "python",
   "name": "python3"
  },
  "language_info": {
   "codemirror_mode": {
    "name": "ipython",
    "version": 3
   },
   "file_extension": ".py",
   "mimetype": "text/x-python",
   "name": "python",
   "nbconvert_exporter": "python",
   "pygments_lexer": "ipython3",
   "version": "3.11.10"
  }
 },
 "nbformat": 4,
 "nbformat_minor": 2
}
